{
 "cells": [
  {
   "cell_type": "markdown",
   "id": "c1df95e2",
   "metadata": {},
   "source": [
    "## 0. Libraries import"
   ]
  },
  {
   "cell_type": "code",
   "execution_count": 1,
   "id": "a17f838c",
   "metadata": {},
   "outputs": [],
   "source": [
    "# ignore warnings\n",
    "import warnings\n",
    "warnings.filterwarnings('ignore')"
   ]
  },
  {
   "cell_type": "code",
   "execution_count": 2,
   "id": "15bd2943",
   "metadata": {},
   "outputs": [],
   "source": [
    "# imports \n",
    "import numpy as np\n",
    "import pandas as pd\n",
    "pd.set_option(\"display.max_columns\", 50)\n",
    "import matplotlib.pyplot as plt\n",
    "%matplotlib inline\n",
    "from sklearn.preprocessing import StandardScaler\n",
    "#train test split\n",
    "from sklearn.model_selection import train_test_split\n",
    "# Hyperparameters selection\n",
    "from sklearn.model_selection import RandomizedSearchCV\n",
    "# Importing cross validation function from sklearn\n",
    "from sklearn.model_selection import cross_val_score\n",
    "# models\n",
    "from sklearn.ensemble import RandomForestRegressor\n",
    "from xgboost import XGBRegressor\n",
    "from sklearn.neighbors import KNeighborsRegressor\n",
    "# error\n",
    "from sklearn.metrics import mean_squared_error,r2_score,mean_absolute_error"
   ]
  },
  {
   "cell_type": "markdown",
   "id": "894bdee3",
   "metadata": {},
   "source": [
    "## 1. Data import"
   ]
  },
  {
   "cell_type": "markdown",
   "id": "0557a331",
   "metadata": {},
   "source": [
    "### 1.1 Impor train data"
   ]
  },
  {
   "cell_type": "code",
   "execution_count": 3,
   "id": "b35aa513",
   "metadata": {},
   "outputs": [
    {
     "data": {
      "text/html": [
       "<div>\n",
       "<style scoped>\n",
       "    .dataframe tbody tr th:only-of-type {\n",
       "        vertical-align: middle;\n",
       "    }\n",
       "\n",
       "    .dataframe tbody tr th {\n",
       "        vertical-align: top;\n",
       "    }\n",
       "\n",
       "    .dataframe thead th {\n",
       "        text-align: right;\n",
       "    }\n",
       "</style>\n",
       "<table border=\"1\" class=\"dataframe\">\n",
       "  <thead>\n",
       "    <tr style=\"text-align: right;\">\n",
       "      <th></th>\n",
       "      <th>index_id</th>\n",
       "      <th>depth</th>\n",
       "      <th>table</th>\n",
       "      <th>x</th>\n",
       "      <th>y</th>\n",
       "      <th>z</th>\n",
       "      <th>price</th>\n",
       "      <th>carat</th>\n",
       "      <th>cut</th>\n",
       "      <th>color</th>\n",
       "      <th>clarity</th>\n",
       "      <th>city</th>\n",
       "    </tr>\n",
       "  </thead>\n",
       "  <tbody>\n",
       "    <tr>\n",
       "      <th>0</th>\n",
       "      <td>5feceb66ffc86f38d952786c6d696c79c2dbc239dd4e91...</td>\n",
       "      <td>62.4</td>\n",
       "      <td>58.0</td>\n",
       "      <td>6.83</td>\n",
       "      <td>6.79</td>\n",
       "      <td>4.25</td>\n",
       "      <td>4268</td>\n",
       "      <td>1.21</td>\n",
       "      <td>Premium</td>\n",
       "      <td>J</td>\n",
       "      <td>VS2</td>\n",
       "      <td>Dubai</td>\n",
       "    </tr>\n",
       "    <tr>\n",
       "      <th>1</th>\n",
       "      <td>6b86b273ff34fce19d6b804eff5a3f5747ada4eaa22f1d...</td>\n",
       "      <td>63.0</td>\n",
       "      <td>57.0</td>\n",
       "      <td>4.35</td>\n",
       "      <td>4.38</td>\n",
       "      <td>2.75</td>\n",
       "      <td>505</td>\n",
       "      <td>0.32</td>\n",
       "      <td>Very Good</td>\n",
       "      <td>H</td>\n",
       "      <td>VS2</td>\n",
       "      <td>Kimberly</td>\n",
       "    </tr>\n",
       "    <tr>\n",
       "      <th>2</th>\n",
       "      <td>d4735e3a265e16eee03f59718b9b5d03019c07d8b6c51f...</td>\n",
       "      <td>65.5</td>\n",
       "      <td>55.0</td>\n",
       "      <td>5.62</td>\n",
       "      <td>5.53</td>\n",
       "      <td>3.65</td>\n",
       "      <td>2686</td>\n",
       "      <td>0.71</td>\n",
       "      <td>Fair</td>\n",
       "      <td>G</td>\n",
       "      <td>VS1</td>\n",
       "      <td>Las Vegas</td>\n",
       "    </tr>\n",
       "    <tr>\n",
       "      <th>3</th>\n",
       "      <td>4e07408562bedb8b60ce05c1decfe3ad16b72230967de0...</td>\n",
       "      <td>63.8</td>\n",
       "      <td>56.0</td>\n",
       "      <td>4.68</td>\n",
       "      <td>4.72</td>\n",
       "      <td>3.00</td>\n",
       "      <td>738</td>\n",
       "      <td>0.41</td>\n",
       "      <td>Good</td>\n",
       "      <td>D</td>\n",
       "      <td>SI1</td>\n",
       "      <td>Kimberly</td>\n",
       "    </tr>\n",
       "    <tr>\n",
       "      <th>4</th>\n",
       "      <td>4b227777d4dd1fc61c6f884f48641d02b4d121d3fd328c...</td>\n",
       "      <td>60.5</td>\n",
       "      <td>59.0</td>\n",
       "      <td>6.55</td>\n",
       "      <td>6.51</td>\n",
       "      <td>3.95</td>\n",
       "      <td>4882</td>\n",
       "      <td>1.02</td>\n",
       "      <td>Ideal</td>\n",
       "      <td>G</td>\n",
       "      <td>SI1</td>\n",
       "      <td>Dubai</td>\n",
       "    </tr>\n",
       "    <tr>\n",
       "      <th>...</th>\n",
       "      <td>...</td>\n",
       "      <td>...</td>\n",
       "      <td>...</td>\n",
       "      <td>...</td>\n",
       "      <td>...</td>\n",
       "      <td>...</td>\n",
       "      <td>...</td>\n",
       "      <td>...</td>\n",
       "      <td>...</td>\n",
       "      <td>...</td>\n",
       "      <td>...</td>\n",
       "      <td>...</td>\n",
       "    </tr>\n",
       "    <tr>\n",
       "      <th>40450</th>\n",
       "      <td>f0bc79169405ebeb24e308055156b946ffd819db9b4f75...</td>\n",
       "      <td>62.7</td>\n",
       "      <td>57.0</td>\n",
       "      <td>7.10</td>\n",
       "      <td>7.04</td>\n",
       "      <td>4.43</td>\n",
       "      <td>10070</td>\n",
       "      <td>1.34</td>\n",
       "      <td>Ideal</td>\n",
       "      <td>G</td>\n",
       "      <td>VS1</td>\n",
       "      <td>Antwerp</td>\n",
       "    </tr>\n",
       "    <tr>\n",
       "      <th>40451</th>\n",
       "      <td>339916a23bf22b052b54cb2a9b36ee8418c1c68b46acad...</td>\n",
       "      <td>57.1</td>\n",
       "      <td>60.0</td>\n",
       "      <td>8.31</td>\n",
       "      <td>8.25</td>\n",
       "      <td>4.73</td>\n",
       "      <td>12615</td>\n",
       "      <td>2.02</td>\n",
       "      <td>Good</td>\n",
       "      <td>F</td>\n",
       "      <td>SI2</td>\n",
       "      <td>Madrid</td>\n",
       "    </tr>\n",
       "    <tr>\n",
       "      <th>40452</th>\n",
       "      <td>46957922b99954654c1deb8d854c3f069bf118b2ce9415...</td>\n",
       "      <td>62.7</td>\n",
       "      <td>56.0</td>\n",
       "      <td>6.37</td>\n",
       "      <td>6.42</td>\n",
       "      <td>4.01</td>\n",
       "      <td>5457</td>\n",
       "      <td>1.01</td>\n",
       "      <td>Ideal</td>\n",
       "      <td>H</td>\n",
       "      <td>SI1</td>\n",
       "      <td>Kimberly</td>\n",
       "    </tr>\n",
       "    <tr>\n",
       "      <th>40453</th>\n",
       "      <td>9d733392d362d5c6f1d9b9659b601c7d4b5a1c1c8df579...</td>\n",
       "      <td>61.9</td>\n",
       "      <td>54.3</td>\n",
       "      <td>4.45</td>\n",
       "      <td>4.47</td>\n",
       "      <td>2.76</td>\n",
       "      <td>456</td>\n",
       "      <td>0.33</td>\n",
       "      <td>Ideal</td>\n",
       "      <td>J</td>\n",
       "      <td>VS1</td>\n",
       "      <td>Kimberly</td>\n",
       "    </tr>\n",
       "    <tr>\n",
       "      <th>40454</th>\n",
       "      <td>a02744a70faa594d240b067f21fcc23a8d17cd1098a9fb...</td>\n",
       "      <td>62.0</td>\n",
       "      <td>58.0</td>\n",
       "      <td>6.83</td>\n",
       "      <td>6.88</td>\n",
       "      <td>4.25</td>\n",
       "      <td>6232</td>\n",
       "      <td>1.24</td>\n",
       "      <td>Ideal</td>\n",
       "      <td>I</td>\n",
       "      <td>SI1</td>\n",
       "      <td>London</td>\n",
       "    </tr>\n",
       "  </tbody>\n",
       "</table>\n",
       "<p>40455 rows × 12 columns</p>\n",
       "</div>"
      ],
      "text/plain": [
       "                                                index_id  depth  table     x  \\\n",
       "0      5feceb66ffc86f38d952786c6d696c79c2dbc239dd4e91...   62.4   58.0  6.83   \n",
       "1      6b86b273ff34fce19d6b804eff5a3f5747ada4eaa22f1d...   63.0   57.0  4.35   \n",
       "2      d4735e3a265e16eee03f59718b9b5d03019c07d8b6c51f...   65.5   55.0  5.62   \n",
       "3      4e07408562bedb8b60ce05c1decfe3ad16b72230967de0...   63.8   56.0  4.68   \n",
       "4      4b227777d4dd1fc61c6f884f48641d02b4d121d3fd328c...   60.5   59.0  6.55   \n",
       "...                                                  ...    ...    ...   ...   \n",
       "40450  f0bc79169405ebeb24e308055156b946ffd819db9b4f75...   62.7   57.0  7.10   \n",
       "40451  339916a23bf22b052b54cb2a9b36ee8418c1c68b46acad...   57.1   60.0  8.31   \n",
       "40452  46957922b99954654c1deb8d854c3f069bf118b2ce9415...   62.7   56.0  6.37   \n",
       "40453  9d733392d362d5c6f1d9b9659b601c7d4b5a1c1c8df579...   61.9   54.3  4.45   \n",
       "40454  a02744a70faa594d240b067f21fcc23a8d17cd1098a9fb...   62.0   58.0  6.83   \n",
       "\n",
       "          y     z  price  carat        cut color clarity       city  \n",
       "0      6.79  4.25   4268   1.21    Premium     J     VS2      Dubai  \n",
       "1      4.38  2.75    505   0.32  Very Good     H     VS2   Kimberly  \n",
       "2      5.53  3.65   2686   0.71       Fair     G     VS1  Las Vegas  \n",
       "3      4.72  3.00    738   0.41       Good     D     SI1   Kimberly  \n",
       "4      6.51  3.95   4882   1.02      Ideal     G     SI1      Dubai  \n",
       "...     ...   ...    ...    ...        ...   ...     ...        ...  \n",
       "40450  7.04  4.43  10070   1.34      Ideal     G     VS1    Antwerp  \n",
       "40451  8.25  4.73  12615   2.02       Good     F     SI2     Madrid  \n",
       "40452  6.42  4.01   5457   1.01      Ideal     H     SI1   Kimberly  \n",
       "40453  4.47  2.76    456   0.33      Ideal     J     VS1   Kimberly  \n",
       "40454  6.88  4.25   6232   1.24      Ideal     I     SI1     London  \n",
       "\n",
       "[40455 rows x 12 columns]"
      ]
     },
     "execution_count": 3,
     "metadata": {},
     "output_type": "execute_result"
    }
   ],
   "source": [
    "df_diamonds_train=pd.read_csv('../data/diamonds_train.csv')\n",
    "df_diamonds_train.pop(\"Unnamed: 0\") #dropped an unnecessary column\n",
    "df_diamonds_train"
   ]
  },
  {
   "cell_type": "markdown",
   "id": "ff913d6c",
   "metadata": {},
   "source": [
    "### 1.2 Impor test data"
   ]
  },
  {
   "cell_type": "code",
   "execution_count": 4,
   "id": "65ba238d",
   "metadata": {},
   "outputs": [
    {
     "data": {
      "text/html": [
       "<div>\n",
       "<style scoped>\n",
       "    .dataframe tbody tr th:only-of-type {\n",
       "        vertical-align: middle;\n",
       "    }\n",
       "\n",
       "    .dataframe tbody tr th {\n",
       "        vertical-align: top;\n",
       "    }\n",
       "\n",
       "    .dataframe thead th {\n",
       "        text-align: right;\n",
       "    }\n",
       "</style>\n",
       "<table border=\"1\" class=\"dataframe\">\n",
       "  <thead>\n",
       "    <tr style=\"text-align: right;\">\n",
       "      <th></th>\n",
       "      <th>id</th>\n",
       "      <th>carat</th>\n",
       "      <th>cut</th>\n",
       "      <th>color</th>\n",
       "      <th>clarity</th>\n",
       "      <th>depth</th>\n",
       "      <th>table</th>\n",
       "      <th>x</th>\n",
       "      <th>y</th>\n",
       "      <th>z</th>\n",
       "      <th>city</th>\n",
       "    </tr>\n",
       "  </thead>\n",
       "  <tbody>\n",
       "    <tr>\n",
       "      <th>0</th>\n",
       "      <td>0</td>\n",
       "      <td>0.79</td>\n",
       "      <td>Very Good</td>\n",
       "      <td>F</td>\n",
       "      <td>SI1</td>\n",
       "      <td>62.7</td>\n",
       "      <td>60.0</td>\n",
       "      <td>5.82</td>\n",
       "      <td>5.89</td>\n",
       "      <td>3.67</td>\n",
       "      <td>Amsterdam</td>\n",
       "    </tr>\n",
       "    <tr>\n",
       "      <th>1</th>\n",
       "      <td>1</td>\n",
       "      <td>1.20</td>\n",
       "      <td>Ideal</td>\n",
       "      <td>J</td>\n",
       "      <td>VS1</td>\n",
       "      <td>61.0</td>\n",
       "      <td>57.0</td>\n",
       "      <td>6.81</td>\n",
       "      <td>6.89</td>\n",
       "      <td>4.18</td>\n",
       "      <td>Surat</td>\n",
       "    </tr>\n",
       "    <tr>\n",
       "      <th>2</th>\n",
       "      <td>2</td>\n",
       "      <td>1.57</td>\n",
       "      <td>Premium</td>\n",
       "      <td>H</td>\n",
       "      <td>SI1</td>\n",
       "      <td>62.2</td>\n",
       "      <td>61.0</td>\n",
       "      <td>7.38</td>\n",
       "      <td>7.32</td>\n",
       "      <td>4.57</td>\n",
       "      <td>Kimberly</td>\n",
       "    </tr>\n",
       "    <tr>\n",
       "      <th>3</th>\n",
       "      <td>3</td>\n",
       "      <td>0.90</td>\n",
       "      <td>Very Good</td>\n",
       "      <td>F</td>\n",
       "      <td>SI1</td>\n",
       "      <td>63.8</td>\n",
       "      <td>54.0</td>\n",
       "      <td>6.09</td>\n",
       "      <td>6.13</td>\n",
       "      <td>3.90</td>\n",
       "      <td>Kimberly</td>\n",
       "    </tr>\n",
       "    <tr>\n",
       "      <th>4</th>\n",
       "      <td>4</td>\n",
       "      <td>0.50</td>\n",
       "      <td>Very Good</td>\n",
       "      <td>F</td>\n",
       "      <td>VS1</td>\n",
       "      <td>62.9</td>\n",
       "      <td>58.0</td>\n",
       "      <td>5.05</td>\n",
       "      <td>5.09</td>\n",
       "      <td>3.19</td>\n",
       "      <td>Amsterdam</td>\n",
       "    </tr>\n",
       "    <tr>\n",
       "      <th>...</th>\n",
       "      <td>...</td>\n",
       "      <td>...</td>\n",
       "      <td>...</td>\n",
       "      <td>...</td>\n",
       "      <td>...</td>\n",
       "      <td>...</td>\n",
       "      <td>...</td>\n",
       "      <td>...</td>\n",
       "      <td>...</td>\n",
       "      <td>...</td>\n",
       "      <td>...</td>\n",
       "    </tr>\n",
       "    <tr>\n",
       "      <th>13480</th>\n",
       "      <td>13480</td>\n",
       "      <td>0.57</td>\n",
       "      <td>Ideal</td>\n",
       "      <td>E</td>\n",
       "      <td>SI1</td>\n",
       "      <td>61.9</td>\n",
       "      <td>56.0</td>\n",
       "      <td>5.35</td>\n",
       "      <td>5.32</td>\n",
       "      <td>3.30</td>\n",
       "      <td>Amsterdam</td>\n",
       "    </tr>\n",
       "    <tr>\n",
       "      <th>13481</th>\n",
       "      <td>13481</td>\n",
       "      <td>0.71</td>\n",
       "      <td>Ideal</td>\n",
       "      <td>I</td>\n",
       "      <td>VS2</td>\n",
       "      <td>62.2</td>\n",
       "      <td>55.0</td>\n",
       "      <td>5.71</td>\n",
       "      <td>5.73</td>\n",
       "      <td>3.56</td>\n",
       "      <td>New York City</td>\n",
       "    </tr>\n",
       "    <tr>\n",
       "      <th>13482</th>\n",
       "      <td>13482</td>\n",
       "      <td>0.70</td>\n",
       "      <td>Ideal</td>\n",
       "      <td>F</td>\n",
       "      <td>VS1</td>\n",
       "      <td>61.6</td>\n",
       "      <td>55.0</td>\n",
       "      <td>5.75</td>\n",
       "      <td>5.71</td>\n",
       "      <td>3.53</td>\n",
       "      <td>Tel Aviv</td>\n",
       "    </tr>\n",
       "    <tr>\n",
       "      <th>13483</th>\n",
       "      <td>13483</td>\n",
       "      <td>0.70</td>\n",
       "      <td>Very Good</td>\n",
       "      <td>F</td>\n",
       "      <td>SI2</td>\n",
       "      <td>58.8</td>\n",
       "      <td>57.0</td>\n",
       "      <td>5.85</td>\n",
       "      <td>5.89</td>\n",
       "      <td>3.45</td>\n",
       "      <td>Surat</td>\n",
       "    </tr>\n",
       "    <tr>\n",
       "      <th>13484</th>\n",
       "      <td>13484</td>\n",
       "      <td>0.40</td>\n",
       "      <td>Ideal</td>\n",
       "      <td>I</td>\n",
       "      <td>VVS2</td>\n",
       "      <td>62.4</td>\n",
       "      <td>55.0</td>\n",
       "      <td>4.70</td>\n",
       "      <td>4.73</td>\n",
       "      <td>2.94</td>\n",
       "      <td>New York City</td>\n",
       "    </tr>\n",
       "  </tbody>\n",
       "</table>\n",
       "<p>13485 rows × 11 columns</p>\n",
       "</div>"
      ],
      "text/plain": [
       "          id  carat        cut color clarity  depth  table     x     y     z  \\\n",
       "0          0   0.79  Very Good     F     SI1   62.7   60.0  5.82  5.89  3.67   \n",
       "1          1   1.20      Ideal     J     VS1   61.0   57.0  6.81  6.89  4.18   \n",
       "2          2   1.57    Premium     H     SI1   62.2   61.0  7.38  7.32  4.57   \n",
       "3          3   0.90  Very Good     F     SI1   63.8   54.0  6.09  6.13  3.90   \n",
       "4          4   0.50  Very Good     F     VS1   62.9   58.0  5.05  5.09  3.19   \n",
       "...      ...    ...        ...   ...     ...    ...    ...   ...   ...   ...   \n",
       "13480  13480   0.57      Ideal     E     SI1   61.9   56.0  5.35  5.32  3.30   \n",
       "13481  13481   0.71      Ideal     I     VS2   62.2   55.0  5.71  5.73  3.56   \n",
       "13482  13482   0.70      Ideal     F     VS1   61.6   55.0  5.75  5.71  3.53   \n",
       "13483  13483   0.70  Very Good     F     SI2   58.8   57.0  5.85  5.89  3.45   \n",
       "13484  13484   0.40      Ideal     I    VVS2   62.4   55.0  4.70  4.73  2.94   \n",
       "\n",
       "                city  \n",
       "0          Amsterdam  \n",
       "1              Surat  \n",
       "2           Kimberly  \n",
       "3           Kimberly  \n",
       "4          Amsterdam  \n",
       "...              ...  \n",
       "13480      Amsterdam  \n",
       "13481  New York City  \n",
       "13482       Tel Aviv  \n",
       "13483          Surat  \n",
       "13484  New York City  \n",
       "\n",
       "[13485 rows x 11 columns]"
      ]
     },
     "execution_count": 4,
     "metadata": {},
     "output_type": "execute_result"
    }
   ],
   "source": [
    "df_diamonds_test=pd.read_csv('../data/diamonds_test.csv')\n",
    "df_diamonds_test"
   ]
  },
  {
   "cell_type": "markdown",
   "id": "5aa0abf6",
   "metadata": {},
   "source": [
    "## 2. Data preparation (training set)"
   ]
  },
  {
   "cell_type": "markdown",
   "id": "817acd2e",
   "metadata": {},
   "source": [
    "### 2.1 Defining numerical and categorical features"
   ]
  },
  {
   "cell_type": "code",
   "execution_count": 5,
   "id": "203446b3",
   "metadata": {},
   "outputs": [],
   "source": [
    "# Excluding city (with trees sometimes is better to keep variables even if they are correlated)\n",
    "num_features_list=['x','y','z','depth','table','carat']\n",
    "cat_features_list=['cut','color','clarity']\n",
    "target='price'\n",
    "features_list=['x','y','z','depth','table','carat','cut','color','clarity']"
   ]
  },
  {
   "cell_type": "markdown",
   "id": "a890ec2d",
   "metadata": {},
   "source": [
    "### 2.2 Checking if zero/null values"
   ]
  },
  {
   "cell_type": "code",
   "execution_count": 6,
   "id": "e4f4a7c7",
   "metadata": {},
   "outputs": [
    {
     "data": {
      "text/plain": [
       "x        0\n",
       "y        0\n",
       "z        0\n",
       "depth    0\n",
       "table    0\n",
       "carat    0\n",
       "dtype: int64"
      ]
     },
     "execution_count": 6,
     "metadata": {},
     "output_type": "execute_result"
    }
   ],
   "source": [
    "df_diamonds_train[num_features_list].isna().sum()"
   ]
  },
  {
   "cell_type": "code",
   "execution_count": 7,
   "id": "65438084",
   "metadata": {},
   "outputs": [
    {
     "name": "stdout",
     "output_type": "stream",
     "text": [
      "No 0 values\n"
     ]
    }
   ],
   "source": [
    "if 0 in df_diamonds_train[num_features_list]:\n",
    "    print('0 values')\n",
    "else:\n",
    "    print('No 0 values')"
   ]
  },
  {
   "cell_type": "code",
   "execution_count": 8,
   "id": "a43d1159",
   "metadata": {},
   "outputs": [
    {
     "data": {
      "text/plain": [
       "0.0"
      ]
     },
     "execution_count": 8,
     "metadata": {},
     "output_type": "execute_result"
    }
   ],
   "source": [
    "df_diamonds_train['x'].min()"
   ]
  },
  {
   "cell_type": "markdown",
   "id": "54991b3e",
   "metadata": {},
   "source": [
    "### 2.3 Remove outliers"
   ]
  },
  {
   "cell_type": "code",
   "execution_count": 9,
   "id": "62200e49",
   "metadata": {},
   "outputs": [],
   "source": [
    "def remove_outliers(df,feature):\n",
    "    # IQR\n",
    "    Q1 = np.percentile(df[feature], 25,\n",
    "                   interpolation = 'midpoint')\n",
    "    Q3 = np.percentile(df[feature], 75,\n",
    "                   interpolation = 'midpoint')\n",
    "    IQR = Q3 - Q1\n",
    "    # Upper and lower\n",
    "    upper_limit=Q3+1.5*IQR\n",
    "    lower_limit=Q1-1.5*IQR\n",
    "    # Removing the Outliers\n",
    "    return df[(df[feature]>=lower_limit) & (df[feature]<=upper_limit)]"
   ]
  },
  {
   "cell_type": "code",
   "execution_count": 10,
   "id": "a2c9a21d",
   "metadata": {},
   "outputs": [],
   "source": [
    "df_diamonds_train=remove_outliers(df_diamonds_train,'x')\n",
    "df_diamonds_train=remove_outliers(df_diamonds_train,'y')\n",
    "df_diamonds_train=remove_outliers(df_diamonds_train,'z')\n",
    "df_diamonds_train=remove_outliers(df_diamonds_train,'depth')\n",
    "df_diamonds_train=remove_outliers(df_diamonds_train,'table')\n",
    "df_diamonds_train=remove_outliers(df_diamonds_train,'carat')"
   ]
  },
  {
   "cell_type": "code",
   "execution_count": 11,
   "id": "6526dba9",
   "metadata": {},
   "outputs": [
    {
     "data": {
      "text/plain": [
       "(37264, 12)"
      ]
     },
     "execution_count": 11,
     "metadata": {},
     "output_type": "execute_result"
    }
   ],
   "source": [
    "df_diamonds_train.shape"
   ]
  },
  {
   "cell_type": "markdown",
   "id": "cbbaaeb2",
   "metadata": {},
   "source": [
    "### 3. Feature engineering (training set)"
   ]
  },
  {
   "cell_type": "markdown",
   "id": "24926ca5",
   "metadata": {},
   "source": [
    "### 3.1 Target encoding (mean and std)"
   ]
  },
  {
   "cell_type": "code",
   "execution_count": 12,
   "id": "d7db93ac",
   "metadata": {},
   "outputs": [],
   "source": [
    "# 1.Target encoding for categorical variables\n",
    "# Mean\n",
    "cut_encoding = df_diamonds_train.groupby(['cut'])['price'].mean().to_dict()\n",
    "df_diamonds_train['cut_encoding'] = df_diamonds_train['cut'].map(cut_encoding).astype(float)\n",
    "color_encoding = df_diamonds_train.groupby(['color'])['price'].mean().to_dict()\n",
    "df_diamonds_train['color_encoding'] = df_diamonds_train['color'].map(color_encoding).astype(float)\n",
    "clarity_encoding = df_diamonds_train.groupby(['clarity'])['price'].mean().to_dict()\n",
    "df_diamonds_train['clarity_encoding'] = df_diamonds_train['clarity'].map(clarity_encoding).astype(float)\n",
    "# Std\n",
    "cut_encoding_std = df_diamonds_train.groupby(['cut'])['price'].std().to_dict()\n",
    "df_diamonds_train['cut_encoding_std'] = df_diamonds_train['cut'].map(cut_encoding_std).astype(float)\n",
    "color_encoding_std = df_diamonds_train.groupby(['color'])['price'].std().to_dict()\n",
    "df_diamonds_train['color_encoding_std'] = df_diamonds_train['color'].map(color_encoding_std).astype(float)\n",
    "clarity_encoding_std = df_diamonds_train.groupby(['clarity'])['price'].std().to_dict()\n",
    "df_diamonds_train['clarity_encoding_std'] = df_diamonds_train['clarity'].map(clarity_encoding_std).astype(float)"
   ]
  },
  {
   "cell_type": "code",
   "execution_count": 13,
   "id": "0b0d474f",
   "metadata": {},
   "outputs": [
    {
     "data": {
      "text/html": [
       "<div>\n",
       "<style scoped>\n",
       "    .dataframe tbody tr th:only-of-type {\n",
       "        vertical-align: middle;\n",
       "    }\n",
       "\n",
       "    .dataframe tbody tr th {\n",
       "        vertical-align: top;\n",
       "    }\n",
       "\n",
       "    .dataframe thead th {\n",
       "        text-align: right;\n",
       "    }\n",
       "</style>\n",
       "<table border=\"1\" class=\"dataframe\">\n",
       "  <thead>\n",
       "    <tr style=\"text-align: right;\">\n",
       "      <th></th>\n",
       "      <th>index_id</th>\n",
       "      <th>depth</th>\n",
       "      <th>table</th>\n",
       "      <th>x</th>\n",
       "      <th>y</th>\n",
       "      <th>z</th>\n",
       "      <th>price</th>\n",
       "      <th>carat</th>\n",
       "      <th>cut</th>\n",
       "      <th>color</th>\n",
       "      <th>clarity</th>\n",
       "      <th>city</th>\n",
       "      <th>cut_encoding</th>\n",
       "      <th>color_encoding</th>\n",
       "      <th>clarity_encoding</th>\n",
       "      <th>cut_encoding_std</th>\n",
       "      <th>color_encoding_std</th>\n",
       "      <th>clarity_encoding_std</th>\n",
       "    </tr>\n",
       "  </thead>\n",
       "  <tbody>\n",
       "    <tr>\n",
       "      <th>0</th>\n",
       "      <td>5feceb66ffc86f38d952786c6d696c79c2dbc239dd4e91...</td>\n",
       "      <td>62.4</td>\n",
       "      <td>58.0</td>\n",
       "      <td>6.83</td>\n",
       "      <td>6.79</td>\n",
       "      <td>4.25</td>\n",
       "      <td>4268</td>\n",
       "      <td>1.21</td>\n",
       "      <td>Premium</td>\n",
       "      <td>J</td>\n",
       "      <td>VS2</td>\n",
       "      <td>Dubai</td>\n",
       "      <td>4090.451413</td>\n",
       "      <td>4205.372106</td>\n",
       "      <td>3706.916046</td>\n",
       "      <td>3786.059445</td>\n",
       "      <td>3203.931679</td>\n",
       "      <td>3773.320777</td>\n",
       "    </tr>\n",
       "    <tr>\n",
       "      <th>1</th>\n",
       "      <td>6b86b273ff34fce19d6b804eff5a3f5747ada4eaa22f1d...</td>\n",
       "      <td>63.0</td>\n",
       "      <td>57.0</td>\n",
       "      <td>4.35</td>\n",
       "      <td>4.38</td>\n",
       "      <td>2.75</td>\n",
       "      <td>505</td>\n",
       "      <td>0.32</td>\n",
       "      <td>Very Good</td>\n",
       "      <td>H</td>\n",
       "      <td>VS2</td>\n",
       "      <td>Kimberly</td>\n",
       "      <td>3716.148388</td>\n",
       "      <td>3989.238859</td>\n",
       "      <td>3706.916046</td>\n",
       "      <td>3552.522893</td>\n",
       "      <td>3617.921017</td>\n",
       "      <td>3773.320777</td>\n",
       "    </tr>\n",
       "    <tr>\n",
       "      <th>3</th>\n",
       "      <td>4e07408562bedb8b60ce05c1decfe3ad16b72230967de0...</td>\n",
       "      <td>63.8</td>\n",
       "      <td>56.0</td>\n",
       "      <td>4.68</td>\n",
       "      <td>4.72</td>\n",
       "      <td>3.00</td>\n",
       "      <td>738</td>\n",
       "      <td>0.41</td>\n",
       "      <td>Good</td>\n",
       "      <td>D</td>\n",
       "      <td>SI1</td>\n",
       "      <td>Kimberly</td>\n",
       "      <td>3629.673247</td>\n",
       "      <td>3032.494785</td>\n",
       "      <td>3667.767250</td>\n",
       "      <td>3352.922564</td>\n",
       "      <td>3210.147580</td>\n",
       "      <td>3345.026353</td>\n",
       "    </tr>\n",
       "    <tr>\n",
       "      <th>4</th>\n",
       "      <td>4b227777d4dd1fc61c6f884f48641d02b4d121d3fd328c...</td>\n",
       "      <td>60.5</td>\n",
       "      <td>59.0</td>\n",
       "      <td>6.55</td>\n",
       "      <td>6.51</td>\n",
       "      <td>3.95</td>\n",
       "      <td>4882</td>\n",
       "      <td>1.02</td>\n",
       "      <td>Ideal</td>\n",
       "      <td>G</td>\n",
       "      <td>SI1</td>\n",
       "      <td>Dubai</td>\n",
       "      <td>3209.761477</td>\n",
       "      <td>3813.444988</td>\n",
       "      <td>3667.767250</td>\n",
       "      <td>3433.146709</td>\n",
       "      <td>3821.613156</td>\n",
       "      <td>3345.026353</td>\n",
       "    </tr>\n",
       "    <tr>\n",
       "      <th>5</th>\n",
       "      <td>ef2d127de37b942baad06145e54b0c619a1f22327b2ebb...</td>\n",
       "      <td>61.2</td>\n",
       "      <td>57.0</td>\n",
       "      <td>7.45</td>\n",
       "      <td>7.39</td>\n",
       "      <td>4.54</td>\n",
       "      <td>9057</td>\n",
       "      <td>1.52</td>\n",
       "      <td>Ideal</td>\n",
       "      <td>F</td>\n",
       "      <td>SI2</td>\n",
       "      <td>Tel Aviv</td>\n",
       "      <td>3209.761477</td>\n",
       "      <td>3553.853659</td>\n",
       "      <td>4133.827826</td>\n",
       "      <td>3433.146709</td>\n",
       "      <td>3603.654261</td>\n",
       "      <td>3073.028701</td>\n",
       "    </tr>\n",
       "  </tbody>\n",
       "</table>\n",
       "</div>"
      ],
      "text/plain": [
       "                                            index_id  depth  table     x  \\\n",
       "0  5feceb66ffc86f38d952786c6d696c79c2dbc239dd4e91...   62.4   58.0  6.83   \n",
       "1  6b86b273ff34fce19d6b804eff5a3f5747ada4eaa22f1d...   63.0   57.0  4.35   \n",
       "3  4e07408562bedb8b60ce05c1decfe3ad16b72230967de0...   63.8   56.0  4.68   \n",
       "4  4b227777d4dd1fc61c6f884f48641d02b4d121d3fd328c...   60.5   59.0  6.55   \n",
       "5  ef2d127de37b942baad06145e54b0c619a1f22327b2ebb...   61.2   57.0  7.45   \n",
       "\n",
       "      y     z  price  carat        cut color clarity      city  cut_encoding  \\\n",
       "0  6.79  4.25   4268   1.21    Premium     J     VS2     Dubai   4090.451413   \n",
       "1  4.38  2.75    505   0.32  Very Good     H     VS2  Kimberly   3716.148388   \n",
       "3  4.72  3.00    738   0.41       Good     D     SI1  Kimberly   3629.673247   \n",
       "4  6.51  3.95   4882   1.02      Ideal     G     SI1     Dubai   3209.761477   \n",
       "5  7.39  4.54   9057   1.52      Ideal     F     SI2  Tel Aviv   3209.761477   \n",
       "\n",
       "   color_encoding  clarity_encoding  cut_encoding_std  color_encoding_std  \\\n",
       "0     4205.372106       3706.916046       3786.059445         3203.931679   \n",
       "1     3989.238859       3706.916046       3552.522893         3617.921017   \n",
       "3     3032.494785       3667.767250       3352.922564         3210.147580   \n",
       "4     3813.444988       3667.767250       3433.146709         3821.613156   \n",
       "5     3553.853659       4133.827826       3433.146709         3603.654261   \n",
       "\n",
       "   clarity_encoding_std  \n",
       "0           3773.320777  \n",
       "1           3773.320777  \n",
       "3           3345.026353  \n",
       "4           3345.026353  \n",
       "5           3073.028701  "
      ]
     },
     "execution_count": 13,
     "metadata": {},
     "output_type": "execute_result"
    }
   ],
   "source": [
    "df_diamonds_train.head()"
   ]
  },
  {
   "cell_type": "markdown",
   "id": "57097add",
   "metadata": {},
   "source": [
    "### 3.2 Including volume"
   ]
  },
  {
   "cell_type": "code",
   "execution_count": 14,
   "id": "43ae2bcf",
   "metadata": {},
   "outputs": [],
   "source": [
    "#df_diamonds_train['volume']=df_diamonds_train['x']*df_diamonds_train['y']*df_diamonds_train['z']"
   ]
  },
  {
   "cell_type": "markdown",
   "id": "87cef81c",
   "metadata": {},
   "source": [
    "### 3.3 Cross Target encoding (mean and std)"
   ]
  },
  {
   "cell_type": "code",
   "execution_count": 15,
   "id": "b38d8560",
   "metadata": {},
   "outputs": [],
   "source": [
    "# 2. Cross target encoding\n",
    "# Mean\n",
    "cut_color_encoding = df_diamonds_train.groupby(['cut','color'])['price'].mean().to_dict()\n",
    "df_diamonds_train['cut_color_encoding'] = df_diamonds_train.set_index(['cut',\n",
    "                                                                       'color']).index.map(cut_color_encoding.get).astype(float)\n",
    "cut_clarity_encoding = df_diamonds_train.groupby(['cut','clarity'])['price'].mean().to_dict()\n",
    "df_diamonds_train['cut_clarity_encoding'] = df_diamonds_train.set_index(['cut',\n",
    "                                                                       'clarity']).index.map(cut_clarity_encoding.get).astype(float)\n",
    "color_clarity_encoding = df_diamonds_train.groupby(['color','clarity'])['price'].mean().to_dict()\n",
    "df_diamonds_train['color_clarity_encoding'] = df_diamonds_train.set_index(['color',\n",
    "                                                                          'clarity']).index.map(color_clarity_encoding.get).astype(float)\n",
    "# Std  \n",
    "#cut_color_encoding_std = df_diamonds_train.groupby(['cut','color'])['price'].std().to_dict()\n",
    "#df_diamonds_train['cut_color_encoding_std'] = df_diamonds_train.set_index(['cut',\n",
    "#                                                                       'color']).index.map(cut_color_encoding_std.get).astype(float)\n",
    "#cut_clarity_encoding_std = df_diamonds_train.groupby(['cut','clarity'])['price'].std().to_dict()\n",
    "#df_diamonds_train['cut_clarity_encoding_std'] = df_diamonds_train.set_index(['cut',\n",
    "#                                                                       'clarity']).index.map(cut_clarity_encoding_std.get).astype(float)\n",
    "#color_clarity_encoding_std = df_diamonds_train.groupby(['color','clarity'])['price'].std().to_dict()\n",
    "#df_diamonds_train['color_clarity_encoding_std'] = df_diamonds_train.set_index(['color',\n",
    "#                                                                           'clarity']).index.map(color_clarity_encoding_std.get).astype(float)\n"
   ]
  },
  {
   "cell_type": "code",
   "execution_count": 16,
   "id": "8d47a3a4",
   "metadata": {},
   "outputs": [],
   "source": [
    "features_list_encoding=['x','y','z','depth','table','carat','cut','color','clarity','cut_encoding','color_encoding'\n",
    "                        ,'clarity_encoding','cut_encoding_std','color_encoding_std','clarity_encoding_std'\n",
    "                        ,'cut_color_encoding','cut_clarity_encoding','color_clarity_encoding'\n",
    "#                       ,'cut_color_encoding_std','cut_clarity_encoding_std','color_clarity_encoding_std'\n",
    "                       ]"
   ]
  },
  {
   "cell_type": "code",
   "execution_count": 17,
   "id": "635d9534",
   "metadata": {},
   "outputs": [],
   "source": [
    "#num_features_encoding=['x','y','z','depth','table','carat','cut_encoding','color_encoding','clarity_encoding',\n",
    "#                        'cut_encoding_std','color_encoding_std','clarity_encoding_std','volume','cut_color_encoding',\n",
    "#                        'cut_clarity_encoding','color_clarity_encoding','cut_color_encoding_std',\n",
    "#                        'cut_clarity_encoding_std','color_clarity_encoding_std']\n",
    "#target='price'"
   ]
  },
  {
   "cell_type": "markdown",
   "id": "12cefd2b",
   "metadata": {},
   "source": [
    "### 3.4 Feature Scaling"
   ]
  },
  {
   "cell_type": "markdown",
   "id": "19d3e12c",
   "metadata": {},
   "source": [
    "With few exceptions, Machine Learning algrorithms don't perform well when the input numerical attributes have very different scales. We sure want our models to work well, so how can we go about it?\n",
    "\n",
    "Feature scaling can be done in 2 ways: Min-max scaling and Standardization. I would preferably use Standardization, because it is much less affected by outliers. Scikit-Learn provides a transformer called StandardScaler for this transformation."
   ]
  },
  {
   "cell_type": "code",
   "execution_count": 18,
   "id": "1cae4edb",
   "metadata": {},
   "outputs": [],
   "source": [
    "#Nodf_diamonds_train_num=df_diamonds_train[num_features_encoding]\n",
    "#df_diamonds_train_num=df_diamonds_train[num_features_list]\n",
    "#df_diamonds_train_carat=df_diamonds_train[cat_features_list]\n",
    "#df_diamonds_train_target=df_diamonds_train['price']"
   ]
  },
  {
   "cell_type": "code",
   "execution_count": 19,
   "id": "0846202c",
   "metadata": {},
   "outputs": [],
   "source": [
    "# Perform the feature scaling on the numeric attributes of the dataset\n",
    "#num_scaler = StandardScaler()\n",
    "#df_diamonds_train_num_scaled = num_scaler.fit_transform(df_diamonds_train_num)\n",
    "#df_diamonds_train_num_scaled\n",
    "#df_diamonds_train_num_scaled=pd.DataFrame(df_diamonds_train_num_scaled)\n",
    "#NOdf_diamonds_train_num_scaled.rename(columns = {0:'x', 1:'y', 2:'z', 3:'depth', 4:'table', 5:'carat', 6:'cut_encoding',\n",
    "#                                              7:'color_encoding', 8:'clarity_encoding', 9:'cut_encoding_std',\n",
    "#                                               10:'color_encoding_std',11:'clarity_encoding_std', 12:'volume',\n",
    "#                                               13:'cut_color_encoding',14:'cut_clarity_encoding',\n",
    "#                                               15:'color_clarity_encoding',16:'cut_color_encoding_std',\n",
    "#                                               17:'cut_clarity_encoding_std',18:'color_clarity_encoding_std'}, \n",
    "#                           inplace = True)\n",
    "#df_diamonds_train_num_scaled.rename(columns = {0:'x', 1:'y', 2:'z', 3:'depth', 4:'table', 5:'carat'}, \n",
    "#                           inplace = True)\n",
    "#df_diamonds_train_num_scaled.head()"
   ]
  },
  {
   "cell_type": "code",
   "execution_count": 20,
   "id": "b8b8ca86",
   "metadata": {},
   "outputs": [],
   "source": [
    "#df_diamonds_train=pd.merge(df_diamonds_train_num_scaled, df_diamonds_train_carat, left_index=True, right_index=True)\n",
    "#df_diamonds_train=pd.merge(df_diamonds_train, df_diamonds_train_target, left_index=True, right_index=True)\n",
    "#df_diamonds_train.head()"
   ]
  },
  {
   "cell_type": "markdown",
   "id": "8391a269",
   "metadata": {},
   "source": [
    "### 3.5 One hot encoding"
   ]
  },
  {
   "cell_type": "code",
   "execution_count": 21,
   "id": "fc3046a3",
   "metadata": {},
   "outputs": [],
   "source": [
    "# 3. Defining features y target\n",
    "#features_list_volume=['x', 'y', 'z', 'depth', 'table', 'carat', 'cut', 'color', 'clarity','volume']\n",
    "X=df_diamonds_train[features_list_encoding]\n",
    "y=df_diamonds_train['price']"
   ]
  },
  {
   "cell_type": "code",
   "execution_count": 22,
   "id": "fcb4c48c",
   "metadata": {},
   "outputs": [],
   "source": [
    "# 4.One-hot encoding for categorical variables\n",
    "X=pd.get_dummies(X,columns=cat_features_list,drop_first=True)"
   ]
  },
  {
   "cell_type": "code",
   "execution_count": 23,
   "id": "20cda772",
   "metadata": {},
   "outputs": [
    {
     "data": {
      "text/html": [
       "<div>\n",
       "<style scoped>\n",
       "    .dataframe tbody tr th:only-of-type {\n",
       "        vertical-align: middle;\n",
       "    }\n",
       "\n",
       "    .dataframe tbody tr th {\n",
       "        vertical-align: top;\n",
       "    }\n",
       "\n",
       "    .dataframe thead th {\n",
       "        text-align: right;\n",
       "    }\n",
       "</style>\n",
       "<table border=\"1\" class=\"dataframe\">\n",
       "  <thead>\n",
       "    <tr style=\"text-align: right;\">\n",
       "      <th></th>\n",
       "      <th>x</th>\n",
       "      <th>y</th>\n",
       "      <th>z</th>\n",
       "      <th>depth</th>\n",
       "      <th>table</th>\n",
       "      <th>carat</th>\n",
       "      <th>cut_encoding</th>\n",
       "      <th>color_encoding</th>\n",
       "      <th>clarity_encoding</th>\n",
       "      <th>cut_encoding_std</th>\n",
       "      <th>color_encoding_std</th>\n",
       "      <th>clarity_encoding_std</th>\n",
       "      <th>cut_color_encoding</th>\n",
       "      <th>cut_clarity_encoding</th>\n",
       "      <th>color_clarity_encoding</th>\n",
       "      <th>cut_Good</th>\n",
       "      <th>cut_Ideal</th>\n",
       "      <th>cut_Premium</th>\n",
       "      <th>cut_Very Good</th>\n",
       "      <th>color_E</th>\n",
       "      <th>color_F</th>\n",
       "      <th>color_G</th>\n",
       "      <th>color_H</th>\n",
       "      <th>color_I</th>\n",
       "      <th>color_J</th>\n",
       "      <th>clarity_IF</th>\n",
       "      <th>clarity_SI1</th>\n",
       "      <th>clarity_SI2</th>\n",
       "      <th>clarity_VS1</th>\n",
       "      <th>clarity_VS2</th>\n",
       "      <th>clarity_VVS1</th>\n",
       "      <th>clarity_VVS2</th>\n",
       "    </tr>\n",
       "  </thead>\n",
       "  <tbody>\n",
       "    <tr>\n",
       "      <th>0</th>\n",
       "      <td>6.83</td>\n",
       "      <td>6.79</td>\n",
       "      <td>4.25</td>\n",
       "      <td>62.4</td>\n",
       "      <td>58.0</td>\n",
       "      <td>1.21</td>\n",
       "      <td>4090.451413</td>\n",
       "      <td>4205.372106</td>\n",
       "      <td>3706.916046</td>\n",
       "      <td>3786.059445</td>\n",
       "      <td>3203.931679</td>\n",
       "      <td>3773.320777</td>\n",
       "      <td>4723.032323</td>\n",
       "      <td>4279.325321</td>\n",
       "      <td>4072.978678</td>\n",
       "      <td>0</td>\n",
       "      <td>0</td>\n",
       "      <td>1</td>\n",
       "      <td>0</td>\n",
       "      <td>0</td>\n",
       "      <td>0</td>\n",
       "      <td>0</td>\n",
       "      <td>0</td>\n",
       "      <td>0</td>\n",
       "      <td>1</td>\n",
       "      <td>0</td>\n",
       "      <td>0</td>\n",
       "      <td>0</td>\n",
       "      <td>0</td>\n",
       "      <td>1</td>\n",
       "      <td>0</td>\n",
       "      <td>0</td>\n",
       "    </tr>\n",
       "    <tr>\n",
       "      <th>1</th>\n",
       "      <td>4.35</td>\n",
       "      <td>4.38</td>\n",
       "      <td>2.75</td>\n",
       "      <td>63.0</td>\n",
       "      <td>57.0</td>\n",
       "      <td>0.32</td>\n",
       "      <td>3716.148388</td>\n",
       "      <td>3989.238859</td>\n",
       "      <td>3706.916046</td>\n",
       "      <td>3552.522893</td>\n",
       "      <td>3617.921017</td>\n",
       "      <td>3773.320777</td>\n",
       "      <td>4131.209839</td>\n",
       "      <td>4064.356420</td>\n",
       "      <td>4536.957035</td>\n",
       "      <td>0</td>\n",
       "      <td>0</td>\n",
       "      <td>0</td>\n",
       "      <td>1</td>\n",
       "      <td>0</td>\n",
       "      <td>0</td>\n",
       "      <td>0</td>\n",
       "      <td>1</td>\n",
       "      <td>0</td>\n",
       "      <td>0</td>\n",
       "      <td>0</td>\n",
       "      <td>0</td>\n",
       "      <td>0</td>\n",
       "      <td>0</td>\n",
       "      <td>1</td>\n",
       "      <td>0</td>\n",
       "      <td>0</td>\n",
       "    </tr>\n",
       "    <tr>\n",
       "      <th>3</th>\n",
       "      <td>4.68</td>\n",
       "      <td>4.72</td>\n",
       "      <td>3.00</td>\n",
       "      <td>63.8</td>\n",
       "      <td>56.0</td>\n",
       "      <td>0.41</td>\n",
       "      <td>3629.673247</td>\n",
       "      <td>3032.494785</td>\n",
       "      <td>3667.767250</td>\n",
       "      <td>3352.922564</td>\n",
       "      <td>3210.147580</td>\n",
       "      <td>3345.026353</td>\n",
       "      <td>3092.344221</td>\n",
       "      <td>3398.128440</td>\n",
       "      <td>2890.454856</td>\n",
       "      <td>1</td>\n",
       "      <td>0</td>\n",
       "      <td>0</td>\n",
       "      <td>0</td>\n",
       "      <td>0</td>\n",
       "      <td>0</td>\n",
       "      <td>0</td>\n",
       "      <td>0</td>\n",
       "      <td>0</td>\n",
       "      <td>0</td>\n",
       "      <td>0</td>\n",
       "      <td>1</td>\n",
       "      <td>0</td>\n",
       "      <td>0</td>\n",
       "      <td>0</td>\n",
       "      <td>0</td>\n",
       "      <td>0</td>\n",
       "    </tr>\n",
       "    <tr>\n",
       "      <th>4</th>\n",
       "      <td>6.55</td>\n",
       "      <td>6.51</td>\n",
       "      <td>3.95</td>\n",
       "      <td>60.5</td>\n",
       "      <td>59.0</td>\n",
       "      <td>1.02</td>\n",
       "      <td>3209.761477</td>\n",
       "      <td>3813.444988</td>\n",
       "      <td>3667.767250</td>\n",
       "      <td>3433.146709</td>\n",
       "      <td>3821.613156</td>\n",
       "      <td>3345.026353</td>\n",
       "      <td>3622.447529</td>\n",
       "      <td>3442.506284</td>\n",
       "      <td>3608.093343</td>\n",
       "      <td>0</td>\n",
       "      <td>1</td>\n",
       "      <td>0</td>\n",
       "      <td>0</td>\n",
       "      <td>0</td>\n",
       "      <td>0</td>\n",
       "      <td>1</td>\n",
       "      <td>0</td>\n",
       "      <td>0</td>\n",
       "      <td>0</td>\n",
       "      <td>0</td>\n",
       "      <td>1</td>\n",
       "      <td>0</td>\n",
       "      <td>0</td>\n",
       "      <td>0</td>\n",
       "      <td>0</td>\n",
       "      <td>0</td>\n",
       "    </tr>\n",
       "    <tr>\n",
       "      <th>5</th>\n",
       "      <td>7.45</td>\n",
       "      <td>7.39</td>\n",
       "      <td>4.54</td>\n",
       "      <td>61.2</td>\n",
       "      <td>57.0</td>\n",
       "      <td>1.52</td>\n",
       "      <td>3209.761477</td>\n",
       "      <td>3553.853659</td>\n",
       "      <td>4133.827826</td>\n",
       "      <td>3433.146709</td>\n",
       "      <td>3603.654261</td>\n",
       "      <td>3073.028701</td>\n",
       "      <td>3214.139157</td>\n",
       "      <td>3850.286193</td>\n",
       "      <td>3891.265835</td>\n",
       "      <td>0</td>\n",
       "      <td>1</td>\n",
       "      <td>0</td>\n",
       "      <td>0</td>\n",
       "      <td>0</td>\n",
       "      <td>1</td>\n",
       "      <td>0</td>\n",
       "      <td>0</td>\n",
       "      <td>0</td>\n",
       "      <td>0</td>\n",
       "      <td>0</td>\n",
       "      <td>0</td>\n",
       "      <td>1</td>\n",
       "      <td>0</td>\n",
       "      <td>0</td>\n",
       "      <td>0</td>\n",
       "      <td>0</td>\n",
       "    </tr>\n",
       "  </tbody>\n",
       "</table>\n",
       "</div>"
      ],
      "text/plain": [
       "      x     y     z  depth  table  carat  cut_encoding  color_encoding  \\\n",
       "0  6.83  6.79  4.25   62.4   58.0   1.21   4090.451413     4205.372106   \n",
       "1  4.35  4.38  2.75   63.0   57.0   0.32   3716.148388     3989.238859   \n",
       "3  4.68  4.72  3.00   63.8   56.0   0.41   3629.673247     3032.494785   \n",
       "4  6.55  6.51  3.95   60.5   59.0   1.02   3209.761477     3813.444988   \n",
       "5  7.45  7.39  4.54   61.2   57.0   1.52   3209.761477     3553.853659   \n",
       "\n",
       "   clarity_encoding  cut_encoding_std  color_encoding_std  \\\n",
       "0       3706.916046       3786.059445         3203.931679   \n",
       "1       3706.916046       3552.522893         3617.921017   \n",
       "3       3667.767250       3352.922564         3210.147580   \n",
       "4       3667.767250       3433.146709         3821.613156   \n",
       "5       4133.827826       3433.146709         3603.654261   \n",
       "\n",
       "   clarity_encoding_std  cut_color_encoding  cut_clarity_encoding  \\\n",
       "0           3773.320777         4723.032323           4279.325321   \n",
       "1           3773.320777         4131.209839           4064.356420   \n",
       "3           3345.026353         3092.344221           3398.128440   \n",
       "4           3345.026353         3622.447529           3442.506284   \n",
       "5           3073.028701         3214.139157           3850.286193   \n",
       "\n",
       "   color_clarity_encoding  cut_Good  cut_Ideal  cut_Premium  cut_Very Good  \\\n",
       "0             4072.978678         0          0            1              0   \n",
       "1             4536.957035         0          0            0              1   \n",
       "3             2890.454856         1          0            0              0   \n",
       "4             3608.093343         0          1            0              0   \n",
       "5             3891.265835         0          1            0              0   \n",
       "\n",
       "   color_E  color_F  color_G  color_H  color_I  color_J  clarity_IF  \\\n",
       "0        0        0        0        0        0        1           0   \n",
       "1        0        0        0        1        0        0           0   \n",
       "3        0        0        0        0        0        0           0   \n",
       "4        0        0        1        0        0        0           0   \n",
       "5        0        1        0        0        0        0           0   \n",
       "\n",
       "   clarity_SI1  clarity_SI2  clarity_VS1  clarity_VS2  clarity_VVS1  \\\n",
       "0            0            0            0            1             0   \n",
       "1            0            0            0            1             0   \n",
       "3            1            0            0            0             0   \n",
       "4            1            0            0            0             0   \n",
       "5            0            1            0            0             0   \n",
       "\n",
       "   clarity_VVS2  \n",
       "0             0  \n",
       "1             0  \n",
       "3             0  \n",
       "4             0  \n",
       "5             0  "
      ]
     },
     "execution_count": 23,
     "metadata": {},
     "output_type": "execute_result"
    }
   ],
   "source": [
    "X.head()"
   ]
  },
  {
   "cell_type": "markdown",
   "id": "b4e61db6",
   "metadata": {},
   "source": [
    "### 3.6 Define train and validation"
   ]
  },
  {
   "cell_type": "code",
   "execution_count": 24,
   "id": "83b76da3",
   "metadata": {},
   "outputs": [],
   "source": [
    "# 5.Splitting train and test\n",
    "X_train, X_val, y_train, y_val = train_test_split(X, y, test_size=0.2, random_state=42)"
   ]
  },
  {
   "cell_type": "code",
   "execution_count": 25,
   "id": "30860211",
   "metadata": {},
   "outputs": [
    {
     "data": {
      "text/plain": [
       "(29811, 32)"
      ]
     },
     "execution_count": 25,
     "metadata": {},
     "output_type": "execute_result"
    }
   ],
   "source": [
    "X_train.shape"
   ]
  },
  {
   "cell_type": "code",
   "execution_count": 26,
   "id": "138e739f",
   "metadata": {},
   "outputs": [
    {
     "name": "stdout",
     "output_type": "stream",
     "text": [
      "<class 'pandas.core.frame.DataFrame'>\n",
      "Int64Index: 29811 entries, 11656 to 17132\n",
      "Data columns (total 32 columns):\n",
      " #   Column                  Non-Null Count  Dtype  \n",
      "---  ------                  --------------  -----  \n",
      " 0   x                       29811 non-null  float64\n",
      " 1   y                       29811 non-null  float64\n",
      " 2   z                       29811 non-null  float64\n",
      " 3   depth                   29811 non-null  float64\n",
      " 4   table                   29811 non-null  float64\n",
      " 5   carat                   29811 non-null  float64\n",
      " 6   cut_encoding            29811 non-null  float64\n",
      " 7   color_encoding          29811 non-null  float64\n",
      " 8   clarity_encoding        29811 non-null  float64\n",
      " 9   cut_encoding_std        29811 non-null  float64\n",
      " 10  color_encoding_std      29811 non-null  float64\n",
      " 11  clarity_encoding_std    29811 non-null  float64\n",
      " 12  cut_color_encoding      29811 non-null  float64\n",
      " 13  cut_clarity_encoding    29811 non-null  float64\n",
      " 14  color_clarity_encoding  29811 non-null  float64\n",
      " 15  cut_Good                29811 non-null  uint8  \n",
      " 16  cut_Ideal               29811 non-null  uint8  \n",
      " 17  cut_Premium             29811 non-null  uint8  \n",
      " 18  cut_Very Good           29811 non-null  uint8  \n",
      " 19  color_E                 29811 non-null  uint8  \n",
      " 20  color_F                 29811 non-null  uint8  \n",
      " 21  color_G                 29811 non-null  uint8  \n",
      " 22  color_H                 29811 non-null  uint8  \n",
      " 23  color_I                 29811 non-null  uint8  \n",
      " 24  color_J                 29811 non-null  uint8  \n",
      " 25  clarity_IF              29811 non-null  uint8  \n",
      " 26  clarity_SI1             29811 non-null  uint8  \n",
      " 27  clarity_SI2             29811 non-null  uint8  \n",
      " 28  clarity_VS1             29811 non-null  uint8  \n",
      " 29  clarity_VS2             29811 non-null  uint8  \n",
      " 30  clarity_VVS1            29811 non-null  uint8  \n",
      " 31  clarity_VVS2            29811 non-null  uint8  \n",
      "dtypes: float64(15), uint8(17)\n",
      "memory usage: 4.1 MB\n"
     ]
    }
   ],
   "source": [
    "X_train.info()"
   ]
  },
  {
   "cell_type": "markdown",
   "id": "f55054fc",
   "metadata": {},
   "source": [
    "## 4. Data preparation (test set)"
   ]
  },
  {
   "cell_type": "markdown",
   "id": "457ec3db",
   "metadata": {},
   "source": [
    "## 5. Feature engineering (test set) "
   ]
  },
  {
   "cell_type": "code",
   "execution_count": 27,
   "id": "0c218bfd",
   "metadata": {},
   "outputs": [],
   "source": [
    "# 0. Adapting categorical features for validation model\n",
    "X_test=df_diamonds_test[features_list]"
   ]
  },
  {
   "cell_type": "markdown",
   "id": "3dfa806d",
   "metadata": {},
   "source": [
    "### 5.1 Target encoding (mean and std)"
   ]
  },
  {
   "cell_type": "code",
   "execution_count": 28,
   "id": "4337b985",
   "metadata": {},
   "outputs": [],
   "source": [
    "# 1.Target encoding for categorical variables\n",
    "# Mean\n",
    "cut_encoding = df_diamonds_train.groupby(['cut'])['price'].mean().to_dict()\n",
    "X_test['cut_encoding'] = X_test['cut'].map(cut_encoding).astype(float)\n",
    "color_encoding = df_diamonds_train.groupby(['color'])['price'].mean().to_dict()\n",
    "X_test['color_encoding'] = X_test['color'].map(color_encoding).astype(float)\n",
    "clarity_encoding = df_diamonds_train.groupby(['clarity'])['price'].mean().to_dict()\n",
    "X_test['clarity_encoding'] = X_test['clarity'].map(clarity_encoding).astype(float)\n",
    "# Std\n",
    "cut_encoding_std = df_diamonds_train.groupby(['cut'])['price'].std().to_dict()\n",
    "X_test['cut_encoding_std'] = X_test['cut'].map(cut_encoding_std).astype(float)\n",
    "color_encoding_std = df_diamonds_train.groupby(['color'])['price'].std().to_dict()\n",
    "X_test['color_encoding_std'] = X_test['color'].map(color_encoding_std).astype(float)\n",
    "clarity_encoding_std = df_diamonds_train.groupby(['clarity'])['price'].std().to_dict()\n",
    "X_test['clarity_encoding_std'] = X_test['clarity'].map(clarity_encoding_std).astype(float)"
   ]
  },
  {
   "cell_type": "markdown",
   "id": "622aa47d",
   "metadata": {},
   "source": [
    "### 5.2 Including volume"
   ]
  },
  {
   "cell_type": "code",
   "execution_count": 29,
   "id": "b15ba8d1",
   "metadata": {},
   "outputs": [],
   "source": [
    "#X_test['volume']=X_test['x']*X_test['y']*X_test['z']"
   ]
  },
  {
   "cell_type": "markdown",
   "id": "ea54c608",
   "metadata": {},
   "source": [
    "### 5.3 Cross Target encoding (mean and std)"
   ]
  },
  {
   "cell_type": "code",
   "execution_count": 30,
   "id": "54db05a1",
   "metadata": {},
   "outputs": [],
   "source": [
    "# 2. Cross target encoding\n",
    "# Mean\n",
    "cut_color_encoding = df_diamonds_train.groupby(['cut','color'])['price'].mean().to_dict()\n",
    "X_test['cut_color_encoding'] = X_test.set_index(['cut','color']).index.map(cut_color_encoding.get).astype(float)\n",
    "cut_clarity_encoding = df_diamonds_train.groupby(['cut','clarity'])['price'].mean().to_dict()\n",
    "X_test['cut_clarity_encoding'] = X_test.set_index(['cut','clarity']).index.map(cut_clarity_encoding.get).astype(float)\n",
    "color_clarity_encoding = df_diamonds_train.groupby(['color','clarity'])['price'].mean().to_dict()\n",
    "X_test['color_clarity_encoding'] = X_test.set_index(['color','clarity']).index.map(color_clarity_encoding.get).astype(float)\n",
    "\n",
    "# Std  \n",
    "#cut_color_encoding_std = df_diamonds_train.groupby(['cut','color'])['price'].std().to_dict()\n",
    "#X_test['cut_color_encoding_std'] = X_test.set_index(['cut','color']).index.map(cut_color_encoding_std.get).astype(float)\n",
    "#cut_clarity_encoding_std = df_diamonds_train.groupby(['cut','clarity'])['price'].std().to_dict()\n",
    "#X_test['cut_clarity_encoding_std'] = X_test.set_index(['cut','clarity']).index.map(cut_clarity_encoding_std.get).astype(float)\n",
    "#color_clarity_encoding_std = df_diamonds_train.groupby(['color','clarity'])['price'].std().to_dict()\n",
    "#X_test['color_clarity_encoding_std'] = X_test.set_index(['color','clarity']).index.map(color_clarity_encoding_std.get).astype(float)"
   ]
  },
  {
   "cell_type": "markdown",
   "id": "7fba5f21",
   "metadata": {},
   "source": [
    "### 5.4 Feature Scaling"
   ]
  },
  {
   "cell_type": "code",
   "execution_count": 31,
   "id": "f061e4c9",
   "metadata": {},
   "outputs": [],
   "source": [
    "#X_test_num=X_test[num_features_list]\n",
    "#X_test_carat=X_test[cat_features_list]"
   ]
  },
  {
   "cell_type": "code",
   "execution_count": 32,
   "id": "5d1e81ba",
   "metadata": {},
   "outputs": [],
   "source": [
    "# Perform the feature scaling on the numeric attributes of the dataset\n",
    "#num_scaler = StandardScaler()\n",
    "#X_test_num_scaled = num_scaler.fit_transform(X_test_num)\n",
    "#X_test_num_scaled=pd.DataFrame(X_test_num_scaled)\n",
    "#X_test_num_scaled.rename(columns = {0:'x', 1:'y', 2:'z', 3:'depth', 4:'table', 5:'carat'}, \n",
    "#                           inplace = True)\n",
    "#X_test_num_scaled.head()"
   ]
  },
  {
   "cell_type": "code",
   "execution_count": 33,
   "id": "a4e785fb",
   "metadata": {},
   "outputs": [],
   "source": [
    "#X_test=pd.merge(X_test_num_scaled, X_test_carat, left_index=True, right_index=True)\n",
    "#X_test.head()"
   ]
  },
  {
   "cell_type": "markdown",
   "id": "7887d396",
   "metadata": {},
   "source": [
    "### 5.5 One hot encoding"
   ]
  },
  {
   "cell_type": "code",
   "execution_count": 34,
   "id": "a2720031",
   "metadata": {},
   "outputs": [],
   "source": [
    "# 3. One-hot encoding for categorical variables\n",
    "X_test=pd.get_dummies(X_test,columns=cat_features_list,drop_first=True)"
   ]
  },
  {
   "cell_type": "code",
   "execution_count": 35,
   "id": "74753be9",
   "metadata": {},
   "outputs": [
    {
     "data": {
      "text/plain": [
       "(13485, 32)"
      ]
     },
     "execution_count": 35,
     "metadata": {},
     "output_type": "execute_result"
    }
   ],
   "source": [
    "X_test.shape"
   ]
  },
  {
   "cell_type": "code",
   "execution_count": 36,
   "id": "f3def3b0",
   "metadata": {},
   "outputs": [
    {
     "name": "stdout",
     "output_type": "stream",
     "text": [
      "<class 'pandas.core.frame.DataFrame'>\n",
      "RangeIndex: 13485 entries, 0 to 13484\n",
      "Data columns (total 32 columns):\n",
      " #   Column                  Non-Null Count  Dtype  \n",
      "---  ------                  --------------  -----  \n",
      " 0   x                       13485 non-null  float64\n",
      " 1   y                       13485 non-null  float64\n",
      " 2   z                       13485 non-null  float64\n",
      " 3   depth                   13485 non-null  float64\n",
      " 4   table                   13485 non-null  float64\n",
      " 5   carat                   13485 non-null  float64\n",
      " 6   cut_encoding            13485 non-null  float64\n",
      " 7   color_encoding          13485 non-null  float64\n",
      " 8   clarity_encoding        13485 non-null  float64\n",
      " 9   cut_encoding_std        13485 non-null  float64\n",
      " 10  color_encoding_std      13485 non-null  float64\n",
      " 11  clarity_encoding_std    13485 non-null  float64\n",
      " 12  cut_color_encoding      13485 non-null  float64\n",
      " 13  cut_clarity_encoding    13485 non-null  float64\n",
      " 14  color_clarity_encoding  13485 non-null  float64\n",
      " 15  cut_Good                13485 non-null  uint8  \n",
      " 16  cut_Ideal               13485 non-null  uint8  \n",
      " 17  cut_Premium             13485 non-null  uint8  \n",
      " 18  cut_Very Good           13485 non-null  uint8  \n",
      " 19  color_E                 13485 non-null  uint8  \n",
      " 20  color_F                 13485 non-null  uint8  \n",
      " 21  color_G                 13485 non-null  uint8  \n",
      " 22  color_H                 13485 non-null  uint8  \n",
      " 23  color_I                 13485 non-null  uint8  \n",
      " 24  color_J                 13485 non-null  uint8  \n",
      " 25  clarity_IF              13485 non-null  uint8  \n",
      " 26  clarity_SI1             13485 non-null  uint8  \n",
      " 27  clarity_SI2             13485 non-null  uint8  \n",
      " 28  clarity_VS1             13485 non-null  uint8  \n",
      " 29  clarity_VS2             13485 non-null  uint8  \n",
      " 30  clarity_VVS1            13485 non-null  uint8  \n",
      " 31  clarity_VVS2            13485 non-null  uint8  \n",
      "dtypes: float64(15), uint8(17)\n",
      "memory usage: 1.8 MB\n"
     ]
    }
   ],
   "source": [
    "X_test.info()"
   ]
  },
  {
   "cell_type": "markdown",
   "id": "ac016dca",
   "metadata": {},
   "source": [
    "## Model definition - RandomForestRegressor - with Random Hyperparameter Grid"
   ]
  },
  {
   "cell_type": "markdown",
   "id": "59fae7c9",
   "metadata": {},
   "source": [
    "RandomForestRegressor: multiple trees in paralel changing samples and convining diferrent features (overfitting when the tree is big and good to reduce error variance)"
   ]
  },
  {
   "cell_type": "markdown",
   "id": "422fc6f8",
   "metadata": {},
   "source": [
    "Main Parameters:\n",
    "   - bootstrap -> method for sampling data points (TRUE bagging and FALSE pasting, with/without replacement)\n",
    "   - n_estimators -> number of trees in the foreset\n",
    "   - max_depth -> max number of levels in each decision tree\n",
    "   - max_features -> max number of features considered for splitting a node\n",
    "   - ccp_alpha ->\n",
    "   - criterion ->\n",
    "   - max_leaf_nodes -> max number of solution nodes \n",
    "   - max_samples ->\n",
    "   - min_impurity_decrease ->\n",
    "   - min_samples_leaf -> min number of data points allowed in a leaf node\n",
    "   - min_samples_split -> min number of data points placed in a node before the node is split\n",
    "   - min_weight_fraction_leaf\n",
    "   - n_estimators -> number of trees in the foreset\n",
    "   - n_jobs \n",
    "   - oob_score \n",
    "   - random_state\n",
    "   - verbose\n",
    "   - warm_start   "
   ]
  },
  {
   "cell_type": "code",
   "execution_count": 37,
   "id": "920cfbcc",
   "metadata": {},
   "outputs": [],
   "source": [
    "# 0. Random Hyperparameter Grid - Grid definition\n",
    "\n",
    "#n_estimators = [int(x) for x in np.linspace(start = 200, stop = 2000, num = 10)] # Number of trees in random forest\n",
    "#max_features = ['auto', 'sqrt'] # Number of features to consider at every split\n",
    "#max_depth = [int(x) for x in np.linspace(10, 110, num = 11)] # Maximum number of levels in tree\n",
    "#max_depth.append(None)\n",
    "#min_samples_split = [2, 5, 10] # Minimum number of samples required to split a node\n",
    "#min_samples_leaf = [1, 2, 4] # Minimum number of samples required at each leaf node\n",
    "#bootstrap = [True, False] # Method of selecting samples for training each tree\n",
    "\n",
    "# Create the random grid\n",
    "#random_grid = {'n_estimators': n_estimators,\n",
    "#               'max_features': max_features,\n",
    "#               'max_depth': max_depth,\n",
    "#               'min_samples_split': min_samples_split,\n",
    "#               'min_samples_leaf': min_samples_leaf,\n",
    "#               'bootstrap': bootstrap}\n",
    "#print(random_grid)"
   ]
  },
  {
   "cell_type": "code",
   "execution_count": 38,
   "id": "53ebb610",
   "metadata": {},
   "outputs": [],
   "source": [
    "#%%time\n",
    "#1. Random Hyperparameter Grid - Use the random grid to search for best hyperparameters\n",
    "\n",
    "# First create the base model to tune\n",
    "#rf = RandomForestRegressor()\n",
    "# Random search of parameters, using 3 fold cross validation, \n",
    "#search across 100 different combinations, and use all available cores\n",
    "#rf_random = RandomizedSearchCV(estimator = rf, param_distributions = random_grid, n_iter = 100,\n",
    "#                               cv = 3, verbose=2, random_state=42, n_jobs = -1)\n",
    "# Fit the random search model\n",
    "#rf_random.fit([(X_train,y_train),(X_val,y_val)])"
   ]
  },
  {
   "cell_type": "code",
   "execution_count": 39,
   "id": "15d068fa",
   "metadata": {},
   "outputs": [],
   "source": [
    "#rf_random.best_params_"
   ]
  },
  {
   "cell_type": "code",
   "execution_count": 40,
   "id": "cb8c32dd",
   "metadata": {},
   "outputs": [],
   "source": [
    "#best_params={'n_estimators': 1600,\n",
    "# 'min_samples_split': 5,\n",
    "# 'min_samples_leaf': 1,\n",
    "# 'max_features': 'auto',\n",
    "# 'max_depth': 90,\n",
    "# 'bootstrap': True}\n",
    "\n",
    "#(n_estimators=100,min_samples_split=5,min_samples_leaf=1,\n",
    "#                              max_features='auto',max_depth=10,bootstrap=True)\n",
    "\n",
    "#n_estimators=100,min_samples_split=5,min_samples_leaf=1,\n",
    "#                              max_features='auto',max_depth=40,bootstrap=True"
   ]
  },
  {
   "cell_type": "code",
   "execution_count": 41,
   "id": "8c90f8b4",
   "metadata": {},
   "outputs": [],
   "source": [
    "# 2. RandomForestRegressor definition\n",
    "model = RandomForestRegressor(n_estimators=500,min_samples_split=5,min_samples_leaf=1,\n",
    "                              max_features='auto',max_depth=10,bootstrap=True, random_state=42)"
   ]
  },
  {
   "cell_type": "code",
   "execution_count": 42,
   "id": "19387912",
   "metadata": {},
   "outputs": [],
   "source": [
    "#Importance\n",
    "#feats = {} # a dict to hold feature_name: feature_importance\n",
    "#for feature, importance in zip(X_train.columns, model.feature_importances_):\n",
    "#    feats[feature] = importance #add the name/value pair "
   ]
  },
  {
   "cell_type": "code",
   "execution_count": 43,
   "id": "82e864fc",
   "metadata": {},
   "outputs": [],
   "source": [
    "#Importance=pd.DataFrame(list(feats.items()),columns = ['feature','importance']).sort_values('importance',ascending=False)"
   ]
  },
  {
   "cell_type": "code",
   "execution_count": 44,
   "id": "13f46afa",
   "metadata": {},
   "outputs": [
    {
     "name": "stdout",
     "output_type": "stream",
     "text": [
      "<class 'xgboost.sklearn.XGBRegressor'> \n",
      "\n",
      "Model hyperparameters: {'objective': 'reg:squarederror', 'base_score': None, 'booster': None, 'colsample_bylevel': 1, 'colsample_bynode': 1, 'colsample_bytree': 0.8, 'enable_categorical': False, 'gamma': 0, 'gpu_id': None, 'importance_type': None, 'interaction_constraints': None, 'learning_rate': 0.1, 'max_delta_step': None, 'max_depth': None, 'min_child_weight': None, 'missing': nan, 'monotone_constraints': None, 'n_estimators': 200, 'n_jobs': None, 'num_parallel_tree': None, 'predictor': None, 'random_state': 42, 'reg_alpha': 1, 'reg_lambda': 1, 'scale_pos_weight': None, 'subsample': None, 'tree_method': None, 'validate_parameters': None, 'verbosity': None} \n",
      "\n"
     ]
    }
   ],
   "source": [
    "# 1. XGBRegressor \n",
    "model = XGBRegressor(n_estimators=200,colsample_bylevel=1,colsample_bynode=1,\n",
    "                     colsample_bytree=0.8,reg_alpha=1, reg_lambda=1,gamma=0,learning_rate=0.1, random_state=42)\n",
    "hyperparameters = model.get_params()\n",
    "print(type(model), '\\n')\n",
    "print('Model hyperparameters:', hyperparameters, '\\n')\n",
    "#n_estimators=200,colsample_bylevel=1,colsample_bynode=1,\n",
    "#                     colsample_bytree=0.8,reg_alpha=1, reg_lambda=1,gamma=0,learning_rate=0.1, random_state=42"
   ]
  },
  {
   "cell_type": "code",
   "execution_count": 45,
   "id": "a4bb2a61",
   "metadata": {},
   "outputs": [],
   "source": [
    "#model = KNeighborsRegressor(algorithm='auto', leaf_size=30, metric='minkowski',\n",
    "#                    metric_params=None, n_jobs=None, n_neighbors=4, p=2,\n",
    "#                    weights='uniform')"
   ]
  },
  {
   "cell_type": "markdown",
   "id": "1aaf37b1",
   "metadata": {},
   "source": [
    "## Model training with validation"
   ]
  },
  {
   "cell_type": "code",
   "execution_count": 46,
   "id": "b0ec0a25",
   "metadata": {},
   "outputs": [
    {
     "data": {
      "text/plain": [
       "XGBRegressor(base_score=0.5, booster='gbtree', colsample_bylevel=1,\n",
       "             colsample_bynode=1, colsample_bytree=0.8, enable_categorical=False,\n",
       "             gamma=0, gpu_id=-1, importance_type=None,\n",
       "             interaction_constraints='', learning_rate=0.1, max_delta_step=0,\n",
       "             max_depth=6, min_child_weight=1, missing=nan,\n",
       "             monotone_constraints='()', n_estimators=200, n_jobs=8,\n",
       "             num_parallel_tree=1, predictor='auto', random_state=42,\n",
       "             reg_alpha=1, reg_lambda=1, scale_pos_weight=1, subsample=1,\n",
       "             tree_method='exact', validate_parameters=1, verbosity=None)"
      ]
     },
     "execution_count": 46,
     "metadata": {},
     "output_type": "execute_result"
    }
   ],
   "source": [
    "model.fit(X_train, y_train)"
   ]
  },
  {
   "cell_type": "code",
   "execution_count": 47,
   "id": "6f3e3373",
   "metadata": {},
   "outputs": [
    {
     "name": "stdout",
     "output_type": "stream",
     "text": [
      "[0]\tvalidation_0-rmse:4596.78125\tvalidation_1-rmse:4444.73779\n",
      "[1]\tvalidation_0-rmse:4154.49609\tvalidation_1-rmse:4015.98608\n",
      "[2]\tvalidation_0-rmse:3755.30322\tvalidation_1-rmse:3629.67700\n",
      "[3]\tvalidation_0-rmse:3397.01367\tvalidation_1-rmse:3282.51172\n",
      "[4]\tvalidation_0-rmse:3074.68042\tvalidation_1-rmse:2971.11914\n",
      "[5]\tvalidation_0-rmse:2782.96704\tvalidation_1-rmse:2686.63623\n",
      "[6]\tvalidation_0-rmse:2521.97266\tvalidation_1-rmse:2432.28271\n",
      "[7]\tvalidation_0-rmse:2289.06226\tvalidation_1-rmse:2207.06519\n",
      "[8]\tvalidation_0-rmse:2079.49585\tvalidation_1-rmse:2004.06787\n",
      "[9]\tvalidation_0-rmse:1891.00256\tvalidation_1-rmse:1820.07593\n",
      "[10]\tvalidation_0-rmse:1720.88977\tvalidation_1-rmse:1655.27881\n",
      "[11]\tvalidation_0-rmse:1570.47131\tvalidation_1-rmse:1509.14490\n",
      "[12]\tvalidation_0-rmse:1436.91235\tvalidation_1-rmse:1379.96509\n",
      "[13]\tvalidation_0-rmse:1314.11987\tvalidation_1-rmse:1260.73547\n",
      "[14]\tvalidation_0-rmse:1207.24341\tvalidation_1-rmse:1158.12659\n",
      "[15]\tvalidation_0-rmse:1110.01904\tvalidation_1-rmse:1064.58887\n",
      "[16]\tvalidation_0-rmse:1023.74121\tvalidation_1-rmse:981.59131\n",
      "[17]\tvalidation_0-rmse:947.83728\tvalidation_1-rmse:909.43842\n",
      "[18]\tvalidation_0-rmse:880.53760\tvalidation_1-rmse:844.18957\n",
      "[19]\tvalidation_0-rmse:820.71411\tvalidation_1-rmse:787.61481\n",
      "[20]\tvalidation_0-rmse:768.62128\tvalidation_1-rmse:738.14001\n",
      "[21]\tvalidation_0-rmse:723.56982\tvalidation_1-rmse:695.54663\n",
      "[22]\tvalidation_0-rmse:684.41693\tvalidation_1-rmse:660.33087\n",
      "[23]\tvalidation_0-rmse:649.02387\tvalidation_1-rmse:627.90185\n",
      "[24]\tvalidation_0-rmse:617.52014\tvalidation_1-rmse:598.81628\n",
      "[25]\tvalidation_0-rmse:590.61041\tvalidation_1-rmse:575.07159\n",
      "[26]\tvalidation_0-rmse:567.54755\tvalidation_1-rmse:554.85645\n",
      "[27]\tvalidation_0-rmse:547.74451\tvalidation_1-rmse:537.42316\n",
      "[28]\tvalidation_0-rmse:530.15015\tvalidation_1-rmse:522.73199\n",
      "[29]\tvalidation_0-rmse:515.40741\tvalidation_1-rmse:510.76685\n",
      "[30]\tvalidation_0-rmse:502.44617\tvalidation_1-rmse:500.18875\n",
      "[31]\tvalidation_0-rmse:491.23498\tvalidation_1-rmse:491.01267\n",
      "[32]\tvalidation_0-rmse:480.97064\tvalidation_1-rmse:482.50931\n",
      "[33]\tvalidation_0-rmse:472.25186\tvalidation_1-rmse:475.52063\n",
      "[34]\tvalidation_0-rmse:464.63803\tvalidation_1-rmse:470.04236\n",
      "[35]\tvalidation_0-rmse:458.20599\tvalidation_1-rmse:465.82819\n",
      "[36]\tvalidation_0-rmse:452.65384\tvalidation_1-rmse:461.84116\n",
      "[37]\tvalidation_0-rmse:447.51898\tvalidation_1-rmse:458.39090\n",
      "[38]\tvalidation_0-rmse:442.89481\tvalidation_1-rmse:455.50537\n",
      "[39]\tvalidation_0-rmse:439.21991\tvalidation_1-rmse:453.35944\n",
      "[40]\tvalidation_0-rmse:435.22119\tvalidation_1-rmse:451.05786\n",
      "[41]\tvalidation_0-rmse:432.05371\tvalidation_1-rmse:449.51831\n",
      "[42]\tvalidation_0-rmse:428.92517\tvalidation_1-rmse:447.49606\n",
      "[43]\tvalidation_0-rmse:426.50348\tvalidation_1-rmse:446.21539\n",
      "[44]\tvalidation_0-rmse:424.22159\tvalidation_1-rmse:445.24646\n",
      "[45]\tvalidation_0-rmse:421.99860\tvalidation_1-rmse:444.43549\n",
      "[46]\tvalidation_0-rmse:420.61768\tvalidation_1-rmse:443.81986\n",
      "[47]\tvalidation_0-rmse:418.87946\tvalidation_1-rmse:443.33020\n",
      "[48]\tvalidation_0-rmse:416.91092\tvalidation_1-rmse:442.68256\n",
      "[49]\tvalidation_0-rmse:415.30591\tvalidation_1-rmse:442.43280\n",
      "[50]\tvalidation_0-rmse:413.60001\tvalidation_1-rmse:441.67990\n",
      "[51]\tvalidation_0-rmse:412.38666\tvalidation_1-rmse:440.94107\n",
      "[52]\tvalidation_0-rmse:411.17856\tvalidation_1-rmse:440.77862\n",
      "[53]\tvalidation_0-rmse:409.89270\tvalidation_1-rmse:440.32785\n",
      "[54]\tvalidation_0-rmse:408.58142\tvalidation_1-rmse:439.99863\n",
      "[55]\tvalidation_0-rmse:407.47125\tvalidation_1-rmse:439.54620\n",
      "[56]\tvalidation_0-rmse:406.41263\tvalidation_1-rmse:439.31009\n",
      "[57]\tvalidation_0-rmse:405.45538\tvalidation_1-rmse:438.77609\n",
      "[58]\tvalidation_0-rmse:404.33643\tvalidation_1-rmse:438.40939\n",
      "[59]\tvalidation_0-rmse:402.98578\tvalidation_1-rmse:438.40540\n",
      "[60]\tvalidation_0-rmse:401.68601\tvalidation_1-rmse:438.16263\n",
      "[61]\tvalidation_0-rmse:400.93189\tvalidation_1-rmse:438.18472\n",
      "[62]\tvalidation_0-rmse:399.87897\tvalidation_1-rmse:438.15418\n",
      "[63]\tvalidation_0-rmse:398.77469\tvalidation_1-rmse:437.83069\n",
      "[64]\tvalidation_0-rmse:397.78006\tvalidation_1-rmse:437.47742\n",
      "[65]\tvalidation_0-rmse:396.90610\tvalidation_1-rmse:437.32166\n",
      "[66]\tvalidation_0-rmse:395.79904\tvalidation_1-rmse:437.40405\n",
      "[67]\tvalidation_0-rmse:395.09366\tvalidation_1-rmse:437.29041\n",
      "[68]\tvalidation_0-rmse:393.53613\tvalidation_1-rmse:437.03510\n",
      "[69]\tvalidation_0-rmse:392.90213\tvalidation_1-rmse:436.91190\n",
      "[70]\tvalidation_0-rmse:392.30371\tvalidation_1-rmse:436.93030\n",
      "[71]\tvalidation_0-rmse:391.57947\tvalidation_1-rmse:436.48892\n",
      "[72]\tvalidation_0-rmse:390.77023\tvalidation_1-rmse:436.64652\n",
      "[73]\tvalidation_0-rmse:390.26935\tvalidation_1-rmse:436.44101\n",
      "[74]\tvalidation_0-rmse:389.25137\tvalidation_1-rmse:436.05878\n",
      "[75]\tvalidation_0-rmse:388.75385\tvalidation_1-rmse:435.95834\n",
      "[76]\tvalidation_0-rmse:387.68014\tvalidation_1-rmse:436.24283\n",
      "[77]\tvalidation_0-rmse:387.01862\tvalidation_1-rmse:436.18921\n",
      "[78]\tvalidation_0-rmse:385.69556\tvalidation_1-rmse:435.82968\n",
      "[79]\tvalidation_0-rmse:384.78937\tvalidation_1-rmse:435.85001\n",
      "[80]\tvalidation_0-rmse:384.08044\tvalidation_1-rmse:435.90494\n",
      "[81]\tvalidation_0-rmse:382.65317\tvalidation_1-rmse:435.67377\n",
      "[82]\tvalidation_0-rmse:382.24838\tvalidation_1-rmse:435.36270\n",
      "[83]\tvalidation_0-rmse:381.69919\tvalidation_1-rmse:435.35809\n",
      "[84]\tvalidation_0-rmse:381.27637\tvalidation_1-rmse:435.22073\n",
      "[85]\tvalidation_0-rmse:380.14462\tvalidation_1-rmse:435.03213\n",
      "[86]\tvalidation_0-rmse:379.33575\tvalidation_1-rmse:434.96057\n",
      "[87]\tvalidation_0-rmse:378.54227\tvalidation_1-rmse:435.10483\n",
      "[88]\tvalidation_0-rmse:378.33517\tvalidation_1-rmse:434.93408\n",
      "[89]\tvalidation_0-rmse:377.83557\tvalidation_1-rmse:435.07388\n",
      "[90]\tvalidation_0-rmse:377.55347\tvalidation_1-rmse:435.07425\n",
      "[91]\tvalidation_0-rmse:377.36258\tvalidation_1-rmse:434.94434\n",
      "[92]\tvalidation_0-rmse:376.06244\tvalidation_1-rmse:434.84601\n",
      "[93]\tvalidation_0-rmse:375.62073\tvalidation_1-rmse:434.62521\n",
      "[94]\tvalidation_0-rmse:375.18994\tvalidation_1-rmse:434.48090\n",
      "[95]\tvalidation_0-rmse:374.44794\tvalidation_1-rmse:434.49286\n",
      "[96]\tvalidation_0-rmse:373.57220\tvalidation_1-rmse:434.55893\n",
      "[97]\tvalidation_0-rmse:373.35565\tvalidation_1-rmse:434.64517\n",
      "[98]\tvalidation_0-rmse:372.22565\tvalidation_1-rmse:434.92239\n",
      "[99]\tvalidation_0-rmse:371.67129\tvalidation_1-rmse:434.96726\n",
      "[100]\tvalidation_0-rmse:370.74829\tvalidation_1-rmse:434.95160\n",
      "[101]\tvalidation_0-rmse:369.67593\tvalidation_1-rmse:435.00067\n",
      "[102]\tvalidation_0-rmse:368.95465\tvalidation_1-rmse:434.89172\n",
      "[103]\tvalidation_0-rmse:368.72379\tvalidation_1-rmse:435.00165\n",
      "CPU times: user 11.6 s, sys: 502 ms, total: 12.1 s\n",
      "Wall time: 2.16 s\n"
     ]
    },
    {
     "data": {
      "text/plain": [
       "XGBRegressor(base_score=0.5, booster='gbtree', colsample_bylevel=1,\n",
       "             colsample_bynode=1, colsample_bytree=0.8, enable_categorical=False,\n",
       "             gamma=0, gpu_id=-1, importance_type=None,\n",
       "             interaction_constraints='', learning_rate=0.1, max_delta_step=0,\n",
       "             max_depth=6, min_child_weight=1, missing=nan,\n",
       "             monotone_constraints='()', n_estimators=200, n_jobs=8,\n",
       "             num_parallel_tree=1, predictor='auto', random_state=42,\n",
       "             reg_alpha=1, reg_lambda=1, scale_pos_weight=1, subsample=1,\n",
       "             tree_method='exact', validate_parameters=1, verbosity=None)"
      ]
     },
     "execution_count": 47,
     "metadata": {},
     "output_type": "execute_result"
    }
   ],
   "source": [
    "%%time\n",
    "# 1. XGBRegressor early_stopping_rounds=40\n",
    "# Model training\n",
    "model.fit(X_train, y_train,eval_set=[(X_train,y_train),(X_val,y_val)],early_stopping_rounds=10)"
   ]
  },
  {
   "cell_type": "code",
   "execution_count": 51,
   "id": "114ebca5",
   "metadata": {},
   "outputs": [
    {
     "name": "stdout",
     "output_type": "stream",
     "text": [
      "CPU times: user 45.9 ms, sys: 3.51 ms, total: 49.4 ms\n",
      "Wall time: 10.7 ms\n"
     ]
    }
   ],
   "source": [
    "%%time\n",
    "# Model predictions\n",
    "y_pred_val = model.predict(X_val)"
   ]
  },
  {
   "cell_type": "code",
   "execution_count": 52,
   "id": "653dbd7f",
   "metadata": {},
   "outputs": [
    {
     "name": "stdout",
     "output_type": "stream",
     "text": [
      "CPU times: user 157 ms, sys: 4.78 ms, total: 161 ms\n",
      "Wall time: 31.8 ms\n"
     ]
    }
   ],
   "source": [
    "%%time\n",
    "# Model predictions\n",
    "y_pred_train = model.predict(X_train)"
   ]
  },
  {
   "cell_type": "markdown",
   "id": "9d6b94a3",
   "metadata": {},
   "source": [
    "## Training set error"
   ]
  },
  {
   "cell_type": "code",
   "execution_count": 53,
   "id": "a88fcb5b",
   "metadata": {},
   "outputs": [
    {
     "data": {
      "text/plain": [
       "375.19003898544906"
      ]
     },
     "execution_count": 53,
     "metadata": {},
     "output_type": "execute_result"
    }
   ],
   "source": [
    "# Model predictions\n",
    "rmse_train = mean_squared_error(y_train, y_pred_train)**0.5\n",
    "rmse_train"
   ]
  },
  {
   "cell_type": "code",
   "execution_count": 54,
   "id": "cb7a3f86",
   "metadata": {},
   "outputs": [
    {
     "data": {
      "text/plain": [
       "213.54753637593763"
      ]
     },
     "execution_count": 54,
     "metadata": {},
     "output_type": "execute_result"
    }
   ],
   "source": [
    "mae_train=mean_absolute_error(y_train, y_pred_train)\n",
    "mae_train"
   ]
  },
  {
   "cell_type": "code",
   "execution_count": 55,
   "id": "d1b6a927",
   "metadata": {},
   "outputs": [
    {
     "data": {
      "text/plain": [
       "0.9842300177530219"
      ]
     },
     "execution_count": 55,
     "metadata": {},
     "output_type": "execute_result"
    }
   ],
   "source": [
    "r2r = r2_score(y_val, y_pred_val)\n",
    "r2r"
   ]
  },
  {
   "cell_type": "markdown",
   "id": "2bfd4334",
   "metadata": {},
   "source": [
    "## Model validation"
   ]
  },
  {
   "cell_type": "code",
   "execution_count": 56,
   "id": "589c945e",
   "metadata": {},
   "outputs": [
    {
     "data": {
      "text/plain": [
       "434.48087014011406"
      ]
     },
     "execution_count": 56,
     "metadata": {},
     "output_type": "execute_result"
    }
   ],
   "source": [
    "#432\n",
    "rmse_val = mean_squared_error(y_val, y_pred_val)**0.5\n",
    "rmse_val"
   ]
  },
  {
   "cell_type": "code",
   "execution_count": 57,
   "id": "2cc1fbe1",
   "metadata": {},
   "outputs": [
    {
     "data": {
      "text/plain": [
       "234.71701912961197"
      ]
     },
     "execution_count": 57,
     "metadata": {},
     "output_type": "execute_result"
    }
   ],
   "source": [
    "mae_val=mean_absolute_error(y_val, y_pred_val)\n",
    "mae_val"
   ]
  },
  {
   "cell_type": "code",
   "execution_count": 58,
   "id": "e4b6f7bf",
   "metadata": {},
   "outputs": [
    {
     "data": {
      "text/plain": [
       "0.9842300177530219"
      ]
     },
     "execution_count": 58,
     "metadata": {},
     "output_type": "execute_result"
    }
   ],
   "source": [
    "r2r = r2_score(y_val, y_pred_val)\n",
    "r2r"
   ]
  },
  {
   "cell_type": "markdown",
   "id": "46e824c3",
   "metadata": {},
   "source": [
    "## Model training without validation"
   ]
  },
  {
   "cell_type": "code",
   "execution_count": 59,
   "id": "643a3878",
   "metadata": {},
   "outputs": [
    {
     "name": "stdout",
     "output_type": "stream",
     "text": [
      "[0]\tvalidation_0-rmse:4597.02295\tvalidation_1-rmse:4444.88477\n",
      "[1]\tvalidation_0-rmse:4154.59912\tvalidation_1-rmse:4016.24658\n",
      "[2]\tvalidation_0-rmse:3755.22803\tvalidation_1-rmse:3629.36987\n",
      "[3]\tvalidation_0-rmse:3396.84082\tvalidation_1-rmse:3281.95801\n",
      "[4]\tvalidation_0-rmse:3074.45190\tvalidation_1-rmse:2967.44580\n",
      "[5]\tvalidation_0-rmse:2782.80688\tvalidation_1-rmse:2683.27539\n",
      "[6]\tvalidation_0-rmse:2522.51831\tvalidation_1-rmse:2429.31885\n",
      "[7]\tvalidation_0-rmse:2289.94995\tvalidation_1-rmse:2204.10742\n",
      "[8]\tvalidation_0-rmse:2080.95093\tvalidation_1-rmse:2000.82190\n",
      "[9]\tvalidation_0-rmse:1893.23071\tvalidation_1-rmse:1818.09277\n",
      "[10]\tvalidation_0-rmse:1723.51709\tvalidation_1-rmse:1653.19983\n",
      "[11]\tvalidation_0-rmse:1573.46399\tvalidation_1-rmse:1507.18286\n",
      "[12]\tvalidation_0-rmse:1439.83728\tvalidation_1-rmse:1377.41663\n",
      "[13]\tvalidation_0-rmse:1317.27954\tvalidation_1-rmse:1258.04004\n",
      "[14]\tvalidation_0-rmse:1211.75708\tvalidation_1-rmse:1154.45898\n",
      "[15]\tvalidation_0-rmse:1114.75037\tvalidation_1-rmse:1060.32361\n",
      "[16]\tvalidation_0-rmse:1028.26550\tvalidation_1-rmse:975.53900\n",
      "[17]\tvalidation_0-rmse:952.26599\tvalidation_1-rmse:901.95184\n",
      "[18]\tvalidation_0-rmse:885.15857\tvalidation_1-rmse:837.51270\n",
      "[19]\tvalidation_0-rmse:825.61762\tvalidation_1-rmse:779.70563\n",
      "[20]\tvalidation_0-rmse:773.50006\tvalidation_1-rmse:729.52838\n",
      "[21]\tvalidation_0-rmse:728.40637\tvalidation_1-rmse:686.13965\n",
      "[22]\tvalidation_0-rmse:689.41962\tvalidation_1-rmse:648.76233\n",
      "[23]\tvalidation_0-rmse:654.70001\tvalidation_1-rmse:616.50861\n",
      "[24]\tvalidation_0-rmse:623.35681\tvalidation_1-rmse:586.73871\n",
      "[25]\tvalidation_0-rmse:596.18188\tvalidation_1-rmse:560.59344\n",
      "[26]\tvalidation_0-rmse:572.85413\tvalidation_1-rmse:538.46918\n",
      "[27]\tvalidation_0-rmse:553.47980\tvalidation_1-rmse:519.94165\n",
      "[28]\tvalidation_0-rmse:535.91376\tvalidation_1-rmse:503.66031\n",
      "[29]\tvalidation_0-rmse:521.47028\tvalidation_1-rmse:490.46637\n",
      "[30]\tvalidation_0-rmse:508.82730\tvalidation_1-rmse:479.20596\n",
      "[31]\tvalidation_0-rmse:497.20026\tvalidation_1-rmse:468.72961\n",
      "[32]\tvalidation_0-rmse:486.92862\tvalidation_1-rmse:459.19116\n",
      "[33]\tvalidation_0-rmse:478.24463\tvalidation_1-rmse:451.40619\n",
      "[34]\tvalidation_0-rmse:470.60605\tvalidation_1-rmse:444.61530\n",
      "[35]\tvalidation_0-rmse:464.42191\tvalidation_1-rmse:439.75092\n",
      "[36]\tvalidation_0-rmse:459.19107\tvalidation_1-rmse:435.24484\n",
      "[37]\tvalidation_0-rmse:454.30911\tvalidation_1-rmse:431.40353\n",
      "[38]\tvalidation_0-rmse:449.41571\tvalidation_1-rmse:427.68185\n",
      "[39]\tvalidation_0-rmse:445.43796\tvalidation_1-rmse:424.72147\n",
      "[40]\tvalidation_0-rmse:442.05902\tvalidation_1-rmse:421.95920\n",
      "[41]\tvalidation_0-rmse:438.80115\tvalidation_1-rmse:419.10971\n",
      "[42]\tvalidation_0-rmse:435.84226\tvalidation_1-rmse:416.61917\n",
      "[43]\tvalidation_0-rmse:433.44244\tvalidation_1-rmse:414.90329\n",
      "[44]\tvalidation_0-rmse:430.87070\tvalidation_1-rmse:412.45898\n",
      "[45]\tvalidation_0-rmse:428.46475\tvalidation_1-rmse:410.60098\n",
      "[46]\tvalidation_0-rmse:426.49216\tvalidation_1-rmse:408.92966\n",
      "[47]\tvalidation_0-rmse:424.93179\tvalidation_1-rmse:407.56168\n",
      "[48]\tvalidation_0-rmse:423.43066\tvalidation_1-rmse:406.32614\n",
      "[49]\tvalidation_0-rmse:421.78418\tvalidation_1-rmse:405.08374\n",
      "[50]\tvalidation_0-rmse:420.20950\tvalidation_1-rmse:403.65054\n",
      "[51]\tvalidation_0-rmse:418.91385\tvalidation_1-rmse:402.99298\n",
      "[52]\tvalidation_0-rmse:417.63132\tvalidation_1-rmse:402.00561\n",
      "[53]\tvalidation_0-rmse:416.61066\tvalidation_1-rmse:400.99142\n",
      "[54]\tvalidation_0-rmse:415.78677\tvalidation_1-rmse:400.27066\n",
      "[55]\tvalidation_0-rmse:414.90161\tvalidation_1-rmse:399.42929\n",
      "[56]\tvalidation_0-rmse:413.74704\tvalidation_1-rmse:397.92920\n",
      "[57]\tvalidation_0-rmse:412.52808\tvalidation_1-rmse:396.76877\n",
      "[58]\tvalidation_0-rmse:411.34067\tvalidation_1-rmse:395.49176\n",
      "[59]\tvalidation_0-rmse:410.38007\tvalidation_1-rmse:394.84549\n",
      "[60]\tvalidation_0-rmse:409.26883\tvalidation_1-rmse:393.91406\n",
      "[61]\tvalidation_0-rmse:408.37329\tvalidation_1-rmse:393.25839\n",
      "[62]\tvalidation_0-rmse:407.18384\tvalidation_1-rmse:392.44656\n",
      "[63]\tvalidation_0-rmse:406.48819\tvalidation_1-rmse:391.85742\n",
      "[64]\tvalidation_0-rmse:405.89883\tvalidation_1-rmse:391.33978\n",
      "[65]\tvalidation_0-rmse:404.98691\tvalidation_1-rmse:390.51489\n",
      "[66]\tvalidation_0-rmse:403.87979\tvalidation_1-rmse:389.20343\n",
      "[67]\tvalidation_0-rmse:403.35828\tvalidation_1-rmse:388.63458\n",
      "[68]\tvalidation_0-rmse:402.30225\tvalidation_1-rmse:388.03967\n",
      "[69]\tvalidation_0-rmse:401.61810\tvalidation_1-rmse:387.62134\n",
      "[70]\tvalidation_0-rmse:400.81369\tvalidation_1-rmse:387.00922\n",
      "[71]\tvalidation_0-rmse:400.02600\tvalidation_1-rmse:386.46906\n",
      "[72]\tvalidation_0-rmse:399.79376\tvalidation_1-rmse:386.33041\n",
      "[73]\tvalidation_0-rmse:398.98572\tvalidation_1-rmse:385.42764\n",
      "[74]\tvalidation_0-rmse:397.88922\tvalidation_1-rmse:384.73047\n",
      "[75]\tvalidation_0-rmse:396.45349\tvalidation_1-rmse:383.52911\n",
      "[76]\tvalidation_0-rmse:395.84174\tvalidation_1-rmse:383.17004\n",
      "[77]\tvalidation_0-rmse:395.40295\tvalidation_1-rmse:382.63803\n",
      "[78]\tvalidation_0-rmse:394.19760\tvalidation_1-rmse:381.72723\n",
      "[79]\tvalidation_0-rmse:393.41373\tvalidation_1-rmse:380.61075\n",
      "[80]\tvalidation_0-rmse:392.83160\tvalidation_1-rmse:380.10275\n",
      "[81]\tvalidation_0-rmse:391.83728\tvalidation_1-rmse:378.80850\n",
      "[82]\tvalidation_0-rmse:391.11554\tvalidation_1-rmse:378.19614\n",
      "[83]\tvalidation_0-rmse:390.24554\tvalidation_1-rmse:377.58835\n",
      "[84]\tvalidation_0-rmse:389.74933\tvalidation_1-rmse:376.82431\n",
      "[85]\tvalidation_0-rmse:389.44904\tvalidation_1-rmse:376.46231\n",
      "[86]\tvalidation_0-rmse:388.99139\tvalidation_1-rmse:376.09738\n",
      "[87]\tvalidation_0-rmse:388.05020\tvalidation_1-rmse:375.55908\n",
      "[88]\tvalidation_0-rmse:387.04541\tvalidation_1-rmse:374.74689\n",
      "[89]\tvalidation_0-rmse:386.65967\tvalidation_1-rmse:374.56024\n",
      "[90]\tvalidation_0-rmse:386.28024\tvalidation_1-rmse:374.30945\n",
      "[91]\tvalidation_0-rmse:385.44424\tvalidation_1-rmse:373.54941\n",
      "[92]\tvalidation_0-rmse:384.63049\tvalidation_1-rmse:372.80685\n",
      "[93]\tvalidation_0-rmse:384.37476\tvalidation_1-rmse:372.50326\n",
      "[94]\tvalidation_0-rmse:384.19013\tvalidation_1-rmse:372.36252\n",
      "[95]\tvalidation_0-rmse:383.31079\tvalidation_1-rmse:371.47385\n",
      "[96]\tvalidation_0-rmse:382.56039\tvalidation_1-rmse:370.51135\n",
      "[97]\tvalidation_0-rmse:382.30951\tvalidation_1-rmse:370.13223\n",
      "[98]\tvalidation_0-rmse:381.70822\tvalidation_1-rmse:369.62961\n",
      "[99]\tvalidation_0-rmse:381.44479\tvalidation_1-rmse:369.36746\n",
      "[100]\tvalidation_0-rmse:380.61758\tvalidation_1-rmse:368.45535\n",
      "[101]\tvalidation_0-rmse:380.27783\tvalidation_1-rmse:368.28412\n",
      "[102]\tvalidation_0-rmse:379.84299\tvalidation_1-rmse:367.81232\n",
      "[103]\tvalidation_0-rmse:378.99606\tvalidation_1-rmse:366.82919\n",
      "[104]\tvalidation_0-rmse:378.31299\tvalidation_1-rmse:366.25339\n",
      "[105]\tvalidation_0-rmse:378.03995\tvalidation_1-rmse:366.06335\n",
      "[106]\tvalidation_0-rmse:377.65521\tvalidation_1-rmse:365.81656\n",
      "[107]\tvalidation_0-rmse:377.15851\tvalidation_1-rmse:365.38510\n",
      "[108]\tvalidation_0-rmse:377.06790\tvalidation_1-rmse:365.31830\n",
      "[109]\tvalidation_0-rmse:376.38760\tvalidation_1-rmse:364.45154\n",
      "[110]\tvalidation_0-rmse:375.75955\tvalidation_1-rmse:364.14517\n",
      "[111]\tvalidation_0-rmse:375.28339\tvalidation_1-rmse:363.80069\n",
      "[112]\tvalidation_0-rmse:374.90750\tvalidation_1-rmse:363.60696\n",
      "[113]\tvalidation_0-rmse:374.70969\tvalidation_1-rmse:363.43491\n",
      "[114]\tvalidation_0-rmse:374.06668\tvalidation_1-rmse:362.86093\n",
      "[115]\tvalidation_0-rmse:373.59674\tvalidation_1-rmse:362.64462\n",
      "[116]\tvalidation_0-rmse:373.51834\tvalidation_1-rmse:362.58386\n",
      "[117]\tvalidation_0-rmse:372.66058\tvalidation_1-rmse:361.44214\n",
      "[118]\tvalidation_0-rmse:372.14288\tvalidation_1-rmse:361.12790\n",
      "[119]\tvalidation_0-rmse:371.57330\tvalidation_1-rmse:360.52640\n",
      "[120]\tvalidation_0-rmse:371.18378\tvalidation_1-rmse:359.98764\n",
      "[121]\tvalidation_0-rmse:370.56833\tvalidation_1-rmse:358.99365\n",
      "[122]\tvalidation_0-rmse:370.31799\tvalidation_1-rmse:358.78482\n",
      "[123]\tvalidation_0-rmse:369.48270\tvalidation_1-rmse:358.13306\n",
      "[124]\tvalidation_0-rmse:369.39462\tvalidation_1-rmse:358.05524\n",
      "[125]\tvalidation_0-rmse:369.02106\tvalidation_1-rmse:357.54785\n",
      "[126]\tvalidation_0-rmse:368.01260\tvalidation_1-rmse:356.62619\n",
      "[127]\tvalidation_0-rmse:367.59439\tvalidation_1-rmse:356.32266\n",
      "[128]\tvalidation_0-rmse:367.08319\tvalidation_1-rmse:355.82184\n",
      "[129]\tvalidation_0-rmse:366.95816\tvalidation_1-rmse:355.71390\n",
      "[130]\tvalidation_0-rmse:366.73529\tvalidation_1-rmse:355.31293\n",
      "[131]\tvalidation_0-rmse:366.53497\tvalidation_1-rmse:355.05542\n",
      "[132]\tvalidation_0-rmse:365.91748\tvalidation_1-rmse:354.34644\n",
      "[133]\tvalidation_0-rmse:365.80475\tvalidation_1-rmse:354.28900\n"
     ]
    },
    {
     "name": "stdout",
     "output_type": "stream",
     "text": [
      "[134]\tvalidation_0-rmse:365.51865\tvalidation_1-rmse:353.97308\n",
      "[135]\tvalidation_0-rmse:364.68961\tvalidation_1-rmse:353.16693\n",
      "[136]\tvalidation_0-rmse:364.46765\tvalidation_1-rmse:353.08038\n",
      "[137]\tvalidation_0-rmse:364.28143\tvalidation_1-rmse:352.88367\n",
      "[138]\tvalidation_0-rmse:364.07288\tvalidation_1-rmse:352.71335\n",
      "[139]\tvalidation_0-rmse:363.37628\tvalidation_1-rmse:352.08942\n",
      "[140]\tvalidation_0-rmse:362.95841\tvalidation_1-rmse:351.64874\n",
      "[141]\tvalidation_0-rmse:362.40787\tvalidation_1-rmse:351.07684\n",
      "[142]\tvalidation_0-rmse:361.83551\tvalidation_1-rmse:350.84750\n",
      "[143]\tvalidation_0-rmse:360.99509\tvalidation_1-rmse:350.46939\n",
      "[144]\tvalidation_0-rmse:360.31168\tvalidation_1-rmse:349.85126\n",
      "[145]\tvalidation_0-rmse:360.23386\tvalidation_1-rmse:349.82138\n",
      "[146]\tvalidation_0-rmse:359.65131\tvalidation_1-rmse:349.24103\n",
      "[147]\tvalidation_0-rmse:359.37582\tvalidation_1-rmse:349.13065\n",
      "[148]\tvalidation_0-rmse:358.77728\tvalidation_1-rmse:348.75995\n",
      "[149]\tvalidation_0-rmse:358.61395\tvalidation_1-rmse:348.63501\n",
      "[150]\tvalidation_0-rmse:358.40411\tvalidation_1-rmse:348.43005\n",
      "[151]\tvalidation_0-rmse:358.08402\tvalidation_1-rmse:348.17157\n",
      "[152]\tvalidation_0-rmse:357.44910\tvalidation_1-rmse:347.64697\n",
      "[153]\tvalidation_0-rmse:356.97717\tvalidation_1-rmse:347.30795\n",
      "[154]\tvalidation_0-rmse:356.29343\tvalidation_1-rmse:346.48175\n",
      "[155]\tvalidation_0-rmse:356.17526\tvalidation_1-rmse:346.36920\n",
      "[156]\tvalidation_0-rmse:355.54022\tvalidation_1-rmse:345.71716\n",
      "[157]\tvalidation_0-rmse:354.71292\tvalidation_1-rmse:344.63156\n",
      "[158]\tvalidation_0-rmse:354.47058\tvalidation_1-rmse:344.27667\n",
      "[159]\tvalidation_0-rmse:354.33215\tvalidation_1-rmse:344.18973\n",
      "[160]\tvalidation_0-rmse:353.62384\tvalidation_1-rmse:343.53262\n",
      "[161]\tvalidation_0-rmse:353.08667\tvalidation_1-rmse:343.13037\n",
      "[162]\tvalidation_0-rmse:352.63248\tvalidation_1-rmse:342.88238\n",
      "[163]\tvalidation_0-rmse:352.46298\tvalidation_1-rmse:342.72446\n",
      "[164]\tvalidation_0-rmse:352.32620\tvalidation_1-rmse:342.54578\n",
      "[165]\tvalidation_0-rmse:352.00235\tvalidation_1-rmse:342.19540\n",
      "[166]\tvalidation_0-rmse:351.94461\tvalidation_1-rmse:342.14233\n",
      "[167]\tvalidation_0-rmse:351.80164\tvalidation_1-rmse:342.03449\n",
      "[168]\tvalidation_0-rmse:351.42706\tvalidation_1-rmse:341.65552\n",
      "[169]\tvalidation_0-rmse:351.00952\tvalidation_1-rmse:341.12485\n",
      "[170]\tvalidation_0-rmse:350.97748\tvalidation_1-rmse:341.11142\n",
      "[171]\tvalidation_0-rmse:350.68723\tvalidation_1-rmse:340.95877\n",
      "[172]\tvalidation_0-rmse:350.04675\tvalidation_1-rmse:340.46619\n",
      "[173]\tvalidation_0-rmse:349.57663\tvalidation_1-rmse:340.01660\n",
      "[174]\tvalidation_0-rmse:349.03870\tvalidation_1-rmse:339.75589\n",
      "[175]\tvalidation_0-rmse:348.88214\tvalidation_1-rmse:339.67145\n",
      "[176]\tvalidation_0-rmse:348.34146\tvalidation_1-rmse:339.03220\n",
      "[177]\tvalidation_0-rmse:348.20554\tvalidation_1-rmse:338.85910\n",
      "[178]\tvalidation_0-rmse:347.98352\tvalidation_1-rmse:338.69315\n",
      "[179]\tvalidation_0-rmse:347.58307\tvalidation_1-rmse:338.23486\n",
      "[180]\tvalidation_0-rmse:347.10657\tvalidation_1-rmse:337.66312\n",
      "[181]\tvalidation_0-rmse:346.63904\tvalidation_1-rmse:336.97421\n",
      "[182]\tvalidation_0-rmse:345.73840\tvalidation_1-rmse:336.05112\n",
      "[183]\tvalidation_0-rmse:345.58142\tvalidation_1-rmse:335.84936\n",
      "[184]\tvalidation_0-rmse:345.40912\tvalidation_1-rmse:335.65182\n",
      "[185]\tvalidation_0-rmse:344.92862\tvalidation_1-rmse:335.22220\n",
      "[186]\tvalidation_0-rmse:344.56955\tvalidation_1-rmse:334.75336\n",
      "[187]\tvalidation_0-rmse:344.20364\tvalidation_1-rmse:334.38132\n",
      "[188]\tvalidation_0-rmse:344.17841\tvalidation_1-rmse:334.36762\n",
      "[189]\tvalidation_0-rmse:343.67716\tvalidation_1-rmse:334.01929\n",
      "[190]\tvalidation_0-rmse:343.36523\tvalidation_1-rmse:333.74737\n",
      "[191]\tvalidation_0-rmse:342.85159\tvalidation_1-rmse:333.33765\n",
      "[192]\tvalidation_0-rmse:342.81024\tvalidation_1-rmse:333.30283\n",
      "[193]\tvalidation_0-rmse:342.23373\tvalidation_1-rmse:332.98459\n",
      "[194]\tvalidation_0-rmse:342.21222\tvalidation_1-rmse:332.97101\n",
      "[195]\tvalidation_0-rmse:341.80392\tvalidation_1-rmse:332.71326\n",
      "[196]\tvalidation_0-rmse:341.41715\tvalidation_1-rmse:332.47290\n",
      "[197]\tvalidation_0-rmse:340.98972\tvalidation_1-rmse:332.11435\n",
      "[198]\tvalidation_0-rmse:340.92691\tvalidation_1-rmse:332.05765\n",
      "[199]\tvalidation_0-rmse:340.65317\tvalidation_1-rmse:331.84244\n",
      "CPU times: user 27.3 s, sys: 972 ms, total: 28.2 s\n",
      "Wall time: 4.57 s\n"
     ]
    },
    {
     "data": {
      "text/plain": [
       "XGBRegressor(base_score=0.5, booster='gbtree', colsample_bylevel=1,\n",
       "             colsample_bynode=1, colsample_bytree=0.8, enable_categorical=False,\n",
       "             gamma=0, gpu_id=-1, importance_type=None,\n",
       "             interaction_constraints='', learning_rate=0.1, max_delta_step=0,\n",
       "             max_depth=6, min_child_weight=1, missing=nan,\n",
       "             monotone_constraints='()', n_estimators=200, n_jobs=8,\n",
       "             num_parallel_tree=1, predictor='auto', random_state=42,\n",
       "             reg_alpha=1, reg_lambda=1, scale_pos_weight=1, subsample=1,\n",
       "             tree_method='exact', validate_parameters=1, verbosity=None)"
      ]
     },
     "execution_count": 59,
     "metadata": {},
     "output_type": "execute_result"
    }
   ],
   "source": [
    "%%time\n",
    "# Model training\n",
    "model.fit(X, y,eval_set=[(X_train,y_train),(X_val,y_val)],early_stopping_rounds=40)"
   ]
  },
  {
   "cell_type": "markdown",
   "id": "8f5f534f",
   "metadata": {},
   "source": [
    "## Test Preditions"
   ]
  },
  {
   "cell_type": "code",
   "execution_count": 60,
   "id": "9085827c",
   "metadata": {},
   "outputs": [],
   "source": [
    "predictions = model.predict(X_test)"
   ]
  },
  {
   "cell_type": "code",
   "execution_count": 61,
   "id": "4d010675",
   "metadata": {},
   "outputs": [],
   "source": [
    "predictions=pd.DataFrame(predictions)"
   ]
  },
  {
   "cell_type": "code",
   "execution_count": 62,
   "id": "9d2ca3df",
   "metadata": {},
   "outputs": [],
   "source": [
    "predictions.reset_index(inplace=True)"
   ]
  },
  {
   "cell_type": "code",
   "execution_count": 63,
   "id": "2c805a71",
   "metadata": {},
   "outputs": [],
   "source": [
    "predictions=predictions.rename({0: 'price','index': 'id'}, axis=1)"
   ]
  },
  {
   "cell_type": "markdown",
   "id": "01a0cf38",
   "metadata": {},
   "source": [
    "## Save Preditions"
   ]
  },
  {
   "cell_type": "code",
   "execution_count": 64,
   "id": "da3f74be",
   "metadata": {},
   "outputs": [],
   "source": [
    "predictions.to_csv('../data/diamonds_predictions_XGBRegressor_Cross_Target.csv',index=False)"
   ]
  }
 ],
 "metadata": {
  "kernelspec": {
   "display_name": "Python [conda env:ML]",
   "language": "python",
   "name": "conda-env-ML-py"
  },
  "language_info": {
   "codemirror_mode": {
    "name": "ipython",
    "version": 3
   },
   "file_extension": ".py",
   "mimetype": "text/x-python",
   "name": "python",
   "nbconvert_exporter": "python",
   "pygments_lexer": "ipython3",
   "version": "3.7.13"
  }
 },
 "nbformat": 4,
 "nbformat_minor": 5
}
