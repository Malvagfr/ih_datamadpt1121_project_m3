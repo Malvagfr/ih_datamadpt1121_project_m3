{
 "cells": [
  {
   "cell_type": "code",
   "execution_count": null,
   "id": "99ac30a5",
   "metadata": {},
   "outputs": [],
   "source": [
    "#Ensemble models"
   ]
  },
  {
   "cell_type": "code",
   "execution_count": null,
   "id": "c01f24e3",
   "metadata": {},
   "outputs": [],
   "source": []
  }
 ],
 "metadata": {
  "kernelspec": {
   "display_name": "Python [conda env:ML]",
   "language": "python",
   "name": "conda-env-ML-py"
  },
  "language_info": {
   "codemirror_mode": {
    "name": "ipython",
    "version": 3
   },
   "file_extension": ".py",
   "mimetype": "text/x-python",
   "name": "python",
   "nbconvert_exporter": "python",
   "pygments_lexer": "ipython3",
   "version": "3.7.13"
  }
 },
 "nbformat": 4,
 "nbformat_minor": 5
}
