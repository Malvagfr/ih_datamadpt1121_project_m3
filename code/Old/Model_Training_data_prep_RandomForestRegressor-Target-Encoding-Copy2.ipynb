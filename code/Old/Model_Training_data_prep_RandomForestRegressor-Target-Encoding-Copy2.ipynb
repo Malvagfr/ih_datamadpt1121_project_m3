{
 "cells": [
  {
   "cell_type": "markdown",
   "id": "c1df95e2",
   "metadata": {},
   "source": [
    "## 0. Libraries import"
   ]
  },
  {
   "cell_type": "code",
   "execution_count": 2,
   "id": "a17f838c",
   "metadata": {},
   "outputs": [],
   "source": [
    "# ignore warnings\n",
    "import warnings\n",
    "warnings.filterwarnings('ignore')"
   ]
  },
  {
   "cell_type": "code",
   "execution_count": 3,
   "id": "15bd2943",
   "metadata": {},
   "outputs": [],
   "source": [
    "# imports \n",
    "import numpy as np\n",
    "import pandas as pd\n",
    "import matplotlib.pyplot as plt\n",
    "# outliers\n",
    "from sklearn.datasets import load_boston\n",
    "#train test split\n",
    "from sklearn.model_selection import train_test_split\n",
    "# Hyperparameters selection\n",
    "from sklearn.model_selection import RandomizedSearchCV\n",
    "# models\n",
    "from sklearn.ensemble import RandomForestRegressor\n",
    "#import lightgbm as ltb\n",
    "from xgboost import XGBRegressor\n",
    "# error\n",
    "from sklearn.metrics import mean_squared_error,r2_score,mean_absolute_error"
   ]
  },
  {
   "cell_type": "markdown",
   "id": "894bdee3",
   "metadata": {},
   "source": [
    "## 1. Data import"
   ]
  },
  {
   "cell_type": "code",
   "execution_count": 4,
   "id": "b35aa513",
   "metadata": {},
   "outputs": [
    {
     "data": {
      "text/html": [
       "<div>\n",
       "<style scoped>\n",
       "    .dataframe tbody tr th:only-of-type {\n",
       "        vertical-align: middle;\n",
       "    }\n",
       "\n",
       "    .dataframe tbody tr th {\n",
       "        vertical-align: top;\n",
       "    }\n",
       "\n",
       "    .dataframe thead th {\n",
       "        text-align: right;\n",
       "    }\n",
       "</style>\n",
       "<table border=\"1\" class=\"dataframe\">\n",
       "  <thead>\n",
       "    <tr style=\"text-align: right;\">\n",
       "      <th></th>\n",
       "      <th>index_id</th>\n",
       "      <th>depth</th>\n",
       "      <th>table</th>\n",
       "      <th>x</th>\n",
       "      <th>y</th>\n",
       "      <th>z</th>\n",
       "      <th>price</th>\n",
       "      <th>carat</th>\n",
       "      <th>cut</th>\n",
       "      <th>color</th>\n",
       "      <th>clarity</th>\n",
       "      <th>city</th>\n",
       "    </tr>\n",
       "  </thead>\n",
       "  <tbody>\n",
       "    <tr>\n",
       "      <th>0</th>\n",
       "      <td>5feceb66ffc86f38d952786c6d696c79c2dbc239dd4e91...</td>\n",
       "      <td>62.4</td>\n",
       "      <td>58.0</td>\n",
       "      <td>6.83</td>\n",
       "      <td>6.79</td>\n",
       "      <td>4.25</td>\n",
       "      <td>4268</td>\n",
       "      <td>1.21</td>\n",
       "      <td>Premium</td>\n",
       "      <td>J</td>\n",
       "      <td>VS2</td>\n",
       "      <td>Dubai</td>\n",
       "    </tr>\n",
       "    <tr>\n",
       "      <th>1</th>\n",
       "      <td>6b86b273ff34fce19d6b804eff5a3f5747ada4eaa22f1d...</td>\n",
       "      <td>63.0</td>\n",
       "      <td>57.0</td>\n",
       "      <td>4.35</td>\n",
       "      <td>4.38</td>\n",
       "      <td>2.75</td>\n",
       "      <td>505</td>\n",
       "      <td>0.32</td>\n",
       "      <td>Very Good</td>\n",
       "      <td>H</td>\n",
       "      <td>VS2</td>\n",
       "      <td>Kimberly</td>\n",
       "    </tr>\n",
       "    <tr>\n",
       "      <th>2</th>\n",
       "      <td>d4735e3a265e16eee03f59718b9b5d03019c07d8b6c51f...</td>\n",
       "      <td>65.5</td>\n",
       "      <td>55.0</td>\n",
       "      <td>5.62</td>\n",
       "      <td>5.53</td>\n",
       "      <td>3.65</td>\n",
       "      <td>2686</td>\n",
       "      <td>0.71</td>\n",
       "      <td>Fair</td>\n",
       "      <td>G</td>\n",
       "      <td>VS1</td>\n",
       "      <td>Las Vegas</td>\n",
       "    </tr>\n",
       "    <tr>\n",
       "      <th>3</th>\n",
       "      <td>4e07408562bedb8b60ce05c1decfe3ad16b72230967de0...</td>\n",
       "      <td>63.8</td>\n",
       "      <td>56.0</td>\n",
       "      <td>4.68</td>\n",
       "      <td>4.72</td>\n",
       "      <td>3.00</td>\n",
       "      <td>738</td>\n",
       "      <td>0.41</td>\n",
       "      <td>Good</td>\n",
       "      <td>D</td>\n",
       "      <td>SI1</td>\n",
       "      <td>Kimberly</td>\n",
       "    </tr>\n",
       "    <tr>\n",
       "      <th>4</th>\n",
       "      <td>4b227777d4dd1fc61c6f884f48641d02b4d121d3fd328c...</td>\n",
       "      <td>60.5</td>\n",
       "      <td>59.0</td>\n",
       "      <td>6.55</td>\n",
       "      <td>6.51</td>\n",
       "      <td>3.95</td>\n",
       "      <td>4882</td>\n",
       "      <td>1.02</td>\n",
       "      <td>Ideal</td>\n",
       "      <td>G</td>\n",
       "      <td>SI1</td>\n",
       "      <td>Dubai</td>\n",
       "    </tr>\n",
       "    <tr>\n",
       "      <th>...</th>\n",
       "      <td>...</td>\n",
       "      <td>...</td>\n",
       "      <td>...</td>\n",
       "      <td>...</td>\n",
       "      <td>...</td>\n",
       "      <td>...</td>\n",
       "      <td>...</td>\n",
       "      <td>...</td>\n",
       "      <td>...</td>\n",
       "      <td>...</td>\n",
       "      <td>...</td>\n",
       "      <td>...</td>\n",
       "    </tr>\n",
       "    <tr>\n",
       "      <th>40450</th>\n",
       "      <td>f0bc79169405ebeb24e308055156b946ffd819db9b4f75...</td>\n",
       "      <td>62.7</td>\n",
       "      <td>57.0</td>\n",
       "      <td>7.10</td>\n",
       "      <td>7.04</td>\n",
       "      <td>4.43</td>\n",
       "      <td>10070</td>\n",
       "      <td>1.34</td>\n",
       "      <td>Ideal</td>\n",
       "      <td>G</td>\n",
       "      <td>VS1</td>\n",
       "      <td>Antwerp</td>\n",
       "    </tr>\n",
       "    <tr>\n",
       "      <th>40451</th>\n",
       "      <td>339916a23bf22b052b54cb2a9b36ee8418c1c68b46acad...</td>\n",
       "      <td>57.1</td>\n",
       "      <td>60.0</td>\n",
       "      <td>8.31</td>\n",
       "      <td>8.25</td>\n",
       "      <td>4.73</td>\n",
       "      <td>12615</td>\n",
       "      <td>2.02</td>\n",
       "      <td>Good</td>\n",
       "      <td>F</td>\n",
       "      <td>SI2</td>\n",
       "      <td>Madrid</td>\n",
       "    </tr>\n",
       "    <tr>\n",
       "      <th>40452</th>\n",
       "      <td>46957922b99954654c1deb8d854c3f069bf118b2ce9415...</td>\n",
       "      <td>62.7</td>\n",
       "      <td>56.0</td>\n",
       "      <td>6.37</td>\n",
       "      <td>6.42</td>\n",
       "      <td>4.01</td>\n",
       "      <td>5457</td>\n",
       "      <td>1.01</td>\n",
       "      <td>Ideal</td>\n",
       "      <td>H</td>\n",
       "      <td>SI1</td>\n",
       "      <td>Kimberly</td>\n",
       "    </tr>\n",
       "    <tr>\n",
       "      <th>40453</th>\n",
       "      <td>9d733392d362d5c6f1d9b9659b601c7d4b5a1c1c8df579...</td>\n",
       "      <td>61.9</td>\n",
       "      <td>54.3</td>\n",
       "      <td>4.45</td>\n",
       "      <td>4.47</td>\n",
       "      <td>2.76</td>\n",
       "      <td>456</td>\n",
       "      <td>0.33</td>\n",
       "      <td>Ideal</td>\n",
       "      <td>J</td>\n",
       "      <td>VS1</td>\n",
       "      <td>Kimberly</td>\n",
       "    </tr>\n",
       "    <tr>\n",
       "      <th>40454</th>\n",
       "      <td>a02744a70faa594d240b067f21fcc23a8d17cd1098a9fb...</td>\n",
       "      <td>62.0</td>\n",
       "      <td>58.0</td>\n",
       "      <td>6.83</td>\n",
       "      <td>6.88</td>\n",
       "      <td>4.25</td>\n",
       "      <td>6232</td>\n",
       "      <td>1.24</td>\n",
       "      <td>Ideal</td>\n",
       "      <td>I</td>\n",
       "      <td>SI1</td>\n",
       "      <td>London</td>\n",
       "    </tr>\n",
       "  </tbody>\n",
       "</table>\n",
       "<p>40455 rows × 12 columns</p>\n",
       "</div>"
      ],
      "text/plain": [
       "                                                index_id  depth  table     x  \\\n",
       "0      5feceb66ffc86f38d952786c6d696c79c2dbc239dd4e91...   62.4   58.0  6.83   \n",
       "1      6b86b273ff34fce19d6b804eff5a3f5747ada4eaa22f1d...   63.0   57.0  4.35   \n",
       "2      d4735e3a265e16eee03f59718b9b5d03019c07d8b6c51f...   65.5   55.0  5.62   \n",
       "3      4e07408562bedb8b60ce05c1decfe3ad16b72230967de0...   63.8   56.0  4.68   \n",
       "4      4b227777d4dd1fc61c6f884f48641d02b4d121d3fd328c...   60.5   59.0  6.55   \n",
       "...                                                  ...    ...    ...   ...   \n",
       "40450  f0bc79169405ebeb24e308055156b946ffd819db9b4f75...   62.7   57.0  7.10   \n",
       "40451  339916a23bf22b052b54cb2a9b36ee8418c1c68b46acad...   57.1   60.0  8.31   \n",
       "40452  46957922b99954654c1deb8d854c3f069bf118b2ce9415...   62.7   56.0  6.37   \n",
       "40453  9d733392d362d5c6f1d9b9659b601c7d4b5a1c1c8df579...   61.9   54.3  4.45   \n",
       "40454  a02744a70faa594d240b067f21fcc23a8d17cd1098a9fb...   62.0   58.0  6.83   \n",
       "\n",
       "          y     z  price  carat        cut color clarity       city  \n",
       "0      6.79  4.25   4268   1.21    Premium     J     VS2      Dubai  \n",
       "1      4.38  2.75    505   0.32  Very Good     H     VS2   Kimberly  \n",
       "2      5.53  3.65   2686   0.71       Fair     G     VS1  Las Vegas  \n",
       "3      4.72  3.00    738   0.41       Good     D     SI1   Kimberly  \n",
       "4      6.51  3.95   4882   1.02      Ideal     G     SI1      Dubai  \n",
       "...     ...   ...    ...    ...        ...   ...     ...        ...  \n",
       "40450  7.04  4.43  10070   1.34      Ideal     G     VS1    Antwerp  \n",
       "40451  8.25  4.73  12615   2.02       Good     F     SI2     Madrid  \n",
       "40452  6.42  4.01   5457   1.01      Ideal     H     SI1   Kimberly  \n",
       "40453  4.47  2.76    456   0.33      Ideal     J     VS1   Kimberly  \n",
       "40454  6.88  4.25   6232   1.24      Ideal     I     SI1     London  \n",
       "\n",
       "[40455 rows x 12 columns]"
      ]
     },
     "execution_count": 4,
     "metadata": {},
     "output_type": "execute_result"
    }
   ],
   "source": [
    "# Impor train data\n",
    "df_diamonds_train=pd.read_csv('../data/diamonds_train.csv')\n",
    "df_diamonds_train.pop(\"Unnamed: 0\")\n",
    "df_diamonds_train"
   ]
  },
  {
   "cell_type": "code",
   "execution_count": 5,
   "id": "65ba238d",
   "metadata": {},
   "outputs": [
    {
     "data": {
      "text/html": [
       "<div>\n",
       "<style scoped>\n",
       "    .dataframe tbody tr th:only-of-type {\n",
       "        vertical-align: middle;\n",
       "    }\n",
       "\n",
       "    .dataframe tbody tr th {\n",
       "        vertical-align: top;\n",
       "    }\n",
       "\n",
       "    .dataframe thead th {\n",
       "        text-align: right;\n",
       "    }\n",
       "</style>\n",
       "<table border=\"1\" class=\"dataframe\">\n",
       "  <thead>\n",
       "    <tr style=\"text-align: right;\">\n",
       "      <th></th>\n",
       "      <th>id</th>\n",
       "      <th>carat</th>\n",
       "      <th>cut</th>\n",
       "      <th>color</th>\n",
       "      <th>clarity</th>\n",
       "      <th>depth</th>\n",
       "      <th>table</th>\n",
       "      <th>x</th>\n",
       "      <th>y</th>\n",
       "      <th>z</th>\n",
       "      <th>city</th>\n",
       "    </tr>\n",
       "  </thead>\n",
       "  <tbody>\n",
       "    <tr>\n",
       "      <th>0</th>\n",
       "      <td>0</td>\n",
       "      <td>0.79</td>\n",
       "      <td>Very Good</td>\n",
       "      <td>F</td>\n",
       "      <td>SI1</td>\n",
       "      <td>62.7</td>\n",
       "      <td>60.0</td>\n",
       "      <td>5.82</td>\n",
       "      <td>5.89</td>\n",
       "      <td>3.67</td>\n",
       "      <td>Amsterdam</td>\n",
       "    </tr>\n",
       "    <tr>\n",
       "      <th>1</th>\n",
       "      <td>1</td>\n",
       "      <td>1.20</td>\n",
       "      <td>Ideal</td>\n",
       "      <td>J</td>\n",
       "      <td>VS1</td>\n",
       "      <td>61.0</td>\n",
       "      <td>57.0</td>\n",
       "      <td>6.81</td>\n",
       "      <td>6.89</td>\n",
       "      <td>4.18</td>\n",
       "      <td>Surat</td>\n",
       "    </tr>\n",
       "    <tr>\n",
       "      <th>2</th>\n",
       "      <td>2</td>\n",
       "      <td>1.57</td>\n",
       "      <td>Premium</td>\n",
       "      <td>H</td>\n",
       "      <td>SI1</td>\n",
       "      <td>62.2</td>\n",
       "      <td>61.0</td>\n",
       "      <td>7.38</td>\n",
       "      <td>7.32</td>\n",
       "      <td>4.57</td>\n",
       "      <td>Kimberly</td>\n",
       "    </tr>\n",
       "    <tr>\n",
       "      <th>3</th>\n",
       "      <td>3</td>\n",
       "      <td>0.90</td>\n",
       "      <td>Very Good</td>\n",
       "      <td>F</td>\n",
       "      <td>SI1</td>\n",
       "      <td>63.8</td>\n",
       "      <td>54.0</td>\n",
       "      <td>6.09</td>\n",
       "      <td>6.13</td>\n",
       "      <td>3.90</td>\n",
       "      <td>Kimberly</td>\n",
       "    </tr>\n",
       "    <tr>\n",
       "      <th>4</th>\n",
       "      <td>4</td>\n",
       "      <td>0.50</td>\n",
       "      <td>Very Good</td>\n",
       "      <td>F</td>\n",
       "      <td>VS1</td>\n",
       "      <td>62.9</td>\n",
       "      <td>58.0</td>\n",
       "      <td>5.05</td>\n",
       "      <td>5.09</td>\n",
       "      <td>3.19</td>\n",
       "      <td>Amsterdam</td>\n",
       "    </tr>\n",
       "    <tr>\n",
       "      <th>...</th>\n",
       "      <td>...</td>\n",
       "      <td>...</td>\n",
       "      <td>...</td>\n",
       "      <td>...</td>\n",
       "      <td>...</td>\n",
       "      <td>...</td>\n",
       "      <td>...</td>\n",
       "      <td>...</td>\n",
       "      <td>...</td>\n",
       "      <td>...</td>\n",
       "      <td>...</td>\n",
       "    </tr>\n",
       "    <tr>\n",
       "      <th>13480</th>\n",
       "      <td>13480</td>\n",
       "      <td>0.57</td>\n",
       "      <td>Ideal</td>\n",
       "      <td>E</td>\n",
       "      <td>SI1</td>\n",
       "      <td>61.9</td>\n",
       "      <td>56.0</td>\n",
       "      <td>5.35</td>\n",
       "      <td>5.32</td>\n",
       "      <td>3.30</td>\n",
       "      <td>Amsterdam</td>\n",
       "    </tr>\n",
       "    <tr>\n",
       "      <th>13481</th>\n",
       "      <td>13481</td>\n",
       "      <td>0.71</td>\n",
       "      <td>Ideal</td>\n",
       "      <td>I</td>\n",
       "      <td>VS2</td>\n",
       "      <td>62.2</td>\n",
       "      <td>55.0</td>\n",
       "      <td>5.71</td>\n",
       "      <td>5.73</td>\n",
       "      <td>3.56</td>\n",
       "      <td>New York City</td>\n",
       "    </tr>\n",
       "    <tr>\n",
       "      <th>13482</th>\n",
       "      <td>13482</td>\n",
       "      <td>0.70</td>\n",
       "      <td>Ideal</td>\n",
       "      <td>F</td>\n",
       "      <td>VS1</td>\n",
       "      <td>61.6</td>\n",
       "      <td>55.0</td>\n",
       "      <td>5.75</td>\n",
       "      <td>5.71</td>\n",
       "      <td>3.53</td>\n",
       "      <td>Tel Aviv</td>\n",
       "    </tr>\n",
       "    <tr>\n",
       "      <th>13483</th>\n",
       "      <td>13483</td>\n",
       "      <td>0.70</td>\n",
       "      <td>Very Good</td>\n",
       "      <td>F</td>\n",
       "      <td>SI2</td>\n",
       "      <td>58.8</td>\n",
       "      <td>57.0</td>\n",
       "      <td>5.85</td>\n",
       "      <td>5.89</td>\n",
       "      <td>3.45</td>\n",
       "      <td>Surat</td>\n",
       "    </tr>\n",
       "    <tr>\n",
       "      <th>13484</th>\n",
       "      <td>13484</td>\n",
       "      <td>0.40</td>\n",
       "      <td>Ideal</td>\n",
       "      <td>I</td>\n",
       "      <td>VVS2</td>\n",
       "      <td>62.4</td>\n",
       "      <td>55.0</td>\n",
       "      <td>4.70</td>\n",
       "      <td>4.73</td>\n",
       "      <td>2.94</td>\n",
       "      <td>New York City</td>\n",
       "    </tr>\n",
       "  </tbody>\n",
       "</table>\n",
       "<p>13485 rows × 11 columns</p>\n",
       "</div>"
      ],
      "text/plain": [
       "          id  carat        cut color clarity  depth  table     x     y     z  \\\n",
       "0          0   0.79  Very Good     F     SI1   62.7   60.0  5.82  5.89  3.67   \n",
       "1          1   1.20      Ideal     J     VS1   61.0   57.0  6.81  6.89  4.18   \n",
       "2          2   1.57    Premium     H     SI1   62.2   61.0  7.38  7.32  4.57   \n",
       "3          3   0.90  Very Good     F     SI1   63.8   54.0  6.09  6.13  3.90   \n",
       "4          4   0.50  Very Good     F     VS1   62.9   58.0  5.05  5.09  3.19   \n",
       "...      ...    ...        ...   ...     ...    ...    ...   ...   ...   ...   \n",
       "13480  13480   0.57      Ideal     E     SI1   61.9   56.0  5.35  5.32  3.30   \n",
       "13481  13481   0.71      Ideal     I     VS2   62.2   55.0  5.71  5.73  3.56   \n",
       "13482  13482   0.70      Ideal     F     VS1   61.6   55.0  5.75  5.71  3.53   \n",
       "13483  13483   0.70  Very Good     F     SI2   58.8   57.0  5.85  5.89  3.45   \n",
       "13484  13484   0.40      Ideal     I    VVS2   62.4   55.0  4.70  4.73  2.94   \n",
       "\n",
       "                city  \n",
       "0          Amsterdam  \n",
       "1              Surat  \n",
       "2           Kimberly  \n",
       "3           Kimberly  \n",
       "4          Amsterdam  \n",
       "...              ...  \n",
       "13480      Amsterdam  \n",
       "13481  New York City  \n",
       "13482       Tel Aviv  \n",
       "13483          Surat  \n",
       "13484  New York City  \n",
       "\n",
       "[13485 rows x 11 columns]"
      ]
     },
     "execution_count": 5,
     "metadata": {},
     "output_type": "execute_result"
    }
   ],
   "source": [
    "# Import test data\n",
    "df_diamonds_test=pd.read_csv('../data/diamonds_test.csv')\n",
    "df_diamonds_test"
   ]
  },
  {
   "cell_type": "markdown",
   "id": "5aa0abf6",
   "metadata": {},
   "source": [
    "## 2. Data preparation (training set)"
   ]
  },
  {
   "cell_type": "code",
   "execution_count": 6,
   "id": "6d8c39e9",
   "metadata": {},
   "outputs": [],
   "source": [
    "# 0.Defining numerical and categorical features\n",
    "# Excluding city (with trees sometimes is better to keep variables even if they are correlated)\n",
    "num_features_list=['x','y','z','depth','table','carat']\n",
    "cat_features_list=['cut','color','clarity']\n",
    "features_list=['x','y','z','depth','table','carat','cut','color','clarity']"
   ]
  },
  {
   "cell_type": "code",
   "execution_count": 7,
   "id": "e6c91bb2",
   "metadata": {},
   "outputs": [
    {
     "name": "stdout",
     "output_type": "stream",
     "text": [
      "No 0 values\n"
     ]
    }
   ],
   "source": [
    "# 1.Checking if 0 values\n",
    "if 0 in df_diamonds_train[num_features_list]:\n",
    "    print('0 values')\n",
    "else:\n",
    "    print('No 0 values')"
   ]
  },
  {
   "cell_type": "code",
   "execution_count": 8,
   "id": "4cf77b3b",
   "metadata": {},
   "outputs": [
    {
     "data": {
      "text/plain": [
       "x        0\n",
       "y        0\n",
       "z        0\n",
       "depth    0\n",
       "table    0\n",
       "carat    0\n",
       "dtype: int64"
      ]
     },
     "execution_count": 8,
     "metadata": {},
     "output_type": "execute_result"
    }
   ],
   "source": [
    "# 2.Checking if null values\n",
    "df_diamonds_train[num_features_list].isna().sum()"
   ]
  },
  {
   "cell_type": "code",
   "execution_count": 9,
   "id": "69a573be",
   "metadata": {},
   "outputs": [],
   "source": [
    "# 3.remove outliers\n",
    "def remove_outliers(df,feature):\n",
    "    # IQR\n",
    "    Q1 = np.percentile(df[feature], 25,\n",
    "                   interpolation = 'midpoint')\n",
    "    Q3 = np.percentile(df[feature], 75,\n",
    "                   interpolation = 'midpoint')\n",
    "    IQR = Q3 - Q1\n",
    "    # Upper and lower\n",
    "    upper_limit=Q3+1.5*IQR\n",
    "    lower_limit=Q1-1.5*IQR\n",
    "    # Removing the Outliers\n",
    "    return df[(df[feature]>=lower_limit) & (df[feature]<=upper_limit)]"
   ]
  },
  {
   "cell_type": "code",
   "execution_count": 10,
   "id": "52177933",
   "metadata": {},
   "outputs": [],
   "source": [
    "df_diamonds_train=remove_outliers(df_diamonds_train,'x')\n",
    "df_diamonds_train=remove_outliers(df_diamonds_train,'y')\n",
    "df_diamonds_train=remove_outliers(df_diamonds_train,'z')\n",
    "df_diamonds_train=remove_outliers(df_diamonds_train,'depth')\n",
    "df_diamonds_train=remove_outliers(df_diamonds_train,'table')\n",
    "df_diamonds_train=remove_outliers(df_diamonds_train,'carat')"
   ]
  },
  {
   "cell_type": "code",
   "execution_count": 11,
   "id": "6edf8a74",
   "metadata": {},
   "outputs": [],
   "source": [
    "#4. Change colums to categoric\n",
    "df_diamonds_train['cut'] = df_diamonds_train['cut'].astype('category')\n",
    "df_diamonds_train['color'] = df_diamonds_train['color'].astype('category')\n",
    "df_diamonds_train['clarity'] = df_diamonds_train['clarity'].astype('category')"
   ]
  },
  {
   "cell_type": "code",
   "execution_count": 12,
   "id": "7254e164",
   "metadata": {},
   "outputs": [
    {
     "data": {
      "text/plain": [
       "(37264, 12)"
      ]
     },
     "execution_count": 12,
     "metadata": {},
     "output_type": "execute_result"
    }
   ],
   "source": [
    "df_diamonds_train.shape"
   ]
  },
  {
   "cell_type": "markdown",
   "id": "aa726def",
   "metadata": {},
   "source": [
    "## 3. Feature engineering (training set)"
   ]
  },
  {
   "cell_type": "markdown",
   "id": "722fa97b",
   "metadata": {},
   "source": [
    "Adapting categorical features for training model"
   ]
  },
  {
   "cell_type": "code",
   "execution_count": 13,
   "id": "c17b12c5",
   "metadata": {},
   "outputs": [],
   "source": [
    "# 1.Target encoding for categorical variables\n",
    "# Mean\n",
    "cut_encoding = df_diamonds_train.groupby(['cut'])['price'].mean().to_dict()\n",
    "df_diamonds_train['cut_encoding'] = df_diamonds_train['cut'].map(cut_encoding).astype(float)\n",
    "color_encoding = df_diamonds_train.groupby(['color'])['price'].mean().to_dict()\n",
    "df_diamonds_train['color_encoding'] = df_diamonds_train['color'].map(color_encoding).astype(float)\n",
    "clarity_encoding = df_diamonds_train.groupby(['clarity'])['price'].mean().to_dict()\n",
    "df_diamonds_train['clarity_encoding'] = df_diamonds_train['clarity'].map(clarity_encoding).astype(float)\n",
    "# Std\n",
    "cut_encoding_std = df_diamonds_train.groupby(['cut'])['price'].std().to_dict()\n",
    "df_diamonds_train['cut_encoding_std'] = df_diamonds_train['cut'].map(cut_encoding_std).astype(float)\n",
    "color_encoding_std = df_diamonds_train.groupby(['color'])['price'].std().to_dict()\n",
    "df_diamonds_train['color_encoding_std'] = df_diamonds_train['color'].map(color_encoding_std).astype(float)\n",
    "clarity_encoding_std = df_diamonds_train.groupby(['clarity'])['price'].std().to_dict()\n",
    "df_diamonds_train['clarity_encoding_std'] = df_diamonds_train['clarity'].map(clarity_encoding_std).astype(float)"
   ]
  },
  {
   "cell_type": "code",
   "execution_count": 14,
   "id": "3797948e",
   "metadata": {},
   "outputs": [],
   "source": [
    "df_diamonds_train['volume']=df_diamonds_train['x']*df_diamonds_train['y']*df_diamonds_train['z']"
   ]
  },
  {
   "cell_type": "code",
   "execution_count": 15,
   "id": "8027ade8",
   "metadata": {},
   "outputs": [],
   "source": [
    "# 2. Cross target encoding\n",
    "cut_color_encoding = df_diamonds_train.groupby(['cut','color'])['price'].mean().to_dict()\n",
    "df_diamonds_train['cut_color_encoding'] = df_diamonds_train.set_index(['cut',\n",
    "                                                                       'color']).index.map(cut_color_encoding.get).astype(float)\n",
    "cut_clarity_encoding = df_diamonds_train.groupby(['cut','clarity'])['price'].mean().to_dict()\n",
    "df_diamonds_train['cut_clarity_encoding'] = df_diamonds_train.set_index(['cut',\n",
    "                                                                       'clarity']).index.map(cut_clarity_encoding.get).astype(float)\n",
    "color_clarity_encoding = df_diamonds_train.groupby(['color','clarity'])['price'].mean().to_dict()\n",
    "df_diamonds_train['color_clarity_encoding'] = df_diamonds_train.set_index(['color',\n",
    "                                                                       'clarity']).index.map(color_clarity_encoding.get).astype(float)"
   ]
  },
  {
   "cell_type": "code",
   "execution_count": 16,
   "id": "4cd1d1c0",
   "metadata": {},
   "outputs": [],
   "source": [
    "features_list_encoding=['x','y','z','depth','table','carat','cut','color','clarity','cut_encoding',\n",
    "                        'color_encoding','clarity_encoding','volume','cut_color_encoding','cut_clarity_encoding',\n",
    "                        'color_clarity_encoding']"
   ]
  },
  {
   "cell_type": "code",
   "execution_count": 17,
   "id": "d1dde5b0",
   "metadata": {},
   "outputs": [],
   "source": [
    "# 3. Defining features y target\n",
    "X=df_diamonds_train[features_list_encoding]\n",
    "y=df_diamonds_train['price']"
   ]
  },
  {
   "cell_type": "code",
   "execution_count": 18,
   "id": "fcb4c48c",
   "metadata": {},
   "outputs": [],
   "source": [
    "# 4.One-hot encoding for categorical variables\n",
    "X=pd.get_dummies(X,columns=cat_features_list)"
   ]
  },
  {
   "cell_type": "code",
   "execution_count": 19,
   "id": "8944ab32",
   "metadata": {},
   "outputs": [],
   "source": [
    "# 5.Splitting train and test\n",
    "X_train, X_val, y_train, y_val = train_test_split(X, y, test_size=0.2, random_state=42)"
   ]
  },
  {
   "cell_type": "code",
   "execution_count": 20,
   "id": "5cc3c880",
   "metadata": {},
   "outputs": [
    {
     "data": {
      "text/plain": [
       "(29811, 33)"
      ]
     },
     "execution_count": 20,
     "metadata": {},
     "output_type": "execute_result"
    }
   ],
   "source": [
    "X_train.shape"
   ]
  },
  {
   "cell_type": "code",
   "execution_count": 21,
   "id": "51cb7685",
   "metadata": {},
   "outputs": [
    {
     "name": "stdout",
     "output_type": "stream",
     "text": [
      "<class 'pandas.core.frame.DataFrame'>\n",
      "Int64Index: 29811 entries, 11656 to 17132\n",
      "Data columns (total 33 columns):\n",
      " #   Column                  Non-Null Count  Dtype  \n",
      "---  ------                  --------------  -----  \n",
      " 0   x                       29811 non-null  float64\n",
      " 1   y                       29811 non-null  float64\n",
      " 2   z                       29811 non-null  float64\n",
      " 3   depth                   29811 non-null  float64\n",
      " 4   table                   29811 non-null  float64\n",
      " 5   carat                   29811 non-null  float64\n",
      " 6   cut_encoding            29811 non-null  float64\n",
      " 7   color_encoding          29811 non-null  float64\n",
      " 8   clarity_encoding        29811 non-null  float64\n",
      " 9   volume                  29811 non-null  float64\n",
      " 10  cut_color_encoding      29811 non-null  float64\n",
      " 11  cut_clarity_encoding    29811 non-null  float64\n",
      " 12  color_clarity_encoding  29811 non-null  float64\n",
      " 13  cut_Fair                29811 non-null  uint8  \n",
      " 14  cut_Good                29811 non-null  uint8  \n",
      " 15  cut_Ideal               29811 non-null  uint8  \n",
      " 16  cut_Premium             29811 non-null  uint8  \n",
      " 17  cut_Very Good           29811 non-null  uint8  \n",
      " 18  color_D                 29811 non-null  uint8  \n",
      " 19  color_E                 29811 non-null  uint8  \n",
      " 20  color_F                 29811 non-null  uint8  \n",
      " 21  color_G                 29811 non-null  uint8  \n",
      " 22  color_H                 29811 non-null  uint8  \n",
      " 23  color_I                 29811 non-null  uint8  \n",
      " 24  color_J                 29811 non-null  uint8  \n",
      " 25  clarity_I1              29811 non-null  uint8  \n",
      " 26  clarity_IF              29811 non-null  uint8  \n",
      " 27  clarity_SI1             29811 non-null  uint8  \n",
      " 28  clarity_SI2             29811 non-null  uint8  \n",
      " 29  clarity_VS1             29811 non-null  uint8  \n",
      " 30  clarity_VS2             29811 non-null  uint8  \n",
      " 31  clarity_VVS1            29811 non-null  uint8  \n",
      " 32  clarity_VVS2            29811 non-null  uint8  \n",
      "dtypes: float64(13), uint8(20)\n",
      "memory usage: 3.8 MB\n"
     ]
    }
   ],
   "source": [
    "X_train.info()"
   ]
  },
  {
   "cell_type": "markdown",
   "id": "b0950756",
   "metadata": {},
   "source": [
    "## 4. Data preparation (test set)"
   ]
  },
  {
   "cell_type": "markdown",
   "id": "4662f46e",
   "metadata": {},
   "source": [
    "## 5. Feature engineering (test set) "
   ]
  },
  {
   "cell_type": "code",
   "execution_count": 22,
   "id": "b2d274e0",
   "metadata": {},
   "outputs": [],
   "source": [
    "# 0. Adapting categorical features for validation model\n",
    "X_test=df_diamonds_test[features_list]"
   ]
  },
  {
   "cell_type": "code",
   "execution_count": 23,
   "id": "5c2e0c65",
   "metadata": {},
   "outputs": [],
   "source": [
    "# 1.Target encoding for categorical variables\n",
    "# Mean\n",
    "cut_encoding = df_diamonds_train.groupby(['cut'])['price'].mean().to_dict()\n",
    "X_test['cut_encoding'] = X_test['cut'].map(cut_encoding).astype(float)\n",
    "color_encoding = df_diamonds_train.groupby(['color'])['price'].mean().to_dict()\n",
    "X_test['color_encoding'] = X_test['color'].map(color_encoding).astype(float)\n",
    "clarity_encoding = df_diamonds_train.groupby(['clarity'])['price'].mean().to_dict()\n",
    "X_test['clarity_encoding'] = X_test['clarity'].map(clarity_encoding).astype(float)\n",
    "# Std\n",
    "cut_encoding_std = df_diamonds_train.groupby(['cut'])['price'].std().to_dict()\n",
    "X_test['cut_encoding_std'] = X_test['cut'].map(cut_encoding_std).astype(float)\n",
    "color_encoding_std = df_diamonds_train.groupby(['color'])['price'].std().to_dict()\n",
    "X_test['color_encoding_std'] = X_test['color'].map(color_encoding_std).astype(float)\n",
    "clarity_encoding_std = df_diamonds_train.groupby(['clarity'])['price'].std().to_dict()\n",
    "X_test['clarity_encoding_std'] = X_test['clarity'].map(clarity_encoding_std).astype(float)"
   ]
  },
  {
   "cell_type": "code",
   "execution_count": 24,
   "id": "d290516e",
   "metadata": {},
   "outputs": [],
   "source": [
    "X_test['volume']=X_test['x']*X_test['y']*X_test['z']"
   ]
  },
  {
   "cell_type": "code",
   "execution_count": 25,
   "id": "743190b0",
   "metadata": {},
   "outputs": [],
   "source": [
    "# 2. Cross target encoding\n",
    "cut_color_encoding = df_diamonds_train.groupby(['cut','color'])['price'].mean().to_dict()\n",
    "X_test['cut_color_encoding'] = X_test.set_index(['cut','color']).index.map(cut_color_encoding.get).astype(float)\n",
    "cut_clarity_encoding = df_diamonds_train.groupby(['cut','clarity'])['price'].mean().to_dict()\n",
    "X_test['cut_clarity_encoding'] = X_test.set_index(['cut','clarity']).index.map(cut_clarity_encoding.get).astype(float)\n",
    "color_clarity_encoding = df_diamonds_train.groupby(['color','clarity'])['price'].mean().to_dict()\n",
    "X_test['color_clarity_encoding'] = X_test.set_index(['color','clarity']).index.map(color_clarity_encoding.get).astype(float)"
   ]
  },
  {
   "cell_type": "code",
   "execution_count": 26,
   "id": "9102b69b",
   "metadata": {},
   "outputs": [],
   "source": [
    "# 3. One-hot encoding for categorical variables\n",
    "X_test=pd.get_dummies(X_test,columns=cat_features_list)"
   ]
  },
  {
   "cell_type": "code",
   "execution_count": 27,
   "id": "7599b305",
   "metadata": {},
   "outputs": [
    {
     "data": {
      "text/plain": [
       "(13485, 36)"
      ]
     },
     "execution_count": 27,
     "metadata": {},
     "output_type": "execute_result"
    }
   ],
   "source": [
    "X_test.shape"
   ]
  },
  {
   "cell_type": "code",
   "execution_count": 28,
   "id": "7729a9dd",
   "metadata": {},
   "outputs": [
    {
     "name": "stdout",
     "output_type": "stream",
     "text": [
      "<class 'pandas.core.frame.DataFrame'>\n",
      "RangeIndex: 13485 entries, 0 to 13484\n",
      "Data columns (total 36 columns):\n",
      " #   Column                  Non-Null Count  Dtype  \n",
      "---  ------                  --------------  -----  \n",
      " 0   x                       13485 non-null  float64\n",
      " 1   y                       13485 non-null  float64\n",
      " 2   z                       13485 non-null  float64\n",
      " 3   depth                   13485 non-null  float64\n",
      " 4   table                   13485 non-null  float64\n",
      " 5   carat                   13485 non-null  float64\n",
      " 6   cut_encoding            13485 non-null  float64\n",
      " 7   color_encoding          13485 non-null  float64\n",
      " 8   clarity_encoding        13485 non-null  float64\n",
      " 9   cut_encoding_std        13485 non-null  float64\n",
      " 10  color_encoding_std      13485 non-null  float64\n",
      " 11  clarity_encoding_std    13485 non-null  float64\n",
      " 12  volume                  13485 non-null  float64\n",
      " 13  cut_color_encoding      13485 non-null  float64\n",
      " 14  cut_clarity_encoding    13485 non-null  float64\n",
      " 15  color_clarity_encoding  13485 non-null  float64\n",
      " 16  cut_Fair                13485 non-null  uint8  \n",
      " 17  cut_Good                13485 non-null  uint8  \n",
      " 18  cut_Ideal               13485 non-null  uint8  \n",
      " 19  cut_Premium             13485 non-null  uint8  \n",
      " 20  cut_Very Good           13485 non-null  uint8  \n",
      " 21  color_D                 13485 non-null  uint8  \n",
      " 22  color_E                 13485 non-null  uint8  \n",
      " 23  color_F                 13485 non-null  uint8  \n",
      " 24  color_G                 13485 non-null  uint8  \n",
      " 25  color_H                 13485 non-null  uint8  \n",
      " 26  color_I                 13485 non-null  uint8  \n",
      " 27  color_J                 13485 non-null  uint8  \n",
      " 28  clarity_I1              13485 non-null  uint8  \n",
      " 29  clarity_IF              13485 non-null  uint8  \n",
      " 30  clarity_SI1             13485 non-null  uint8  \n",
      " 31  clarity_SI2             13485 non-null  uint8  \n",
      " 32  clarity_VS1             13485 non-null  uint8  \n",
      " 33  clarity_VS2             13485 non-null  uint8  \n",
      " 34  clarity_VVS1            13485 non-null  uint8  \n",
      " 35  clarity_VVS2            13485 non-null  uint8  \n",
      "dtypes: float64(16), uint8(20)\n",
      "memory usage: 1.9 MB\n"
     ]
    }
   ],
   "source": [
    "X_test.info()"
   ]
  },
  {
   "cell_type": "markdown",
   "id": "ac016dca",
   "metadata": {},
   "source": [
    "## Model definition - RandomForestRegressor - with Random Hyperparameter Grid"
   ]
  },
  {
   "cell_type": "markdown",
   "id": "0c8d641a",
   "metadata": {},
   "source": [
    "RandomForestRegressor: multiple trees in paralel changing samples and convining diferrent features (overfitting when the tree is big and good to reduce error variance)"
   ]
  },
  {
   "cell_type": "markdown",
   "id": "ec5e230c",
   "metadata": {},
   "source": [
    "Main Parameters:\n",
    "   - bootstrap -> method for sampling data points (TRUE bagging and FALSE pasting, with/without replacement)\n",
    "   - n_estimators -> number of trees in the foreset\n",
    "   - max_depth -> max number of levels in each decision tree\n",
    "   - max_features -> max number of features considered for splitting a node\n",
    "   - ccp_alpha ->\n",
    "   - criterion ->\n",
    "   - max_leaf_nodes -> max number of solution nodes \n",
    "   - max_samples ->\n",
    "   - min_impurity_decrease ->\n",
    "   - min_samples_leaf -> min number of data points allowed in a leaf node\n",
    "   - min_samples_split -> min number of data points placed in a node before the node is split\n",
    "   - min_weight_fraction_leaf\n",
    "   - n_estimators -> number of trees in the foreset\n",
    "   - n_jobs \n",
    "   - oob_score \n",
    "   - random_state\n",
    "   - verbose\n",
    "   - warm_start   "
   ]
  },
  {
   "cell_type": "code",
   "execution_count": 29,
   "id": "2d01217a",
   "metadata": {},
   "outputs": [],
   "source": [
    "# 0. Random Hyperparameter Grid - Grid definition\n",
    "\n",
    "#n_estimators = [int(x) for x in np.linspace(start = 200, stop = 2000, num = 10)] # Number of trees in random forest\n",
    "#max_features = ['auto', 'sqrt'] # Number of features to consider at every split\n",
    "#max_depth = [int(x) for x in np.linspace(10, 110, num = 11)] # Maximum number of levels in tree\n",
    "#max_depth.append(None)\n",
    "#min_samples_split = [2, 5, 10] # Minimum number of samples required to split a node\n",
    "#min_samples_leaf = [1, 2, 4] # Minimum number of samples required at each leaf node\n",
    "#bootstrap = [True, False] # Method of selecting samples for training each tree\n",
    "\n",
    "# Create the random grid\n",
    "#random_grid = {'n_estimators': n_estimators,\n",
    "#               'max_features': max_features,\n",
    "#               'max_depth': max_depth,\n",
    "#               'min_samples_split': min_samples_split,\n",
    "#               'min_samples_leaf': min_samples_leaf,\n",
    "#               'bootstrap': bootstrap}\n",
    "#print(random_grid)"
   ]
  },
  {
   "cell_type": "code",
   "execution_count": 30,
   "id": "7038316c",
   "metadata": {},
   "outputs": [],
   "source": [
    "#%%time\n",
    "#1. Random Hyperparameter Grid - Use the random grid to search for best hyperparameters\n",
    "\n",
    "# First create the base model to tune\n",
    "#rf = RandomForestRegressor()\n",
    "# Random search of parameters, using 3 fold cross validation, \n",
    "#search across 100 different combinations, and use all available cores\n",
    "#rf_random = RandomizedSearchCV(estimator = rf, param_distributions = random_grid, n_iter = 100,\n",
    "#                               cv = 3, verbose=2, random_state=42, n_jobs = -1)\n",
    "# Fit the random search model\n",
    "#rf_random.fit(X_train, y_train)"
   ]
  },
  {
   "cell_type": "code",
   "execution_count": 805,
   "id": "61978c67",
   "metadata": {},
   "outputs": [],
   "source": [
    "#rf_random.best_params_"
   ]
  },
  {
   "cell_type": "code",
   "execution_count": 806,
   "id": "7803eba3",
   "metadata": {},
   "outputs": [],
   "source": [
    "best_params={'n_estimators': 1600,\n",
    " 'min_samples_split': 5,\n",
    " 'min_samples_leaf': 1,\n",
    " 'max_features': 'auto',\n",
    " 'max_depth': 90,\n",
    " 'bootstrap': True}"
   ]
  },
  {
   "cell_type": "code",
   "execution_count": 870,
   "id": "8c90f8b4",
   "metadata": {},
   "outputs": [],
   "source": [
    "# 2. RandomForestRegressor definition\n",
    "#model = RandomForestRegressor(n_estimators=100,min_samples_split=5,min_samples_leaf=1,\n",
    "#                              max_features='auto',max_depth=10,bootstrap=True)\n",
    "#hyperparameters = model.get_params()\n",
    "#print(type(model), '\\n')\n",
    "#print('Model hyperparameters:', hyperparameters, '\\n')"
   ]
  },
  {
   "cell_type": "code",
   "execution_count": 486,
   "id": "501aed2b",
   "metadata": {},
   "outputs": [],
   "source": [
    "#Importance\n",
    "#feats = {} # a dict to hold feature_name: feature_importance\n",
    "#for feature, importance in zip(X_train.columns, model.feature_importances_):\n",
    "#    feats[feature] = importance #add the name/value pair "
   ]
  },
  {
   "cell_type": "code",
   "execution_count": 518,
   "id": "c1621265",
   "metadata": {},
   "outputs": [],
   "source": [
    "#Importance=pd.DataFrame(list(feats.items()),columns = ['feature','importance']).sort_values('importance',ascending=False)"
   ]
  },
  {
   "cell_type": "code",
   "execution_count": 71,
   "id": "78091db5",
   "metadata": {},
   "outputs": [
    {
     "name": "stdout",
     "output_type": "stream",
     "text": [
      "<class 'xgboost.sklearn.XGBRegressor'> \n",
      "\n",
      "Model hyperparameters: {'objective': 'reg:squarederror', 'base_score': None, 'booster': None, 'colsample_bylevel': 1, 'colsample_bynode': 1, 'colsample_bytree': 0.8, 'enable_categorical': False, 'gamma': 0, 'gpu_id': None, 'importance_type': None, 'interaction_constraints': None, 'learning_rate': 0.1, 'max_delta_step': None, 'max_depth': None, 'min_child_weight': None, 'missing': nan, 'monotone_constraints': None, 'n_estimators': 200, 'n_jobs': None, 'num_parallel_tree': None, 'predictor': None, 'random_state': None, 'reg_alpha': 1, 'reg_lambda': 1, 'scale_pos_weight': None, 'subsample': None, 'tree_method': None, 'validate_parameters': None, 'verbosity': None} \n",
      "\n"
     ]
    }
   ],
   "source": [
    "# 1. XGBRegressor \n",
    "model = XGBRegressor(n_estimators=200,colsample_bylevel=1,colsample_bynode=1,\n",
    "                     colsample_bytree=0.8,reg_alpha=1, reg_lambda=1,gamma=0,learning_rate=0.1)\n",
    "hyperparameters = model.get_params()\n",
    "print(type(model), '\\n')\n",
    "print('Model hyperparameters:', hyperparameters, '\\n')"
   ]
  },
  {
   "cell_type": "markdown",
   "id": "1aaf37b1",
   "metadata": {},
   "source": [
    "## Model training with validation"
   ]
  },
  {
   "cell_type": "code",
   "execution_count": 72,
   "id": "6f3e3373",
   "metadata": {},
   "outputs": [
    {
     "name": "stdout",
     "output_type": "stream",
     "text": [
      "[0]\tvalidation_0-rmse:4597.86719\tvalidation_1-rmse:4446.51709\n",
      "[1]\tvalidation_0-rmse:4154.05176\tvalidation_1-rmse:4016.38989\n",
      "[2]\tvalidation_0-rmse:3755.45312\tvalidation_1-rmse:3630.23901\n",
      "[3]\tvalidation_0-rmse:3398.71362\tvalidation_1-rmse:3283.22827\n",
      "[4]\tvalidation_0-rmse:3076.13110\tvalidation_1-rmse:2970.41894\n",
      "[5]\tvalidation_0-rmse:2786.62207\tvalidation_1-rmse:2689.10156\n",
      "[6]\tvalidation_0-rmse:2528.18408\tvalidation_1-rmse:2438.35474\n",
      "[7]\tvalidation_0-rmse:2294.86645\tvalidation_1-rmse:2213.35474\n",
      "[8]\tvalidation_0-rmse:2085.76392\tvalidation_1-rmse:2010.49927\n",
      "[9]\tvalidation_0-rmse:1898.60156\tvalidation_1-rmse:1829.47827\n",
      "[10]\tvalidation_0-rmse:1731.58240\tvalidation_1-rmse:1667.54468\n",
      "[11]\tvalidation_0-rmse:1581.85364\tvalidation_1-rmse:1523.21728\n",
      "[12]\tvalidation_0-rmse:1448.12134\tvalidation_1-rmse:1394.22571\n",
      "[13]\tvalidation_0-rmse:1327.11792\tvalidation_1-rmse:1277.87317\n",
      "[14]\tvalidation_0-rmse:1221.89075\tvalidation_1-rmse:1175.31030\n",
      "[15]\tvalidation_0-rmse:1127.50476\tvalidation_1-rmse:1084.45801\n",
      "[16]\tvalidation_0-rmse:1042.53577\tvalidation_1-rmse:1003.52521\n",
      "[17]\tvalidation_0-rmse:966.62756\tvalidation_1-rmse:930.28217\n",
      "[18]\tvalidation_0-rmse:899.23590\tvalidation_1-rmse:866.69928\n",
      "[19]\tvalidation_0-rmse:840.13007\tvalidation_1-rmse:810.91711\n",
      "[20]\tvalidation_0-rmse:787.51495\tvalidation_1-rmse:760.74853\n",
      "[21]\tvalidation_0-rmse:741.77618\tvalidation_1-rmse:719.00964\n",
      "[22]\tvalidation_0-rmse:699.73083\tvalidation_1-rmse:680.05597\n",
      "[23]\tvalidation_0-rmse:663.42004\tvalidation_1-rmse:646.79260\n",
      "[24]\tvalidation_0-rmse:631.95575\tvalidation_1-rmse:618.78040\n",
      "[25]\tvalidation_0-rmse:604.92212\tvalidation_1-rmse:594.81464\n",
      "[26]\tvalidation_0-rmse:580.95734\tvalidation_1-rmse:574.38361\n",
      "[27]\tvalidation_0-rmse:559.84351\tvalidation_1-rmse:555.76306\n",
      "[28]\tvalidation_0-rmse:542.24957\tvalidation_1-rmse:540.52197\n",
      "[29]\tvalidation_0-rmse:526.05896\tvalidation_1-rmse:526.63318\n",
      "[30]\tvalidation_0-rmse:512.63391\tvalidation_1-rmse:515.34796\n",
      "[31]\tvalidation_0-rmse:500.66766\tvalidation_1-rmse:506.19247\n",
      "[32]\tvalidation_0-rmse:490.64594\tvalidation_1-rmse:498.47327\n",
      "[33]\tvalidation_0-rmse:482.09805\tvalidation_1-rmse:491.67856\n",
      "[34]\tvalidation_0-rmse:474.47452\tvalidation_1-rmse:486.27576\n",
      "[35]\tvalidation_0-rmse:468.13946\tvalidation_1-rmse:481.58603\n",
      "[36]\tvalidation_0-rmse:461.69327\tvalidation_1-rmse:476.27060\n",
      "[37]\tvalidation_0-rmse:456.19125\tvalidation_1-rmse:472.45657\n",
      "[38]\tvalidation_0-rmse:451.25488\tvalidation_1-rmse:468.97714\n",
      "[39]\tvalidation_0-rmse:447.55173\tvalidation_1-rmse:466.53989\n",
      "[40]\tvalidation_0-rmse:443.99960\tvalidation_1-rmse:464.04883\n",
      "[41]\tvalidation_0-rmse:440.95386\tvalidation_1-rmse:462.36426\n",
      "[42]\tvalidation_0-rmse:437.68359\tvalidation_1-rmse:460.20178\n",
      "[43]\tvalidation_0-rmse:434.97568\tvalidation_1-rmse:458.20914\n",
      "[44]\tvalidation_0-rmse:432.66632\tvalidation_1-rmse:457.30301\n",
      "[45]\tvalidation_0-rmse:430.71646\tvalidation_1-rmse:456.12692\n",
      "[46]\tvalidation_0-rmse:428.49841\tvalidation_1-rmse:455.21152\n",
      "[47]\tvalidation_0-rmse:426.95145\tvalidation_1-rmse:454.36014\n",
      "[48]\tvalidation_0-rmse:424.98233\tvalidation_1-rmse:453.14230\n",
      "[49]\tvalidation_0-rmse:422.79266\tvalidation_1-rmse:452.12903\n",
      "[50]\tvalidation_0-rmse:421.36548\tvalidation_1-rmse:451.45087\n",
      "[51]\tvalidation_0-rmse:419.61233\tvalidation_1-rmse:450.44437\n",
      "[52]\tvalidation_0-rmse:418.30426\tvalidation_1-rmse:450.02515\n",
      "[53]\tvalidation_0-rmse:417.42062\tvalidation_1-rmse:449.54669\n",
      "[54]\tvalidation_0-rmse:416.04889\tvalidation_1-rmse:449.03958\n",
      "[55]\tvalidation_0-rmse:414.92886\tvalidation_1-rmse:448.37149\n",
      "[56]\tvalidation_0-rmse:413.30225\tvalidation_1-rmse:447.53467\n",
      "[57]\tvalidation_0-rmse:411.29587\tvalidation_1-rmse:446.72913\n",
      "[58]\tvalidation_0-rmse:410.28836\tvalidation_1-rmse:445.98587\n",
      "[59]\tvalidation_0-rmse:409.46768\tvalidation_1-rmse:445.83954\n",
      "[60]\tvalidation_0-rmse:408.44519\tvalidation_1-rmse:445.79816\n",
      "[61]\tvalidation_0-rmse:407.19781\tvalidation_1-rmse:445.30115\n",
      "[62]\tvalidation_0-rmse:405.79361\tvalidation_1-rmse:444.83279\n",
      "[63]\tvalidation_0-rmse:405.22067\tvalidation_1-rmse:444.60150\n",
      "[64]\tvalidation_0-rmse:404.16144\tvalidation_1-rmse:444.32239\n",
      "[65]\tvalidation_0-rmse:402.63388\tvalidation_1-rmse:443.82324\n",
      "[66]\tvalidation_0-rmse:401.28464\tvalidation_1-rmse:443.42395\n",
      "[67]\tvalidation_0-rmse:400.74103\tvalidation_1-rmse:442.98285\n",
      "[68]\tvalidation_0-rmse:399.87891\tvalidation_1-rmse:442.90555\n",
      "[69]\tvalidation_0-rmse:399.03500\tvalidation_1-rmse:442.79044\n",
      "[70]\tvalidation_0-rmse:397.69098\tvalidation_1-rmse:442.24701\n",
      "[71]\tvalidation_0-rmse:397.09299\tvalidation_1-rmse:442.19424\n",
      "[72]\tvalidation_0-rmse:395.98541\tvalidation_1-rmse:441.97848\n",
      "[73]\tvalidation_0-rmse:395.17258\tvalidation_1-rmse:441.52060\n",
      "[74]\tvalidation_0-rmse:394.33377\tvalidation_1-rmse:441.67490\n",
      "[75]\tvalidation_0-rmse:393.86868\tvalidation_1-rmse:441.26321\n",
      "[76]\tvalidation_0-rmse:392.84348\tvalidation_1-rmse:441.12158\n",
      "[77]\tvalidation_0-rmse:392.14935\tvalidation_1-rmse:440.77005\n",
      "[78]\tvalidation_0-rmse:391.41092\tvalidation_1-rmse:440.80887\n",
      "[79]\tvalidation_0-rmse:390.41782\tvalidation_1-rmse:440.29599\n",
      "[80]\tvalidation_0-rmse:389.80277\tvalidation_1-rmse:440.28110\n",
      "[81]\tvalidation_0-rmse:389.05869\tvalidation_1-rmse:440.20373\n",
      "[82]\tvalidation_0-rmse:387.94995\tvalidation_1-rmse:439.95676\n",
      "[83]\tvalidation_0-rmse:387.15619\tvalidation_1-rmse:439.66715\n",
      "[84]\tvalidation_0-rmse:386.45193\tvalidation_1-rmse:439.36105\n",
      "[85]\tvalidation_0-rmse:385.04163\tvalidation_1-rmse:439.01785\n",
      "[86]\tvalidation_0-rmse:384.32391\tvalidation_1-rmse:438.89981\n",
      "[87]\tvalidation_0-rmse:384.03635\tvalidation_1-rmse:438.91730\n",
      "[88]\tvalidation_0-rmse:383.12659\tvalidation_1-rmse:438.83954\n",
      "[89]\tvalidation_0-rmse:381.98025\tvalidation_1-rmse:438.80997\n",
      "[90]\tvalidation_0-rmse:380.99802\tvalidation_1-rmse:438.46332\n",
      "[91]\tvalidation_0-rmse:380.73758\tvalidation_1-rmse:438.34506\n",
      "[92]\tvalidation_0-rmse:380.61426\tvalidation_1-rmse:438.36203\n",
      "[93]\tvalidation_0-rmse:379.55051\tvalidation_1-rmse:438.34427\n",
      "[94]\tvalidation_0-rmse:378.93497\tvalidation_1-rmse:438.18384\n",
      "[95]\tvalidation_0-rmse:378.05283\tvalidation_1-rmse:437.98273\n",
      "[96]\tvalidation_0-rmse:377.22250\tvalidation_1-rmse:437.99280\n",
      "[97]\tvalidation_0-rmse:376.72253\tvalidation_1-rmse:438.19788\n",
      "[98]\tvalidation_0-rmse:375.86408\tvalidation_1-rmse:438.23914\n",
      "[99]\tvalidation_0-rmse:375.76807\tvalidation_1-rmse:438.18420\n",
      "[100]\tvalidation_0-rmse:374.72855\tvalidation_1-rmse:437.92581\n",
      "[101]\tvalidation_0-rmse:373.22272\tvalidation_1-rmse:437.66248\n",
      "[102]\tvalidation_0-rmse:373.12802\tvalidation_1-rmse:437.62753\n",
      "[103]\tvalidation_0-rmse:372.88440\tvalidation_1-rmse:437.52200\n",
      "[104]\tvalidation_0-rmse:371.61328\tvalidation_1-rmse:437.69961\n",
      "[105]\tvalidation_0-rmse:371.13953\tvalidation_1-rmse:437.80072\n",
      "[106]\tvalidation_0-rmse:370.85117\tvalidation_1-rmse:437.80072\n",
      "[107]\tvalidation_0-rmse:370.60870\tvalidation_1-rmse:437.71790\n",
      "[108]\tvalidation_0-rmse:369.97385\tvalidation_1-rmse:437.81836\n",
      "[109]\tvalidation_0-rmse:369.48593\tvalidation_1-rmse:437.63071\n",
      "[110]\tvalidation_0-rmse:368.70880\tvalidation_1-rmse:437.69311\n",
      "[111]\tvalidation_0-rmse:368.26337\tvalidation_1-rmse:437.97604\n",
      "[112]\tvalidation_0-rmse:367.76605\tvalidation_1-rmse:437.84436\n",
      "[113]\tvalidation_0-rmse:366.46948\tvalidation_1-rmse:437.63180\n",
      "[114]\tvalidation_0-rmse:366.08914\tvalidation_1-rmse:437.72058\n",
      "[115]\tvalidation_0-rmse:365.45822\tvalidation_1-rmse:437.68390\n",
      "[116]\tvalidation_0-rmse:365.40479\tvalidation_1-rmse:437.62903\n",
      "[117]\tvalidation_0-rmse:364.84177\tvalidation_1-rmse:437.71042\n",
      "[118]\tvalidation_0-rmse:363.80978\tvalidation_1-rmse:437.79233\n",
      "[119]\tvalidation_0-rmse:363.35501\tvalidation_1-rmse:437.63284\n",
      "[120]\tvalidation_0-rmse:363.06647\tvalidation_1-rmse:437.63803\n",
      "[121]\tvalidation_0-rmse:362.33765\tvalidation_1-rmse:437.66766\n",
      "[122]\tvalidation_0-rmse:361.80234\tvalidation_1-rmse:437.68744\n",
      "[123]\tvalidation_0-rmse:360.47333\tvalidation_1-rmse:437.38608\n",
      "[124]\tvalidation_0-rmse:360.19681\tvalidation_1-rmse:437.42987\n",
      "[125]\tvalidation_0-rmse:360.12039\tvalidation_1-rmse:437.44412\n",
      "[126]\tvalidation_0-rmse:359.52966\tvalidation_1-rmse:437.52594\n",
      "[127]\tvalidation_0-rmse:358.46167\tvalidation_1-rmse:437.55704\n",
      "[128]\tvalidation_0-rmse:358.24445\tvalidation_1-rmse:437.52829\n",
      "[129]\tvalidation_0-rmse:357.68814\tvalidation_1-rmse:437.49405\n",
      "[130]\tvalidation_0-rmse:357.60651\tvalidation_1-rmse:437.44699\n",
      "[131]\tvalidation_0-rmse:357.53470\tvalidation_1-rmse:437.36514\n",
      "[132]\tvalidation_0-rmse:356.76910\tvalidation_1-rmse:437.49689\n",
      "[133]\tvalidation_0-rmse:356.62778\tvalidation_1-rmse:437.47275\n"
     ]
    },
    {
     "name": "stdout",
     "output_type": "stream",
     "text": [
      "[134]\tvalidation_0-rmse:356.05078\tvalidation_1-rmse:437.44522\n",
      "[135]\tvalidation_0-rmse:355.93729\tvalidation_1-rmse:437.36624\n",
      "[136]\tvalidation_0-rmse:355.56338\tvalidation_1-rmse:437.26260\n",
      "[137]\tvalidation_0-rmse:354.86835\tvalidation_1-rmse:437.43369\n",
      "[138]\tvalidation_0-rmse:354.57373\tvalidation_1-rmse:437.25006\n",
      "[139]\tvalidation_0-rmse:354.28912\tvalidation_1-rmse:437.06625\n",
      "[140]\tvalidation_0-rmse:353.90326\tvalidation_1-rmse:437.03711\n",
      "[141]\tvalidation_0-rmse:353.76443\tvalidation_1-rmse:437.05603\n",
      "[142]\tvalidation_0-rmse:353.63696\tvalidation_1-rmse:437.11060\n",
      "[143]\tvalidation_0-rmse:352.92044\tvalidation_1-rmse:437.17844\n",
      "[144]\tvalidation_0-rmse:352.55740\tvalidation_1-rmse:437.02118\n",
      "[145]\tvalidation_0-rmse:352.28189\tvalidation_1-rmse:437.04645\n",
      "[146]\tvalidation_0-rmse:351.35535\tvalidation_1-rmse:436.90628\n",
      "[147]\tvalidation_0-rmse:350.76575\tvalidation_1-rmse:436.84860\n",
      "[148]\tvalidation_0-rmse:349.89053\tvalidation_1-rmse:437.22345\n",
      "[149]\tvalidation_0-rmse:349.37772\tvalidation_1-rmse:437.28180\n",
      "[150]\tvalidation_0-rmse:348.46274\tvalidation_1-rmse:437.02652\n",
      "[151]\tvalidation_0-rmse:348.04065\tvalidation_1-rmse:437.03058\n",
      "[152]\tvalidation_0-rmse:347.31656\tvalidation_1-rmse:437.06625\n",
      "[153]\tvalidation_0-rmse:346.39975\tvalidation_1-rmse:437.19791\n",
      "[154]\tvalidation_0-rmse:345.95196\tvalidation_1-rmse:437.17242\n",
      "[155]\tvalidation_0-rmse:345.68369\tvalidation_1-rmse:437.03964\n",
      "[156]\tvalidation_0-rmse:345.09735\tvalidation_1-rmse:437.00690\n",
      "[157]\tvalidation_0-rmse:344.74460\tvalidation_1-rmse:437.04910\n",
      "[158]\tvalidation_0-rmse:343.94519\tvalidation_1-rmse:437.08966\n",
      "[159]\tvalidation_0-rmse:343.42261\tvalidation_1-rmse:437.09247\n",
      "[160]\tvalidation_0-rmse:343.36945\tvalidation_1-rmse:436.92816\n",
      "[161]\tvalidation_0-rmse:343.02451\tvalidation_1-rmse:436.91644\n",
      "[162]\tvalidation_0-rmse:342.37976\tvalidation_1-rmse:437.13214\n",
      "[163]\tvalidation_0-rmse:341.90830\tvalidation_1-rmse:437.24716\n",
      "[164]\tvalidation_0-rmse:341.21536\tvalidation_1-rmse:437.11139\n",
      "[165]\tvalidation_0-rmse:340.81799\tvalidation_1-rmse:437.05487\n",
      "[166]\tvalidation_0-rmse:340.75861\tvalidation_1-rmse:437.01950\n",
      "[167]\tvalidation_0-rmse:339.93585\tvalidation_1-rmse:436.86658\n",
      "[168]\tvalidation_0-rmse:339.82632\tvalidation_1-rmse:436.80002\n",
      "[169]\tvalidation_0-rmse:339.23541\tvalidation_1-rmse:436.72052\n",
      "[170]\tvalidation_0-rmse:338.96204\tvalidation_1-rmse:436.80200\n",
      "[171]\tvalidation_0-rmse:338.54804\tvalidation_1-rmse:436.82431\n",
      "[172]\tvalidation_0-rmse:338.07342\tvalidation_1-rmse:436.68857\n",
      "[173]\tvalidation_0-rmse:338.04135\tvalidation_1-rmse:436.69110\n",
      "[174]\tvalidation_0-rmse:337.62735\tvalidation_1-rmse:436.76181\n",
      "[175]\tvalidation_0-rmse:337.20727\tvalidation_1-rmse:436.78375\n",
      "[176]\tvalidation_0-rmse:337.12802\tvalidation_1-rmse:436.73349\n",
      "[177]\tvalidation_0-rmse:336.97806\tvalidation_1-rmse:436.74579\n",
      "[178]\tvalidation_0-rmse:336.72086\tvalidation_1-rmse:436.77600\n",
      "[179]\tvalidation_0-rmse:336.18070\tvalidation_1-rmse:436.80655\n",
      "[180]\tvalidation_0-rmse:335.88257\tvalidation_1-rmse:436.85834\n",
      "[181]\tvalidation_0-rmse:335.54782\tvalidation_1-rmse:436.79886\n",
      "[182]\tvalidation_0-rmse:334.68704\tvalidation_1-rmse:436.77094\n",
      "[183]\tvalidation_0-rmse:334.44504\tvalidation_1-rmse:436.67734\n",
      "[184]\tvalidation_0-rmse:333.77985\tvalidation_1-rmse:436.77853\n",
      "[185]\tvalidation_0-rmse:333.68243\tvalidation_1-rmse:436.71045\n",
      "[186]\tvalidation_0-rmse:332.95041\tvalidation_1-rmse:436.73648\n",
      "[187]\tvalidation_0-rmse:332.46902\tvalidation_1-rmse:436.83646\n",
      "[188]\tvalidation_0-rmse:332.40012\tvalidation_1-rmse:436.79495\n",
      "[189]\tvalidation_0-rmse:331.89868\tvalidation_1-rmse:436.70218\n",
      "[190]\tvalidation_0-rmse:331.49863\tvalidation_1-rmse:436.71783\n",
      "[191]\tvalidation_0-rmse:331.18695\tvalidation_1-rmse:436.79684\n",
      "[192]\tvalidation_0-rmse:330.89243\tvalidation_1-rmse:436.87689\n",
      "[193]\tvalidation_0-rmse:330.38971\tvalidation_1-rmse:436.91800\n",
      "[194]\tvalidation_0-rmse:329.78543\tvalidation_1-rmse:436.78024\n",
      "[195]\tvalidation_0-rmse:329.52795\tvalidation_1-rmse:436.91385\n",
      "[196]\tvalidation_0-rmse:329.25357\tvalidation_1-rmse:436.83130\n",
      "[197]\tvalidation_0-rmse:328.84421\tvalidation_1-rmse:436.70514\n",
      "[198]\tvalidation_0-rmse:328.80173\tvalidation_1-rmse:436.65344\n",
      "[199]\tvalidation_0-rmse:328.70068\tvalidation_1-rmse:436.70178\n",
      "CPU times: user 24.4 s, sys: 1.04 s, total: 25.5 s\n",
      "Wall time: 4.26 s\n"
     ]
    },
    {
     "data": {
      "text/plain": [
       "XGBRegressor(base_score=0.5, booster='gbtree', colsample_bylevel=1,\n",
       "             colsample_bynode=1, colsample_bytree=0.8, enable_categorical=False,\n",
       "             gamma=0, gpu_id=-1, importance_type=None,\n",
       "             interaction_constraints='', learning_rate=0.1, max_delta_step=0,\n",
       "             max_depth=6, min_child_weight=1, missing=nan,\n",
       "             monotone_constraints='()', n_estimators=200, n_jobs=8,\n",
       "             num_parallel_tree=1, predictor='auto', random_state=0, reg_alpha=1,\n",
       "             reg_lambda=1, scale_pos_weight=1, subsample=1, tree_method='exact',\n",
       "             validate_parameters=1, verbosity=None)"
      ]
     },
     "execution_count": 72,
     "metadata": {},
     "output_type": "execute_result"
    }
   ],
   "source": [
    "%%time\n",
    "# Model training\n",
    "model.fit(X_train, y_train,eval_set=[(X_train,y_train),(X_val,y_val)],early_stopping_rounds=40)"
   ]
  },
  {
   "cell_type": "code",
   "execution_count": 30,
   "id": "114ebca5",
   "metadata": {},
   "outputs": [
    {
     "name": "stdout",
     "output_type": "stream",
     "text": [
      "<class 'numpy.ndarray'>\n",
      "CPU times: user 87.2 ms, sys: 5.77 ms, total: 93 ms\n",
      "Wall time: 18.9 ms\n"
     ]
    }
   ],
   "source": [
    "%%time\n",
    "# Model predictions\n",
    "y_pred_val = model.predict(X_val)\n",
    "print(type(y_pred_val))"
   ]
  },
  {
   "cell_type": "markdown",
   "id": "9d6b94a3",
   "metadata": {},
   "source": [
    "## Training set error"
   ]
  },
  {
   "cell_type": "code",
   "execution_count": 31,
   "id": "af5fb28b",
   "metadata": {},
   "outputs": [
    {
     "name": "stdout",
     "output_type": "stream",
     "text": [
      "<class 'numpy.ndarray'>\n",
      "CPU times: user 212 ms, sys: 4.26 ms, total: 216 ms\n",
      "Wall time: 42.8 ms\n"
     ]
    }
   ],
   "source": [
    "%%time\n",
    "# Model predictions\n",
    "y_pred_train = model.predict(X_train)\n",
    "print(type(y_pred_train))"
   ]
  },
  {
   "cell_type": "code",
   "execution_count": 32,
   "id": "a88fcb5b",
   "metadata": {},
   "outputs": [
    {
     "name": "stdout",
     "output_type": "stream",
     "text": [
      "CPU times: user 810 µs, sys: 188 µs, total: 998 µs\n",
      "Wall time: 864 µs\n"
     ]
    },
    {
     "data": {
      "text/plain": [
       "327.9151117133446"
      ]
     },
     "execution_count": 32,
     "metadata": {},
     "output_type": "execute_result"
    }
   ],
   "source": [
    "%%time\n",
    "# Model predictions\n",
    "rmse_train = mean_squared_error(y_train, y_pred_train)**0.5\n",
    "rmse_train"
   ]
  },
  {
   "cell_type": "code",
   "execution_count": 33,
   "id": "d1b6a927",
   "metadata": {},
   "outputs": [
    {
     "data": {
      "text/plain": [
       "0.9843800696974195"
      ]
     },
     "execution_count": 33,
     "metadata": {},
     "output_type": "execute_result"
    }
   ],
   "source": [
    "r2r = r2_score(y_val, y_pred_val)\n",
    "r2r"
   ]
  },
  {
   "cell_type": "markdown",
   "id": "2bfd4334",
   "metadata": {},
   "source": [
    "## Model validation"
   ]
  },
  {
   "cell_type": "code",
   "execution_count": 34,
   "id": "b1abc6aa",
   "metadata": {},
   "outputs": [
    {
     "name": "stdout",
     "output_type": "stream",
     "text": [
      "<class 'numpy.ndarray'>\n",
      "CPU times: user 79.8 ms, sys: 3.78 ms, total: 83.6 ms\n",
      "Wall time: 14.8 ms\n"
     ]
    }
   ],
   "source": [
    "%%time\n",
    "# Model predictions\n",
    "y_pred_val = model.predict(X_val)\n",
    "print(type(y_pred_val))"
   ]
  },
  {
   "cell_type": "code",
   "execution_count": 35,
   "id": "589c945e",
   "metadata": {},
   "outputs": [
    {
     "data": {
      "text/plain": [
       "432.4088790927343"
      ]
     },
     "execution_count": 35,
     "metadata": {},
     "output_type": "execute_result"
    }
   ],
   "source": [
    "#432\n",
    "rmse_val = mean_squared_error(y_val, y_pred_val)**0.5\n",
    "rmse_val"
   ]
  },
  {
   "cell_type": "code",
   "execution_count": 36,
   "id": "e4b6f7bf",
   "metadata": {},
   "outputs": [
    {
     "data": {
      "text/plain": [
       "0.9843800696974195"
      ]
     },
     "execution_count": 36,
     "metadata": {},
     "output_type": "execute_result"
    }
   ],
   "source": [
    "r2r = r2_score(y_val, y_pred_val)\n",
    "r2r"
   ]
  },
  {
   "cell_type": "markdown",
   "id": "46e824c3",
   "metadata": {},
   "source": [
    "## Model training without validation"
   ]
  },
  {
   "cell_type": "code",
   "execution_count": 37,
   "id": "643a3878",
   "metadata": {},
   "outputs": [
    {
     "name": "stdout",
     "output_type": "stream",
     "text": [
      "Model: XGBRegressor(base_score=0.5, booster='gbtree', colsample_bylevel=1,\n",
      "             colsample_bynode=1, colsample_bytree=0.8, enable_categorical=False,\n",
      "             gamma=0, gpu_id=-1, importance_type=None,\n",
      "             interaction_constraints='', learning_rate=0.1, max_delta_step=0,\n",
      "             max_depth=6, min_child_weight=1, missing=nan,\n",
      "             monotone_constraints='()', n_estimators=200, n_jobs=8,\n",
      "             num_parallel_tree=1, predictor='auto', random_state=0, reg_alpha=1,\n",
      "             reg_lambda=1, scale_pos_weight=1, subsample=1, tree_method='exact',\n",
      "             validate_parameters=1, verbosity=None) \n",
      "\n",
      "Model hyperparameters: {'objective': 'reg:squarederror', 'base_score': None, 'booster': None, 'colsample_bylevel': 1, 'colsample_bynode': 1, 'colsample_bytree': 0.8, 'enable_categorical': False, 'gamma': 0, 'gpu_id': None, 'importance_type': None, 'interaction_constraints': None, 'learning_rate': 0.1, 'max_delta_step': None, 'max_depth': None, 'min_child_weight': None, 'missing': nan, 'monotone_constraints': None, 'n_estimators': 200, 'n_jobs': None, 'num_parallel_tree': None, 'predictor': None, 'random_state': None, 'reg_alpha': 1, 'reg_lambda': 1, 'scale_pos_weight': None, 'subsample': None, 'tree_method': None, 'validate_parameters': None, 'verbosity': None} \n",
      "\n",
      "CPU times: user 26.5 s, sys: 235 ms, total: 26.8 s\n",
      "Wall time: 3.51 s\n"
     ]
    }
   ],
   "source": [
    "%%time\n",
    "# Model training\n",
    "model.fit(X, y)\n",
    "print('Model:', model, '\\n')\n",
    "print('Model hyperparameters:', hyperparameters, '\\n')"
   ]
  },
  {
   "cell_type": "markdown",
   "id": "8f5f534f",
   "metadata": {},
   "source": [
    "## Test Preditions"
   ]
  },
  {
   "cell_type": "code",
   "execution_count": 38,
   "id": "9085827c",
   "metadata": {},
   "outputs": [],
   "source": [
    "predictions = model.predict(X_test)"
   ]
  },
  {
   "cell_type": "code",
   "execution_count": 39,
   "id": "4d010675",
   "metadata": {},
   "outputs": [],
   "source": [
    "predictions=pd.DataFrame(predictions)"
   ]
  },
  {
   "cell_type": "code",
   "execution_count": 40,
   "id": "9d2ca3df",
   "metadata": {},
   "outputs": [],
   "source": [
    "predictions.reset_index(inplace=True)"
   ]
  },
  {
   "cell_type": "code",
   "execution_count": 41,
   "id": "2c805a71",
   "metadata": {},
   "outputs": [],
   "source": [
    "predictions=predictions.rename({0: 'price','index': 'id'}, axis=1)"
   ]
  },
  {
   "cell_type": "markdown",
   "id": "01a0cf38",
   "metadata": {},
   "source": [
    "## Save Preditions"
   ]
  },
  {
   "cell_type": "code",
   "execution_count": 42,
   "id": "da3f74be",
   "metadata": {},
   "outputs": [],
   "source": [
    "predictions.to_csv('../data/diamonds_predictions_XGBRegressor.csv',index=False)"
   ]
  },
  {
   "cell_type": "code",
   "execution_count": 43,
   "id": "3d7422a5",
   "metadata": {},
   "outputs": [
    {
     "data": {
      "text/html": [
       "<div>\n",
       "<style scoped>\n",
       "    .dataframe tbody tr th:only-of-type {\n",
       "        vertical-align: middle;\n",
       "    }\n",
       "\n",
       "    .dataframe tbody tr th {\n",
       "        vertical-align: top;\n",
       "    }\n",
       "\n",
       "    .dataframe thead th {\n",
       "        text-align: right;\n",
       "    }\n",
       "</style>\n",
       "<table border=\"1\" class=\"dataframe\">\n",
       "  <thead>\n",
       "    <tr style=\"text-align: right;\">\n",
       "      <th></th>\n",
       "      <th>id</th>\n",
       "      <th>price</th>\n",
       "    </tr>\n",
       "  </thead>\n",
       "  <tbody>\n",
       "    <tr>\n",
       "      <th>0</th>\n",
       "      <td>0</td>\n",
       "      <td>2846.529785</td>\n",
       "    </tr>\n",
       "    <tr>\n",
       "      <th>1</th>\n",
       "      <td>1</td>\n",
       "      <td>5471.448242</td>\n",
       "    </tr>\n",
       "    <tr>\n",
       "      <th>2</th>\n",
       "      <td>2</td>\n",
       "      <td>9773.541016</td>\n",
       "    </tr>\n",
       "    <tr>\n",
       "      <th>3</th>\n",
       "      <td>3</td>\n",
       "      <td>3964.055420</td>\n",
       "    </tr>\n",
       "    <tr>\n",
       "      <th>4</th>\n",
       "      <td>4</td>\n",
       "      <td>1631.235474</td>\n",
       "    </tr>\n",
       "    <tr>\n",
       "      <th>...</th>\n",
       "      <td>...</td>\n",
       "      <td>...</td>\n",
       "    </tr>\n",
       "    <tr>\n",
       "      <th>13480</th>\n",
       "      <td>13480</td>\n",
       "      <td>1640.777710</td>\n",
       "    </tr>\n",
       "    <tr>\n",
       "      <th>13481</th>\n",
       "      <td>13481</td>\n",
       "      <td>2487.817627</td>\n",
       "    </tr>\n",
       "    <tr>\n",
       "      <th>13482</th>\n",
       "      <td>13482</td>\n",
       "      <td>3234.020020</td>\n",
       "    </tr>\n",
       "    <tr>\n",
       "      <th>13483</th>\n",
       "      <td>13483</td>\n",
       "      <td>2202.828125</td>\n",
       "    </tr>\n",
       "    <tr>\n",
       "      <th>13484</th>\n",
       "      <td>13484</td>\n",
       "      <td>801.580139</td>\n",
       "    </tr>\n",
       "  </tbody>\n",
       "</table>\n",
       "<p>13485 rows × 2 columns</p>\n",
       "</div>"
      ],
      "text/plain": [
       "          id        price\n",
       "0          0  2846.529785\n",
       "1          1  5471.448242\n",
       "2          2  9773.541016\n",
       "3          3  3964.055420\n",
       "4          4  1631.235474\n",
       "...      ...          ...\n",
       "13480  13480  1640.777710\n",
       "13481  13481  2487.817627\n",
       "13482  13482  3234.020020\n",
       "13483  13483  2202.828125\n",
       "13484  13484   801.580139\n",
       "\n",
       "[13485 rows x 2 columns]"
      ]
     },
     "execution_count": 43,
     "metadata": {},
     "output_type": "execute_result"
    }
   ],
   "source": [
    "predictions"
   ]
  }
 ],
 "metadata": {
  "kernelspec": {
   "display_name": "Python [conda env:ML]",
   "language": "python",
   "name": "conda-env-ML-py"
  },
  "language_info": {
   "codemirror_mode": {
    "name": "ipython",
    "version": 3
   },
   "file_extension": ".py",
   "mimetype": "text/x-python",
   "name": "python",
   "nbconvert_exporter": "python",
   "pygments_lexer": "ipython3",
   "version": "3.7.13"
  }
 },
 "nbformat": 4,
 "nbformat_minor": 5
}
