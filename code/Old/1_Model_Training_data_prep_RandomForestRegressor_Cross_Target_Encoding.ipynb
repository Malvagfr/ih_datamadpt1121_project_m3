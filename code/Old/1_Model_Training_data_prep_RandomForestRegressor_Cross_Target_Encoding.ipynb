{
 "cells": [
  {
   "cell_type": "markdown",
   "id": "c1df95e2",
   "metadata": {},
   "source": [
    "## 0. Libraries import"
   ]
  },
  {
   "cell_type": "code",
   "execution_count": 23,
   "id": "a17f838c",
   "metadata": {},
   "outputs": [],
   "source": [
    "# ignore warnings\n",
    "import warnings\n",
    "warnings.filterwarnings('ignore')"
   ]
  },
  {
   "cell_type": "code",
   "execution_count": 24,
   "id": "15bd2943",
   "metadata": {},
   "outputs": [],
   "source": [
    "# imports \n",
    "import numpy as np\n",
    "import pandas as pd\n",
    "import matplotlib.pyplot as plt\n",
    "# outliers\n",
    "from sklearn.datasets import load_boston\n",
    "#train test split\n",
    "from sklearn.model_selection import train_test_split\n",
    "# Hyperparameters selection\n",
    "from sklearn.model_selection import RandomizedSearchCV\n",
    "# models\n",
    "from sklearn.ensemble import RandomForestRegressor\n",
    "from xgboost import XGBRegressor\n",
    "#matplotlib\n",
    "import matplotlib.pyplot as plt\n",
    "# error\n",
    "from sklearn.metrics import mean_squared_error,r2_score"
   ]
  },
  {
   "cell_type": "markdown",
   "id": "894bdee3",
   "metadata": {},
   "source": [
    "## 1. Data import"
   ]
  },
  {
   "cell_type": "code",
   "execution_count": 25,
   "id": "b35aa513",
   "metadata": {},
   "outputs": [
    {
     "data": {
      "text/html": [
       "<div>\n",
       "<style scoped>\n",
       "    .dataframe tbody tr th:only-of-type {\n",
       "        vertical-align: middle;\n",
       "    }\n",
       "\n",
       "    .dataframe tbody tr th {\n",
       "        vertical-align: top;\n",
       "    }\n",
       "\n",
       "    .dataframe thead th {\n",
       "        text-align: right;\n",
       "    }\n",
       "</style>\n",
       "<table border=\"1\" class=\"dataframe\">\n",
       "  <thead>\n",
       "    <tr style=\"text-align: right;\">\n",
       "      <th></th>\n",
       "      <th>index_id</th>\n",
       "      <th>depth</th>\n",
       "      <th>table</th>\n",
       "      <th>x</th>\n",
       "      <th>y</th>\n",
       "      <th>z</th>\n",
       "      <th>price</th>\n",
       "      <th>carat</th>\n",
       "      <th>cut</th>\n",
       "      <th>color</th>\n",
       "      <th>clarity</th>\n",
       "      <th>city</th>\n",
       "    </tr>\n",
       "  </thead>\n",
       "  <tbody>\n",
       "    <tr>\n",
       "      <th>0</th>\n",
       "      <td>5feceb66ffc86f38d952786c6d696c79c2dbc239dd4e91...</td>\n",
       "      <td>62.4</td>\n",
       "      <td>58.0</td>\n",
       "      <td>6.83</td>\n",
       "      <td>6.79</td>\n",
       "      <td>4.25</td>\n",
       "      <td>4268</td>\n",
       "      <td>1.21</td>\n",
       "      <td>Premium</td>\n",
       "      <td>J</td>\n",
       "      <td>VS2</td>\n",
       "      <td>Dubai</td>\n",
       "    </tr>\n",
       "    <tr>\n",
       "      <th>1</th>\n",
       "      <td>6b86b273ff34fce19d6b804eff5a3f5747ada4eaa22f1d...</td>\n",
       "      <td>63.0</td>\n",
       "      <td>57.0</td>\n",
       "      <td>4.35</td>\n",
       "      <td>4.38</td>\n",
       "      <td>2.75</td>\n",
       "      <td>505</td>\n",
       "      <td>0.32</td>\n",
       "      <td>Very Good</td>\n",
       "      <td>H</td>\n",
       "      <td>VS2</td>\n",
       "      <td>Kimberly</td>\n",
       "    </tr>\n",
       "    <tr>\n",
       "      <th>2</th>\n",
       "      <td>d4735e3a265e16eee03f59718b9b5d03019c07d8b6c51f...</td>\n",
       "      <td>65.5</td>\n",
       "      <td>55.0</td>\n",
       "      <td>5.62</td>\n",
       "      <td>5.53</td>\n",
       "      <td>3.65</td>\n",
       "      <td>2686</td>\n",
       "      <td>0.71</td>\n",
       "      <td>Fair</td>\n",
       "      <td>G</td>\n",
       "      <td>VS1</td>\n",
       "      <td>Las Vegas</td>\n",
       "    </tr>\n",
       "    <tr>\n",
       "      <th>3</th>\n",
       "      <td>4e07408562bedb8b60ce05c1decfe3ad16b72230967de0...</td>\n",
       "      <td>63.8</td>\n",
       "      <td>56.0</td>\n",
       "      <td>4.68</td>\n",
       "      <td>4.72</td>\n",
       "      <td>3.00</td>\n",
       "      <td>738</td>\n",
       "      <td>0.41</td>\n",
       "      <td>Good</td>\n",
       "      <td>D</td>\n",
       "      <td>SI1</td>\n",
       "      <td>Kimberly</td>\n",
       "    </tr>\n",
       "    <tr>\n",
       "      <th>4</th>\n",
       "      <td>4b227777d4dd1fc61c6f884f48641d02b4d121d3fd328c...</td>\n",
       "      <td>60.5</td>\n",
       "      <td>59.0</td>\n",
       "      <td>6.55</td>\n",
       "      <td>6.51</td>\n",
       "      <td>3.95</td>\n",
       "      <td>4882</td>\n",
       "      <td>1.02</td>\n",
       "      <td>Ideal</td>\n",
       "      <td>G</td>\n",
       "      <td>SI1</td>\n",
       "      <td>Dubai</td>\n",
       "    </tr>\n",
       "    <tr>\n",
       "      <th>...</th>\n",
       "      <td>...</td>\n",
       "      <td>...</td>\n",
       "      <td>...</td>\n",
       "      <td>...</td>\n",
       "      <td>...</td>\n",
       "      <td>...</td>\n",
       "      <td>...</td>\n",
       "      <td>...</td>\n",
       "      <td>...</td>\n",
       "      <td>...</td>\n",
       "      <td>...</td>\n",
       "      <td>...</td>\n",
       "    </tr>\n",
       "    <tr>\n",
       "      <th>40450</th>\n",
       "      <td>f0bc79169405ebeb24e308055156b946ffd819db9b4f75...</td>\n",
       "      <td>62.7</td>\n",
       "      <td>57.0</td>\n",
       "      <td>7.10</td>\n",
       "      <td>7.04</td>\n",
       "      <td>4.43</td>\n",
       "      <td>10070</td>\n",
       "      <td>1.34</td>\n",
       "      <td>Ideal</td>\n",
       "      <td>G</td>\n",
       "      <td>VS1</td>\n",
       "      <td>Antwerp</td>\n",
       "    </tr>\n",
       "    <tr>\n",
       "      <th>40451</th>\n",
       "      <td>339916a23bf22b052b54cb2a9b36ee8418c1c68b46acad...</td>\n",
       "      <td>57.1</td>\n",
       "      <td>60.0</td>\n",
       "      <td>8.31</td>\n",
       "      <td>8.25</td>\n",
       "      <td>4.73</td>\n",
       "      <td>12615</td>\n",
       "      <td>2.02</td>\n",
       "      <td>Good</td>\n",
       "      <td>F</td>\n",
       "      <td>SI2</td>\n",
       "      <td>Madrid</td>\n",
       "    </tr>\n",
       "    <tr>\n",
       "      <th>40452</th>\n",
       "      <td>46957922b99954654c1deb8d854c3f069bf118b2ce9415...</td>\n",
       "      <td>62.7</td>\n",
       "      <td>56.0</td>\n",
       "      <td>6.37</td>\n",
       "      <td>6.42</td>\n",
       "      <td>4.01</td>\n",
       "      <td>5457</td>\n",
       "      <td>1.01</td>\n",
       "      <td>Ideal</td>\n",
       "      <td>H</td>\n",
       "      <td>SI1</td>\n",
       "      <td>Kimberly</td>\n",
       "    </tr>\n",
       "    <tr>\n",
       "      <th>40453</th>\n",
       "      <td>9d733392d362d5c6f1d9b9659b601c7d4b5a1c1c8df579...</td>\n",
       "      <td>61.9</td>\n",
       "      <td>54.3</td>\n",
       "      <td>4.45</td>\n",
       "      <td>4.47</td>\n",
       "      <td>2.76</td>\n",
       "      <td>456</td>\n",
       "      <td>0.33</td>\n",
       "      <td>Ideal</td>\n",
       "      <td>J</td>\n",
       "      <td>VS1</td>\n",
       "      <td>Kimberly</td>\n",
       "    </tr>\n",
       "    <tr>\n",
       "      <th>40454</th>\n",
       "      <td>a02744a70faa594d240b067f21fcc23a8d17cd1098a9fb...</td>\n",
       "      <td>62.0</td>\n",
       "      <td>58.0</td>\n",
       "      <td>6.83</td>\n",
       "      <td>6.88</td>\n",
       "      <td>4.25</td>\n",
       "      <td>6232</td>\n",
       "      <td>1.24</td>\n",
       "      <td>Ideal</td>\n",
       "      <td>I</td>\n",
       "      <td>SI1</td>\n",
       "      <td>London</td>\n",
       "    </tr>\n",
       "  </tbody>\n",
       "</table>\n",
       "<p>40455 rows × 12 columns</p>\n",
       "</div>"
      ],
      "text/plain": [
       "                                                index_id  depth  table     x  \\\n",
       "0      5feceb66ffc86f38d952786c6d696c79c2dbc239dd4e91...   62.4   58.0  6.83   \n",
       "1      6b86b273ff34fce19d6b804eff5a3f5747ada4eaa22f1d...   63.0   57.0  4.35   \n",
       "2      d4735e3a265e16eee03f59718b9b5d03019c07d8b6c51f...   65.5   55.0  5.62   \n",
       "3      4e07408562bedb8b60ce05c1decfe3ad16b72230967de0...   63.8   56.0  4.68   \n",
       "4      4b227777d4dd1fc61c6f884f48641d02b4d121d3fd328c...   60.5   59.0  6.55   \n",
       "...                                                  ...    ...    ...   ...   \n",
       "40450  f0bc79169405ebeb24e308055156b946ffd819db9b4f75...   62.7   57.0  7.10   \n",
       "40451  339916a23bf22b052b54cb2a9b36ee8418c1c68b46acad...   57.1   60.0  8.31   \n",
       "40452  46957922b99954654c1deb8d854c3f069bf118b2ce9415...   62.7   56.0  6.37   \n",
       "40453  9d733392d362d5c6f1d9b9659b601c7d4b5a1c1c8df579...   61.9   54.3  4.45   \n",
       "40454  a02744a70faa594d240b067f21fcc23a8d17cd1098a9fb...   62.0   58.0  6.83   \n",
       "\n",
       "          y     z  price  carat        cut color clarity       city  \n",
       "0      6.79  4.25   4268   1.21    Premium     J     VS2      Dubai  \n",
       "1      4.38  2.75    505   0.32  Very Good     H     VS2   Kimberly  \n",
       "2      5.53  3.65   2686   0.71       Fair     G     VS1  Las Vegas  \n",
       "3      4.72  3.00    738   0.41       Good     D     SI1   Kimberly  \n",
       "4      6.51  3.95   4882   1.02      Ideal     G     SI1      Dubai  \n",
       "...     ...   ...    ...    ...        ...   ...     ...        ...  \n",
       "40450  7.04  4.43  10070   1.34      Ideal     G     VS1    Antwerp  \n",
       "40451  8.25  4.73  12615   2.02       Good     F     SI2     Madrid  \n",
       "40452  6.42  4.01   5457   1.01      Ideal     H     SI1   Kimberly  \n",
       "40453  4.47  2.76    456   0.33      Ideal     J     VS1   Kimberly  \n",
       "40454  6.88  4.25   6232   1.24      Ideal     I     SI1     London  \n",
       "\n",
       "[40455 rows x 12 columns]"
      ]
     },
     "execution_count": 25,
     "metadata": {},
     "output_type": "execute_result"
    }
   ],
   "source": [
    "# Impor train data\n",
    "df_diamonds_train=pd.read_csv('../data/diamonds_train.csv')\n",
    "df_diamonds_train.pop(\"Unnamed: 0\")\n",
    "df_diamonds_train"
   ]
  },
  {
   "cell_type": "code",
   "execution_count": 26,
   "id": "65ba238d",
   "metadata": {},
   "outputs": [
    {
     "data": {
      "text/html": [
       "<div>\n",
       "<style scoped>\n",
       "    .dataframe tbody tr th:only-of-type {\n",
       "        vertical-align: middle;\n",
       "    }\n",
       "\n",
       "    .dataframe tbody tr th {\n",
       "        vertical-align: top;\n",
       "    }\n",
       "\n",
       "    .dataframe thead th {\n",
       "        text-align: right;\n",
       "    }\n",
       "</style>\n",
       "<table border=\"1\" class=\"dataframe\">\n",
       "  <thead>\n",
       "    <tr style=\"text-align: right;\">\n",
       "      <th></th>\n",
       "      <th>id</th>\n",
       "      <th>carat</th>\n",
       "      <th>cut</th>\n",
       "      <th>color</th>\n",
       "      <th>clarity</th>\n",
       "      <th>depth</th>\n",
       "      <th>table</th>\n",
       "      <th>x</th>\n",
       "      <th>y</th>\n",
       "      <th>z</th>\n",
       "      <th>city</th>\n",
       "    </tr>\n",
       "  </thead>\n",
       "  <tbody>\n",
       "    <tr>\n",
       "      <th>0</th>\n",
       "      <td>0</td>\n",
       "      <td>0.79</td>\n",
       "      <td>Very Good</td>\n",
       "      <td>F</td>\n",
       "      <td>SI1</td>\n",
       "      <td>62.7</td>\n",
       "      <td>60.0</td>\n",
       "      <td>5.82</td>\n",
       "      <td>5.89</td>\n",
       "      <td>3.67</td>\n",
       "      <td>Amsterdam</td>\n",
       "    </tr>\n",
       "    <tr>\n",
       "      <th>1</th>\n",
       "      <td>1</td>\n",
       "      <td>1.20</td>\n",
       "      <td>Ideal</td>\n",
       "      <td>J</td>\n",
       "      <td>VS1</td>\n",
       "      <td>61.0</td>\n",
       "      <td>57.0</td>\n",
       "      <td>6.81</td>\n",
       "      <td>6.89</td>\n",
       "      <td>4.18</td>\n",
       "      <td>Surat</td>\n",
       "    </tr>\n",
       "    <tr>\n",
       "      <th>2</th>\n",
       "      <td>2</td>\n",
       "      <td>1.57</td>\n",
       "      <td>Premium</td>\n",
       "      <td>H</td>\n",
       "      <td>SI1</td>\n",
       "      <td>62.2</td>\n",
       "      <td>61.0</td>\n",
       "      <td>7.38</td>\n",
       "      <td>7.32</td>\n",
       "      <td>4.57</td>\n",
       "      <td>Kimberly</td>\n",
       "    </tr>\n",
       "    <tr>\n",
       "      <th>3</th>\n",
       "      <td>3</td>\n",
       "      <td>0.90</td>\n",
       "      <td>Very Good</td>\n",
       "      <td>F</td>\n",
       "      <td>SI1</td>\n",
       "      <td>63.8</td>\n",
       "      <td>54.0</td>\n",
       "      <td>6.09</td>\n",
       "      <td>6.13</td>\n",
       "      <td>3.90</td>\n",
       "      <td>Kimberly</td>\n",
       "    </tr>\n",
       "    <tr>\n",
       "      <th>4</th>\n",
       "      <td>4</td>\n",
       "      <td>0.50</td>\n",
       "      <td>Very Good</td>\n",
       "      <td>F</td>\n",
       "      <td>VS1</td>\n",
       "      <td>62.9</td>\n",
       "      <td>58.0</td>\n",
       "      <td>5.05</td>\n",
       "      <td>5.09</td>\n",
       "      <td>3.19</td>\n",
       "      <td>Amsterdam</td>\n",
       "    </tr>\n",
       "    <tr>\n",
       "      <th>...</th>\n",
       "      <td>...</td>\n",
       "      <td>...</td>\n",
       "      <td>...</td>\n",
       "      <td>...</td>\n",
       "      <td>...</td>\n",
       "      <td>...</td>\n",
       "      <td>...</td>\n",
       "      <td>...</td>\n",
       "      <td>...</td>\n",
       "      <td>...</td>\n",
       "      <td>...</td>\n",
       "    </tr>\n",
       "    <tr>\n",
       "      <th>13480</th>\n",
       "      <td>13480</td>\n",
       "      <td>0.57</td>\n",
       "      <td>Ideal</td>\n",
       "      <td>E</td>\n",
       "      <td>SI1</td>\n",
       "      <td>61.9</td>\n",
       "      <td>56.0</td>\n",
       "      <td>5.35</td>\n",
       "      <td>5.32</td>\n",
       "      <td>3.30</td>\n",
       "      <td>Amsterdam</td>\n",
       "    </tr>\n",
       "    <tr>\n",
       "      <th>13481</th>\n",
       "      <td>13481</td>\n",
       "      <td>0.71</td>\n",
       "      <td>Ideal</td>\n",
       "      <td>I</td>\n",
       "      <td>VS2</td>\n",
       "      <td>62.2</td>\n",
       "      <td>55.0</td>\n",
       "      <td>5.71</td>\n",
       "      <td>5.73</td>\n",
       "      <td>3.56</td>\n",
       "      <td>New York City</td>\n",
       "    </tr>\n",
       "    <tr>\n",
       "      <th>13482</th>\n",
       "      <td>13482</td>\n",
       "      <td>0.70</td>\n",
       "      <td>Ideal</td>\n",
       "      <td>F</td>\n",
       "      <td>VS1</td>\n",
       "      <td>61.6</td>\n",
       "      <td>55.0</td>\n",
       "      <td>5.75</td>\n",
       "      <td>5.71</td>\n",
       "      <td>3.53</td>\n",
       "      <td>Tel Aviv</td>\n",
       "    </tr>\n",
       "    <tr>\n",
       "      <th>13483</th>\n",
       "      <td>13483</td>\n",
       "      <td>0.70</td>\n",
       "      <td>Very Good</td>\n",
       "      <td>F</td>\n",
       "      <td>SI2</td>\n",
       "      <td>58.8</td>\n",
       "      <td>57.0</td>\n",
       "      <td>5.85</td>\n",
       "      <td>5.89</td>\n",
       "      <td>3.45</td>\n",
       "      <td>Surat</td>\n",
       "    </tr>\n",
       "    <tr>\n",
       "      <th>13484</th>\n",
       "      <td>13484</td>\n",
       "      <td>0.40</td>\n",
       "      <td>Ideal</td>\n",
       "      <td>I</td>\n",
       "      <td>VVS2</td>\n",
       "      <td>62.4</td>\n",
       "      <td>55.0</td>\n",
       "      <td>4.70</td>\n",
       "      <td>4.73</td>\n",
       "      <td>2.94</td>\n",
       "      <td>New York City</td>\n",
       "    </tr>\n",
       "  </tbody>\n",
       "</table>\n",
       "<p>13485 rows × 11 columns</p>\n",
       "</div>"
      ],
      "text/plain": [
       "          id  carat        cut color clarity  depth  table     x     y     z  \\\n",
       "0          0   0.79  Very Good     F     SI1   62.7   60.0  5.82  5.89  3.67   \n",
       "1          1   1.20      Ideal     J     VS1   61.0   57.0  6.81  6.89  4.18   \n",
       "2          2   1.57    Premium     H     SI1   62.2   61.0  7.38  7.32  4.57   \n",
       "3          3   0.90  Very Good     F     SI1   63.8   54.0  6.09  6.13  3.90   \n",
       "4          4   0.50  Very Good     F     VS1   62.9   58.0  5.05  5.09  3.19   \n",
       "...      ...    ...        ...   ...     ...    ...    ...   ...   ...   ...   \n",
       "13480  13480   0.57      Ideal     E     SI1   61.9   56.0  5.35  5.32  3.30   \n",
       "13481  13481   0.71      Ideal     I     VS2   62.2   55.0  5.71  5.73  3.56   \n",
       "13482  13482   0.70      Ideal     F     VS1   61.6   55.0  5.75  5.71  3.53   \n",
       "13483  13483   0.70  Very Good     F     SI2   58.8   57.0  5.85  5.89  3.45   \n",
       "13484  13484   0.40      Ideal     I    VVS2   62.4   55.0  4.70  4.73  2.94   \n",
       "\n",
       "                city  \n",
       "0          Amsterdam  \n",
       "1              Surat  \n",
       "2           Kimberly  \n",
       "3           Kimberly  \n",
       "4          Amsterdam  \n",
       "...              ...  \n",
       "13480      Amsterdam  \n",
       "13481  New York City  \n",
       "13482       Tel Aviv  \n",
       "13483          Surat  \n",
       "13484  New York City  \n",
       "\n",
       "[13485 rows x 11 columns]"
      ]
     },
     "execution_count": 26,
     "metadata": {},
     "output_type": "execute_result"
    }
   ],
   "source": [
    "# Import test data\n",
    "df_diamonds_test=pd.read_csv('../data/diamonds_test.csv')\n",
    "df_diamonds_test"
   ]
  },
  {
   "cell_type": "markdown",
   "id": "5aa0abf6",
   "metadata": {},
   "source": [
    "## 2. Data preparation (training set)"
   ]
  },
  {
   "cell_type": "code",
   "execution_count": 27,
   "id": "6d8c39e9",
   "metadata": {},
   "outputs": [],
   "source": [
    "# 0.Defining numerical and categorical features\n",
    "# Excluding city (with trees sometimes is better to keep variables even if they are correlated)\n",
    "num_features_list=['x','y','z','depth','table','carat']\n",
    "cat_features_list=['cut','color','clarity']\n",
    "features_list=['x','y','z','depth','table','carat','cut','color','clarity']"
   ]
  },
  {
   "cell_type": "code",
   "execution_count": 28,
   "id": "e6c91bb2",
   "metadata": {},
   "outputs": [
    {
     "name": "stdout",
     "output_type": "stream",
     "text": [
      "No 0 values\n"
     ]
    }
   ],
   "source": [
    "# 1.Checking if 0 values\n",
    "if 0 in df_diamonds_train[num_features_list]:\n",
    "    print('0 values')\n",
    "else:\n",
    "    print('No 0 values')"
   ]
  },
  {
   "cell_type": "code",
   "execution_count": 29,
   "id": "4cf77b3b",
   "metadata": {},
   "outputs": [
    {
     "data": {
      "text/plain": [
       "x        0\n",
       "y        0\n",
       "z        0\n",
       "depth    0\n",
       "table    0\n",
       "carat    0\n",
       "dtype: int64"
      ]
     },
     "execution_count": 29,
     "metadata": {},
     "output_type": "execute_result"
    }
   ],
   "source": [
    "# 2.Checking if null values\n",
    "df_diamonds_train[num_features_list].isna().sum()"
   ]
  },
  {
   "cell_type": "code",
   "execution_count": 30,
   "id": "69a573be",
   "metadata": {},
   "outputs": [],
   "source": [
    "# 3.remove outliers\n",
    "def remove_outliers(df,feature):\n",
    "    # IQR\n",
    "    Q1 = np.percentile(df[feature], 25,\n",
    "                   interpolation = 'midpoint')\n",
    "    Q3 = np.percentile(df[feature], 75,\n",
    "                   interpolation = 'midpoint')\n",
    "    IQR = Q3 - Q1\n",
    "    # Upper and lower\n",
    "    upper_limit=Q3+1.5*IQR\n",
    "    lower_limit=Q1-1.5*IQR\n",
    "    # Removing the Outliers\n",
    "    return df[(df[feature]>=lower_limit) & (df[feature]<=upper_limit)]"
   ]
  },
  {
   "cell_type": "code",
   "execution_count": 31,
   "id": "52177933",
   "metadata": {},
   "outputs": [],
   "source": [
    "df_diamonds_train=remove_outliers(df_diamonds_train,'x')\n",
    "df_diamonds_train=remove_outliers(df_diamonds_train,'y')\n",
    "df_diamonds_train=remove_outliers(df_diamonds_train,'z')\n",
    "df_diamonds_train=remove_outliers(df_diamonds_train,'depth')\n",
    "df_diamonds_train=remove_outliers(df_diamonds_train,'table')\n",
    "df_diamonds_train=remove_outliers(df_diamonds_train,'carat')"
   ]
  },
  {
   "cell_type": "code",
   "execution_count": 32,
   "id": "6edf8a74",
   "metadata": {},
   "outputs": [],
   "source": [
    "#4. Change colums to categoric\n",
    "df_diamonds_train['cut'] = df_diamonds_train['cut'].astype('category')\n",
    "df_diamonds_train['color'] = df_diamonds_train['color'].astype('category')\n",
    "df_diamonds_train['clarity'] = df_diamonds_train['clarity'].astype('category')"
   ]
  },
  {
   "cell_type": "code",
   "execution_count": 33,
   "id": "7254e164",
   "metadata": {},
   "outputs": [
    {
     "data": {
      "text/plain": [
       "(37264, 12)"
      ]
     },
     "execution_count": 33,
     "metadata": {},
     "output_type": "execute_result"
    }
   ],
   "source": [
    "df_diamonds_train.shape"
   ]
  },
  {
   "cell_type": "markdown",
   "id": "bfff0832",
   "metadata": {},
   "source": [
    "## 3. Feature engineering (training set)"
   ]
  },
  {
   "cell_type": "markdown",
   "id": "6853952a",
   "metadata": {},
   "source": [
    "Adapting categorical features for training model"
   ]
  },
  {
   "cell_type": "code",
   "execution_count": 34,
   "id": "9b835ef7",
   "metadata": {},
   "outputs": [],
   "source": [
    "# 1.Target encoding for categorical variables\n",
    "# Mean\n",
    "cut_encoding = df_diamonds_train.groupby(['cut'])['price'].mean().to_dict()\n",
    "df_diamonds_train['cut_encoding'] = df_diamonds_train['cut'].map(cut_encoding)\n",
    "color_encoding = df_diamonds_train.groupby(['color'])['price'].mean().to_dict()\n",
    "df_diamonds_train['color_encoding'] = df_diamonds_train['color'].map(color_encoding)\n",
    "clarity_encoding = df_diamonds_train.groupby(['clarity'])['price'].mean().to_dict()\n",
    "df_diamonds_train['clarity_encoding'] = df_diamonds_train['clarity'].map(clarity_encoding)\n",
    "# Std\n",
    "cut_encoding_std = df_diamonds_train.groupby(['cut'])['price'].std().to_dict()\n",
    "df_diamonds_train['cut_encoding_std'] = df_diamonds_train['cut'].map(cut_encoding_std)\n",
    "color_encoding_std = df_diamonds_train.groupby(['color'])['price'].std().to_dict()\n",
    "df_diamonds_train['color_encoding_std'] = df_diamonds_train['color'].map(color_encoding_std)\n",
    "clarity_encoding_std = df_diamonds_train.groupby(['clarity'])['price'].std().to_dict()\n",
    "df_diamonds_train['clarity_encoding_std'] = df_diamonds_train['clarity'].map(clarity_encoding_std)"
   ]
  },
  {
   "cell_type": "code",
   "execution_count": 35,
   "id": "47b63ce9",
   "metadata": {},
   "outputs": [],
   "source": [
    "# 2. Cross target encoding\n",
    "cut_color_encoding = df_diamonds_train.groupby(['cut','color'])['price'].mean().to_dict()\n",
    "df_diamonds_train['cut_color_encoding'] = df_diamonds_train['cut'].map(cut_color_encoding)"
   ]
  },
  {
   "cell_type": "code",
   "execution_count": 19,
   "id": "55bace1c",
   "metadata": {},
   "outputs": [],
   "source": [
    "# 3. Defining features y target\n",
    "X=df_diamonds_train[features_list]\n",
    "y=df_diamonds_train['price']"
   ]
  },
  {
   "cell_type": "code",
   "execution_count": 20,
   "id": "fcb4c48c",
   "metadata": {},
   "outputs": [],
   "source": [
    "# 4.One-hot encoding for categorical variables\n",
    "X=pd.get_dummies(X,columns=cat_features_list)"
   ]
  },
  {
   "cell_type": "code",
   "execution_count": 21,
   "id": "e38ac805",
   "metadata": {},
   "outputs": [],
   "source": [
    "# 5.Splitting train and test\n",
    "X_train, X_val, y_train, y_val = train_test_split(X, y, test_size=0.2, random_state=42)"
   ]
  },
  {
   "cell_type": "markdown",
   "id": "e183e2ba",
   "metadata": {},
   "source": [
    "## 4. Data preparation (test set)"
   ]
  },
  {
   "cell_type": "code",
   "execution_count": 90,
   "id": "9ac9440b",
   "metadata": {},
   "outputs": [],
   "source": [
    "#4. Change colums to categoric\n",
    "df_diamonds_test['cut'] = df_diamonds_test['cut'].astype('category')\n",
    "df_diamonds_test['color'] = df_diamonds_test['color'].astype('category')\n",
    "df_diamonds_test['clarity'] = df_diamonds_test['clarity'].astype('category')"
   ]
  },
  {
   "cell_type": "markdown",
   "id": "07c9c844",
   "metadata": {},
   "source": [
    "## 5. Feature engineering (test set) "
   ]
  },
  {
   "cell_type": "code",
   "execution_count": 91,
   "id": "43f17741",
   "metadata": {},
   "outputs": [],
   "source": [
    "# 0. Adapting categorical features for validation model\n",
    "X_test=df_diamonds_test[features_list]"
   ]
  },
  {
   "cell_type": "code",
   "execution_count": 92,
   "id": "1acbc218",
   "metadata": {},
   "outputs": [],
   "source": [
    "# 1.Target encoding for categorical variables\n",
    "# Mean\n",
    "cut_encoding = df_diamonds_train.groupby(['cut'])['price'].mean().to_dict()\n",
    "X_test['cut_encoding'] = X_test['cut'].map(cut_encoding)\n",
    "color_encoding = df_diamonds_train.groupby(['color'])['price'].mean().to_dict()\n",
    "X_test['color_encoding'] = X_test['color'].map(color_encoding)\n",
    "clarity_encoding = df_diamonds_train.groupby(['clarity'])['price'].mean().to_dict()\n",
    "X_test['clarity_encoding'] = X_test['clarity'].map(clarity_encoding)\n",
    "# Std\n",
    "cut_encoding_std = df_diamonds_train.groupby(['cut'])['price'].std().to_dict()\n",
    "X_test['cut_encoding_std'] = X_test['cut'].map(cut_encoding_std)\n",
    "color_encoding_std = df_diamonds_train.groupby(['color'])['price'].std().to_dict()\n",
    "X_test['color_encoding_std'] = X_test['color'].map(color_encoding_std)\n",
    "clarity_encoding_std = df_diamonds_train.groupby(['clarity'])['price'].std().to_dict()\n",
    "X_test['clarity_encoding_std'] = X_test['clarity'].map(clarity_encoding_std)"
   ]
  },
  {
   "cell_type": "code",
   "execution_count": null,
   "id": "5f76d8f7",
   "metadata": {},
   "outputs": [],
   "source": [
    "# 2. Cross target encoding"
   ]
  },
  {
   "cell_type": "code",
   "execution_count": 93,
   "id": "313c99e7",
   "metadata": {},
   "outputs": [],
   "source": [
    "# 3. One-hot encoding for categorical variables\n",
    "X_test=pd.get_dummies(X_test,columns=cat_features_list)"
   ]
  },
  {
   "cell_type": "markdown",
   "id": "ac016dca",
   "metadata": {},
   "source": [
    "## Model definition - RandomForestRegressor - with Random Hyperparameter Grid"
   ]
  },
  {
   "cell_type": "markdown",
   "id": "c8e7816d",
   "metadata": {},
   "source": [
    "RandomForestRegressor: multiple trees in paralel changing samples and convining diferrent features (overfitting when the tree is big and good to reduce error variance)"
   ]
  },
  {
   "cell_type": "markdown",
   "id": "31b39184",
   "metadata": {},
   "source": [
    "Main Parameters:\n",
    "   - bootstrap -> method for sampling data points (TRUE bagging and FALSE pasting, with/without replacement)\n",
    "   - n_estimators -> number of trees in the foreset\n",
    "   - max_depth -> max number of levels in each decision tree\n",
    "   - max_features -> max number of features considered for splitting a node\n",
    "   - ccp_alpha ->\n",
    "   - criterion ->\n",
    "   - max_leaf_nodes -> max number of solution nodes \n",
    "   - max_samples ->\n",
    "   - min_impurity_decrease ->\n",
    "   - min_samples_leaf -> min number of data points allowed in a leaf node\n",
    "   - min_samples_split -> min number of data points placed in a node before the node is split\n",
    "   - min_weight_fraction_leaf\n",
    "   - n_estimators -> number of trees in the foreset\n",
    "   - n_jobs \n",
    "   - oob_score \n",
    "   - random_state\n",
    "   - verbose\n",
    "   - warm_start   "
   ]
  },
  {
   "cell_type": "code",
   "execution_count": 112,
   "id": "0ad82e4d",
   "metadata": {},
   "outputs": [
    {
     "name": "stdout",
     "output_type": "stream",
     "text": [
      "{'n_estimators': [200, 400, 600, 800, 1000, 1200, 1400, 1600, 1800, 2000], 'max_features': ['auto', 'sqrt'], 'max_depth': [10, 20, 30, 40, 50, 60, 70, 80, 90, 100, 110, None], 'min_samples_split': [2, 5, 10], 'min_samples_leaf': [1, 2, 4], 'bootstrap': [True, False]}\n"
     ]
    }
   ],
   "source": [
    "# 0. Random Hyperparameter Grid - Grid definition\n",
    "\n",
    "n_estimators = [int(x) for x in np.linspace(start = 200, stop = 2000, num = 10)] # Number of trees in random forest\n",
    "max_features = ['auto', 'sqrt'] # Number of features to consider at every split\n",
    "max_depth = [int(x) for x in np.linspace(10, 110, num = 11)] # Maximum number of levels in tree\n",
    "max_depth.append(None)\n",
    "min_samples_split = [2, 5, 10] # Minimum number of samples required to split a node\n",
    "min_samples_leaf = [1, 2, 4] # Minimum number of samples required at each leaf node\n",
    "bootstrap = [True, False] # Method of selecting samples for training each tree\n",
    "\n",
    "# Create the random grid\n",
    "random_grid = {'n_estimators': n_estimators,\n",
    "               'max_features': max_features,\n",
    "               'max_depth': max_depth,\n",
    "               'min_samples_split': min_samples_split,\n",
    "               'min_samples_leaf': min_samples_leaf,\n",
    "               'bootstrap': bootstrap}\n",
    "print(random_grid)"
   ]
  },
  {
   "cell_type": "code",
   "execution_count": null,
   "id": "5a56dda8",
   "metadata": {},
   "outputs": [
    {
     "name": "stdout",
     "output_type": "stream",
     "text": [
      "Fitting 3 folds for each of 100 candidates, totalling 300 fits\n"
     ]
    }
   ],
   "source": [
    "%%time\n",
    "#1. Random Hyperparameter Grid - Use the random grid to search for best hyperparameters\n",
    "\n",
    "# First create the base model to tune\n",
    "rf = RandomForestRegressor()\n",
    "# Random search of parameters, using 3 fold cross validation, \n",
    "#search across 100 different combinations, and use all available cores\n",
    "rf_random = RandomizedSearchCV(estimator = rf, param_distributions = random_grid, n_iter = 100,\n",
    "                               cv = 3, verbose=2, random_state=42, n_jobs = -1)\n",
    "# Fit the random search model\n",
    "rf_random.fit(X_train, y_train)"
   ]
  },
  {
   "cell_type": "code",
   "execution_count": null,
   "id": "7cc3a7b0",
   "metadata": {},
   "outputs": [],
   "source": [
    "rf_random.best_params_"
   ]
  },
  {
   "cell_type": "code",
   "execution_count": 94,
   "id": "8c90f8b4",
   "metadata": {},
   "outputs": [
    {
     "name": "stdout",
     "output_type": "stream",
     "text": [
      "<class 'sklearn.ensemble._forest.RandomForestRegressor'> \n",
      "\n",
      "Model hyperparameters: {'bootstrap': True, 'ccp_alpha': 0.0, 'criterion': 'squared_error', 'max_depth': None, 'max_features': 'auto', 'max_leaf_nodes': None, 'max_samples': None, 'min_impurity_decrease': 0.0, 'min_samples_leaf': 1, 'min_samples_split': 2, 'min_weight_fraction_leaf': 0.0, 'n_estimators': 100, 'n_jobs': None, 'oob_score': False, 'random_state': None, 'verbose': 0, 'warm_start': False} \n",
      "\n"
     ]
    }
   ],
   "source": [
    "# 2. RandomForestRegressor definition\n",
    "model = RandomForestRegressor()\n",
    "#bootstrap=True,max_depth=70,min_samples_leaf=4,min_samples_split=10,n_estimators=400)\n",
    "\n",
    "hyperparameters = model.get_params()\n",
    "print(type(model), '\\n')\n",
    "print('Model hyperparameters:', hyperparameters, '\\n')"
   ]
  },
  {
   "cell_type": "code",
   "execution_count": 106,
   "id": "ad227795",
   "metadata": {},
   "outputs": [],
   "source": [
    "# 1. XGBRegressor \n",
    "#model = XGBRegressor()\n",
    "#hyperparameters = model.get_params()\n",
    "#print(type(model), '\\n')\n",
    "#print('Model hyperparameters:', hyperparameters, '\\n')"
   ]
  },
  {
   "cell_type": "markdown",
   "id": "1aaf37b1",
   "metadata": {},
   "source": [
    "## Model training with validation"
   ]
  },
  {
   "cell_type": "code",
   "execution_count": 95,
   "id": "6f3e3373",
   "metadata": {},
   "outputs": [
    {
     "name": "stdout",
     "output_type": "stream",
     "text": [
      "Model: RandomForestRegressor() \n",
      "\n",
      "Model hyperparameters: {'bootstrap': True, 'ccp_alpha': 0.0, 'criterion': 'squared_error', 'max_depth': None, 'max_features': 'auto', 'max_leaf_nodes': None, 'max_samples': None, 'min_impurity_decrease': 0.0, 'min_samples_leaf': 1, 'min_samples_split': 2, 'min_weight_fraction_leaf': 0.0, 'n_estimators': 100, 'n_jobs': None, 'oob_score': False, 'random_state': None, 'verbose': 0, 'warm_start': False} \n",
      "\n",
      "CPU times: user 10.4 s, sys: 120 ms, total: 10.6 s\n",
      "Wall time: 10.6 s\n"
     ]
    }
   ],
   "source": [
    "%%time\n",
    "# Model training\n",
    "model.fit(X_train, y_train)\n",
    "print('Model:', model, '\\n')\n",
    "print('Model hyperparameters:', hyperparameters, '\\n')"
   ]
  },
  {
   "cell_type": "code",
   "execution_count": 96,
   "id": "114ebca5",
   "metadata": {},
   "outputs": [
    {
     "name": "stdout",
     "output_type": "stream",
     "text": [
      "<class 'numpy.ndarray'>\n",
      "CPU times: user 211 ms, sys: 5.21 ms, total: 216 ms\n",
      "Wall time: 216 ms\n"
     ]
    }
   ],
   "source": [
    "%%time\n",
    "# Model predictions\n",
    "y_pred_val = model.predict(X_val)\n",
    "print(type(y_pred_val))"
   ]
  },
  {
   "cell_type": "markdown",
   "id": "9d6b94a3",
   "metadata": {},
   "source": [
    "## Training set error"
   ]
  },
  {
   "cell_type": "code",
   "execution_count": 97,
   "id": "af5fb28b",
   "metadata": {},
   "outputs": [
    {
     "name": "stdout",
     "output_type": "stream",
     "text": [
      "<class 'numpy.ndarray'>\n",
      "CPU times: user 650 ms, sys: 10.5 ms, total: 661 ms\n",
      "Wall time: 663 ms\n"
     ]
    }
   ],
   "source": [
    "%%time\n",
    "# Model predictions\n",
    "y_pred_train = model.predict(X_train)\n",
    "print(type(y_pred_train))"
   ]
  },
  {
   "cell_type": "code",
   "execution_count": 98,
   "id": "a88fcb5b",
   "metadata": {},
   "outputs": [
    {
     "name": "stdout",
     "output_type": "stream",
     "text": [
      "CPU times: user 1.53 ms, sys: 1.08 ms, total: 2.61 ms\n",
      "Wall time: 1.63 ms\n"
     ]
    },
    {
     "data": {
      "text/plain": [
       "179.73608006626847"
      ]
     },
     "execution_count": 98,
     "metadata": {},
     "output_type": "execute_result"
    }
   ],
   "source": [
    "%%time\n",
    "# Model predictions\n",
    "rmse_train = mean_squared_error(y_train, y_pred_train)**0.5\n",
    "rmse_train"
   ]
  },
  {
   "cell_type": "code",
   "execution_count": 99,
   "id": "d1b6a927",
   "metadata": {},
   "outputs": [
    {
     "data": {
      "text/plain": [
       "0.9837038719424018"
      ]
     },
     "execution_count": 99,
     "metadata": {},
     "output_type": "execute_result"
    }
   ],
   "source": [
    "r2r = r2_score(y_val, y_pred_val)\n",
    "r2r"
   ]
  },
  {
   "cell_type": "markdown",
   "id": "2bfd4334",
   "metadata": {},
   "source": [
    "## Model validation"
   ]
  },
  {
   "cell_type": "code",
   "execution_count": 100,
   "id": "b1abc6aa",
   "metadata": {},
   "outputs": [
    {
     "name": "stdout",
     "output_type": "stream",
     "text": [
      "<class 'numpy.ndarray'>\n",
      "CPU times: user 200 ms, sys: 4.12 ms, total: 205 ms\n",
      "Wall time: 204 ms\n"
     ]
    }
   ],
   "source": [
    "%%time\n",
    "# Model predictions\n",
    "y_pred_val = model.predict(X_val)\n",
    "print(type(y_pred_val))"
   ]
  },
  {
   "cell_type": "code",
   "execution_count": 101,
   "id": "589c945e",
   "metadata": {},
   "outputs": [
    {
     "data": {
      "text/plain": [
       "441.6693597960313"
      ]
     },
     "execution_count": 101,
     "metadata": {},
     "output_type": "execute_result"
    }
   ],
   "source": [
    "#440\n",
    "rmse_val = mean_squared_error(y_val, y_pred_val)**0.5\n",
    "rmse_val"
   ]
  },
  {
   "cell_type": "code",
   "execution_count": 102,
   "id": "e4b6f7bf",
   "metadata": {},
   "outputs": [
    {
     "data": {
      "text/plain": [
       "0.9837038719424018"
      ]
     },
     "execution_count": 102,
     "metadata": {},
     "output_type": "execute_result"
    }
   ],
   "source": [
    "r2r = r2_score(y_val, y_pred_val)\n",
    "r2r"
   ]
  },
  {
   "cell_type": "markdown",
   "id": "46e824c3",
   "metadata": {},
   "source": [
    "## Model training without validation"
   ]
  },
  {
   "cell_type": "code",
   "execution_count": 103,
   "id": "643a3878",
   "metadata": {},
   "outputs": [
    {
     "name": "stdout",
     "output_type": "stream",
     "text": [
      "Model: RandomForestRegressor() \n",
      "\n",
      "Model hyperparameters: {'bootstrap': True, 'ccp_alpha': 0.0, 'criterion': 'squared_error', 'max_depth': None, 'max_features': 'auto', 'max_leaf_nodes': None, 'max_samples': None, 'min_impurity_decrease': 0.0, 'min_samples_leaf': 1, 'min_samples_split': 2, 'min_weight_fraction_leaf': 0.0, 'n_estimators': 100, 'n_jobs': None, 'oob_score': False, 'random_state': None, 'verbose': 0, 'warm_start': False} \n",
      "\n"
     ]
    }
   ],
   "source": [
    "# Model training\n",
    "model.fit(X, y)\n",
    "print('Model:', model, '\\n')\n",
    "print('Model hyperparameters:', hyperparameters, '\\n')"
   ]
  },
  {
   "cell_type": "markdown",
   "id": "8f5f534f",
   "metadata": {},
   "source": [
    "## Test Preditions"
   ]
  },
  {
   "cell_type": "code",
   "execution_count": 38,
   "id": "9085827c",
   "metadata": {},
   "outputs": [],
   "source": [
    "predictions = model.predict(X_test)"
   ]
  },
  {
   "cell_type": "code",
   "execution_count": 39,
   "id": "4d010675",
   "metadata": {},
   "outputs": [],
   "source": [
    "predictions=pd.DataFrame(predictions)"
   ]
  },
  {
   "cell_type": "code",
   "execution_count": 40,
   "id": "9d2ca3df",
   "metadata": {},
   "outputs": [],
   "source": [
    "predictions.reset_index(inplace=True)"
   ]
  },
  {
   "cell_type": "code",
   "execution_count": 41,
   "id": "2c805a71",
   "metadata": {},
   "outputs": [],
   "source": [
    "predictions=predictions.rename({0: 'price','index': 'id'}, axis=1)"
   ]
  },
  {
   "cell_type": "markdown",
   "id": "01a0cf38",
   "metadata": {},
   "source": [
    "## Save Preditions"
   ]
  },
  {
   "cell_type": "code",
   "execution_count": 42,
   "id": "da3f74be",
   "metadata": {},
   "outputs": [],
   "source": [
    "predictions.to_csv('../data/diamonds_predictions_RandomForestRegressor_with_depht_table.csv',index=False)"
   ]
  }
 ],
 "metadata": {
  "kernelspec": {
   "display_name": "Python [conda env:ML]",
   "language": "python",
   "name": "conda-env-ML-py"
  },
  "language_info": {
   "codemirror_mode": {
    "name": "ipython",
    "version": 3
   },
   "file_extension": ".py",
   "mimetype": "text/x-python",
   "name": "python",
   "nbconvert_exporter": "python",
   "pygments_lexer": "ipython3",
   "version": "3.7.13"
  }
 },
 "nbformat": 4,
 "nbformat_minor": 5
}
