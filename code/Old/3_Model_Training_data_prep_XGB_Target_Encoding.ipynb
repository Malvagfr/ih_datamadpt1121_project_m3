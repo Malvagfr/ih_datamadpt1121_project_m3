{
 "cells": [
  {
   "cell_type": "markdown",
   "id": "c1df95e2",
   "metadata": {},
   "source": [
    "## 0. Libraries import"
   ]
  },
  {
   "cell_type": "code",
   "execution_count": 46,
   "id": "a17f838c",
   "metadata": {},
   "outputs": [],
   "source": [
    "# ignore warnings\n",
    "import warnings\n",
    "warnings.filterwarnings('ignore')"
   ]
  },
  {
   "cell_type": "code",
   "execution_count": 47,
   "id": "15bd2943",
   "metadata": {},
   "outputs": [],
   "source": [
    "# imports \n",
    "import numpy as np\n",
    "import pandas as pd\n",
    "import matplotlib.pyplot as plt\n",
    "# outliers\n",
    "from sklearn.datasets import load_boston\n",
    "#train test split\n",
    "from sklearn.model_selection import train_test_split\n",
    "# Hyperparameters selection\n",
    "from sklearn.model_selection import RandomizedSearchCV\n",
    "# Importing cross validation function from sklearn\n",
    "from sklearn.model_selection import cross_val_score\n",
    "# models\n",
    "from sklearn.ensemble import RandomForestRegressor\n",
    "from xgboost import XGBRegressor\n",
    "# K-Nearest Neighbor(KNN)\n",
    "from sklearn.neighbors import KNeighborsRegressor\n",
    "RegModel = KNeighborsRegressor(n_neighbors=4)\n",
    "#matplotlib\n",
    "import matplotlib.pyplot as plt\n",
    "# error\n",
    "from sklearn.metrics import mean_squared_error,r2_score,mean_absolute_error"
   ]
  },
  {
   "cell_type": "markdown",
   "id": "894bdee3",
   "metadata": {},
   "source": [
    "## 1. Data import"
   ]
  },
  {
   "cell_type": "code",
   "execution_count": 48,
   "id": "b35aa513",
   "metadata": {},
   "outputs": [
    {
     "data": {
      "text/html": [
       "<div>\n",
       "<style scoped>\n",
       "    .dataframe tbody tr th:only-of-type {\n",
       "        vertical-align: middle;\n",
       "    }\n",
       "\n",
       "    .dataframe tbody tr th {\n",
       "        vertical-align: top;\n",
       "    }\n",
       "\n",
       "    .dataframe thead th {\n",
       "        text-align: right;\n",
       "    }\n",
       "</style>\n",
       "<table border=\"1\" class=\"dataframe\">\n",
       "  <thead>\n",
       "    <tr style=\"text-align: right;\">\n",
       "      <th></th>\n",
       "      <th>index_id</th>\n",
       "      <th>depth</th>\n",
       "      <th>table</th>\n",
       "      <th>x</th>\n",
       "      <th>y</th>\n",
       "      <th>z</th>\n",
       "      <th>price</th>\n",
       "      <th>carat</th>\n",
       "      <th>cut</th>\n",
       "      <th>color</th>\n",
       "      <th>clarity</th>\n",
       "      <th>city</th>\n",
       "    </tr>\n",
       "  </thead>\n",
       "  <tbody>\n",
       "    <tr>\n",
       "      <th>0</th>\n",
       "      <td>5feceb66ffc86f38d952786c6d696c79c2dbc239dd4e91...</td>\n",
       "      <td>62.4</td>\n",
       "      <td>58.0</td>\n",
       "      <td>6.83</td>\n",
       "      <td>6.79</td>\n",
       "      <td>4.25</td>\n",
       "      <td>4268</td>\n",
       "      <td>1.21</td>\n",
       "      <td>Premium</td>\n",
       "      <td>J</td>\n",
       "      <td>VS2</td>\n",
       "      <td>Dubai</td>\n",
       "    </tr>\n",
       "    <tr>\n",
       "      <th>1</th>\n",
       "      <td>6b86b273ff34fce19d6b804eff5a3f5747ada4eaa22f1d...</td>\n",
       "      <td>63.0</td>\n",
       "      <td>57.0</td>\n",
       "      <td>4.35</td>\n",
       "      <td>4.38</td>\n",
       "      <td>2.75</td>\n",
       "      <td>505</td>\n",
       "      <td>0.32</td>\n",
       "      <td>Very Good</td>\n",
       "      <td>H</td>\n",
       "      <td>VS2</td>\n",
       "      <td>Kimberly</td>\n",
       "    </tr>\n",
       "    <tr>\n",
       "      <th>2</th>\n",
       "      <td>d4735e3a265e16eee03f59718b9b5d03019c07d8b6c51f...</td>\n",
       "      <td>65.5</td>\n",
       "      <td>55.0</td>\n",
       "      <td>5.62</td>\n",
       "      <td>5.53</td>\n",
       "      <td>3.65</td>\n",
       "      <td>2686</td>\n",
       "      <td>0.71</td>\n",
       "      <td>Fair</td>\n",
       "      <td>G</td>\n",
       "      <td>VS1</td>\n",
       "      <td>Las Vegas</td>\n",
       "    </tr>\n",
       "    <tr>\n",
       "      <th>3</th>\n",
       "      <td>4e07408562bedb8b60ce05c1decfe3ad16b72230967de0...</td>\n",
       "      <td>63.8</td>\n",
       "      <td>56.0</td>\n",
       "      <td>4.68</td>\n",
       "      <td>4.72</td>\n",
       "      <td>3.00</td>\n",
       "      <td>738</td>\n",
       "      <td>0.41</td>\n",
       "      <td>Good</td>\n",
       "      <td>D</td>\n",
       "      <td>SI1</td>\n",
       "      <td>Kimberly</td>\n",
       "    </tr>\n",
       "    <tr>\n",
       "      <th>4</th>\n",
       "      <td>4b227777d4dd1fc61c6f884f48641d02b4d121d3fd328c...</td>\n",
       "      <td>60.5</td>\n",
       "      <td>59.0</td>\n",
       "      <td>6.55</td>\n",
       "      <td>6.51</td>\n",
       "      <td>3.95</td>\n",
       "      <td>4882</td>\n",
       "      <td>1.02</td>\n",
       "      <td>Ideal</td>\n",
       "      <td>G</td>\n",
       "      <td>SI1</td>\n",
       "      <td>Dubai</td>\n",
       "    </tr>\n",
       "    <tr>\n",
       "      <th>...</th>\n",
       "      <td>...</td>\n",
       "      <td>...</td>\n",
       "      <td>...</td>\n",
       "      <td>...</td>\n",
       "      <td>...</td>\n",
       "      <td>...</td>\n",
       "      <td>...</td>\n",
       "      <td>...</td>\n",
       "      <td>...</td>\n",
       "      <td>...</td>\n",
       "      <td>...</td>\n",
       "      <td>...</td>\n",
       "    </tr>\n",
       "    <tr>\n",
       "      <th>40450</th>\n",
       "      <td>f0bc79169405ebeb24e308055156b946ffd819db9b4f75...</td>\n",
       "      <td>62.7</td>\n",
       "      <td>57.0</td>\n",
       "      <td>7.10</td>\n",
       "      <td>7.04</td>\n",
       "      <td>4.43</td>\n",
       "      <td>10070</td>\n",
       "      <td>1.34</td>\n",
       "      <td>Ideal</td>\n",
       "      <td>G</td>\n",
       "      <td>VS1</td>\n",
       "      <td>Antwerp</td>\n",
       "    </tr>\n",
       "    <tr>\n",
       "      <th>40451</th>\n",
       "      <td>339916a23bf22b052b54cb2a9b36ee8418c1c68b46acad...</td>\n",
       "      <td>57.1</td>\n",
       "      <td>60.0</td>\n",
       "      <td>8.31</td>\n",
       "      <td>8.25</td>\n",
       "      <td>4.73</td>\n",
       "      <td>12615</td>\n",
       "      <td>2.02</td>\n",
       "      <td>Good</td>\n",
       "      <td>F</td>\n",
       "      <td>SI2</td>\n",
       "      <td>Madrid</td>\n",
       "    </tr>\n",
       "    <tr>\n",
       "      <th>40452</th>\n",
       "      <td>46957922b99954654c1deb8d854c3f069bf118b2ce9415...</td>\n",
       "      <td>62.7</td>\n",
       "      <td>56.0</td>\n",
       "      <td>6.37</td>\n",
       "      <td>6.42</td>\n",
       "      <td>4.01</td>\n",
       "      <td>5457</td>\n",
       "      <td>1.01</td>\n",
       "      <td>Ideal</td>\n",
       "      <td>H</td>\n",
       "      <td>SI1</td>\n",
       "      <td>Kimberly</td>\n",
       "    </tr>\n",
       "    <tr>\n",
       "      <th>40453</th>\n",
       "      <td>9d733392d362d5c6f1d9b9659b601c7d4b5a1c1c8df579...</td>\n",
       "      <td>61.9</td>\n",
       "      <td>54.3</td>\n",
       "      <td>4.45</td>\n",
       "      <td>4.47</td>\n",
       "      <td>2.76</td>\n",
       "      <td>456</td>\n",
       "      <td>0.33</td>\n",
       "      <td>Ideal</td>\n",
       "      <td>J</td>\n",
       "      <td>VS1</td>\n",
       "      <td>Kimberly</td>\n",
       "    </tr>\n",
       "    <tr>\n",
       "      <th>40454</th>\n",
       "      <td>a02744a70faa594d240b067f21fcc23a8d17cd1098a9fb...</td>\n",
       "      <td>62.0</td>\n",
       "      <td>58.0</td>\n",
       "      <td>6.83</td>\n",
       "      <td>6.88</td>\n",
       "      <td>4.25</td>\n",
       "      <td>6232</td>\n",
       "      <td>1.24</td>\n",
       "      <td>Ideal</td>\n",
       "      <td>I</td>\n",
       "      <td>SI1</td>\n",
       "      <td>London</td>\n",
       "    </tr>\n",
       "  </tbody>\n",
       "</table>\n",
       "<p>40455 rows × 12 columns</p>\n",
       "</div>"
      ],
      "text/plain": [
       "                                                index_id  depth  table     x  \\\n",
       "0      5feceb66ffc86f38d952786c6d696c79c2dbc239dd4e91...   62.4   58.0  6.83   \n",
       "1      6b86b273ff34fce19d6b804eff5a3f5747ada4eaa22f1d...   63.0   57.0  4.35   \n",
       "2      d4735e3a265e16eee03f59718b9b5d03019c07d8b6c51f...   65.5   55.0  5.62   \n",
       "3      4e07408562bedb8b60ce05c1decfe3ad16b72230967de0...   63.8   56.0  4.68   \n",
       "4      4b227777d4dd1fc61c6f884f48641d02b4d121d3fd328c...   60.5   59.0  6.55   \n",
       "...                                                  ...    ...    ...   ...   \n",
       "40450  f0bc79169405ebeb24e308055156b946ffd819db9b4f75...   62.7   57.0  7.10   \n",
       "40451  339916a23bf22b052b54cb2a9b36ee8418c1c68b46acad...   57.1   60.0  8.31   \n",
       "40452  46957922b99954654c1deb8d854c3f069bf118b2ce9415...   62.7   56.0  6.37   \n",
       "40453  9d733392d362d5c6f1d9b9659b601c7d4b5a1c1c8df579...   61.9   54.3  4.45   \n",
       "40454  a02744a70faa594d240b067f21fcc23a8d17cd1098a9fb...   62.0   58.0  6.83   \n",
       "\n",
       "          y     z  price  carat        cut color clarity       city  \n",
       "0      6.79  4.25   4268   1.21    Premium     J     VS2      Dubai  \n",
       "1      4.38  2.75    505   0.32  Very Good     H     VS2   Kimberly  \n",
       "2      5.53  3.65   2686   0.71       Fair     G     VS1  Las Vegas  \n",
       "3      4.72  3.00    738   0.41       Good     D     SI1   Kimberly  \n",
       "4      6.51  3.95   4882   1.02      Ideal     G     SI1      Dubai  \n",
       "...     ...   ...    ...    ...        ...   ...     ...        ...  \n",
       "40450  7.04  4.43  10070   1.34      Ideal     G     VS1    Antwerp  \n",
       "40451  8.25  4.73  12615   2.02       Good     F     SI2     Madrid  \n",
       "40452  6.42  4.01   5457   1.01      Ideal     H     SI1   Kimberly  \n",
       "40453  4.47  2.76    456   0.33      Ideal     J     VS1   Kimberly  \n",
       "40454  6.88  4.25   6232   1.24      Ideal     I     SI1     London  \n",
       "\n",
       "[40455 rows x 12 columns]"
      ]
     },
     "execution_count": 48,
     "metadata": {},
     "output_type": "execute_result"
    }
   ],
   "source": [
    "# Impor train data\n",
    "df_diamonds_train=pd.read_csv('../data/diamonds_train.csv')\n",
    "df_diamonds_train.pop(\"Unnamed: 0\")\n",
    "df_diamonds_train"
   ]
  },
  {
   "cell_type": "code",
   "execution_count": 49,
   "id": "65ba238d",
   "metadata": {},
   "outputs": [
    {
     "data": {
      "text/html": [
       "<div>\n",
       "<style scoped>\n",
       "    .dataframe tbody tr th:only-of-type {\n",
       "        vertical-align: middle;\n",
       "    }\n",
       "\n",
       "    .dataframe tbody tr th {\n",
       "        vertical-align: top;\n",
       "    }\n",
       "\n",
       "    .dataframe thead th {\n",
       "        text-align: right;\n",
       "    }\n",
       "</style>\n",
       "<table border=\"1\" class=\"dataframe\">\n",
       "  <thead>\n",
       "    <tr style=\"text-align: right;\">\n",
       "      <th></th>\n",
       "      <th>id</th>\n",
       "      <th>carat</th>\n",
       "      <th>cut</th>\n",
       "      <th>color</th>\n",
       "      <th>clarity</th>\n",
       "      <th>depth</th>\n",
       "      <th>table</th>\n",
       "      <th>x</th>\n",
       "      <th>y</th>\n",
       "      <th>z</th>\n",
       "      <th>city</th>\n",
       "    </tr>\n",
       "  </thead>\n",
       "  <tbody>\n",
       "    <tr>\n",
       "      <th>0</th>\n",
       "      <td>0</td>\n",
       "      <td>0.79</td>\n",
       "      <td>Very Good</td>\n",
       "      <td>F</td>\n",
       "      <td>SI1</td>\n",
       "      <td>62.7</td>\n",
       "      <td>60.0</td>\n",
       "      <td>5.82</td>\n",
       "      <td>5.89</td>\n",
       "      <td>3.67</td>\n",
       "      <td>Amsterdam</td>\n",
       "    </tr>\n",
       "    <tr>\n",
       "      <th>1</th>\n",
       "      <td>1</td>\n",
       "      <td>1.20</td>\n",
       "      <td>Ideal</td>\n",
       "      <td>J</td>\n",
       "      <td>VS1</td>\n",
       "      <td>61.0</td>\n",
       "      <td>57.0</td>\n",
       "      <td>6.81</td>\n",
       "      <td>6.89</td>\n",
       "      <td>4.18</td>\n",
       "      <td>Surat</td>\n",
       "    </tr>\n",
       "    <tr>\n",
       "      <th>2</th>\n",
       "      <td>2</td>\n",
       "      <td>1.57</td>\n",
       "      <td>Premium</td>\n",
       "      <td>H</td>\n",
       "      <td>SI1</td>\n",
       "      <td>62.2</td>\n",
       "      <td>61.0</td>\n",
       "      <td>7.38</td>\n",
       "      <td>7.32</td>\n",
       "      <td>4.57</td>\n",
       "      <td>Kimberly</td>\n",
       "    </tr>\n",
       "    <tr>\n",
       "      <th>3</th>\n",
       "      <td>3</td>\n",
       "      <td>0.90</td>\n",
       "      <td>Very Good</td>\n",
       "      <td>F</td>\n",
       "      <td>SI1</td>\n",
       "      <td>63.8</td>\n",
       "      <td>54.0</td>\n",
       "      <td>6.09</td>\n",
       "      <td>6.13</td>\n",
       "      <td>3.90</td>\n",
       "      <td>Kimberly</td>\n",
       "    </tr>\n",
       "    <tr>\n",
       "      <th>4</th>\n",
       "      <td>4</td>\n",
       "      <td>0.50</td>\n",
       "      <td>Very Good</td>\n",
       "      <td>F</td>\n",
       "      <td>VS1</td>\n",
       "      <td>62.9</td>\n",
       "      <td>58.0</td>\n",
       "      <td>5.05</td>\n",
       "      <td>5.09</td>\n",
       "      <td>3.19</td>\n",
       "      <td>Amsterdam</td>\n",
       "    </tr>\n",
       "    <tr>\n",
       "      <th>...</th>\n",
       "      <td>...</td>\n",
       "      <td>...</td>\n",
       "      <td>...</td>\n",
       "      <td>...</td>\n",
       "      <td>...</td>\n",
       "      <td>...</td>\n",
       "      <td>...</td>\n",
       "      <td>...</td>\n",
       "      <td>...</td>\n",
       "      <td>...</td>\n",
       "      <td>...</td>\n",
       "    </tr>\n",
       "    <tr>\n",
       "      <th>13480</th>\n",
       "      <td>13480</td>\n",
       "      <td>0.57</td>\n",
       "      <td>Ideal</td>\n",
       "      <td>E</td>\n",
       "      <td>SI1</td>\n",
       "      <td>61.9</td>\n",
       "      <td>56.0</td>\n",
       "      <td>5.35</td>\n",
       "      <td>5.32</td>\n",
       "      <td>3.30</td>\n",
       "      <td>Amsterdam</td>\n",
       "    </tr>\n",
       "    <tr>\n",
       "      <th>13481</th>\n",
       "      <td>13481</td>\n",
       "      <td>0.71</td>\n",
       "      <td>Ideal</td>\n",
       "      <td>I</td>\n",
       "      <td>VS2</td>\n",
       "      <td>62.2</td>\n",
       "      <td>55.0</td>\n",
       "      <td>5.71</td>\n",
       "      <td>5.73</td>\n",
       "      <td>3.56</td>\n",
       "      <td>New York City</td>\n",
       "    </tr>\n",
       "    <tr>\n",
       "      <th>13482</th>\n",
       "      <td>13482</td>\n",
       "      <td>0.70</td>\n",
       "      <td>Ideal</td>\n",
       "      <td>F</td>\n",
       "      <td>VS1</td>\n",
       "      <td>61.6</td>\n",
       "      <td>55.0</td>\n",
       "      <td>5.75</td>\n",
       "      <td>5.71</td>\n",
       "      <td>3.53</td>\n",
       "      <td>Tel Aviv</td>\n",
       "    </tr>\n",
       "    <tr>\n",
       "      <th>13483</th>\n",
       "      <td>13483</td>\n",
       "      <td>0.70</td>\n",
       "      <td>Very Good</td>\n",
       "      <td>F</td>\n",
       "      <td>SI2</td>\n",
       "      <td>58.8</td>\n",
       "      <td>57.0</td>\n",
       "      <td>5.85</td>\n",
       "      <td>5.89</td>\n",
       "      <td>3.45</td>\n",
       "      <td>Surat</td>\n",
       "    </tr>\n",
       "    <tr>\n",
       "      <th>13484</th>\n",
       "      <td>13484</td>\n",
       "      <td>0.40</td>\n",
       "      <td>Ideal</td>\n",
       "      <td>I</td>\n",
       "      <td>VVS2</td>\n",
       "      <td>62.4</td>\n",
       "      <td>55.0</td>\n",
       "      <td>4.70</td>\n",
       "      <td>4.73</td>\n",
       "      <td>2.94</td>\n",
       "      <td>New York City</td>\n",
       "    </tr>\n",
       "  </tbody>\n",
       "</table>\n",
       "<p>13485 rows × 11 columns</p>\n",
       "</div>"
      ],
      "text/plain": [
       "          id  carat        cut color clarity  depth  table     x     y     z  \\\n",
       "0          0   0.79  Very Good     F     SI1   62.7   60.0  5.82  5.89  3.67   \n",
       "1          1   1.20      Ideal     J     VS1   61.0   57.0  6.81  6.89  4.18   \n",
       "2          2   1.57    Premium     H     SI1   62.2   61.0  7.38  7.32  4.57   \n",
       "3          3   0.90  Very Good     F     SI1   63.8   54.0  6.09  6.13  3.90   \n",
       "4          4   0.50  Very Good     F     VS1   62.9   58.0  5.05  5.09  3.19   \n",
       "...      ...    ...        ...   ...     ...    ...    ...   ...   ...   ...   \n",
       "13480  13480   0.57      Ideal     E     SI1   61.9   56.0  5.35  5.32  3.30   \n",
       "13481  13481   0.71      Ideal     I     VS2   62.2   55.0  5.71  5.73  3.56   \n",
       "13482  13482   0.70      Ideal     F     VS1   61.6   55.0  5.75  5.71  3.53   \n",
       "13483  13483   0.70  Very Good     F     SI2   58.8   57.0  5.85  5.89  3.45   \n",
       "13484  13484   0.40      Ideal     I    VVS2   62.4   55.0  4.70  4.73  2.94   \n",
       "\n",
       "                city  \n",
       "0          Amsterdam  \n",
       "1              Surat  \n",
       "2           Kimberly  \n",
       "3           Kimberly  \n",
       "4          Amsterdam  \n",
       "...              ...  \n",
       "13480      Amsterdam  \n",
       "13481  New York City  \n",
       "13482       Tel Aviv  \n",
       "13483          Surat  \n",
       "13484  New York City  \n",
       "\n",
       "[13485 rows x 11 columns]"
      ]
     },
     "execution_count": 49,
     "metadata": {},
     "output_type": "execute_result"
    }
   ],
   "source": [
    "# Import test data\n",
    "df_diamonds_test=pd.read_csv('../data/diamonds_test.csv')\n",
    "df_diamonds_test"
   ]
  },
  {
   "cell_type": "markdown",
   "id": "5aa0abf6",
   "metadata": {},
   "source": [
    "## 2. Data preparation (training set)"
   ]
  },
  {
   "cell_type": "code",
   "execution_count": 50,
   "id": "6d8c39e9",
   "metadata": {},
   "outputs": [],
   "source": [
    "# 0.Defining numerical and categorical features\n",
    "# Excluding city (with trees sometimes is better to keep variables even if they are correlated)\n",
    "num_features_list=['x','y','z','depth','table','carat']\n",
    "cat_features_list=['cut','color','clarity']\n",
    "features_list=['x','y','z','depth','table','carat','cut','color','clarity']"
   ]
  },
  {
   "cell_type": "code",
   "execution_count": 51,
   "id": "e6c91bb2",
   "metadata": {},
   "outputs": [
    {
     "name": "stdout",
     "output_type": "stream",
     "text": [
      "No 0 values\n"
     ]
    }
   ],
   "source": [
    "# 1.Checking if 0 values\n",
    "if 0 in df_diamonds_train[num_features_list]:\n",
    "    print('0 values')\n",
    "else:\n",
    "    print('No 0 values')"
   ]
  },
  {
   "cell_type": "code",
   "execution_count": 52,
   "id": "4cf77b3b",
   "metadata": {},
   "outputs": [
    {
     "data": {
      "text/plain": [
       "x        0\n",
       "y        0\n",
       "z        0\n",
       "depth    0\n",
       "table    0\n",
       "carat    0\n",
       "dtype: int64"
      ]
     },
     "execution_count": 52,
     "metadata": {},
     "output_type": "execute_result"
    }
   ],
   "source": [
    "# 2.Checking if null values\n",
    "df_diamonds_train[num_features_list].isna().sum()"
   ]
  },
  {
   "cell_type": "code",
   "execution_count": 53,
   "id": "69a573be",
   "metadata": {},
   "outputs": [],
   "source": [
    "# 3.remove outliers\n",
    "def remove_outliers(df,feature):\n",
    "    # IQR\n",
    "    Q1 = np.percentile(df[feature], 25,\n",
    "                   interpolation = 'midpoint')\n",
    "    Q3 = np.percentile(df[feature], 75,\n",
    "                   interpolation = 'midpoint')\n",
    "    IQR = Q3 - Q1\n",
    "    # Upper and lower\n",
    "    upper_limit=Q3+1.5*IQR\n",
    "    lower_limit=Q1-1.5*IQR\n",
    "    # Removing the Outliers\n",
    "    return df[(df[feature]>=lower_limit) & (df[feature]<=upper_limit)]"
   ]
  },
  {
   "cell_type": "code",
   "execution_count": 54,
   "id": "52177933",
   "metadata": {},
   "outputs": [],
   "source": [
    "df_diamonds_train=remove_outliers(df_diamonds_train,'x')\n",
    "df_diamonds_train=remove_outliers(df_diamonds_train,'y')\n",
    "df_diamonds_train=remove_outliers(df_diamonds_train,'z')\n",
    "df_diamonds_train=remove_outliers(df_diamonds_train,'depth')\n",
    "df_diamonds_train=remove_outliers(df_diamonds_train,'table')\n",
    "df_diamonds_train=remove_outliers(df_diamonds_train,'carat')"
   ]
  },
  {
   "cell_type": "code",
   "execution_count": 55,
   "id": "7254e164",
   "metadata": {},
   "outputs": [
    {
     "data": {
      "text/plain": [
       "(37264, 12)"
      ]
     },
     "execution_count": 55,
     "metadata": {},
     "output_type": "execute_result"
    }
   ],
   "source": [
    "df_diamonds_train.shape"
   ]
  },
  {
   "cell_type": "markdown",
   "id": "97701350",
   "metadata": {},
   "source": [
    "## 3. Feature engineering (training set)"
   ]
  },
  {
   "cell_type": "markdown",
   "id": "24926ca5",
   "metadata": {},
   "source": [
    "Adapting categorical features for training model"
   ]
  },
  {
   "cell_type": "code",
   "execution_count": 56,
   "id": "d7db93ac",
   "metadata": {},
   "outputs": [],
   "source": [
    "# 1.Target encoding for categorical variables\n",
    "# Mean\n",
    "cut_encoding = df_diamonds_train.groupby(['cut'])['price'].mean().to_dict()\n",
    "df_diamonds_train['cut_encoding'] = df_diamonds_train['cut'].map(cut_encoding).astype(float)\n",
    "color_encoding = df_diamonds_train.groupby(['color'])['price'].mean().to_dict()\n",
    "df_diamonds_train['color_encoding'] = df_diamonds_train['color'].map(color_encoding).astype(float)\n",
    "clarity_encoding = df_diamonds_train.groupby(['clarity'])['price'].mean().to_dict()\n",
    "df_diamonds_train['clarity_encoding'] = df_diamonds_train['clarity'].map(clarity_encoding).astype(float)\n",
    "# Std\n",
    "cut_encoding_std = df_diamonds_train.groupby(['cut'])['price'].std().to_dict()\n",
    "df_diamonds_train['cut_encoding_std'] = df_diamonds_train['cut'].map(cut_encoding_std).astype(float)\n",
    "color_encoding_std = df_diamonds_train.groupby(['color'])['price'].std().to_dict()\n",
    "df_diamonds_train['color_encoding_std'] = df_diamonds_train['color'].map(color_encoding_std).astype(float)\n",
    "clarity_encoding_std = df_diamonds_train.groupby(['clarity'])['price'].std().to_dict()\n",
    "df_diamonds_train['clarity_encoding_std'] = df_diamonds_train['clarity'].map(clarity_encoding_std).astype(float)"
   ]
  },
  {
   "cell_type": "code",
   "execution_count": 57,
   "id": "43ae2bcf",
   "metadata": {},
   "outputs": [],
   "source": [
    "#df_diamonds_train['volume']=df_diamonds_train['x']*df_diamonds_train['y']*df_diamonds_train['z']"
   ]
  },
  {
   "cell_type": "code",
   "execution_count": 58,
   "id": "8d47a3a4",
   "metadata": {},
   "outputs": [],
   "source": [
    "features_list_encoding=['x','y','z','depth','table','carat','cut','color','clarity','cut_encoding',\n",
    "                        'color_encoding','clarity_encoding','cut_encoding_std','color_encoding_std',\n",
    "                        'clarity_encoding_std']"
   ]
  },
  {
   "cell_type": "code",
   "execution_count": 59,
   "id": "fc3046a3",
   "metadata": {},
   "outputs": [],
   "source": [
    "# 3. Defining features y target\n",
    "X=df_diamonds_train[features_list_encoding]\n",
    "y=df_diamonds_train['price']"
   ]
  },
  {
   "cell_type": "code",
   "execution_count": 60,
   "id": "fcb4c48c",
   "metadata": {},
   "outputs": [],
   "source": [
    "# 4.One-hot encoding for categorical variables\n",
    "X=pd.get_dummies(X,columns=cat_features_list)"
   ]
  },
  {
   "cell_type": "code",
   "execution_count": 61,
   "id": "83b76da3",
   "metadata": {},
   "outputs": [],
   "source": [
    "# 5.Splitting train and test\n",
    "X_train, X_val, y_train, y_val = train_test_split(X, y, test_size=0.2, random_state=42)"
   ]
  },
  {
   "cell_type": "code",
   "execution_count": 62,
   "id": "30860211",
   "metadata": {},
   "outputs": [
    {
     "data": {
      "text/plain": [
       "(29811, 32)"
      ]
     },
     "execution_count": 62,
     "metadata": {},
     "output_type": "execute_result"
    }
   ],
   "source": [
    "X_train.shape"
   ]
  },
  {
   "cell_type": "code",
   "execution_count": 63,
   "id": "138e739f",
   "metadata": {},
   "outputs": [
    {
     "name": "stdout",
     "output_type": "stream",
     "text": [
      "<class 'pandas.core.frame.DataFrame'>\n",
      "Int64Index: 29811 entries, 11656 to 17132\n",
      "Data columns (total 32 columns):\n",
      " #   Column                Non-Null Count  Dtype  \n",
      "---  ------                --------------  -----  \n",
      " 0   x                     29811 non-null  float64\n",
      " 1   y                     29811 non-null  float64\n",
      " 2   z                     29811 non-null  float64\n",
      " 3   depth                 29811 non-null  float64\n",
      " 4   table                 29811 non-null  float64\n",
      " 5   carat                 29811 non-null  float64\n",
      " 6   cut_encoding          29811 non-null  float64\n",
      " 7   color_encoding        29811 non-null  float64\n",
      " 8   clarity_encoding      29811 non-null  float64\n",
      " 9   cut_encoding_std      29811 non-null  float64\n",
      " 10  color_encoding_std    29811 non-null  float64\n",
      " 11  clarity_encoding_std  29811 non-null  float64\n",
      " 12  cut_Fair              29811 non-null  uint8  \n",
      " 13  cut_Good              29811 non-null  uint8  \n",
      " 14  cut_Ideal             29811 non-null  uint8  \n",
      " 15  cut_Premium           29811 non-null  uint8  \n",
      " 16  cut_Very Good         29811 non-null  uint8  \n",
      " 17  color_D               29811 non-null  uint8  \n",
      " 18  color_E               29811 non-null  uint8  \n",
      " 19  color_F               29811 non-null  uint8  \n",
      " 20  color_G               29811 non-null  uint8  \n",
      " 21  color_H               29811 non-null  uint8  \n",
      " 22  color_I               29811 non-null  uint8  \n",
      " 23  color_J               29811 non-null  uint8  \n",
      " 24  clarity_I1            29811 non-null  uint8  \n",
      " 25  clarity_IF            29811 non-null  uint8  \n",
      " 26  clarity_SI1           29811 non-null  uint8  \n",
      " 27  clarity_SI2           29811 non-null  uint8  \n",
      " 28  clarity_VS1           29811 non-null  uint8  \n",
      " 29  clarity_VS2           29811 non-null  uint8  \n",
      " 30  clarity_VVS1          29811 non-null  uint8  \n",
      " 31  clarity_VVS2          29811 non-null  uint8  \n",
      "dtypes: float64(12), uint8(20)\n",
      "memory usage: 3.5 MB\n"
     ]
    }
   ],
   "source": [
    "X_train.info()"
   ]
  },
  {
   "cell_type": "markdown",
   "id": "f55054fc",
   "metadata": {},
   "source": [
    "## 4. Data preparation (test set)"
   ]
  },
  {
   "cell_type": "markdown",
   "id": "457ec3db",
   "metadata": {},
   "source": [
    "## 5. Feature engineering (test set) "
   ]
  },
  {
   "cell_type": "code",
   "execution_count": 64,
   "id": "0c218bfd",
   "metadata": {},
   "outputs": [],
   "source": [
    "# 0. Adapting categorical features for validation model\n",
    "X_test=df_diamonds_test[features_list]"
   ]
  },
  {
   "cell_type": "code",
   "execution_count": 65,
   "id": "4337b985",
   "metadata": {},
   "outputs": [],
   "source": [
    "# 1.Target encoding for categorical variables\n",
    "# Mean\n",
    "cut_encoding = df_diamonds_train.groupby(['cut'])['price'].mean().to_dict()\n",
    "X_test['cut_encoding'] = X_test['cut'].map(cut_encoding).astype(float)\n",
    "color_encoding = df_diamonds_train.groupby(['color'])['price'].mean().to_dict()\n",
    "X_test['color_encoding'] = X_test['color'].map(color_encoding).astype(float)\n",
    "clarity_encoding = df_diamonds_train.groupby(['clarity'])['price'].mean().to_dict()\n",
    "X_test['clarity_encoding'] = X_test['clarity'].map(clarity_encoding).astype(float)\n",
    "# Std\n",
    "cut_encoding_std = df_diamonds_train.groupby(['cut'])['price'].std().to_dict()\n",
    "X_test['cut_encoding_std'] = X_test['cut'].map(cut_encoding_std).astype(float)\n",
    "color_encoding_std = df_diamonds_train.groupby(['color'])['price'].std().to_dict()\n",
    "X_test['color_encoding_std'] = X_test['color'].map(color_encoding_std).astype(float)\n",
    "clarity_encoding_std = df_diamonds_train.groupby(['clarity'])['price'].std().to_dict()\n",
    "X_test['clarity_encoding_std'] = X_test['clarity'].map(clarity_encoding_std).astype(float)"
   ]
  },
  {
   "cell_type": "code",
   "execution_count": 22,
   "id": "b15ba8d1",
   "metadata": {},
   "outputs": [],
   "source": [
    "#X_test['volume']=X_test['x']*X_test['y']*X_test['z']"
   ]
  },
  {
   "cell_type": "code",
   "execution_count": 66,
   "id": "a2720031",
   "metadata": {},
   "outputs": [],
   "source": [
    "# 3. One-hot encoding for categorical variables\n",
    "X_test=pd.get_dummies(X_test,columns=cat_features_list)"
   ]
  },
  {
   "cell_type": "code",
   "execution_count": 67,
   "id": "74753be9",
   "metadata": {},
   "outputs": [
    {
     "data": {
      "text/plain": [
       "(13485, 32)"
      ]
     },
     "execution_count": 67,
     "metadata": {},
     "output_type": "execute_result"
    }
   ],
   "source": [
    "X_test.shape"
   ]
  },
  {
   "cell_type": "code",
   "execution_count": 68,
   "id": "f3def3b0",
   "metadata": {},
   "outputs": [
    {
     "name": "stdout",
     "output_type": "stream",
     "text": [
      "<class 'pandas.core.frame.DataFrame'>\n",
      "RangeIndex: 13485 entries, 0 to 13484\n",
      "Data columns (total 32 columns):\n",
      " #   Column                Non-Null Count  Dtype  \n",
      "---  ------                --------------  -----  \n",
      " 0   x                     13485 non-null  float64\n",
      " 1   y                     13485 non-null  float64\n",
      " 2   z                     13485 non-null  float64\n",
      " 3   depth                 13485 non-null  float64\n",
      " 4   table                 13485 non-null  float64\n",
      " 5   carat                 13485 non-null  float64\n",
      " 6   cut_encoding          13485 non-null  float64\n",
      " 7   color_encoding        13485 non-null  float64\n",
      " 8   clarity_encoding      13485 non-null  float64\n",
      " 9   cut_encoding_std      13485 non-null  float64\n",
      " 10  color_encoding_std    13485 non-null  float64\n",
      " 11  clarity_encoding_std  13485 non-null  float64\n",
      " 12  cut_Fair              13485 non-null  uint8  \n",
      " 13  cut_Good              13485 non-null  uint8  \n",
      " 14  cut_Ideal             13485 non-null  uint8  \n",
      " 15  cut_Premium           13485 non-null  uint8  \n",
      " 16  cut_Very Good         13485 non-null  uint8  \n",
      " 17  color_D               13485 non-null  uint8  \n",
      " 18  color_E               13485 non-null  uint8  \n",
      " 19  color_F               13485 non-null  uint8  \n",
      " 20  color_G               13485 non-null  uint8  \n",
      " 21  color_H               13485 non-null  uint8  \n",
      " 22  color_I               13485 non-null  uint8  \n",
      " 23  color_J               13485 non-null  uint8  \n",
      " 24  clarity_I1            13485 non-null  uint8  \n",
      " 25  clarity_IF            13485 non-null  uint8  \n",
      " 26  clarity_SI1           13485 non-null  uint8  \n",
      " 27  clarity_SI2           13485 non-null  uint8  \n",
      " 28  clarity_VS1           13485 non-null  uint8  \n",
      " 29  clarity_VS2           13485 non-null  uint8  \n",
      " 30  clarity_VVS1          13485 non-null  uint8  \n",
      " 31  clarity_VVS2          13485 non-null  uint8  \n",
      "dtypes: float64(12), uint8(20)\n",
      "memory usage: 1.5 MB\n"
     ]
    }
   ],
   "source": [
    "X_test.info()"
   ]
  },
  {
   "cell_type": "markdown",
   "id": "ac016dca",
   "metadata": {},
   "source": [
    "## Model definition - RandomForestRegressor - with Random Hyperparameter Grid"
   ]
  },
  {
   "cell_type": "code",
   "execution_count": 70,
   "id": "13f46afa",
   "metadata": {},
   "outputs": [
    {
     "name": "stdout",
     "output_type": "stream",
     "text": [
      "<class 'xgboost.sklearn.XGBRegressor'> \n",
      "\n",
      "Model hyperparameters: {'objective': 'reg:squarederror', 'base_score': None, 'booster': None, 'colsample_bylevel': 1, 'colsample_bynode': 1, 'colsample_bytree': 0.8, 'enable_categorical': False, 'gamma': 0, 'gpu_id': None, 'importance_type': None, 'interaction_constraints': None, 'learning_rate': 0.1, 'max_delta_step': None, 'max_depth': None, 'min_child_weight': None, 'missing': nan, 'monotone_constraints': None, 'n_estimators': 200, 'n_jobs': None, 'num_parallel_tree': None, 'predictor': None, 'random_state': None, 'reg_alpha': 1, 'reg_lambda': 1, 'scale_pos_weight': None, 'subsample': None, 'tree_method': None, 'validate_parameters': None, 'verbosity': None} \n",
      "\n"
     ]
    }
   ],
   "source": [
    "# 1. XGBRegressor \n",
    "model = XGBRegressor(n_estimators=200,colsample_bylevel=1,colsample_bynode=1,\n",
    "                     colsample_bytree=0.8,reg_alpha=1, reg_lambda=1,gamma=0,learning_rate=0.1)\n",
    "hyperparameters = model.get_params()\n",
    "print(type(model), '\\n')\n",
    "print('Model hyperparameters:', hyperparameters, '\\n')"
   ]
  },
  {
   "cell_type": "code",
   "execution_count": 71,
   "id": "a4bb2a61",
   "metadata": {},
   "outputs": [],
   "source": [
    "#model = KNeighborsRegressor(algorithm='auto', leaf_size=30, metric='minkowski',\n",
    "#                    metric_params=None, n_jobs=None, n_neighbors=4, p=2,\n",
    "#                    weights='uniform')"
   ]
  },
  {
   "cell_type": "markdown",
   "id": "1aaf37b1",
   "metadata": {},
   "source": [
    "## Model training with validation"
   ]
  },
  {
   "cell_type": "code",
   "execution_count": 72,
   "id": "6f3e3373",
   "metadata": {},
   "outputs": [
    {
     "name": "stdout",
     "output_type": "stream",
     "text": [
      "[0]\tvalidation_0-rmse:4597.61621\tvalidation_1-rmse:4444.99316\n",
      "[1]\tvalidation_0-rmse:4155.41504\tvalidation_1-rmse:4013.61206\n",
      "[2]\tvalidation_0-rmse:3758.93286\tvalidation_1-rmse:3626.78980\n",
      "[3]\tvalidation_0-rmse:3399.81299\tvalidation_1-rmse:3278.38477\n",
      "[4]\tvalidation_0-rmse:3075.54858\tvalidation_1-rmse:2964.31445\n",
      "[5]\tvalidation_0-rmse:2784.21558\tvalidation_1-rmse:2680.80542\n",
      "[6]\tvalidation_0-rmse:2524.43457\tvalidation_1-rmse:2427.17578\n",
      "[7]\tvalidation_0-rmse:2289.33154\tvalidation_1-rmse:2199.77881\n",
      "[8]\tvalidation_0-rmse:2080.74707\tvalidation_1-rmse:1997.79663\n",
      "[9]\tvalidation_0-rmse:1891.34082\tvalidation_1-rmse:1814.60217\n",
      "[10]\tvalidation_0-rmse:1723.54553\tvalidation_1-rmse:1652.41785\n",
      "[11]\tvalidation_0-rmse:1573.71570\tvalidation_1-rmse:1506.64575\n",
      "[12]\tvalidation_0-rmse:1437.94678\tvalidation_1-rmse:1374.97412\n",
      "[13]\tvalidation_0-rmse:1318.00061\tvalidation_1-rmse:1258.91894\n",
      "[14]\tvalidation_0-rmse:1211.48804\tvalidation_1-rmse:1156.83557\n",
      "[15]\tvalidation_0-rmse:1115.55493\tvalidation_1-rmse:1065.21912\n",
      "[16]\tvalidation_0-rmse:1029.96960\tvalidation_1-rmse:983.55139\n",
      "[17]\tvalidation_0-rmse:956.51483\tvalidation_1-rmse:914.19458\n",
      "[18]\tvalidation_0-rmse:889.25971\tvalidation_1-rmse:851.36645\n",
      "[19]\tvalidation_0-rmse:829.04852\tvalidation_1-rmse:794.07379\n",
      "[20]\tvalidation_0-rmse:777.10199\tvalidation_1-rmse:745.66986\n",
      "[21]\tvalidation_0-rmse:731.51941\tvalidation_1-rmse:703.70227\n",
      "[22]\tvalidation_0-rmse:689.97101\tvalidation_1-rmse:664.84418\n",
      "[23]\tvalidation_0-rmse:653.59735\tvalidation_1-rmse:630.50421\n",
      "[24]\tvalidation_0-rmse:622.01935\tvalidation_1-rmse:601.95654\n",
      "[25]\tvalidation_0-rmse:594.28912\tvalidation_1-rmse:576.97571\n",
      "[26]\tvalidation_0-rmse:571.57764\tvalidation_1-rmse:556.45056\n",
      "[27]\tvalidation_0-rmse:551.64923\tvalidation_1-rmse:539.09491\n",
      "[28]\tvalidation_0-rmse:533.61798\tvalidation_1-rmse:523.85797\n",
      "[29]\tvalidation_0-rmse:517.50287\tvalidation_1-rmse:510.78406\n",
      "[30]\tvalidation_0-rmse:503.63779\tvalidation_1-rmse:499.81769\n",
      "[31]\tvalidation_0-rmse:491.45511\tvalidation_1-rmse:490.32993\n",
      "[32]\tvalidation_0-rmse:481.72769\tvalidation_1-rmse:482.40796\n",
      "[33]\tvalidation_0-rmse:472.42902\tvalidation_1-rmse:475.77173\n",
      "[34]\tvalidation_0-rmse:464.73315\tvalidation_1-rmse:470.02365\n",
      "[35]\tvalidation_0-rmse:458.03409\tvalidation_1-rmse:465.13730\n",
      "[36]\tvalidation_0-rmse:452.76379\tvalidation_1-rmse:461.53683\n",
      "[37]\tvalidation_0-rmse:447.56403\tvalidation_1-rmse:457.72659\n",
      "[38]\tvalidation_0-rmse:442.95441\tvalidation_1-rmse:454.78531\n",
      "[39]\tvalidation_0-rmse:438.90881\tvalidation_1-rmse:452.25638\n",
      "[40]\tvalidation_0-rmse:435.16287\tvalidation_1-rmse:450.25098\n",
      "[41]\tvalidation_0-rmse:432.19644\tvalidation_1-rmse:448.55487\n",
      "[42]\tvalidation_0-rmse:429.45813\tvalidation_1-rmse:446.66904\n",
      "[43]\tvalidation_0-rmse:426.83615\tvalidation_1-rmse:445.16150\n",
      "[44]\tvalidation_0-rmse:424.38882\tvalidation_1-rmse:443.57867\n",
      "[45]\tvalidation_0-rmse:422.11066\tvalidation_1-rmse:443.04080\n",
      "[46]\tvalidation_0-rmse:420.11441\tvalidation_1-rmse:441.84857\n",
      "[47]\tvalidation_0-rmse:418.36609\tvalidation_1-rmse:440.84402\n",
      "[48]\tvalidation_0-rmse:416.37302\tvalidation_1-rmse:440.30219\n",
      "[49]\tvalidation_0-rmse:414.74338\tvalidation_1-rmse:439.82568\n",
      "[50]\tvalidation_0-rmse:413.43860\tvalidation_1-rmse:439.32581\n",
      "[51]\tvalidation_0-rmse:412.24658\tvalidation_1-rmse:439.01446\n",
      "[52]\tvalidation_0-rmse:410.83536\tvalidation_1-rmse:438.26300\n",
      "[53]\tvalidation_0-rmse:409.93994\tvalidation_1-rmse:437.81320\n",
      "[54]\tvalidation_0-rmse:409.16507\tvalidation_1-rmse:437.48715\n",
      "[55]\tvalidation_0-rmse:407.63882\tvalidation_1-rmse:437.10062\n",
      "[56]\tvalidation_0-rmse:406.25674\tvalidation_1-rmse:436.96982\n",
      "[57]\tvalidation_0-rmse:405.55286\tvalidation_1-rmse:436.92404\n",
      "[58]\tvalidation_0-rmse:404.83105\tvalidation_1-rmse:436.50473\n",
      "[59]\tvalidation_0-rmse:403.94125\tvalidation_1-rmse:436.13425\n",
      "[60]\tvalidation_0-rmse:402.94315\tvalidation_1-rmse:436.12836\n",
      "[61]\tvalidation_0-rmse:401.56045\tvalidation_1-rmse:436.08893\n",
      "[62]\tvalidation_0-rmse:399.85745\tvalidation_1-rmse:435.37900\n",
      "[63]\tvalidation_0-rmse:399.31311\tvalidation_1-rmse:435.25211\n",
      "[64]\tvalidation_0-rmse:397.67239\tvalidation_1-rmse:434.82410\n",
      "[65]\tvalidation_0-rmse:396.38873\tvalidation_1-rmse:434.60226\n",
      "[66]\tvalidation_0-rmse:395.30814\tvalidation_1-rmse:434.25806\n",
      "[67]\tvalidation_0-rmse:394.84741\tvalidation_1-rmse:434.18295\n",
      "[68]\tvalidation_0-rmse:393.84476\tvalidation_1-rmse:433.97586\n",
      "[69]\tvalidation_0-rmse:393.58637\tvalidation_1-rmse:434.07242\n",
      "[70]\tvalidation_0-rmse:392.37787\tvalidation_1-rmse:433.93143\n",
      "[71]\tvalidation_0-rmse:391.17227\tvalidation_1-rmse:433.59018\n",
      "[72]\tvalidation_0-rmse:390.34283\tvalidation_1-rmse:433.36627\n",
      "[73]\tvalidation_0-rmse:389.55194\tvalidation_1-rmse:432.92242\n",
      "[74]\tvalidation_0-rmse:388.70825\tvalidation_1-rmse:432.75223\n",
      "[75]\tvalidation_0-rmse:387.34226\tvalidation_1-rmse:432.50705\n",
      "[76]\tvalidation_0-rmse:386.37518\tvalidation_1-rmse:432.33539\n",
      "[77]\tvalidation_0-rmse:385.62381\tvalidation_1-rmse:432.17532\n",
      "[78]\tvalidation_0-rmse:384.84146\tvalidation_1-rmse:432.09515\n",
      "[79]\tvalidation_0-rmse:384.24084\tvalidation_1-rmse:431.78928\n",
      "[80]\tvalidation_0-rmse:383.60025\tvalidation_1-rmse:431.70178\n",
      "[81]\tvalidation_0-rmse:382.73871\tvalidation_1-rmse:431.45795\n",
      "[82]\tvalidation_0-rmse:381.94519\tvalidation_1-rmse:431.34897\n",
      "[83]\tvalidation_0-rmse:381.39728\tvalidation_1-rmse:431.24554\n",
      "[84]\tvalidation_0-rmse:380.63602\tvalidation_1-rmse:431.34433\n",
      "[85]\tvalidation_0-rmse:380.04797\tvalidation_1-rmse:431.45785\n",
      "[86]\tvalidation_0-rmse:379.24225\tvalidation_1-rmse:431.49078\n",
      "[87]\tvalidation_0-rmse:378.07086\tvalidation_1-rmse:431.74264\n",
      "[88]\tvalidation_0-rmse:377.54266\tvalidation_1-rmse:431.70267\n",
      "[89]\tvalidation_0-rmse:376.65222\tvalidation_1-rmse:431.73465\n",
      "[90]\tvalidation_0-rmse:376.18561\tvalidation_1-rmse:431.68045\n",
      "[91]\tvalidation_0-rmse:375.76517\tvalidation_1-rmse:431.79910\n",
      "[92]\tvalidation_0-rmse:375.31305\tvalidation_1-rmse:431.80936\n",
      "[93]\tvalidation_0-rmse:375.19675\tvalidation_1-rmse:431.72366\n",
      "[94]\tvalidation_0-rmse:374.81628\tvalidation_1-rmse:431.60724\n",
      "[95]\tvalidation_0-rmse:374.33652\tvalidation_1-rmse:431.74710\n",
      "[96]\tvalidation_0-rmse:373.30865\tvalidation_1-rmse:431.68018\n",
      "[97]\tvalidation_0-rmse:372.97510\tvalidation_1-rmse:431.92950\n",
      "[98]\tvalidation_0-rmse:372.86951\tvalidation_1-rmse:431.84729\n",
      "[99]\tvalidation_0-rmse:372.53812\tvalidation_1-rmse:431.81113\n",
      "[100]\tvalidation_0-rmse:371.46997\tvalidation_1-rmse:431.53433\n",
      "[101]\tvalidation_0-rmse:371.38022\tvalidation_1-rmse:431.54404\n",
      "[102]\tvalidation_0-rmse:370.93594\tvalidation_1-rmse:431.67358\n",
      "[103]\tvalidation_0-rmse:370.57172\tvalidation_1-rmse:431.80356\n",
      "[104]\tvalidation_0-rmse:370.20755\tvalidation_1-rmse:431.73306\n",
      "[105]\tvalidation_0-rmse:369.84460\tvalidation_1-rmse:431.71887\n",
      "[106]\tvalidation_0-rmse:369.04221\tvalidation_1-rmse:431.94141\n",
      "[107]\tvalidation_0-rmse:368.95038\tvalidation_1-rmse:431.87399\n",
      "[108]\tvalidation_0-rmse:368.56815\tvalidation_1-rmse:431.89258\n",
      "[109]\tvalidation_0-rmse:368.33322\tvalidation_1-rmse:431.88660\n",
      "[110]\tvalidation_0-rmse:367.90546\tvalidation_1-rmse:431.87274\n",
      "[111]\tvalidation_0-rmse:367.44940\tvalidation_1-rmse:431.82385\n",
      "[112]\tvalidation_0-rmse:366.89182\tvalidation_1-rmse:431.96454\n",
      "[113]\tvalidation_0-rmse:366.65652\tvalidation_1-rmse:431.94989\n",
      "[114]\tvalidation_0-rmse:366.20364\tvalidation_1-rmse:431.99081\n",
      "[115]\tvalidation_0-rmse:365.46420\tvalidation_1-rmse:432.14978\n",
      "[116]\tvalidation_0-rmse:364.52982\tvalidation_1-rmse:432.95282\n",
      "[117]\tvalidation_0-rmse:363.85840\tvalidation_1-rmse:433.12741\n",
      "[118]\tvalidation_0-rmse:363.09854\tvalidation_1-rmse:432.91800\n",
      "[119]\tvalidation_0-rmse:362.25613\tvalidation_1-rmse:432.67862\n",
      "[120]\tvalidation_0-rmse:361.62686\tvalidation_1-rmse:432.71127\n",
      "[121]\tvalidation_0-rmse:361.14999\tvalidation_1-rmse:432.54541\n",
      "[122]\tvalidation_0-rmse:361.07193\tvalidation_1-rmse:432.56268\n",
      "CPU times: user 13.3 s, sys: 582 ms, total: 13.8 s\n",
      "Wall time: 2.58 s\n"
     ]
    },
    {
     "data": {
      "text/plain": [
       "XGBRegressor(base_score=0.5, booster='gbtree', colsample_bylevel=1,\n",
       "             colsample_bynode=1, colsample_bytree=0.8, enable_categorical=False,\n",
       "             gamma=0, gpu_id=-1, importance_type=None,\n",
       "             interaction_constraints='', learning_rate=0.1, max_delta_step=0,\n",
       "             max_depth=6, min_child_weight=1, missing=nan,\n",
       "             monotone_constraints='()', n_estimators=200, n_jobs=8,\n",
       "             num_parallel_tree=1, predictor='auto', random_state=0, reg_alpha=1,\n",
       "             reg_lambda=1, scale_pos_weight=1, subsample=1, tree_method='exact',\n",
       "             validate_parameters=1, verbosity=None)"
      ]
     },
     "execution_count": 72,
     "metadata": {},
     "output_type": "execute_result"
    }
   ],
   "source": [
    "%%time\n",
    "# 1. XGBRegressor \n",
    "# Model training\n",
    "model.fit(X_train, y_train,eval_set=[(X_train,y_train),(X_val,y_val)],early_stopping_rounds=40)"
   ]
  },
  {
   "cell_type": "code",
   "execution_count": 73,
   "id": "114ebca5",
   "metadata": {},
   "outputs": [
    {
     "name": "stdout",
     "output_type": "stream",
     "text": [
      "<class 'numpy.ndarray'>\n",
      "CPU times: user 46.8 ms, sys: 3.58 ms, total: 50.4 ms\n",
      "Wall time: 16.4 ms\n"
     ]
    }
   ],
   "source": [
    "%%time\n",
    "# Model predictions\n",
    "y_pred_val = model.predict(X_val)\n",
    "print(type(y_pred_val))"
   ]
  },
  {
   "cell_type": "code",
   "execution_count": 74,
   "id": "653dbd7f",
   "metadata": {},
   "outputs": [
    {
     "name": "stdout",
     "output_type": "stream",
     "text": [
      "<class 'numpy.ndarray'>\n",
      "CPU times: user 140 ms, sys: 4.69 ms, total: 144 ms\n",
      "Wall time: 26.6 ms\n"
     ]
    }
   ],
   "source": [
    "%%time\n",
    "# Model predictions\n",
    "y_pred_train = model.predict(X_train)\n",
    "print(type(y_pred_train))"
   ]
  },
  {
   "cell_type": "markdown",
   "id": "9d6b94a3",
   "metadata": {},
   "source": [
    "## Training set error"
   ]
  },
  {
   "cell_type": "code",
   "execution_count": 75,
   "id": "a88fcb5b",
   "metadata": {},
   "outputs": [
    {
     "data": {
      "text/plain": [
       "381.39732383329215"
      ]
     },
     "execution_count": 75,
     "metadata": {},
     "output_type": "execute_result"
    }
   ],
   "source": [
    "# Model predictions 381\n",
    "rmse_train = mean_squared_error(y_train, y_pred_train)**0.5\n",
    "rmse_train"
   ]
  },
  {
   "cell_type": "code",
   "execution_count": 76,
   "id": "cb7a3f86",
   "metadata": {},
   "outputs": [
    {
     "data": {
      "text/plain": [
       "215.98123504514803"
      ]
     },
     "execution_count": 76,
     "metadata": {},
     "output_type": "execute_result"
    }
   ],
   "source": [
    "mae_train=mean_absolute_error(y_train, y_pred_train)\n",
    "mae_train"
   ]
  },
  {
   "cell_type": "code",
   "execution_count": 77,
   "id": "d1b6a927",
   "metadata": {},
   "outputs": [
    {
     "data": {
      "text/plain": [
       "0.9844640028597387"
      ]
     },
     "execution_count": 77,
     "metadata": {},
     "output_type": "execute_result"
    }
   ],
   "source": [
    "r2r = r2_score(y_val, y_pred_val)\n",
    "r2r"
   ]
  },
  {
   "cell_type": "markdown",
   "id": "2bfd4334",
   "metadata": {},
   "source": [
    "## Model validation"
   ]
  },
  {
   "cell_type": "code",
   "execution_count": 78,
   "id": "589c945e",
   "metadata": {},
   "outputs": [
    {
     "data": {
      "text/plain": [
       "431.24554703030094"
      ]
     },
     "execution_count": 78,
     "metadata": {},
     "output_type": "execute_result"
    }
   ],
   "source": [
    "#431\n",
    "rmse_val = mean_squared_error(y_val, y_pred_val)**0.5\n",
    "rmse_val"
   ]
  },
  {
   "cell_type": "code",
   "execution_count": 79,
   "id": "2cc1fbe1",
   "metadata": {},
   "outputs": [
    {
     "data": {
      "text/plain": [
       "233.4925085385342"
      ]
     },
     "execution_count": 79,
     "metadata": {},
     "output_type": "execute_result"
    }
   ],
   "source": [
    "mae_val=mean_absolute_error(y_val, y_pred_val)\n",
    "mae_val"
   ]
  },
  {
   "cell_type": "code",
   "execution_count": 80,
   "id": "e4b6f7bf",
   "metadata": {},
   "outputs": [
    {
     "data": {
      "text/plain": [
       "0.9844640028597387"
      ]
     },
     "execution_count": 80,
     "metadata": {},
     "output_type": "execute_result"
    }
   ],
   "source": [
    "r2r = r2_score(y_val, y_pred_val)\n",
    "r2r"
   ]
  },
  {
   "cell_type": "markdown",
   "id": "46e824c3",
   "metadata": {},
   "source": [
    "## Model training without validation"
   ]
  },
  {
   "cell_type": "code",
   "execution_count": 45,
   "id": "643a3878",
   "metadata": {},
   "outputs": [
    {
     "name": "stdout",
     "output_type": "stream",
     "text": [
      "Model: XGBRegressor(base_score=0.5, booster='gbtree', colsample_bylevel=1,\n",
      "             colsample_bynode=1, colsample_bytree=0.8, enable_categorical=False,\n",
      "             gamma=0, gpu_id=-1, importance_type=None,\n",
      "             interaction_constraints='', learning_rate=0.1, max_delta_step=0,\n",
      "             max_depth=6, min_child_weight=1, missing=nan,\n",
      "             monotone_constraints='()', n_estimators=200, n_jobs=8,\n",
      "             num_parallel_tree=1, predictor='auto', random_state=0, reg_alpha=1,\n",
      "             reg_lambda=1, scale_pos_weight=1, subsample=1, tree_method='exact',\n",
      "             validate_parameters=1, verbosity=None) \n",
      "\n",
      "Model hyperparameters: {'objective': 'reg:squarederror', 'base_score': None, 'booster': None, 'colsample_bylevel': 1, 'colsample_bynode': 1, 'colsample_bytree': 0.8, 'enable_categorical': False, 'gamma': 0, 'gpu_id': None, 'importance_type': None, 'interaction_constraints': None, 'learning_rate': 0.1, 'max_delta_step': None, 'max_depth': None, 'min_child_weight': None, 'missing': nan, 'monotone_constraints': None, 'n_estimators': 200, 'n_jobs': None, 'num_parallel_tree': None, 'predictor': None, 'random_state': None, 'reg_alpha': 1, 'reg_lambda': 1, 'scale_pos_weight': None, 'subsample': None, 'tree_method': None, 'validate_parameters': None, 'verbosity': None} \n",
      "\n",
      "CPU times: user 25.3 s, sys: 509 ms, total: 25.8 s\n",
      "Wall time: 3.73 s\n"
     ]
    }
   ],
   "source": [
    "%%time\n",
    "# Model training\n",
    "model.fit(X, y)\n",
    "print('Model:', model, '\\n')\n",
    "print('Model hyperparameters:', hyperparameters, '\\n')"
   ]
  },
  {
   "cell_type": "markdown",
   "id": "8f5f534f",
   "metadata": {},
   "source": [
    "## Test Preditions"
   ]
  },
  {
   "cell_type": "code",
   "execution_count": 38,
   "id": "9085827c",
   "metadata": {},
   "outputs": [],
   "source": [
    "predictions = model.predict(X_test)"
   ]
  },
  {
   "cell_type": "code",
   "execution_count": 39,
   "id": "4d010675",
   "metadata": {},
   "outputs": [],
   "source": [
    "predictions=pd.DataFrame(predictions)"
   ]
  },
  {
   "cell_type": "code",
   "execution_count": 40,
   "id": "9d2ca3df",
   "metadata": {},
   "outputs": [],
   "source": [
    "predictions.reset_index(inplace=True)"
   ]
  },
  {
   "cell_type": "code",
   "execution_count": 41,
   "id": "2c805a71",
   "metadata": {},
   "outputs": [],
   "source": [
    "predictions=predictions.rename({0: 'price','index': 'id'}, axis=1)"
   ]
  },
  {
   "cell_type": "markdown",
   "id": "01a0cf38",
   "metadata": {},
   "source": [
    "## Save Preditions"
   ]
  },
  {
   "cell_type": "code",
   "execution_count": 42,
   "id": "da3f74be",
   "metadata": {},
   "outputs": [],
   "source": [
    "predictions.to_csv('../data/diamonds_predictions_XGBRegressor.csv',index=False)"
   ]
  }
 ],
 "metadata": {
  "kernelspec": {
   "display_name": "Python [conda env:ML]",
   "language": "python",
   "name": "conda-env-ML-py"
  },
  "language_info": {
   "codemirror_mode": {
    "name": "ipython",
    "version": 3
   },
   "file_extension": ".py",
   "mimetype": "text/x-python",
   "name": "python",
   "nbconvert_exporter": "python",
   "pygments_lexer": "ipython3",
   "version": "3.7.13"
  }
 },
 "nbformat": 4,
 "nbformat_minor": 5
}
