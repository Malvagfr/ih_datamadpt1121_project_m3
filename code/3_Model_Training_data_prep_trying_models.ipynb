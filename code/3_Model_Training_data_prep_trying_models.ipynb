{
 "cells": [
  {
   "cell_type": "markdown",
   "id": "c1df95e2",
   "metadata": {},
   "source": [
    "## 0. Libraries import"
   ]
  },
  {
   "cell_type": "code",
   "execution_count": 2,
   "id": "a17f838c",
   "metadata": {},
   "outputs": [],
   "source": [
    "# ignore warnings\n",
    "import warnings\n",
    "warnings.filterwarnings('ignore')"
   ]
  },
  {
   "cell_type": "code",
   "execution_count": 3,
   "id": "15bd2943",
   "metadata": {},
   "outputs": [],
   "source": [
    "# imports \n",
    "import numpy as np\n",
    "import pandas as pd\n",
    "pd.set_option(\"display.max_columns\", 50)\n",
    "import matplotlib.pyplot as plt\n",
    "%matplotlib inline\n",
    "from sklearn.preprocessing import StandardScaler\n",
    "#train test split\n",
    "from sklearn.model_selection import train_test_split\n",
    "# Hyperparameters selection\n",
    "from sklearn.model_selection import RandomizedSearchCV\n",
    "# Importing cross validation function from sklearn\n",
    "from sklearn.model_selection import cross_val_score\n",
    "# models\n",
    "from sklearn.ensemble import RandomForestRegressor\n",
    "from xgboost import XGBRegressor\n",
    "from sklearn.neighbors import KNeighborsRegressor\n",
    "from sklearn.svm import SVR\n",
    "from sklearn.linear_model import RANSACRegressor\n",
    "# error\n",
    "from sklearn.metrics import mean_squared_error,r2_score,mean_absolute_error"
   ]
  },
  {
   "cell_type": "markdown",
   "id": "894bdee3",
   "metadata": {},
   "source": [
    "## 1. Data import"
   ]
  },
  {
   "cell_type": "markdown",
   "id": "5630cc14",
   "metadata": {},
   "source": [
    "### 1.1 Impor train data"
   ]
  },
  {
   "cell_type": "code",
   "execution_count": 4,
   "id": "b35aa513",
   "metadata": {},
   "outputs": [
    {
     "data": {
      "text/html": [
       "<div>\n",
       "<style scoped>\n",
       "    .dataframe tbody tr th:only-of-type {\n",
       "        vertical-align: middle;\n",
       "    }\n",
       "\n",
       "    .dataframe tbody tr th {\n",
       "        vertical-align: top;\n",
       "    }\n",
       "\n",
       "    .dataframe thead th {\n",
       "        text-align: right;\n",
       "    }\n",
       "</style>\n",
       "<table border=\"1\" class=\"dataframe\">\n",
       "  <thead>\n",
       "    <tr style=\"text-align: right;\">\n",
       "      <th></th>\n",
       "      <th>index_id</th>\n",
       "      <th>depth</th>\n",
       "      <th>table</th>\n",
       "      <th>x</th>\n",
       "      <th>y</th>\n",
       "      <th>z</th>\n",
       "      <th>price</th>\n",
       "      <th>carat</th>\n",
       "      <th>cut</th>\n",
       "      <th>color</th>\n",
       "      <th>clarity</th>\n",
       "      <th>city</th>\n",
       "    </tr>\n",
       "  </thead>\n",
       "  <tbody>\n",
       "    <tr>\n",
       "      <th>0</th>\n",
       "      <td>5feceb66ffc86f38d952786c6d696c79c2dbc239dd4e91...</td>\n",
       "      <td>62.4</td>\n",
       "      <td>58.0</td>\n",
       "      <td>6.83</td>\n",
       "      <td>6.79</td>\n",
       "      <td>4.25</td>\n",
       "      <td>4268</td>\n",
       "      <td>1.21</td>\n",
       "      <td>Premium</td>\n",
       "      <td>J</td>\n",
       "      <td>VS2</td>\n",
       "      <td>Dubai</td>\n",
       "    </tr>\n",
       "    <tr>\n",
       "      <th>1</th>\n",
       "      <td>6b86b273ff34fce19d6b804eff5a3f5747ada4eaa22f1d...</td>\n",
       "      <td>63.0</td>\n",
       "      <td>57.0</td>\n",
       "      <td>4.35</td>\n",
       "      <td>4.38</td>\n",
       "      <td>2.75</td>\n",
       "      <td>505</td>\n",
       "      <td>0.32</td>\n",
       "      <td>Very Good</td>\n",
       "      <td>H</td>\n",
       "      <td>VS2</td>\n",
       "      <td>Kimberly</td>\n",
       "    </tr>\n",
       "    <tr>\n",
       "      <th>2</th>\n",
       "      <td>d4735e3a265e16eee03f59718b9b5d03019c07d8b6c51f...</td>\n",
       "      <td>65.5</td>\n",
       "      <td>55.0</td>\n",
       "      <td>5.62</td>\n",
       "      <td>5.53</td>\n",
       "      <td>3.65</td>\n",
       "      <td>2686</td>\n",
       "      <td>0.71</td>\n",
       "      <td>Fair</td>\n",
       "      <td>G</td>\n",
       "      <td>VS1</td>\n",
       "      <td>Las Vegas</td>\n",
       "    </tr>\n",
       "    <tr>\n",
       "      <th>3</th>\n",
       "      <td>4e07408562bedb8b60ce05c1decfe3ad16b72230967de0...</td>\n",
       "      <td>63.8</td>\n",
       "      <td>56.0</td>\n",
       "      <td>4.68</td>\n",
       "      <td>4.72</td>\n",
       "      <td>3.00</td>\n",
       "      <td>738</td>\n",
       "      <td>0.41</td>\n",
       "      <td>Good</td>\n",
       "      <td>D</td>\n",
       "      <td>SI1</td>\n",
       "      <td>Kimberly</td>\n",
       "    </tr>\n",
       "    <tr>\n",
       "      <th>4</th>\n",
       "      <td>4b227777d4dd1fc61c6f884f48641d02b4d121d3fd328c...</td>\n",
       "      <td>60.5</td>\n",
       "      <td>59.0</td>\n",
       "      <td>6.55</td>\n",
       "      <td>6.51</td>\n",
       "      <td>3.95</td>\n",
       "      <td>4882</td>\n",
       "      <td>1.02</td>\n",
       "      <td>Ideal</td>\n",
       "      <td>G</td>\n",
       "      <td>SI1</td>\n",
       "      <td>Dubai</td>\n",
       "    </tr>\n",
       "    <tr>\n",
       "      <th>...</th>\n",
       "      <td>...</td>\n",
       "      <td>...</td>\n",
       "      <td>...</td>\n",
       "      <td>...</td>\n",
       "      <td>...</td>\n",
       "      <td>...</td>\n",
       "      <td>...</td>\n",
       "      <td>...</td>\n",
       "      <td>...</td>\n",
       "      <td>...</td>\n",
       "      <td>...</td>\n",
       "      <td>...</td>\n",
       "    </tr>\n",
       "    <tr>\n",
       "      <th>40450</th>\n",
       "      <td>f0bc79169405ebeb24e308055156b946ffd819db9b4f75...</td>\n",
       "      <td>62.7</td>\n",
       "      <td>57.0</td>\n",
       "      <td>7.10</td>\n",
       "      <td>7.04</td>\n",
       "      <td>4.43</td>\n",
       "      <td>10070</td>\n",
       "      <td>1.34</td>\n",
       "      <td>Ideal</td>\n",
       "      <td>G</td>\n",
       "      <td>VS1</td>\n",
       "      <td>Antwerp</td>\n",
       "    </tr>\n",
       "    <tr>\n",
       "      <th>40451</th>\n",
       "      <td>339916a23bf22b052b54cb2a9b36ee8418c1c68b46acad...</td>\n",
       "      <td>57.1</td>\n",
       "      <td>60.0</td>\n",
       "      <td>8.31</td>\n",
       "      <td>8.25</td>\n",
       "      <td>4.73</td>\n",
       "      <td>12615</td>\n",
       "      <td>2.02</td>\n",
       "      <td>Good</td>\n",
       "      <td>F</td>\n",
       "      <td>SI2</td>\n",
       "      <td>Madrid</td>\n",
       "    </tr>\n",
       "    <tr>\n",
       "      <th>40452</th>\n",
       "      <td>46957922b99954654c1deb8d854c3f069bf118b2ce9415...</td>\n",
       "      <td>62.7</td>\n",
       "      <td>56.0</td>\n",
       "      <td>6.37</td>\n",
       "      <td>6.42</td>\n",
       "      <td>4.01</td>\n",
       "      <td>5457</td>\n",
       "      <td>1.01</td>\n",
       "      <td>Ideal</td>\n",
       "      <td>H</td>\n",
       "      <td>SI1</td>\n",
       "      <td>Kimberly</td>\n",
       "    </tr>\n",
       "    <tr>\n",
       "      <th>40453</th>\n",
       "      <td>9d733392d362d5c6f1d9b9659b601c7d4b5a1c1c8df579...</td>\n",
       "      <td>61.9</td>\n",
       "      <td>54.3</td>\n",
       "      <td>4.45</td>\n",
       "      <td>4.47</td>\n",
       "      <td>2.76</td>\n",
       "      <td>456</td>\n",
       "      <td>0.33</td>\n",
       "      <td>Ideal</td>\n",
       "      <td>J</td>\n",
       "      <td>VS1</td>\n",
       "      <td>Kimberly</td>\n",
       "    </tr>\n",
       "    <tr>\n",
       "      <th>40454</th>\n",
       "      <td>a02744a70faa594d240b067f21fcc23a8d17cd1098a9fb...</td>\n",
       "      <td>62.0</td>\n",
       "      <td>58.0</td>\n",
       "      <td>6.83</td>\n",
       "      <td>6.88</td>\n",
       "      <td>4.25</td>\n",
       "      <td>6232</td>\n",
       "      <td>1.24</td>\n",
       "      <td>Ideal</td>\n",
       "      <td>I</td>\n",
       "      <td>SI1</td>\n",
       "      <td>London</td>\n",
       "    </tr>\n",
       "  </tbody>\n",
       "</table>\n",
       "<p>40455 rows × 12 columns</p>\n",
       "</div>"
      ],
      "text/plain": [
       "                                                index_id  depth  table     x  \\\n",
       "0      5feceb66ffc86f38d952786c6d696c79c2dbc239dd4e91...   62.4   58.0  6.83   \n",
       "1      6b86b273ff34fce19d6b804eff5a3f5747ada4eaa22f1d...   63.0   57.0  4.35   \n",
       "2      d4735e3a265e16eee03f59718b9b5d03019c07d8b6c51f...   65.5   55.0  5.62   \n",
       "3      4e07408562bedb8b60ce05c1decfe3ad16b72230967de0...   63.8   56.0  4.68   \n",
       "4      4b227777d4dd1fc61c6f884f48641d02b4d121d3fd328c...   60.5   59.0  6.55   \n",
       "...                                                  ...    ...    ...   ...   \n",
       "40450  f0bc79169405ebeb24e308055156b946ffd819db9b4f75...   62.7   57.0  7.10   \n",
       "40451  339916a23bf22b052b54cb2a9b36ee8418c1c68b46acad...   57.1   60.0  8.31   \n",
       "40452  46957922b99954654c1deb8d854c3f069bf118b2ce9415...   62.7   56.0  6.37   \n",
       "40453  9d733392d362d5c6f1d9b9659b601c7d4b5a1c1c8df579...   61.9   54.3  4.45   \n",
       "40454  a02744a70faa594d240b067f21fcc23a8d17cd1098a9fb...   62.0   58.0  6.83   \n",
       "\n",
       "          y     z  price  carat        cut color clarity       city  \n",
       "0      6.79  4.25   4268   1.21    Premium     J     VS2      Dubai  \n",
       "1      4.38  2.75    505   0.32  Very Good     H     VS2   Kimberly  \n",
       "2      5.53  3.65   2686   0.71       Fair     G     VS1  Las Vegas  \n",
       "3      4.72  3.00    738   0.41       Good     D     SI1   Kimberly  \n",
       "4      6.51  3.95   4882   1.02      Ideal     G     SI1      Dubai  \n",
       "...     ...   ...    ...    ...        ...   ...     ...        ...  \n",
       "40450  7.04  4.43  10070   1.34      Ideal     G     VS1    Antwerp  \n",
       "40451  8.25  4.73  12615   2.02       Good     F     SI2     Madrid  \n",
       "40452  6.42  4.01   5457   1.01      Ideal     H     SI1   Kimberly  \n",
       "40453  4.47  2.76    456   0.33      Ideal     J     VS1   Kimberly  \n",
       "40454  6.88  4.25   6232   1.24      Ideal     I     SI1     London  \n",
       "\n",
       "[40455 rows x 12 columns]"
      ]
     },
     "execution_count": 4,
     "metadata": {},
     "output_type": "execute_result"
    }
   ],
   "source": [
    "df_diamonds_train=pd.read_csv('../data/diamonds_train.csv')\n",
    "df_diamonds_train.pop(\"Unnamed: 0\") #dropped an unnecessary column\n",
    "df_diamonds_train"
   ]
  },
  {
   "cell_type": "markdown",
   "id": "a1e9c51a",
   "metadata": {},
   "source": [
    "### 1.2 Impor test data"
   ]
  },
  {
   "cell_type": "code",
   "execution_count": 5,
   "id": "65ba238d",
   "metadata": {},
   "outputs": [
    {
     "data": {
      "text/html": [
       "<div>\n",
       "<style scoped>\n",
       "    .dataframe tbody tr th:only-of-type {\n",
       "        vertical-align: middle;\n",
       "    }\n",
       "\n",
       "    .dataframe tbody tr th {\n",
       "        vertical-align: top;\n",
       "    }\n",
       "\n",
       "    .dataframe thead th {\n",
       "        text-align: right;\n",
       "    }\n",
       "</style>\n",
       "<table border=\"1\" class=\"dataframe\">\n",
       "  <thead>\n",
       "    <tr style=\"text-align: right;\">\n",
       "      <th></th>\n",
       "      <th>id</th>\n",
       "      <th>carat</th>\n",
       "      <th>cut</th>\n",
       "      <th>color</th>\n",
       "      <th>clarity</th>\n",
       "      <th>depth</th>\n",
       "      <th>table</th>\n",
       "      <th>x</th>\n",
       "      <th>y</th>\n",
       "      <th>z</th>\n",
       "      <th>city</th>\n",
       "    </tr>\n",
       "  </thead>\n",
       "  <tbody>\n",
       "    <tr>\n",
       "      <th>0</th>\n",
       "      <td>0</td>\n",
       "      <td>0.79</td>\n",
       "      <td>Very Good</td>\n",
       "      <td>F</td>\n",
       "      <td>SI1</td>\n",
       "      <td>62.7</td>\n",
       "      <td>60.0</td>\n",
       "      <td>5.82</td>\n",
       "      <td>5.89</td>\n",
       "      <td>3.67</td>\n",
       "      <td>Amsterdam</td>\n",
       "    </tr>\n",
       "    <tr>\n",
       "      <th>1</th>\n",
       "      <td>1</td>\n",
       "      <td>1.20</td>\n",
       "      <td>Ideal</td>\n",
       "      <td>J</td>\n",
       "      <td>VS1</td>\n",
       "      <td>61.0</td>\n",
       "      <td>57.0</td>\n",
       "      <td>6.81</td>\n",
       "      <td>6.89</td>\n",
       "      <td>4.18</td>\n",
       "      <td>Surat</td>\n",
       "    </tr>\n",
       "    <tr>\n",
       "      <th>2</th>\n",
       "      <td>2</td>\n",
       "      <td>1.57</td>\n",
       "      <td>Premium</td>\n",
       "      <td>H</td>\n",
       "      <td>SI1</td>\n",
       "      <td>62.2</td>\n",
       "      <td>61.0</td>\n",
       "      <td>7.38</td>\n",
       "      <td>7.32</td>\n",
       "      <td>4.57</td>\n",
       "      <td>Kimberly</td>\n",
       "    </tr>\n",
       "    <tr>\n",
       "      <th>3</th>\n",
       "      <td>3</td>\n",
       "      <td>0.90</td>\n",
       "      <td>Very Good</td>\n",
       "      <td>F</td>\n",
       "      <td>SI1</td>\n",
       "      <td>63.8</td>\n",
       "      <td>54.0</td>\n",
       "      <td>6.09</td>\n",
       "      <td>6.13</td>\n",
       "      <td>3.90</td>\n",
       "      <td>Kimberly</td>\n",
       "    </tr>\n",
       "    <tr>\n",
       "      <th>4</th>\n",
       "      <td>4</td>\n",
       "      <td>0.50</td>\n",
       "      <td>Very Good</td>\n",
       "      <td>F</td>\n",
       "      <td>VS1</td>\n",
       "      <td>62.9</td>\n",
       "      <td>58.0</td>\n",
       "      <td>5.05</td>\n",
       "      <td>5.09</td>\n",
       "      <td>3.19</td>\n",
       "      <td>Amsterdam</td>\n",
       "    </tr>\n",
       "    <tr>\n",
       "      <th>...</th>\n",
       "      <td>...</td>\n",
       "      <td>...</td>\n",
       "      <td>...</td>\n",
       "      <td>...</td>\n",
       "      <td>...</td>\n",
       "      <td>...</td>\n",
       "      <td>...</td>\n",
       "      <td>...</td>\n",
       "      <td>...</td>\n",
       "      <td>...</td>\n",
       "      <td>...</td>\n",
       "    </tr>\n",
       "    <tr>\n",
       "      <th>13480</th>\n",
       "      <td>13480</td>\n",
       "      <td>0.57</td>\n",
       "      <td>Ideal</td>\n",
       "      <td>E</td>\n",
       "      <td>SI1</td>\n",
       "      <td>61.9</td>\n",
       "      <td>56.0</td>\n",
       "      <td>5.35</td>\n",
       "      <td>5.32</td>\n",
       "      <td>3.30</td>\n",
       "      <td>Amsterdam</td>\n",
       "    </tr>\n",
       "    <tr>\n",
       "      <th>13481</th>\n",
       "      <td>13481</td>\n",
       "      <td>0.71</td>\n",
       "      <td>Ideal</td>\n",
       "      <td>I</td>\n",
       "      <td>VS2</td>\n",
       "      <td>62.2</td>\n",
       "      <td>55.0</td>\n",
       "      <td>5.71</td>\n",
       "      <td>5.73</td>\n",
       "      <td>3.56</td>\n",
       "      <td>New York City</td>\n",
       "    </tr>\n",
       "    <tr>\n",
       "      <th>13482</th>\n",
       "      <td>13482</td>\n",
       "      <td>0.70</td>\n",
       "      <td>Ideal</td>\n",
       "      <td>F</td>\n",
       "      <td>VS1</td>\n",
       "      <td>61.6</td>\n",
       "      <td>55.0</td>\n",
       "      <td>5.75</td>\n",
       "      <td>5.71</td>\n",
       "      <td>3.53</td>\n",
       "      <td>Tel Aviv</td>\n",
       "    </tr>\n",
       "    <tr>\n",
       "      <th>13483</th>\n",
       "      <td>13483</td>\n",
       "      <td>0.70</td>\n",
       "      <td>Very Good</td>\n",
       "      <td>F</td>\n",
       "      <td>SI2</td>\n",
       "      <td>58.8</td>\n",
       "      <td>57.0</td>\n",
       "      <td>5.85</td>\n",
       "      <td>5.89</td>\n",
       "      <td>3.45</td>\n",
       "      <td>Surat</td>\n",
       "    </tr>\n",
       "    <tr>\n",
       "      <th>13484</th>\n",
       "      <td>13484</td>\n",
       "      <td>0.40</td>\n",
       "      <td>Ideal</td>\n",
       "      <td>I</td>\n",
       "      <td>VVS2</td>\n",
       "      <td>62.4</td>\n",
       "      <td>55.0</td>\n",
       "      <td>4.70</td>\n",
       "      <td>4.73</td>\n",
       "      <td>2.94</td>\n",
       "      <td>New York City</td>\n",
       "    </tr>\n",
       "  </tbody>\n",
       "</table>\n",
       "<p>13485 rows × 11 columns</p>\n",
       "</div>"
      ],
      "text/plain": [
       "          id  carat        cut color clarity  depth  table     x     y     z  \\\n",
       "0          0   0.79  Very Good     F     SI1   62.7   60.0  5.82  5.89  3.67   \n",
       "1          1   1.20      Ideal     J     VS1   61.0   57.0  6.81  6.89  4.18   \n",
       "2          2   1.57    Premium     H     SI1   62.2   61.0  7.38  7.32  4.57   \n",
       "3          3   0.90  Very Good     F     SI1   63.8   54.0  6.09  6.13  3.90   \n",
       "4          4   0.50  Very Good     F     VS1   62.9   58.0  5.05  5.09  3.19   \n",
       "...      ...    ...        ...   ...     ...    ...    ...   ...   ...   ...   \n",
       "13480  13480   0.57      Ideal     E     SI1   61.9   56.0  5.35  5.32  3.30   \n",
       "13481  13481   0.71      Ideal     I     VS2   62.2   55.0  5.71  5.73  3.56   \n",
       "13482  13482   0.70      Ideal     F     VS1   61.6   55.0  5.75  5.71  3.53   \n",
       "13483  13483   0.70  Very Good     F     SI2   58.8   57.0  5.85  5.89  3.45   \n",
       "13484  13484   0.40      Ideal     I    VVS2   62.4   55.0  4.70  4.73  2.94   \n",
       "\n",
       "                city  \n",
       "0          Amsterdam  \n",
       "1              Surat  \n",
       "2           Kimberly  \n",
       "3           Kimberly  \n",
       "4          Amsterdam  \n",
       "...              ...  \n",
       "13480      Amsterdam  \n",
       "13481  New York City  \n",
       "13482       Tel Aviv  \n",
       "13483          Surat  \n",
       "13484  New York City  \n",
       "\n",
       "[13485 rows x 11 columns]"
      ]
     },
     "execution_count": 5,
     "metadata": {},
     "output_type": "execute_result"
    }
   ],
   "source": [
    "df_diamonds_test=pd.read_csv('../data/diamonds_test.csv')\n",
    "df_diamonds_test"
   ]
  },
  {
   "cell_type": "markdown",
   "id": "5aa0abf6",
   "metadata": {},
   "source": [
    "## 2. Data preparation (training set)"
   ]
  },
  {
   "cell_type": "markdown",
   "id": "e0ed5e25",
   "metadata": {},
   "source": [
    "### 2.1 Defining numerical and categorical features"
   ]
  },
  {
   "cell_type": "code",
   "execution_count": 6,
   "id": "20d9b399",
   "metadata": {},
   "outputs": [],
   "source": [
    "# Excluding city (with trees sometimes is better to keep variables even if they are correlated)\n",
    "num_features_list=['x','y','z','depth','table','carat']\n",
    "cat_features_list=['cut','color','clarity']\n",
    "target='price'\n",
    "features_list=['x','y','z','depth','table','carat','cut','color','clarity']"
   ]
  },
  {
   "cell_type": "markdown",
   "id": "0c04083b",
   "metadata": {},
   "source": [
    "### 2.2 Checking if zero/null values"
   ]
  },
  {
   "cell_type": "code",
   "execution_count": 7,
   "id": "fd1ba8b0",
   "metadata": {},
   "outputs": [
    {
     "data": {
      "text/plain": [
       "x        0\n",
       "y        0\n",
       "z        0\n",
       "depth    0\n",
       "table    0\n",
       "carat    0\n",
       "dtype: int64"
      ]
     },
     "execution_count": 7,
     "metadata": {},
     "output_type": "execute_result"
    }
   ],
   "source": [
    "df_diamonds_train[num_features_list].isna().sum()"
   ]
  },
  {
   "cell_type": "code",
   "execution_count": 8,
   "id": "8d3d9d94",
   "metadata": {},
   "outputs": [
    {
     "name": "stdout",
     "output_type": "stream",
     "text": [
      "No 0 values\n"
     ]
    }
   ],
   "source": [
    "if 0 in df_diamonds_train[num_features_list]:\n",
    "    print('0 values')\n",
    "else:\n",
    "    print('No 0 values')"
   ]
  },
  {
   "cell_type": "markdown",
   "id": "0ce0cea2",
   "metadata": {},
   "source": [
    "### 2.3 Remove outliers"
   ]
  },
  {
   "cell_type": "code",
   "execution_count": 9,
   "id": "07c56070",
   "metadata": {},
   "outputs": [],
   "source": [
    "def remove_outliers(df,feature):\n",
    "    # IQR\n",
    "    Q1 = np.percentile(df[feature], 25,\n",
    "                   interpolation = 'midpoint')\n",
    "    Q3 = np.percentile(df[feature], 75,\n",
    "                   interpolation = 'midpoint')\n",
    "    IQR = Q3 - Q1\n",
    "    # Upper and lower\n",
    "    upper_limit=Q3+1.5*IQR\n",
    "    lower_limit=Q1-1.5*IQR\n",
    "    # Removing the Outliers\n",
    "    return df[(df[feature]>=lower_limit) & (df[feature]<=upper_limit)]"
   ]
  },
  {
   "cell_type": "code",
   "execution_count": 10,
   "id": "d63cd0c3",
   "metadata": {},
   "outputs": [],
   "source": [
    "df_diamonds_train=remove_outliers(df_diamonds_train,'x')\n",
    "df_diamonds_train=remove_outliers(df_diamonds_train,'y')\n",
    "df_diamonds_train=remove_outliers(df_diamonds_train,'z')\n",
    "df_diamonds_train=remove_outliers(df_diamonds_train,'depth')\n",
    "df_diamonds_train=remove_outliers(df_diamonds_train,'table')\n",
    "df_diamonds_train=remove_outliers(df_diamonds_train,'carat')"
   ]
  },
  {
   "cell_type": "code",
   "execution_count": 11,
   "id": "39444e3a",
   "metadata": {},
   "outputs": [
    {
     "data": {
      "text/plain": [
       "(37264, 12)"
      ]
     },
     "execution_count": 11,
     "metadata": {},
     "output_type": "execute_result"
    }
   ],
   "source": [
    "df_diamonds_train.shape"
   ]
  },
  {
   "cell_type": "markdown",
   "id": "3b8411f8",
   "metadata": {},
   "source": [
    "### 3. Feature engineering (training set)"
   ]
  },
  {
   "cell_type": "markdown",
   "id": "d7abcc1a",
   "metadata": {},
   "source": [
    "### 3.5 One hot encoding"
   ]
  },
  {
   "cell_type": "code",
   "execution_count": 12,
   "id": "fc3046a3",
   "metadata": {},
   "outputs": [],
   "source": [
    "# 3. Defining features y target\n",
    "#features_list_volume=['x', 'y', 'z', 'depth', 'table', 'carat', 'cut', 'color', 'clarity','volume']\n",
    "X=df_diamonds_train[features_list]\n",
    "y=df_diamonds_train['price']"
   ]
  },
  {
   "cell_type": "code",
   "execution_count": 13,
   "id": "fcb4c48c",
   "metadata": {},
   "outputs": [],
   "source": [
    "# 4.One-hot encoding for categorical variables\n",
    "X=pd.get_dummies(X,columns=cat_features_list,drop_first=True)"
   ]
  },
  {
   "cell_type": "code",
   "execution_count": 14,
   "id": "a08f69a0",
   "metadata": {},
   "outputs": [
    {
     "data": {
      "text/html": [
       "<div>\n",
       "<style scoped>\n",
       "    .dataframe tbody tr th:only-of-type {\n",
       "        vertical-align: middle;\n",
       "    }\n",
       "\n",
       "    .dataframe tbody tr th {\n",
       "        vertical-align: top;\n",
       "    }\n",
       "\n",
       "    .dataframe thead th {\n",
       "        text-align: right;\n",
       "    }\n",
       "</style>\n",
       "<table border=\"1\" class=\"dataframe\">\n",
       "  <thead>\n",
       "    <tr style=\"text-align: right;\">\n",
       "      <th></th>\n",
       "      <th>x</th>\n",
       "      <th>y</th>\n",
       "      <th>z</th>\n",
       "      <th>depth</th>\n",
       "      <th>table</th>\n",
       "      <th>carat</th>\n",
       "      <th>cut_Good</th>\n",
       "      <th>cut_Ideal</th>\n",
       "      <th>cut_Premium</th>\n",
       "      <th>cut_Very Good</th>\n",
       "      <th>color_E</th>\n",
       "      <th>color_F</th>\n",
       "      <th>color_G</th>\n",
       "      <th>color_H</th>\n",
       "      <th>color_I</th>\n",
       "      <th>color_J</th>\n",
       "      <th>clarity_IF</th>\n",
       "      <th>clarity_SI1</th>\n",
       "      <th>clarity_SI2</th>\n",
       "      <th>clarity_VS1</th>\n",
       "      <th>clarity_VS2</th>\n",
       "      <th>clarity_VVS1</th>\n",
       "      <th>clarity_VVS2</th>\n",
       "    </tr>\n",
       "  </thead>\n",
       "  <tbody>\n",
       "    <tr>\n",
       "      <th>0</th>\n",
       "      <td>6.83</td>\n",
       "      <td>6.79</td>\n",
       "      <td>4.25</td>\n",
       "      <td>62.4</td>\n",
       "      <td>58.0</td>\n",
       "      <td>1.21</td>\n",
       "      <td>0</td>\n",
       "      <td>0</td>\n",
       "      <td>1</td>\n",
       "      <td>0</td>\n",
       "      <td>0</td>\n",
       "      <td>0</td>\n",
       "      <td>0</td>\n",
       "      <td>0</td>\n",
       "      <td>0</td>\n",
       "      <td>1</td>\n",
       "      <td>0</td>\n",
       "      <td>0</td>\n",
       "      <td>0</td>\n",
       "      <td>0</td>\n",
       "      <td>1</td>\n",
       "      <td>0</td>\n",
       "      <td>0</td>\n",
       "    </tr>\n",
       "    <tr>\n",
       "      <th>1</th>\n",
       "      <td>4.35</td>\n",
       "      <td>4.38</td>\n",
       "      <td>2.75</td>\n",
       "      <td>63.0</td>\n",
       "      <td>57.0</td>\n",
       "      <td>0.32</td>\n",
       "      <td>0</td>\n",
       "      <td>0</td>\n",
       "      <td>0</td>\n",
       "      <td>1</td>\n",
       "      <td>0</td>\n",
       "      <td>0</td>\n",
       "      <td>0</td>\n",
       "      <td>1</td>\n",
       "      <td>0</td>\n",
       "      <td>0</td>\n",
       "      <td>0</td>\n",
       "      <td>0</td>\n",
       "      <td>0</td>\n",
       "      <td>0</td>\n",
       "      <td>1</td>\n",
       "      <td>0</td>\n",
       "      <td>0</td>\n",
       "    </tr>\n",
       "    <tr>\n",
       "      <th>3</th>\n",
       "      <td>4.68</td>\n",
       "      <td>4.72</td>\n",
       "      <td>3.00</td>\n",
       "      <td>63.8</td>\n",
       "      <td>56.0</td>\n",
       "      <td>0.41</td>\n",
       "      <td>1</td>\n",
       "      <td>0</td>\n",
       "      <td>0</td>\n",
       "      <td>0</td>\n",
       "      <td>0</td>\n",
       "      <td>0</td>\n",
       "      <td>0</td>\n",
       "      <td>0</td>\n",
       "      <td>0</td>\n",
       "      <td>0</td>\n",
       "      <td>0</td>\n",
       "      <td>1</td>\n",
       "      <td>0</td>\n",
       "      <td>0</td>\n",
       "      <td>0</td>\n",
       "      <td>0</td>\n",
       "      <td>0</td>\n",
       "    </tr>\n",
       "    <tr>\n",
       "      <th>4</th>\n",
       "      <td>6.55</td>\n",
       "      <td>6.51</td>\n",
       "      <td>3.95</td>\n",
       "      <td>60.5</td>\n",
       "      <td>59.0</td>\n",
       "      <td>1.02</td>\n",
       "      <td>0</td>\n",
       "      <td>1</td>\n",
       "      <td>0</td>\n",
       "      <td>0</td>\n",
       "      <td>0</td>\n",
       "      <td>0</td>\n",
       "      <td>1</td>\n",
       "      <td>0</td>\n",
       "      <td>0</td>\n",
       "      <td>0</td>\n",
       "      <td>0</td>\n",
       "      <td>1</td>\n",
       "      <td>0</td>\n",
       "      <td>0</td>\n",
       "      <td>0</td>\n",
       "      <td>0</td>\n",
       "      <td>0</td>\n",
       "    </tr>\n",
       "    <tr>\n",
       "      <th>5</th>\n",
       "      <td>7.45</td>\n",
       "      <td>7.39</td>\n",
       "      <td>4.54</td>\n",
       "      <td>61.2</td>\n",
       "      <td>57.0</td>\n",
       "      <td>1.52</td>\n",
       "      <td>0</td>\n",
       "      <td>1</td>\n",
       "      <td>0</td>\n",
       "      <td>0</td>\n",
       "      <td>0</td>\n",
       "      <td>1</td>\n",
       "      <td>0</td>\n",
       "      <td>0</td>\n",
       "      <td>0</td>\n",
       "      <td>0</td>\n",
       "      <td>0</td>\n",
       "      <td>0</td>\n",
       "      <td>1</td>\n",
       "      <td>0</td>\n",
       "      <td>0</td>\n",
       "      <td>0</td>\n",
       "      <td>0</td>\n",
       "    </tr>\n",
       "  </tbody>\n",
       "</table>\n",
       "</div>"
      ],
      "text/plain": [
       "      x     y     z  depth  table  carat  cut_Good  cut_Ideal  cut_Premium  \\\n",
       "0  6.83  6.79  4.25   62.4   58.0   1.21         0          0            1   \n",
       "1  4.35  4.38  2.75   63.0   57.0   0.32         0          0            0   \n",
       "3  4.68  4.72  3.00   63.8   56.0   0.41         1          0            0   \n",
       "4  6.55  6.51  3.95   60.5   59.0   1.02         0          1            0   \n",
       "5  7.45  7.39  4.54   61.2   57.0   1.52         0          1            0   \n",
       "\n",
       "   cut_Very Good  color_E  color_F  color_G  color_H  color_I  color_J  \\\n",
       "0              0        0        0        0        0        0        1   \n",
       "1              1        0        0        0        1        0        0   \n",
       "3              0        0        0        0        0        0        0   \n",
       "4              0        0        0        1        0        0        0   \n",
       "5              0        0        1        0        0        0        0   \n",
       "\n",
       "   clarity_IF  clarity_SI1  clarity_SI2  clarity_VS1  clarity_VS2  \\\n",
       "0           0            0            0            0            1   \n",
       "1           0            0            0            0            1   \n",
       "3           0            1            0            0            0   \n",
       "4           0            1            0            0            0   \n",
       "5           0            0            1            0            0   \n",
       "\n",
       "   clarity_VVS1  clarity_VVS2  \n",
       "0             0             0  \n",
       "1             0             0  \n",
       "3             0             0  \n",
       "4             0             0  \n",
       "5             0             0  "
      ]
     },
     "execution_count": 14,
     "metadata": {},
     "output_type": "execute_result"
    }
   ],
   "source": [
    "X.head()"
   ]
  },
  {
   "cell_type": "markdown",
   "id": "76626bce",
   "metadata": {},
   "source": [
    "### 3.6 Define train and validation"
   ]
  },
  {
   "cell_type": "code",
   "execution_count": 15,
   "id": "83b76da3",
   "metadata": {},
   "outputs": [],
   "source": [
    "# 5.Splitting train and test\n",
    "X_train, X_val, y_train, y_val = train_test_split(X, y, test_size=0.2, random_state=42)"
   ]
  },
  {
   "cell_type": "code",
   "execution_count": 16,
   "id": "30860211",
   "metadata": {},
   "outputs": [
    {
     "data": {
      "text/plain": [
       "(29811, 23)"
      ]
     },
     "execution_count": 16,
     "metadata": {},
     "output_type": "execute_result"
    }
   ],
   "source": [
    "X_train.shape"
   ]
  },
  {
   "cell_type": "code",
   "execution_count": 17,
   "id": "138e739f",
   "metadata": {},
   "outputs": [
    {
     "name": "stdout",
     "output_type": "stream",
     "text": [
      "<class 'pandas.core.frame.DataFrame'>\n",
      "Int64Index: 29811 entries, 11656 to 17132\n",
      "Data columns (total 23 columns):\n",
      " #   Column         Non-Null Count  Dtype  \n",
      "---  ------         --------------  -----  \n",
      " 0   x              29811 non-null  float64\n",
      " 1   y              29811 non-null  float64\n",
      " 2   z              29811 non-null  float64\n",
      " 3   depth          29811 non-null  float64\n",
      " 4   table          29811 non-null  float64\n",
      " 5   carat          29811 non-null  float64\n",
      " 6   cut_Good       29811 non-null  uint8  \n",
      " 7   cut_Ideal      29811 non-null  uint8  \n",
      " 8   cut_Premium    29811 non-null  uint8  \n",
      " 9   cut_Very Good  29811 non-null  uint8  \n",
      " 10  color_E        29811 non-null  uint8  \n",
      " 11  color_F        29811 non-null  uint8  \n",
      " 12  color_G        29811 non-null  uint8  \n",
      " 13  color_H        29811 non-null  uint8  \n",
      " 14  color_I        29811 non-null  uint8  \n",
      " 15  color_J        29811 non-null  uint8  \n",
      " 16  clarity_IF     29811 non-null  uint8  \n",
      " 17  clarity_SI1    29811 non-null  uint8  \n",
      " 18  clarity_SI2    29811 non-null  uint8  \n",
      " 19  clarity_VS1    29811 non-null  uint8  \n",
      " 20  clarity_VS2    29811 non-null  uint8  \n",
      " 21  clarity_VVS1   29811 non-null  uint8  \n",
      " 22  clarity_VVS2   29811 non-null  uint8  \n",
      "dtypes: float64(6), uint8(17)\n",
      "memory usage: 2.1 MB\n"
     ]
    }
   ],
   "source": [
    "X_train.info()"
   ]
  },
  {
   "cell_type": "markdown",
   "id": "f55054fc",
   "metadata": {},
   "source": [
    "## 4. Data preparation (test set)"
   ]
  },
  {
   "cell_type": "markdown",
   "id": "457ec3db",
   "metadata": {},
   "source": [
    "## 5. Feature engineering (test set) "
   ]
  },
  {
   "cell_type": "code",
   "execution_count": 18,
   "id": "0c218bfd",
   "metadata": {},
   "outputs": [],
   "source": [
    "# 0. Adapting categorical features for validation model\n",
    "X_test=df_diamonds_test[features_list]"
   ]
  },
  {
   "cell_type": "markdown",
   "id": "a8d27f09",
   "metadata": {},
   "source": [
    "### 5.5 One hot encoding"
   ]
  },
  {
   "cell_type": "code",
   "execution_count": 19,
   "id": "a2720031",
   "metadata": {},
   "outputs": [],
   "source": [
    "# 3. One-hot encoding for categorical variables\n",
    "X_test=pd.get_dummies(X_test,columns=cat_features_list,drop_first=True)"
   ]
  },
  {
   "cell_type": "code",
   "execution_count": 20,
   "id": "74753be9",
   "metadata": {},
   "outputs": [
    {
     "data": {
      "text/plain": [
       "(13485, 23)"
      ]
     },
     "execution_count": 20,
     "metadata": {},
     "output_type": "execute_result"
    }
   ],
   "source": [
    "X_test.shape"
   ]
  },
  {
   "cell_type": "code",
   "execution_count": 21,
   "id": "f3def3b0",
   "metadata": {},
   "outputs": [
    {
     "name": "stdout",
     "output_type": "stream",
     "text": [
      "<class 'pandas.core.frame.DataFrame'>\n",
      "RangeIndex: 13485 entries, 0 to 13484\n",
      "Data columns (total 23 columns):\n",
      " #   Column         Non-Null Count  Dtype  \n",
      "---  ------         --------------  -----  \n",
      " 0   x              13485 non-null  float64\n",
      " 1   y              13485 non-null  float64\n",
      " 2   z              13485 non-null  float64\n",
      " 3   depth          13485 non-null  float64\n",
      " 4   table          13485 non-null  float64\n",
      " 5   carat          13485 non-null  float64\n",
      " 6   cut_Good       13485 non-null  uint8  \n",
      " 7   cut_Ideal      13485 non-null  uint8  \n",
      " 8   cut_Premium    13485 non-null  uint8  \n",
      " 9   cut_Very Good  13485 non-null  uint8  \n",
      " 10  color_E        13485 non-null  uint8  \n",
      " 11  color_F        13485 non-null  uint8  \n",
      " 12  color_G        13485 non-null  uint8  \n",
      " 13  color_H        13485 non-null  uint8  \n",
      " 14  color_I        13485 non-null  uint8  \n",
      " 15  color_J        13485 non-null  uint8  \n",
      " 16  clarity_IF     13485 non-null  uint8  \n",
      " 17  clarity_SI1    13485 non-null  uint8  \n",
      " 18  clarity_SI2    13485 non-null  uint8  \n",
      " 19  clarity_VS1    13485 non-null  uint8  \n",
      " 20  clarity_VS2    13485 non-null  uint8  \n",
      " 21  clarity_VVS1   13485 non-null  uint8  \n",
      " 22  clarity_VVS2   13485 non-null  uint8  \n",
      "dtypes: float64(6), uint8(17)\n",
      "memory usage: 856.1 KB\n"
     ]
    }
   ],
   "source": [
    "X_test.info()"
   ]
  },
  {
   "cell_type": "markdown",
   "id": "ac016dca",
   "metadata": {},
   "source": [
    "## Model definition - RandomForestRegressor - with Random Hyperparameter Grid"
   ]
  },
  {
   "cell_type": "markdown",
   "id": "59fae7c9",
   "metadata": {},
   "source": [
    "RandomForestRegressor: multiple trees in paralel changing samples and convining diferrent features (overfitting when the tree is big and good to reduce error variance)"
   ]
  },
  {
   "cell_type": "markdown",
   "id": "422fc6f8",
   "metadata": {},
   "source": [
    "Main Parameters:\n",
    "   - bootstrap -> method for sampling data points (TRUE bagging and FALSE pasting, with/without replacement)\n",
    "   - n_estimators -> number of trees in the foreset\n",
    "   - max_depth -> max number of levels in each decision tree\n",
    "   - max_features -> max number of features considered for splitting a node\n",
    "   - ccp_alpha ->\n",
    "   - criterion ->\n",
    "   - max_leaf_nodes -> max number of solution nodes \n",
    "   - max_samples ->\n",
    "   - min_impurity_decrease ->\n",
    "   - min_samples_leaf -> min number of data points allowed in a leaf node\n",
    "   - min_samples_split -> min number of data points placed in a node before the node is split\n",
    "   - min_weight_fraction_leaf\n",
    "   - n_estimators -> number of trees in the foreset\n",
    "   - n_jobs \n",
    "   - oob_score \n",
    "   - random_state\n",
    "   - verbose\n",
    "   - warm_start   "
   ]
  },
  {
   "cell_type": "code",
   "execution_count": 21,
   "id": "920cfbcc",
   "metadata": {},
   "outputs": [],
   "source": [
    "# 0. Random Hyperparameter Grid - Grid definition\n",
    "\n",
    "#n_estimators = [int(x) for x in np.linspace(start = 200, stop = 2000, num = 10)] # Number of trees in random forest\n",
    "#max_features = ['auto', 'sqrt'] # Number of features to consider at every split\n",
    "#max_depth = [int(x) for x in np.linspace(10, 110, num = 11)] # Maximum number of levels in tree\n",
    "#max_depth.append(None)\n",
    "#min_samples_split = [2, 5, 10] # Minimum number of samples required to split a node\n",
    "#min_samples_leaf = [1, 2, 4] # Minimum number of samples required at each leaf node\n",
    "#bootstrap = [True, False] # Method of selecting samples for training each tree\n",
    "\n",
    "# Create the random grid\n",
    "#random_grid = {'n_estimators': n_estimators,\n",
    "#               'max_features': max_features,\n",
    "#               'max_depth': max_depth,\n",
    "#               'min_samples_split': min_samples_split,\n",
    "#               'min_samples_leaf': min_samples_leaf,\n",
    "#               'bootstrap': bootstrap}\n",
    "#print(random_grid)"
   ]
  },
  {
   "cell_type": "code",
   "execution_count": 22,
   "id": "53ebb610",
   "metadata": {},
   "outputs": [],
   "source": [
    "#%%time\n",
    "#1. Random Hyperparameter Grid - Use the random grid to search for best hyperparameters\n",
    "\n",
    "# First create the base model to tune\n",
    "#rf = RandomForestRegressor()\n",
    "# Random search of parameters, using 3 fold cross validation, \n",
    "#search across 100 different combinations, and use all available cores\n",
    "#rf_random = RandomizedSearchCV(estimator = rf, param_distributions = random_grid, n_iter = 100,\n",
    "#                               cv = 3, verbose=2, random_state=42, n_jobs = -1)\n",
    "# Fit the random search model\n",
    "#rf_random.fit(X_train, y_train)"
   ]
  },
  {
   "cell_type": "code",
   "execution_count": 23,
   "id": "15d068fa",
   "metadata": {},
   "outputs": [],
   "source": [
    "#rf_random.best_params_"
   ]
  },
  {
   "cell_type": "code",
   "execution_count": 24,
   "id": "cb8c32dd",
   "metadata": {},
   "outputs": [],
   "source": [
    "#best_params={'n_estimators': 1600,\n",
    "# 'min_samples_split': 5,\n",
    "# 'min_samples_leaf': 1,\n",
    "# 'max_features': 'auto',\n",
    "# 'max_depth': 90,\n",
    "# 'bootstrap': True}\n",
    "\n",
    "#(n_estimators=100,min_samples_split=5,min_samples_leaf=1,\n",
    "#                              max_features='auto',max_depth=10,bootstrap=True)\n",
    "\n",
    "#n_estimators=100,min_samples_split=5,min_samples_leaf=1,\n",
    "#                              max_features='auto',max_depth=40,bootstrap=True"
   ]
  },
  {
   "cell_type": "code",
   "execution_count": 30,
   "id": "8c90f8b4",
   "metadata": {},
   "outputs": [
    {
     "name": "stdout",
     "output_type": "stream",
     "text": [
      "<class 'sklearn.ensemble._forest.RandomForestRegressor'> \n",
      "\n",
      "Model hyperparameters: {'bootstrap': True, 'ccp_alpha': 0.0, 'criterion': 'squared_error', 'max_depth': None, 'max_features': 'auto', 'max_leaf_nodes': None, 'max_samples': None, 'min_impurity_decrease': 0.0, 'min_samples_leaf': 1, 'min_samples_split': 2, 'min_weight_fraction_leaf': 0.0, 'n_estimators': 100, 'n_jobs': None, 'oob_score': False, 'random_state': None, 'verbose': 0, 'warm_start': False} \n",
      "\n"
     ]
    }
   ],
   "source": [
    "# 2. RandomForestRegressor definition\n",
    "model = RandomForestRegressor()\n",
    "hyperparameters = model.get_params()\n",
    "print(type(model), '\\n')\n",
    "print('Model hyperparameters:', hyperparameters, '\\n')"
   ]
  },
  {
   "cell_type": "code",
   "execution_count": 223,
   "id": "19387912",
   "metadata": {},
   "outputs": [],
   "source": [
    "#Importance\n",
    "#feats = {} # a dict to hold feature_name: feature_importance\n",
    "#for feature, importance in zip(X_train.columns, model.feature_importances_):\n",
    "#    feats[feature] = importance #add the name/value pair "
   ]
  },
  {
   "cell_type": "code",
   "execution_count": 224,
   "id": "82e864fc",
   "metadata": {},
   "outputs": [],
   "source": [
    "#Importance=pd.DataFrame(list(feats.items()),columns = ['feature','importance']).sort_values('importance',ascending=False)"
   ]
  },
  {
   "cell_type": "code",
   "execution_count": 18,
   "id": "13f46afa",
   "metadata": {},
   "outputs": [
    {
     "name": "stdout",
     "output_type": "stream",
     "text": [
      "<class 'xgboost.sklearn.XGBRegressor'> \n",
      "\n",
      "Model hyperparameters: {'objective': 'reg:squarederror', 'base_score': None, 'booster': None, 'colsample_bylevel': 1, 'colsample_bynode': 1, 'colsample_bytree': 0.8, 'enable_categorical': False, 'gamma': 0, 'gpu_id': None, 'importance_type': None, 'interaction_constraints': None, 'learning_rate': 0.1, 'max_delta_step': None, 'max_depth': None, 'min_child_weight': None, 'missing': nan, 'monotone_constraints': None, 'n_estimators': 200, 'n_jobs': None, 'num_parallel_tree': None, 'predictor': None, 'random_state': None, 'reg_alpha': 1, 'reg_lambda': 1, 'scale_pos_weight': None, 'subsample': None, 'tree_method': None, 'validate_parameters': None, 'verbosity': None} \n",
      "\n"
     ]
    }
   ],
   "source": [
    "# 1. XGBRegressor \n",
    "model = XGBRegressor(n_estimators=200,colsample_bylevel=1,colsample_bynode=1,\n",
    "                     colsample_bytree=0.8,reg_alpha=1, reg_lambda=1,gamma=0,learning_rate=0.1)\n",
    "hyperparameters = model.get_params()\n",
    "print(type(model), '\\n')\n",
    "print('Model hyperparameters:', hyperparameters, '\\n')"
   ]
  },
  {
   "cell_type": "code",
   "execution_count": 551,
   "id": "a4bb2a61",
   "metadata": {},
   "outputs": [],
   "source": [
    "#model = KNeighborsRegressor(algorithm='auto', leaf_size=30, metric='minkowski',\n",
    "#                    metric_params=None, n_jobs=None, n_neighbors=4, p=2,\n",
    "#                    weights='uniform')"
   ]
  },
  {
   "cell_type": "markdown",
   "id": "1aaf37b1",
   "metadata": {},
   "source": [
    "## Model training with validation"
   ]
  },
  {
   "cell_type": "code",
   "execution_count": 22,
   "id": "d3bf9a8a",
   "metadata": {},
   "outputs": [],
   "source": [
    "model = RANSACRegressor()"
   ]
  },
  {
   "cell_type": "code",
   "execution_count": 26,
   "id": "49019578",
   "metadata": {},
   "outputs": [],
   "source": [
    "model = SVR()"
   ]
  },
  {
   "cell_type": "code",
   "execution_count": 31,
   "id": "cb81dd69",
   "metadata": {},
   "outputs": [
    {
     "data": {
      "text/plain": [
       "RandomForestRegressor()"
      ]
     },
     "execution_count": 31,
     "metadata": {},
     "output_type": "execute_result"
    }
   ],
   "source": [
    "model.fit(X_train, y_train)"
   ]
  },
  {
   "cell_type": "code",
   "execution_count": 29,
   "id": "0d0206da",
   "metadata": {},
   "outputs": [
    {
     "data": {
      "text/plain": [
       "RandomForestRegressor()"
      ]
     },
     "execution_count": 29,
     "metadata": {},
     "output_type": "execute_result"
    }
   ],
   "source": [
    "model.fit(X_train, y_train)"
   ]
  },
  {
   "cell_type": "code",
   "execution_count": 19,
   "id": "6f3e3373",
   "metadata": {},
   "outputs": [
    {
     "name": "stdout",
     "output_type": "stream",
     "text": [
      "[0]\tvalidation_0-rmse:5058.52978\tvalidation_1-rmse:5095.90723\n",
      "[1]\tvalidation_0-rmse:4580.20312\tvalidation_1-rmse:4614.45703\n",
      "[2]\tvalidation_0-rmse:4152.52734\tvalidation_1-rmse:4184.85938\n",
      "[3]\tvalidation_0-rmse:3769.29272\tvalidation_1-rmse:3801.58594\n",
      "[4]\tvalidation_0-rmse:3425.26416\tvalidation_1-rmse:3456.74414\n",
      "[5]\tvalidation_0-rmse:3116.66162\tvalidation_1-rmse:3147.00928\n",
      "[6]\tvalidation_0-rmse:2842.10474\tvalidation_1-rmse:2871.09399\n",
      "[7]\tvalidation_0-rmse:2595.35742\tvalidation_1-rmse:2622.51392\n",
      "[8]\tvalidation_0-rmse:2376.74512\tvalidation_1-rmse:2402.80054\n",
      "[9]\tvalidation_0-rmse:2179.80981\tvalidation_1-rmse:2206.65356\n",
      "[10]\tvalidation_0-rmse:2005.90430\tvalidation_1-rmse:2031.19312\n",
      "[11]\tvalidation_0-rmse:1851.63721\tvalidation_1-rmse:1878.36792\n",
      "[12]\tvalidation_0-rmse:1713.63660\tvalidation_1-rmse:1740.35815\n",
      "[13]\tvalidation_0-rmse:1591.86853\tvalidation_1-rmse:1618.89917\n",
      "[14]\tvalidation_0-rmse:1482.77454\tvalidation_1-rmse:1510.45825\n",
      "[15]\tvalidation_0-rmse:1387.25098\tvalidation_1-rmse:1415.16663\n",
      "[16]\tvalidation_0-rmse:1304.47754\tvalidation_1-rmse:1333.36865\n",
      "[17]\tvalidation_0-rmse:1231.87585\tvalidation_1-rmse:1261.58057\n",
      "[18]\tvalidation_0-rmse:1166.13501\tvalidation_1-rmse:1196.96057\n",
      "[19]\tvalidation_0-rmse:1110.81836\tvalidation_1-rmse:1143.41809\n",
      "[20]\tvalidation_0-rmse:1062.31934\tvalidation_1-rmse:1096.78857\n",
      "[21]\tvalidation_0-rmse:1020.55475\tvalidation_1-rmse:1055.98047\n",
      "[22]\tvalidation_0-rmse:983.44727\tvalidation_1-rmse:1019.51434\n",
      "[23]\tvalidation_0-rmse:950.66907\tvalidation_1-rmse:988.59631\n",
      "[24]\tvalidation_0-rmse:923.53656\tvalidation_1-rmse:960.71759\n",
      "[25]\tvalidation_0-rmse:899.00769\tvalidation_1-rmse:937.49438\n",
      "[26]\tvalidation_0-rmse:877.26068\tvalidation_1-rmse:915.77814\n",
      "[27]\tvalidation_0-rmse:856.10785\tvalidation_1-rmse:894.97180\n",
      "[28]\tvalidation_0-rmse:839.47565\tvalidation_1-rmse:880.67059\n",
      "[29]\tvalidation_0-rmse:823.67810\tvalidation_1-rmse:865.96289\n",
      "[30]\tvalidation_0-rmse:810.89520\tvalidation_1-rmse:854.26947\n",
      "[31]\tvalidation_0-rmse:797.11499\tvalidation_1-rmse:840.71564\n",
      "[32]\tvalidation_0-rmse:784.88049\tvalidation_1-rmse:828.76129\n",
      "[33]\tvalidation_0-rmse:776.30029\tvalidation_1-rmse:820.07849\n",
      "[34]\tvalidation_0-rmse:765.85523\tvalidation_1-rmse:810.92181\n",
      "[35]\tvalidation_0-rmse:758.95605\tvalidation_1-rmse:804.32123\n",
      "[36]\tvalidation_0-rmse:749.06567\tvalidation_1-rmse:794.91205\n",
      "[37]\tvalidation_0-rmse:742.35699\tvalidation_1-rmse:788.24939\n",
      "[38]\tvalidation_0-rmse:736.48224\tvalidation_1-rmse:783.29822\n",
      "[39]\tvalidation_0-rmse:730.66107\tvalidation_1-rmse:778.15131\n",
      "[40]\tvalidation_0-rmse:726.25470\tvalidation_1-rmse:773.65649\n",
      "[41]\tvalidation_0-rmse:720.58478\tvalidation_1-rmse:769.40686\n",
      "[42]\tvalidation_0-rmse:715.14734\tvalidation_1-rmse:765.84589\n",
      "[43]\tvalidation_0-rmse:711.73419\tvalidation_1-rmse:762.68201\n",
      "[44]\tvalidation_0-rmse:703.94775\tvalidation_1-rmse:754.78406\n",
      "[45]\tvalidation_0-rmse:699.26971\tvalidation_1-rmse:751.19757\n",
      "[46]\tvalidation_0-rmse:695.34180\tvalidation_1-rmse:748.19934\n",
      "[47]\tvalidation_0-rmse:691.64673\tvalidation_1-rmse:745.45380\n",
      "[48]\tvalidation_0-rmse:687.97150\tvalidation_1-rmse:742.84467\n",
      "[49]\tvalidation_0-rmse:684.29999\tvalidation_1-rmse:741.08075\n",
      "[50]\tvalidation_0-rmse:680.57422\tvalidation_1-rmse:737.38904\n",
      "[51]\tvalidation_0-rmse:675.21240\tvalidation_1-rmse:732.71796\n",
      "[52]\tvalidation_0-rmse:671.46210\tvalidation_1-rmse:729.55530\n",
      "[53]\tvalidation_0-rmse:668.36456\tvalidation_1-rmse:727.63391\n",
      "[54]\tvalidation_0-rmse:665.65149\tvalidation_1-rmse:725.66895\n",
      "[55]\tvalidation_0-rmse:661.53656\tvalidation_1-rmse:722.03638\n",
      "[56]\tvalidation_0-rmse:658.79016\tvalidation_1-rmse:719.24585\n",
      "[57]\tvalidation_0-rmse:655.49121\tvalidation_1-rmse:716.19055\n",
      "[58]\tvalidation_0-rmse:653.47711\tvalidation_1-rmse:715.32062\n",
      "[59]\tvalidation_0-rmse:647.05878\tvalidation_1-rmse:709.73138\n",
      "[60]\tvalidation_0-rmse:644.16302\tvalidation_1-rmse:707.00024\n",
      "[61]\tvalidation_0-rmse:638.62366\tvalidation_1-rmse:701.96570\n",
      "[62]\tvalidation_0-rmse:634.23914\tvalidation_1-rmse:698.93933\n",
      "[63]\tvalidation_0-rmse:631.87152\tvalidation_1-rmse:697.00702\n",
      "[64]\tvalidation_0-rmse:629.39459\tvalidation_1-rmse:695.94965\n",
      "[65]\tvalidation_0-rmse:627.84161\tvalidation_1-rmse:694.93414\n",
      "[66]\tvalidation_0-rmse:625.96173\tvalidation_1-rmse:693.67120\n",
      "[67]\tvalidation_0-rmse:622.69910\tvalidation_1-rmse:691.68182\n",
      "[68]\tvalidation_0-rmse:620.86615\tvalidation_1-rmse:690.36517\n",
      "[69]\tvalidation_0-rmse:619.48315\tvalidation_1-rmse:689.63110\n",
      "[70]\tvalidation_0-rmse:616.59143\tvalidation_1-rmse:687.47516\n",
      "[71]\tvalidation_0-rmse:614.37598\tvalidation_1-rmse:685.86768\n",
      "[72]\tvalidation_0-rmse:611.76099\tvalidation_1-rmse:684.88940\n",
      "[73]\tvalidation_0-rmse:610.14319\tvalidation_1-rmse:683.78107\n",
      "[74]\tvalidation_0-rmse:607.38513\tvalidation_1-rmse:682.17224\n",
      "[75]\tvalidation_0-rmse:605.47357\tvalidation_1-rmse:680.56012\n",
      "[76]\tvalidation_0-rmse:600.90863\tvalidation_1-rmse:676.93835\n",
      "[77]\tvalidation_0-rmse:599.08649\tvalidation_1-rmse:675.52649\n",
      "[78]\tvalidation_0-rmse:597.09180\tvalidation_1-rmse:674.09937\n",
      "[79]\tvalidation_0-rmse:595.71997\tvalidation_1-rmse:673.67987\n",
      "[80]\tvalidation_0-rmse:594.19214\tvalidation_1-rmse:672.72424\n",
      "[81]\tvalidation_0-rmse:591.89661\tvalidation_1-rmse:670.24976\n",
      "[82]\tvalidation_0-rmse:590.22705\tvalidation_1-rmse:668.63562\n",
      "[83]\tvalidation_0-rmse:588.39984\tvalidation_1-rmse:667.11578\n",
      "[84]\tvalidation_0-rmse:586.58203\tvalidation_1-rmse:666.33453\n",
      "[85]\tvalidation_0-rmse:585.57843\tvalidation_1-rmse:665.65478\n",
      "[86]\tvalidation_0-rmse:584.55151\tvalidation_1-rmse:664.59186\n",
      "[87]\tvalidation_0-rmse:581.91357\tvalidation_1-rmse:664.01874\n",
      "[88]\tvalidation_0-rmse:578.90784\tvalidation_1-rmse:662.40051\n",
      "[89]\tvalidation_0-rmse:575.33569\tvalidation_1-rmse:659.03241\n",
      "[90]\tvalidation_0-rmse:574.61762\tvalidation_1-rmse:658.54584\n",
      "[91]\tvalidation_0-rmse:573.80170\tvalidation_1-rmse:658.15942\n",
      "[92]\tvalidation_0-rmse:571.60980\tvalidation_1-rmse:657.75012\n",
      "[93]\tvalidation_0-rmse:570.07831\tvalidation_1-rmse:657.00915\n",
      "[94]\tvalidation_0-rmse:568.70319\tvalidation_1-rmse:656.89392\n",
      "[95]\tvalidation_0-rmse:567.48834\tvalidation_1-rmse:656.44482\n",
      "[96]\tvalidation_0-rmse:564.92694\tvalidation_1-rmse:654.33722\n",
      "[97]\tvalidation_0-rmse:561.37353\tvalidation_1-rmse:651.43176\n",
      "[98]\tvalidation_0-rmse:560.00250\tvalidation_1-rmse:650.30780\n",
      "[99]\tvalidation_0-rmse:559.12262\tvalidation_1-rmse:649.43073\n",
      "[100]\tvalidation_0-rmse:557.20020\tvalidation_1-rmse:647.53320\n",
      "[101]\tvalidation_0-rmse:556.42011\tvalidation_1-rmse:647.06305\n",
      "[102]\tvalidation_0-rmse:555.13440\tvalidation_1-rmse:646.26282\n",
      "[103]\tvalidation_0-rmse:553.51477\tvalidation_1-rmse:645.02899\n",
      "[104]\tvalidation_0-rmse:552.47107\tvalidation_1-rmse:644.30780\n",
      "[105]\tvalidation_0-rmse:550.07886\tvalidation_1-rmse:642.98651\n",
      "[106]\tvalidation_0-rmse:549.33637\tvalidation_1-rmse:642.50738\n",
      "[107]\tvalidation_0-rmse:547.07208\tvalidation_1-rmse:640.80127\n",
      "[108]\tvalidation_0-rmse:545.79468\tvalidation_1-rmse:639.99072\n",
      "[109]\tvalidation_0-rmse:544.73071\tvalidation_1-rmse:639.20685\n",
      "[110]\tvalidation_0-rmse:543.36352\tvalidation_1-rmse:638.59992\n",
      "[111]\tvalidation_0-rmse:542.24243\tvalidation_1-rmse:638.17542\n",
      "[112]\tvalidation_0-rmse:541.00781\tvalidation_1-rmse:637.17889\n",
      "[113]\tvalidation_0-rmse:540.12598\tvalidation_1-rmse:636.62408\n",
      "[114]\tvalidation_0-rmse:538.93915\tvalidation_1-rmse:635.77954\n",
      "[115]\tvalidation_0-rmse:537.82996\tvalidation_1-rmse:635.75653\n",
      "[116]\tvalidation_0-rmse:535.66248\tvalidation_1-rmse:635.66455\n",
      "[117]\tvalidation_0-rmse:534.95453\tvalidation_1-rmse:635.33698\n",
      "[118]\tvalidation_0-rmse:534.22693\tvalidation_1-rmse:634.75751\n",
      "[119]\tvalidation_0-rmse:533.39386\tvalidation_1-rmse:634.08069\n",
      "[120]\tvalidation_0-rmse:532.46307\tvalidation_1-rmse:633.66571\n",
      "[121]\tvalidation_0-rmse:529.69714\tvalidation_1-rmse:631.26123\n",
      "[122]\tvalidation_0-rmse:529.12207\tvalidation_1-rmse:630.71246\n",
      "[123]\tvalidation_0-rmse:528.53357\tvalidation_1-rmse:630.48102\n",
      "[124]\tvalidation_0-rmse:527.01898\tvalidation_1-rmse:629.93970\n",
      "[125]\tvalidation_0-rmse:525.59918\tvalidation_1-rmse:629.61865\n",
      "[126]\tvalidation_0-rmse:524.61224\tvalidation_1-rmse:629.73633\n",
      "[127]\tvalidation_0-rmse:523.28992\tvalidation_1-rmse:629.34924\n",
      "[128]\tvalidation_0-rmse:521.94910\tvalidation_1-rmse:628.86585\n",
      "[129]\tvalidation_0-rmse:520.51050\tvalidation_1-rmse:627.79559\n",
      "[130]\tvalidation_0-rmse:518.89673\tvalidation_1-rmse:627.91156\n",
      "[131]\tvalidation_0-rmse:517.60577\tvalidation_1-rmse:627.25769\n",
      "[132]\tvalidation_0-rmse:516.83551\tvalidation_1-rmse:626.58026\n",
      "[133]\tvalidation_0-rmse:516.16779\tvalidation_1-rmse:626.21155\n"
     ]
    },
    {
     "name": "stdout",
     "output_type": "stream",
     "text": [
      "[134]\tvalidation_0-rmse:513.72613\tvalidation_1-rmse:624.11987\n",
      "[135]\tvalidation_0-rmse:512.85113\tvalidation_1-rmse:623.77478\n",
      "[136]\tvalidation_0-rmse:511.78796\tvalidation_1-rmse:623.22815\n",
      "[137]\tvalidation_0-rmse:511.42145\tvalidation_1-rmse:623.16656\n",
      "[138]\tvalidation_0-rmse:508.99515\tvalidation_1-rmse:621.25214\n",
      "[139]\tvalidation_0-rmse:507.34613\tvalidation_1-rmse:619.82977\n",
      "[140]\tvalidation_0-rmse:506.71045\tvalidation_1-rmse:619.62329\n",
      "[141]\tvalidation_0-rmse:505.91361\tvalidation_1-rmse:619.12457\n",
      "[142]\tvalidation_0-rmse:505.44211\tvalidation_1-rmse:618.75452\n",
      "[143]\tvalidation_0-rmse:503.46289\tvalidation_1-rmse:618.14435\n",
      "[144]\tvalidation_0-rmse:502.05789\tvalidation_1-rmse:617.00220\n",
      "[145]\tvalidation_0-rmse:501.13965\tvalidation_1-rmse:617.21002\n",
      "[146]\tvalidation_0-rmse:500.66193\tvalidation_1-rmse:617.05237\n",
      "[147]\tvalidation_0-rmse:500.25485\tvalidation_1-rmse:616.72296\n",
      "[148]\tvalidation_0-rmse:498.96271\tvalidation_1-rmse:616.20892\n",
      "[149]\tvalidation_0-rmse:498.27301\tvalidation_1-rmse:615.92578\n",
      "[150]\tvalidation_0-rmse:497.50598\tvalidation_1-rmse:615.93774\n",
      "[151]\tvalidation_0-rmse:497.04834\tvalidation_1-rmse:615.54712\n",
      "[152]\tvalidation_0-rmse:495.17117\tvalidation_1-rmse:614.00104\n",
      "[153]\tvalidation_0-rmse:494.61621\tvalidation_1-rmse:613.54163\n",
      "[154]\tvalidation_0-rmse:493.33511\tvalidation_1-rmse:612.57398\n",
      "[155]\tvalidation_0-rmse:492.92780\tvalidation_1-rmse:612.39471\n",
      "[156]\tvalidation_0-rmse:492.29007\tvalidation_1-rmse:611.73737\n",
      "[157]\tvalidation_0-rmse:490.59238\tvalidation_1-rmse:610.29028\n",
      "[158]\tvalidation_0-rmse:490.07916\tvalidation_1-rmse:609.97369\n",
      "[159]\tvalidation_0-rmse:488.97617\tvalidation_1-rmse:609.65466\n",
      "[160]\tvalidation_0-rmse:488.20898\tvalidation_1-rmse:609.56470\n",
      "[161]\tvalidation_0-rmse:486.93124\tvalidation_1-rmse:608.87573\n",
      "[162]\tvalidation_0-rmse:486.47394\tvalidation_1-rmse:608.60199\n",
      "[163]\tvalidation_0-rmse:485.97391\tvalidation_1-rmse:608.54462\n",
      "[164]\tvalidation_0-rmse:485.03821\tvalidation_1-rmse:608.05920\n",
      "[165]\tvalidation_0-rmse:484.55631\tvalidation_1-rmse:607.63458\n",
      "[166]\tvalidation_0-rmse:484.19754\tvalidation_1-rmse:607.43634\n",
      "[167]\tvalidation_0-rmse:483.09125\tvalidation_1-rmse:607.61865\n",
      "[168]\tvalidation_0-rmse:481.30704\tvalidation_1-rmse:606.18133\n",
      "[169]\tvalidation_0-rmse:480.61093\tvalidation_1-rmse:605.56043\n",
      "[170]\tvalidation_0-rmse:480.11893\tvalidation_1-rmse:605.04736\n",
      "[171]\tvalidation_0-rmse:479.83179\tvalidation_1-rmse:604.98792\n",
      "[172]\tvalidation_0-rmse:478.84296\tvalidation_1-rmse:604.68414\n",
      "[173]\tvalidation_0-rmse:478.57178\tvalidation_1-rmse:604.40442\n",
      "[174]\tvalidation_0-rmse:477.62582\tvalidation_1-rmse:603.99530\n",
      "[175]\tvalidation_0-rmse:477.21890\tvalidation_1-rmse:603.58191\n",
      "[176]\tvalidation_0-rmse:476.37891\tvalidation_1-rmse:603.27545\n",
      "[177]\tvalidation_0-rmse:475.06497\tvalidation_1-rmse:603.23474\n",
      "[178]\tvalidation_0-rmse:474.01120\tvalidation_1-rmse:602.34668\n",
      "[179]\tvalidation_0-rmse:473.64667\tvalidation_1-rmse:602.11060\n",
      "[180]\tvalidation_0-rmse:472.58530\tvalidation_1-rmse:602.27325\n",
      "[181]\tvalidation_0-rmse:471.05338\tvalidation_1-rmse:601.44934\n",
      "[182]\tvalidation_0-rmse:470.74011\tvalidation_1-rmse:601.02808\n",
      "[183]\tvalidation_0-rmse:470.22522\tvalidation_1-rmse:600.66406\n",
      "[184]\tvalidation_0-rmse:469.07031\tvalidation_1-rmse:600.03381\n",
      "[185]\tvalidation_0-rmse:468.48663\tvalidation_1-rmse:599.92053\n",
      "[186]\tvalidation_0-rmse:468.06412\tvalidation_1-rmse:599.67743\n",
      "[187]\tvalidation_0-rmse:467.74554\tvalidation_1-rmse:599.49878\n",
      "[188]\tvalidation_0-rmse:467.23077\tvalidation_1-rmse:599.33374\n",
      "[189]\tvalidation_0-rmse:466.44720\tvalidation_1-rmse:599.07892\n",
      "[190]\tvalidation_0-rmse:465.37186\tvalidation_1-rmse:598.31622\n",
      "[191]\tvalidation_0-rmse:464.80740\tvalidation_1-rmse:597.71491\n",
      "[192]\tvalidation_0-rmse:463.87241\tvalidation_1-rmse:597.40869\n",
      "[193]\tvalidation_0-rmse:463.55652\tvalidation_1-rmse:597.09344\n",
      "[194]\tvalidation_0-rmse:463.20108\tvalidation_1-rmse:596.77679\n",
      "[195]\tvalidation_0-rmse:462.92773\tvalidation_1-rmse:596.32312\n",
      "[196]\tvalidation_0-rmse:462.33884\tvalidation_1-rmse:596.42401\n",
      "[197]\tvalidation_0-rmse:462.00482\tvalidation_1-rmse:596.14746\n",
      "[198]\tvalidation_0-rmse:461.61319\tvalidation_1-rmse:596.06805\n",
      "[199]\tvalidation_0-rmse:460.88657\tvalidation_1-rmse:595.98212\n",
      "CPU times: user 19.7 s, sys: 860 ms, total: 20.6 s\n",
      "Wall time: 3.52 s\n"
     ]
    },
    {
     "data": {
      "text/plain": [
       "XGBRegressor(base_score=0.5, booster='gbtree', colsample_bylevel=1,\n",
       "             colsample_bynode=1, colsample_bytree=0.8, enable_categorical=False,\n",
       "             gamma=0, gpu_id=-1, importance_type=None,\n",
       "             interaction_constraints='', learning_rate=0.1, max_delta_step=0,\n",
       "             max_depth=6, min_child_weight=1, missing=nan,\n",
       "             monotone_constraints='()', n_estimators=200, n_jobs=8,\n",
       "             num_parallel_tree=1, predictor='auto', random_state=0, reg_alpha=1,\n",
       "             reg_lambda=1, scale_pos_weight=1, subsample=1, tree_method='exact',\n",
       "             validate_parameters=1, verbosity=None)"
      ]
     },
     "execution_count": 19,
     "metadata": {},
     "output_type": "execute_result"
    }
   ],
   "source": [
    "%%time\n",
    "# 1. XGBRegressor \n",
    "# Model training\n",
    "model.fit(X_train, y_train,eval_set=[(X_train,y_train),(X_val,y_val)],early_stopping_rounds=40)"
   ]
  },
  {
   "cell_type": "code",
   "execution_count": 40,
   "id": "114ebca5",
   "metadata": {},
   "outputs": [
    {
     "name": "stdout",
     "output_type": "stream",
     "text": [
      "CPU times: user 201 ms, sys: 4.53 ms, total: 206 ms\n",
      "Wall time: 205 ms\n"
     ]
    }
   ],
   "source": [
    "%%time\n",
    "# Model predictions\n",
    "y_pred_val = model.predict(X_val)"
   ]
  },
  {
   "cell_type": "code",
   "execution_count": 41,
   "id": "653dbd7f",
   "metadata": {},
   "outputs": [
    {
     "name": "stdout",
     "output_type": "stream",
     "text": [
      "CPU times: user 619 ms, sys: 4.27 ms, total: 623 ms\n",
      "Wall time: 624 ms\n"
     ]
    }
   ],
   "source": [
    "%%time\n",
    "# Model predictions\n",
    "y_pred_train = model.predict(X_train)"
   ]
  },
  {
   "cell_type": "markdown",
   "id": "9d6b94a3",
   "metadata": {},
   "source": [
    "## Training set error"
   ]
  },
  {
   "cell_type": "code",
   "execution_count": 42,
   "id": "a88fcb5b",
   "metadata": {},
   "outputs": [
    {
     "data": {
      "text/plain": [
       "220.43783397146822"
      ]
     },
     "execution_count": 42,
     "metadata": {},
     "output_type": "execute_result"
    }
   ],
   "source": [
    "# Model predictions\n",
    "rmse_train = mean_squared_error(y_train, y_pred_train)**0.5\n",
    "rmse_train"
   ]
  },
  {
   "cell_type": "code",
   "execution_count": 43,
   "id": "cb7a3f86",
   "metadata": {},
   "outputs": [
    {
     "data": {
      "text/plain": [
       "99.6204692195754"
      ]
     },
     "execution_count": 43,
     "metadata": {},
     "output_type": "execute_result"
    }
   ],
   "source": [
    "mae_train=mean_absolute_error(y_train, y_pred_train)\n",
    "mae_train"
   ]
  },
  {
   "cell_type": "code",
   "execution_count": 44,
   "id": "d1b6a927",
   "metadata": {},
   "outputs": [
    {
     "data": {
      "text/plain": [
       "0.9781443037547919"
      ]
     },
     "execution_count": 44,
     "metadata": {},
     "output_type": "execute_result"
    }
   ],
   "source": [
    "r2r = r2_score(y_val, y_pred_val)\n",
    "r2r"
   ]
  },
  {
   "cell_type": "markdown",
   "id": "2bfd4334",
   "metadata": {},
   "source": [
    "## Model validation"
   ]
  },
  {
   "cell_type": "code",
   "execution_count": 45,
   "id": "589c945e",
   "metadata": {},
   "outputs": [
    {
     "data": {
      "text/plain": [
       "511.4902744716955"
      ]
     },
     "execution_count": 45,
     "metadata": {},
     "output_type": "execute_result"
    }
   ],
   "source": [
    "#432\n",
    "rmse_val = mean_squared_error(y_val, y_pred_val)**0.5\n",
    "rmse_val"
   ]
  },
  {
   "cell_type": "code",
   "execution_count": 46,
   "id": "2cc1fbe1",
   "metadata": {},
   "outputs": [
    {
     "data": {
      "text/plain": [
       "247.48197874457713"
      ]
     },
     "execution_count": 46,
     "metadata": {},
     "output_type": "execute_result"
    }
   ],
   "source": [
    "mae_val=mean_absolute_error(y_val, y_pred_val)\n",
    "mae_val"
   ]
  },
  {
   "cell_type": "code",
   "execution_count": 47,
   "id": "e4b6f7bf",
   "metadata": {},
   "outputs": [
    {
     "data": {
      "text/plain": [
       "0.9781443037547919"
      ]
     },
     "execution_count": 47,
     "metadata": {},
     "output_type": "execute_result"
    }
   ],
   "source": [
    "r2r = r2_score(y_val, y_pred_val)\n",
    "r2r"
   ]
  },
  {
   "cell_type": "markdown",
   "id": "46e824c3",
   "metadata": {},
   "source": [
    "## Model training without validation"
   ]
  },
  {
   "cell_type": "code",
   "execution_count": 48,
   "id": "643a3878",
   "metadata": {},
   "outputs": [
    {
     "ename": "TypeError",
     "evalue": "fit() got an unexpected keyword argument 'eval_set'",
     "output_type": "error",
     "traceback": [
      "\u001b[0;31m---------------------------------------------------------------------------\u001b[0m",
      "\u001b[0;31mTypeError\u001b[0m                                 Traceback (most recent call last)",
      "\u001b[0;32m<timed eval>\u001b[0m in \u001b[0;36m<module>\u001b[0;34m\u001b[0m\n",
      "\u001b[0;31mTypeError\u001b[0m: fit() got an unexpected keyword argument 'eval_set'"
     ]
    }
   ],
   "source": [
    "%%time\n",
    "# Model training\n",
    "model.fit(X, y,eval_set=[(X_train,y_train),(X_val,y_val)],early_stopping_rounds=40)"
   ]
  },
  {
   "cell_type": "markdown",
   "id": "8f5f534f",
   "metadata": {},
   "source": [
    "## Test Preditions"
   ]
  },
  {
   "cell_type": "code",
   "execution_count": 49,
   "id": "9085827c",
   "metadata": {},
   "outputs": [],
   "source": [
    "predictions = model.predict(X_test)"
   ]
  },
  {
   "cell_type": "code",
   "execution_count": 50,
   "id": "4d010675",
   "metadata": {},
   "outputs": [],
   "source": [
    "predictions=pd.DataFrame(predictions)"
   ]
  },
  {
   "cell_type": "code",
   "execution_count": 51,
   "id": "9d2ca3df",
   "metadata": {},
   "outputs": [],
   "source": [
    "predictions.reset_index(inplace=True)"
   ]
  },
  {
   "cell_type": "code",
   "execution_count": 463,
   "id": "2c805a71",
   "metadata": {},
   "outputs": [],
   "source": [
    "predictions=predictions.rename({0: 'price','index': 'id'}, axis=1)"
   ]
  },
  {
   "cell_type": "markdown",
   "id": "01a0cf38",
   "metadata": {},
   "source": [
    "## Save Preditions"
   ]
  },
  {
   "cell_type": "code",
   "execution_count": 464,
   "id": "da3f74be",
   "metadata": {},
   "outputs": [],
   "source": [
    "predictions.to_csv('../data/diamonds_predictions_XGBRegressor_Cross_Target.csv',index=False)"
   ]
  }
 ],
 "metadata": {
  "kernelspec": {
   "display_name": "Python [conda env:ML]",
   "language": "python",
   "name": "conda-env-ML-py"
  },
  "language_info": {
   "codemirror_mode": {
    "name": "ipython",
    "version": 3
   },
   "file_extension": ".py",
   "mimetype": "text/x-python",
   "name": "python",
   "nbconvert_exporter": "python",
   "pygments_lexer": "ipython3",
   "version": "3.7.13"
  }
 },
 "nbformat": 4,
 "nbformat_minor": 5
}
