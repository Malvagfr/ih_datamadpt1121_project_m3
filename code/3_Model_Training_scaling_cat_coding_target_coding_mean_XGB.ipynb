{
 "cells": [
  {
   "cell_type": "markdown",
   "id": "0de365a4",
   "metadata": {},
   "source": [
    "## 0. Review\n",
    "In this model the following decissions were taken: \n",
    "- Model choosen is XGBRegressor\n",
    "- All features are considered in the analysis (XGB has a good perform even there are dependent features or with week correlation in the dataset).\n",
    "- Data preparation is not needed as:\n",
    "    - There are not null values.\n",
    "    - There are few zero values (they are present in train/test and XGB can predict with 0 values)\n",
    "    - There are few outliers (8% in train and 1% in test), as we can not exclude them in the train it's better to keep them in the train so the model can learn about them.\n",
    "- Feature scalling does not provide better results (data range are not very big)\n",
    "- Target encoding using price's mean seems to reduce error variance.\n",
    "- Target encoding using price's std does not seems to provide better results.\n",
    "- Cross target encoding not seems to provide better results (there is more overfitting).\n",
    "- Category encoding performs better that one hot encoding when using tree decission models."
   ]
  },
  {
   "cell_type": "markdown",
   "id": "c1df95e2",
   "metadata": {},
   "source": [
    "## 1. Libraries import"
   ]
  },
  {
   "cell_type": "code",
   "execution_count": 63,
   "id": "a17f838c",
   "metadata": {},
   "outputs": [],
   "source": [
    "# Ignore warnings\n",
    "import warnings\n",
    "warnings.filterwarnings('ignore')"
   ]
  },
  {
   "cell_type": "code",
   "execution_count": 64,
   "id": "15bd2943",
   "metadata": {},
   "outputs": [],
   "source": [
    "# Imports \n",
    "import numpy as np\n",
    "import pandas as pd\n",
    "pd.set_option(\"display.max_columns\", 50)\n",
    "#scaling\n",
    "from sklearn.preprocessing import StandardScaler\n",
    "#train test split\n",
    "from sklearn.model_selection import train_test_split\n",
    "# model\n",
    "from xgboost import XGBRegressor\n",
    "# error\n",
    "from sklearn.metrics import mean_squared_error,r2_score,mean_absolute_error"
   ]
  },
  {
   "cell_type": "markdown",
   "id": "894bdee3",
   "metadata": {},
   "source": [
    "## 2. Data import"
   ]
  },
  {
   "cell_type": "markdown",
   "id": "0557a331",
   "metadata": {},
   "source": [
    "### 2.1 Impor train data"
   ]
  },
  {
   "cell_type": "code",
   "execution_count": 65,
   "id": "b35aa513",
   "metadata": {
    "scrolled": true
   },
   "outputs": [
    {
     "data": {
      "text/html": [
       "<div>\n",
       "<style scoped>\n",
       "    .dataframe tbody tr th:only-of-type {\n",
       "        vertical-align: middle;\n",
       "    }\n",
       "\n",
       "    .dataframe tbody tr th {\n",
       "        vertical-align: top;\n",
       "    }\n",
       "\n",
       "    .dataframe thead th {\n",
       "        text-align: right;\n",
       "    }\n",
       "</style>\n",
       "<table border=\"1\" class=\"dataframe\">\n",
       "  <thead>\n",
       "    <tr style=\"text-align: right;\">\n",
       "      <th></th>\n",
       "      <th>depth</th>\n",
       "      <th>table</th>\n",
       "      <th>x</th>\n",
       "      <th>y</th>\n",
       "      <th>z</th>\n",
       "      <th>price</th>\n",
       "      <th>carat</th>\n",
       "      <th>cut</th>\n",
       "      <th>color</th>\n",
       "      <th>clarity</th>\n",
       "      <th>city</th>\n",
       "    </tr>\n",
       "  </thead>\n",
       "  <tbody>\n",
       "    <tr>\n",
       "      <th>0</th>\n",
       "      <td>62.4</td>\n",
       "      <td>58.0</td>\n",
       "      <td>6.83</td>\n",
       "      <td>6.79</td>\n",
       "      <td>4.25</td>\n",
       "      <td>4268</td>\n",
       "      <td>1.21</td>\n",
       "      <td>Premium</td>\n",
       "      <td>J</td>\n",
       "      <td>VS2</td>\n",
       "      <td>Dubai</td>\n",
       "    </tr>\n",
       "    <tr>\n",
       "      <th>1</th>\n",
       "      <td>63.0</td>\n",
       "      <td>57.0</td>\n",
       "      <td>4.35</td>\n",
       "      <td>4.38</td>\n",
       "      <td>2.75</td>\n",
       "      <td>505</td>\n",
       "      <td>0.32</td>\n",
       "      <td>Very Good</td>\n",
       "      <td>H</td>\n",
       "      <td>VS2</td>\n",
       "      <td>Kimberly</td>\n",
       "    </tr>\n",
       "    <tr>\n",
       "      <th>2</th>\n",
       "      <td>65.5</td>\n",
       "      <td>55.0</td>\n",
       "      <td>5.62</td>\n",
       "      <td>5.53</td>\n",
       "      <td>3.65</td>\n",
       "      <td>2686</td>\n",
       "      <td>0.71</td>\n",
       "      <td>Fair</td>\n",
       "      <td>G</td>\n",
       "      <td>VS1</td>\n",
       "      <td>Las Vegas</td>\n",
       "    </tr>\n",
       "    <tr>\n",
       "      <th>3</th>\n",
       "      <td>63.8</td>\n",
       "      <td>56.0</td>\n",
       "      <td>4.68</td>\n",
       "      <td>4.72</td>\n",
       "      <td>3.00</td>\n",
       "      <td>738</td>\n",
       "      <td>0.41</td>\n",
       "      <td>Good</td>\n",
       "      <td>D</td>\n",
       "      <td>SI1</td>\n",
       "      <td>Kimberly</td>\n",
       "    </tr>\n",
       "    <tr>\n",
       "      <th>4</th>\n",
       "      <td>60.5</td>\n",
       "      <td>59.0</td>\n",
       "      <td>6.55</td>\n",
       "      <td>6.51</td>\n",
       "      <td>3.95</td>\n",
       "      <td>4882</td>\n",
       "      <td>1.02</td>\n",
       "      <td>Ideal</td>\n",
       "      <td>G</td>\n",
       "      <td>SI1</td>\n",
       "      <td>Dubai</td>\n",
       "    </tr>\n",
       "  </tbody>\n",
       "</table>\n",
       "</div>"
      ],
      "text/plain": [
       "   depth  table     x     y     z  price  carat        cut color clarity  \\\n",
       "0   62.4   58.0  6.83  6.79  4.25   4268   1.21    Premium     J     VS2   \n",
       "1   63.0   57.0  4.35  4.38  2.75    505   0.32  Very Good     H     VS2   \n",
       "2   65.5   55.0  5.62  5.53  3.65   2686   0.71       Fair     G     VS1   \n",
       "3   63.8   56.0  4.68  4.72  3.00    738   0.41       Good     D     SI1   \n",
       "4   60.5   59.0  6.55  6.51  3.95   4882   1.02      Ideal     G     SI1   \n",
       "\n",
       "        city  \n",
       "0      Dubai  \n",
       "1   Kimberly  \n",
       "2  Las Vegas  \n",
       "3   Kimberly  \n",
       "4      Dubai  "
      ]
     },
     "execution_count": 65,
     "metadata": {},
     "output_type": "execute_result"
    }
   ],
   "source": [
    "df_diamonds_train=pd.read_csv('../data/diamonds_train.csv')\n",
    "df_diamonds_train.drop(['Unnamed: 0', 'index_id'], axis=1,inplace=True) #dropped unnecessary columns\n",
    "df_diamonds_train.head()"
   ]
  },
  {
   "cell_type": "markdown",
   "id": "ff913d6c",
   "metadata": {},
   "source": [
    "### 2.2 Impor test data"
   ]
  },
  {
   "cell_type": "code",
   "execution_count": 66,
   "id": "65ba238d",
   "metadata": {},
   "outputs": [
    {
     "data": {
      "text/html": [
       "<div>\n",
       "<style scoped>\n",
       "    .dataframe tbody tr th:only-of-type {\n",
       "        vertical-align: middle;\n",
       "    }\n",
       "\n",
       "    .dataframe tbody tr th {\n",
       "        vertical-align: top;\n",
       "    }\n",
       "\n",
       "    .dataframe thead th {\n",
       "        text-align: right;\n",
       "    }\n",
       "</style>\n",
       "<table border=\"1\" class=\"dataframe\">\n",
       "  <thead>\n",
       "    <tr style=\"text-align: right;\">\n",
       "      <th></th>\n",
       "      <th>carat</th>\n",
       "      <th>cut</th>\n",
       "      <th>color</th>\n",
       "      <th>clarity</th>\n",
       "      <th>depth</th>\n",
       "      <th>table</th>\n",
       "      <th>x</th>\n",
       "      <th>y</th>\n",
       "      <th>z</th>\n",
       "      <th>city</th>\n",
       "    </tr>\n",
       "  </thead>\n",
       "  <tbody>\n",
       "    <tr>\n",
       "      <th>0</th>\n",
       "      <td>0.79</td>\n",
       "      <td>Very Good</td>\n",
       "      <td>F</td>\n",
       "      <td>SI1</td>\n",
       "      <td>62.7</td>\n",
       "      <td>60.0</td>\n",
       "      <td>5.82</td>\n",
       "      <td>5.89</td>\n",
       "      <td>3.67</td>\n",
       "      <td>Amsterdam</td>\n",
       "    </tr>\n",
       "    <tr>\n",
       "      <th>1</th>\n",
       "      <td>1.20</td>\n",
       "      <td>Ideal</td>\n",
       "      <td>J</td>\n",
       "      <td>VS1</td>\n",
       "      <td>61.0</td>\n",
       "      <td>57.0</td>\n",
       "      <td>6.81</td>\n",
       "      <td>6.89</td>\n",
       "      <td>4.18</td>\n",
       "      <td>Surat</td>\n",
       "    </tr>\n",
       "    <tr>\n",
       "      <th>2</th>\n",
       "      <td>1.57</td>\n",
       "      <td>Premium</td>\n",
       "      <td>H</td>\n",
       "      <td>SI1</td>\n",
       "      <td>62.2</td>\n",
       "      <td>61.0</td>\n",
       "      <td>7.38</td>\n",
       "      <td>7.32</td>\n",
       "      <td>4.57</td>\n",
       "      <td>Kimberly</td>\n",
       "    </tr>\n",
       "    <tr>\n",
       "      <th>3</th>\n",
       "      <td>0.90</td>\n",
       "      <td>Very Good</td>\n",
       "      <td>F</td>\n",
       "      <td>SI1</td>\n",
       "      <td>63.8</td>\n",
       "      <td>54.0</td>\n",
       "      <td>6.09</td>\n",
       "      <td>6.13</td>\n",
       "      <td>3.90</td>\n",
       "      <td>Kimberly</td>\n",
       "    </tr>\n",
       "    <tr>\n",
       "      <th>4</th>\n",
       "      <td>0.50</td>\n",
       "      <td>Very Good</td>\n",
       "      <td>F</td>\n",
       "      <td>VS1</td>\n",
       "      <td>62.9</td>\n",
       "      <td>58.0</td>\n",
       "      <td>5.05</td>\n",
       "      <td>5.09</td>\n",
       "      <td>3.19</td>\n",
       "      <td>Amsterdam</td>\n",
       "    </tr>\n",
       "  </tbody>\n",
       "</table>\n",
       "</div>"
      ],
      "text/plain": [
       "   carat        cut color clarity  depth  table     x     y     z       city\n",
       "0   0.79  Very Good     F     SI1   62.7   60.0  5.82  5.89  3.67  Amsterdam\n",
       "1   1.20      Ideal     J     VS1   61.0   57.0  6.81  6.89  4.18      Surat\n",
       "2   1.57    Premium     H     SI1   62.2   61.0  7.38  7.32  4.57   Kimberly\n",
       "3   0.90  Very Good     F     SI1   63.8   54.0  6.09  6.13  3.90   Kimberly\n",
       "4   0.50  Very Good     F     VS1   62.9   58.0  5.05  5.09  3.19  Amsterdam"
      ]
     },
     "execution_count": 66,
     "metadata": {},
     "output_type": "execute_result"
    }
   ],
   "source": [
    "df_diamonds_test=pd.read_csv('../data/diamonds_test.csv')\n",
    "df_diamonds_test.drop(['id'], axis=1,inplace=True) #dropped unnecessary columns\n",
    "df_diamonds_test.head()"
   ]
  },
  {
   "cell_type": "markdown",
   "id": "75c82972",
   "metadata": {},
   "source": [
    "## 3. Features to be considered in the analysis"
   ]
  },
  {
   "cell_type": "markdown",
   "id": "d296e198",
   "metadata": {},
   "source": [
    "All features are considered in the analysis (model chosen XGB has a good perform even there are dependent features or with week correlation in the dataset):"
   ]
  },
  {
   "cell_type": "code",
   "execution_count": 67,
   "id": "b379bd21",
   "metadata": {},
   "outputs": [],
   "source": [
    "num_features_list=['x','y','z','depth','table','carat']\n",
    "cat_features_list=['cut','color','clarity','city']\n",
    "features_list=['x','y','z','depth','table','carat','cut','color','clarity','city']\n",
    "target='price'"
   ]
  },
  {
   "cell_type": "markdown",
   "id": "5aa0abf6",
   "metadata": {},
   "source": [
    "## 4. Data preparation "
   ]
  },
  {
   "cell_type": "markdown",
   "id": "d5a24af6",
   "metadata": {},
   "source": [
    "Data preparation is not needed as:\n",
    "- There are not null values.\n",
    "- There are few zero values (they are present in train/test and XGB can predict with 0 values)\n",
    "- There are few outliers (8% in train and 1% in test), as we can not exclude them in the train it's better to keep them in the train so the model can learn about them."
   ]
  },
  {
   "cell_type": "markdown",
   "id": "a00b9ac0",
   "metadata": {},
   "source": [
    "## 5. Feature engineering (training set)"
   ]
  },
  {
   "cell_type": "markdown",
   "id": "9e66c050",
   "metadata": {},
   "source": [
    "- Feature scalling does not provide better results (data range are not very big).\n",
    "- Target encoding using price mean seems to reduce error variance.\n",
    "- Target encoding using price std does not seems to provide better results.\n",
    "- Cross target encoding not seems to provide better results (there is more overfitting).\n",
    "- Category encoding performs better that one hot encoding when using tree decission models."
   ]
  },
  {
   "cell_type": "markdown",
   "id": "d7f630c8",
   "metadata": {},
   "source": [
    "### 5.1 Target encoding "
   ]
  },
  {
   "cell_type": "code",
   "execution_count": 68,
   "id": "cf87f1b3",
   "metadata": {},
   "outputs": [],
   "source": [
    "# Target encoding for categorical variables using price's mean\n",
    "cut_encoding = df_diamonds_train.groupby(['cut'])['price'].mean().to_dict()\n",
    "df_diamonds_train['cut_encoding'] = df_diamonds_train['cut'].map(cut_encoding).astype(float)\n",
    "color_encoding = df_diamonds_train.groupby(['color'])['price'].mean().to_dict()\n",
    "df_diamonds_train['color_encoding'] = df_diamonds_train['color'].map(color_encoding).astype(float)\n",
    "clarity_encoding = df_diamonds_train.groupby(['clarity'])['price'].mean().to_dict()\n",
    "df_diamonds_train['clarity_encoding'] = df_diamonds_train['clarity'].map(clarity_encoding).astype(float)"
   ]
  },
  {
   "cell_type": "code",
   "execution_count": 69,
   "id": "9221f981",
   "metadata": {},
   "outputs": [],
   "source": [
    "features_list_encoding=['x','y','z','depth','table','carat','cut','color','clarity','city',\n",
    "                        'cut_encoding','color_encoding','clarity_encoding']"
   ]
  },
  {
   "cell_type": "markdown",
   "id": "7ce5df96",
   "metadata": {},
   "source": [
    "## Scaling"
   ]
  },
  {
   "cell_type": "code",
   "execution_count": 70,
   "id": "f68f7078",
   "metadata": {},
   "outputs": [],
   "source": [
    "num_features_list=['x','y','z','depth','table','carat','cut_encoding','color_encoding','clarity_encoding']"
   ]
  },
  {
   "cell_type": "code",
   "execution_count": 71,
   "id": "8e8caef2",
   "metadata": {},
   "outputs": [],
   "source": [
    "df_diamonds_train_num=df_diamonds_train[num_features_list]\n",
    "df_diamonds_train_carat=df_diamonds_train[cat_features_list]\n",
    "df_diamonds_train_target=df_diamonds_train['price']"
   ]
  },
  {
   "cell_type": "code",
   "execution_count": 72,
   "id": "881b9070",
   "metadata": {},
   "outputs": [
    {
     "data": {
      "text/html": [
       "<div>\n",
       "<style scoped>\n",
       "    .dataframe tbody tr th:only-of-type {\n",
       "        vertical-align: middle;\n",
       "    }\n",
       "\n",
       "    .dataframe tbody tr th {\n",
       "        vertical-align: top;\n",
       "    }\n",
       "\n",
       "    .dataframe thead th {\n",
       "        text-align: right;\n",
       "    }\n",
       "</style>\n",
       "<table border=\"1\" class=\"dataframe\">\n",
       "  <thead>\n",
       "    <tr style=\"text-align: right;\">\n",
       "      <th></th>\n",
       "      <th>x</th>\n",
       "      <th>y</th>\n",
       "      <th>z</th>\n",
       "      <th>depth</th>\n",
       "      <th>table</th>\n",
       "      <th>carat</th>\n",
       "      <th>cut_encoding</th>\n",
       "      <th>color_encoding</th>\n",
       "      <th>clarity_encoding</th>\n",
       "    </tr>\n",
       "  </thead>\n",
       "  <tbody>\n",
       "    <tr>\n",
       "      <th>0</th>\n",
       "      <td>0.978807</td>\n",
       "      <td>0.921985</td>\n",
       "      <td>1.022657</td>\n",
       "      <td>0.452019</td>\n",
       "      <td>0.247981</td>\n",
       "      <td>0.867006</td>\n",
       "      <td>1.456645</td>\n",
       "      <td>1.991090</td>\n",
       "      <td>-0.022040</td>\n",
       "    </tr>\n",
       "    <tr>\n",
       "      <th>1</th>\n",
       "      <td>-1.226738</td>\n",
       "      <td>-1.179816</td>\n",
       "      <td>-1.129259</td>\n",
       "      <td>0.871099</td>\n",
       "      <td>-0.199745</td>\n",
       "      <td>-1.004557</td>\n",
       "      <td>0.139558</td>\n",
       "      <td>0.769625</td>\n",
       "      <td>-0.022040</td>\n",
       "    </tr>\n",
       "    <tr>\n",
       "      <th>2</th>\n",
       "      <td>-0.097286</td>\n",
       "      <td>-0.176882</td>\n",
       "      <td>0.161891</td>\n",
       "      <td>2.617265</td>\n",
       "      <td>-1.095198</td>\n",
       "      <td>-0.184434</td>\n",
       "      <td>0.856015</td>\n",
       "      <td>0.133092</td>\n",
       "      <td>-0.195311</td>\n",
       "    </tr>\n",
       "    <tr>\n",
       "      <th>3</th>\n",
       "      <td>-0.933258</td>\n",
       "      <td>-0.883296</td>\n",
       "      <td>-0.770607</td>\n",
       "      <td>1.429872</td>\n",
       "      <td>-0.647472</td>\n",
       "      <td>-0.815298</td>\n",
       "      <td>-0.101143</td>\n",
       "      <td>-1.114363</td>\n",
       "      <td>0.105960</td>\n",
       "    </tr>\n",
       "    <tr>\n",
       "      <th>4</th>\n",
       "      <td>0.729794</td>\n",
       "      <td>0.677793</td>\n",
       "      <td>0.592274</td>\n",
       "      <td>-0.875068</td>\n",
       "      <td>0.695707</td>\n",
       "      <td>0.467458</td>\n",
       "      <td>-1.041044</td>\n",
       "      <td>0.133092</td>\n",
       "      <td>0.105960</td>\n",
       "    </tr>\n",
       "    <tr>\n",
       "      <th>...</th>\n",
       "      <td>...</td>\n",
       "      <td>...</td>\n",
       "      <td>...</td>\n",
       "      <td>...</td>\n",
       "      <td>...</td>\n",
       "      <td>...</td>\n",
       "      <td>...</td>\n",
       "      <td>...</td>\n",
       "      <td>...</td>\n",
       "    </tr>\n",
       "    <tr>\n",
       "      <th>40450</th>\n",
       "      <td>1.218927</td>\n",
       "      <td>1.140014</td>\n",
       "      <td>1.280887</td>\n",
       "      <td>0.661559</td>\n",
       "      <td>-0.199745</td>\n",
       "      <td>1.140380</td>\n",
       "      <td>-1.041044</td>\n",
       "      <td>0.133092</td>\n",
       "      <td>-0.195311</td>\n",
       "    </tr>\n",
       "    <tr>\n",
       "      <th>40451</th>\n",
       "      <td>2.295019</td>\n",
       "      <td>2.195276</td>\n",
       "      <td>1.711271</td>\n",
       "      <td>-3.249854</td>\n",
       "      <td>1.143433</td>\n",
       "      <td>2.570338</td>\n",
       "      <td>-0.101143</td>\n",
       "      <td>-0.352620</td>\n",
       "      <td>1.739881</td>\n",
       "    </tr>\n",
       "    <tr>\n",
       "      <th>40452</th>\n",
       "      <td>0.569714</td>\n",
       "      <td>0.599302</td>\n",
       "      <td>0.678351</td>\n",
       "      <td>0.661559</td>\n",
       "      <td>-0.647472</td>\n",
       "      <td>0.446430</td>\n",
       "      <td>-1.041044</td>\n",
       "      <td>0.769625</td>\n",
       "      <td>0.105960</td>\n",
       "    </tr>\n",
       "    <tr>\n",
       "      <th>40453</th>\n",
       "      <td>-1.137805</td>\n",
       "      <td>-1.101325</td>\n",
       "      <td>-1.114913</td>\n",
       "      <td>0.102785</td>\n",
       "      <td>-1.408606</td>\n",
       "      <td>-0.983529</td>\n",
       "      <td>-1.041044</td>\n",
       "      <td>1.991090</td>\n",
       "      <td>-0.195311</td>\n",
       "    </tr>\n",
       "    <tr>\n",
       "      <th>40454</th>\n",
       "      <td>0.978807</td>\n",
       "      <td>1.000476</td>\n",
       "      <td>1.022657</td>\n",
       "      <td>0.172632</td>\n",
       "      <td>0.247981</td>\n",
       "      <td>0.930092</td>\n",
       "      <td>-1.041044</td>\n",
       "      <td>1.632465</td>\n",
       "      <td>0.105960</td>\n",
       "    </tr>\n",
       "  </tbody>\n",
       "</table>\n",
       "<p>40455 rows × 9 columns</p>\n",
       "</div>"
      ],
      "text/plain": [
       "              x         y         z     depth     table     carat  \\\n",
       "0      0.978807  0.921985  1.022657  0.452019  0.247981  0.867006   \n",
       "1     -1.226738 -1.179816 -1.129259  0.871099 -0.199745 -1.004557   \n",
       "2     -0.097286 -0.176882  0.161891  2.617265 -1.095198 -0.184434   \n",
       "3     -0.933258 -0.883296 -0.770607  1.429872 -0.647472 -0.815298   \n",
       "4      0.729794  0.677793  0.592274 -0.875068  0.695707  0.467458   \n",
       "...         ...       ...       ...       ...       ...       ...   \n",
       "40450  1.218927  1.140014  1.280887  0.661559 -0.199745  1.140380   \n",
       "40451  2.295019  2.195276  1.711271 -3.249854  1.143433  2.570338   \n",
       "40452  0.569714  0.599302  0.678351  0.661559 -0.647472  0.446430   \n",
       "40453 -1.137805 -1.101325 -1.114913  0.102785 -1.408606 -0.983529   \n",
       "40454  0.978807  1.000476  1.022657  0.172632  0.247981  0.930092   \n",
       "\n",
       "       cut_encoding  color_encoding  clarity_encoding  \n",
       "0          1.456645        1.991090         -0.022040  \n",
       "1          0.139558        0.769625         -0.022040  \n",
       "2          0.856015        0.133092         -0.195311  \n",
       "3         -0.101143       -1.114363          0.105960  \n",
       "4         -1.041044        0.133092          0.105960  \n",
       "...             ...             ...               ...  \n",
       "40450     -1.041044        0.133092         -0.195311  \n",
       "40451     -0.101143       -0.352620          1.739881  \n",
       "40452     -1.041044        0.769625          0.105960  \n",
       "40453     -1.041044        1.991090         -0.195311  \n",
       "40454     -1.041044        1.632465          0.105960  \n",
       "\n",
       "[40455 rows x 9 columns]"
      ]
     },
     "execution_count": 72,
     "metadata": {},
     "output_type": "execute_result"
    }
   ],
   "source": [
    "# Perform the feature scaling on the numeric attributes of the dataset\n",
    "num_scaler = StandardScaler()\n",
    "df_diamonds_train_num_scaled = num_scaler.fit_transform(df_diamonds_train_num)\n",
    "df_diamonds_train_num_scaled = pd.DataFrame(df_diamonds_train_num_scaled, columns=num_features_list)\n",
    "df_diamonds_train_num_scaled\n"
   ]
  },
  {
   "cell_type": "code",
   "execution_count": 73,
   "id": "d1b010b7",
   "metadata": {},
   "outputs": [
    {
     "data": {
      "text/html": [
       "<div>\n",
       "<style scoped>\n",
       "    .dataframe tbody tr th:only-of-type {\n",
       "        vertical-align: middle;\n",
       "    }\n",
       "\n",
       "    .dataframe tbody tr th {\n",
       "        vertical-align: top;\n",
       "    }\n",
       "\n",
       "    .dataframe thead th {\n",
       "        text-align: right;\n",
       "    }\n",
       "</style>\n",
       "<table border=\"1\" class=\"dataframe\">\n",
       "  <thead>\n",
       "    <tr style=\"text-align: right;\">\n",
       "      <th></th>\n",
       "      <th>x</th>\n",
       "      <th>y</th>\n",
       "      <th>z</th>\n",
       "      <th>depth</th>\n",
       "      <th>table</th>\n",
       "      <th>carat</th>\n",
       "      <th>cut_encoding</th>\n",
       "      <th>color_encoding</th>\n",
       "      <th>clarity_encoding</th>\n",
       "      <th>cut</th>\n",
       "      <th>color</th>\n",
       "      <th>clarity</th>\n",
       "      <th>city</th>\n",
       "      <th>price</th>\n",
       "    </tr>\n",
       "  </thead>\n",
       "  <tbody>\n",
       "    <tr>\n",
       "      <th>0</th>\n",
       "      <td>0.978807</td>\n",
       "      <td>0.921985</td>\n",
       "      <td>1.022657</td>\n",
       "      <td>0.452019</td>\n",
       "      <td>0.247981</td>\n",
       "      <td>0.867006</td>\n",
       "      <td>1.456645</td>\n",
       "      <td>1.991090</td>\n",
       "      <td>-0.022040</td>\n",
       "      <td>Premium</td>\n",
       "      <td>J</td>\n",
       "      <td>VS2</td>\n",
       "      <td>Dubai</td>\n",
       "      <td>4268</td>\n",
       "    </tr>\n",
       "    <tr>\n",
       "      <th>1</th>\n",
       "      <td>-1.226738</td>\n",
       "      <td>-1.179816</td>\n",
       "      <td>-1.129259</td>\n",
       "      <td>0.871099</td>\n",
       "      <td>-0.199745</td>\n",
       "      <td>-1.004557</td>\n",
       "      <td>0.139558</td>\n",
       "      <td>0.769625</td>\n",
       "      <td>-0.022040</td>\n",
       "      <td>Very Good</td>\n",
       "      <td>H</td>\n",
       "      <td>VS2</td>\n",
       "      <td>Kimberly</td>\n",
       "      <td>505</td>\n",
       "    </tr>\n",
       "    <tr>\n",
       "      <th>2</th>\n",
       "      <td>-0.097286</td>\n",
       "      <td>-0.176882</td>\n",
       "      <td>0.161891</td>\n",
       "      <td>2.617265</td>\n",
       "      <td>-1.095198</td>\n",
       "      <td>-0.184434</td>\n",
       "      <td>0.856015</td>\n",
       "      <td>0.133092</td>\n",
       "      <td>-0.195311</td>\n",
       "      <td>Fair</td>\n",
       "      <td>G</td>\n",
       "      <td>VS1</td>\n",
       "      <td>Las Vegas</td>\n",
       "      <td>2686</td>\n",
       "    </tr>\n",
       "    <tr>\n",
       "      <th>3</th>\n",
       "      <td>-0.933258</td>\n",
       "      <td>-0.883296</td>\n",
       "      <td>-0.770607</td>\n",
       "      <td>1.429872</td>\n",
       "      <td>-0.647472</td>\n",
       "      <td>-0.815298</td>\n",
       "      <td>-0.101143</td>\n",
       "      <td>-1.114363</td>\n",
       "      <td>0.105960</td>\n",
       "      <td>Good</td>\n",
       "      <td>D</td>\n",
       "      <td>SI1</td>\n",
       "      <td>Kimberly</td>\n",
       "      <td>738</td>\n",
       "    </tr>\n",
       "    <tr>\n",
       "      <th>4</th>\n",
       "      <td>0.729794</td>\n",
       "      <td>0.677793</td>\n",
       "      <td>0.592274</td>\n",
       "      <td>-0.875068</td>\n",
       "      <td>0.695707</td>\n",
       "      <td>0.467458</td>\n",
       "      <td>-1.041044</td>\n",
       "      <td>0.133092</td>\n",
       "      <td>0.105960</td>\n",
       "      <td>Ideal</td>\n",
       "      <td>G</td>\n",
       "      <td>SI1</td>\n",
       "      <td>Dubai</td>\n",
       "      <td>4882</td>\n",
       "    </tr>\n",
       "  </tbody>\n",
       "</table>\n",
       "</div>"
      ],
      "text/plain": [
       "          x         y         z     depth     table     carat  cut_encoding  \\\n",
       "0  0.978807  0.921985  1.022657  0.452019  0.247981  0.867006      1.456645   \n",
       "1 -1.226738 -1.179816 -1.129259  0.871099 -0.199745 -1.004557      0.139558   \n",
       "2 -0.097286 -0.176882  0.161891  2.617265 -1.095198 -0.184434      0.856015   \n",
       "3 -0.933258 -0.883296 -0.770607  1.429872 -0.647472 -0.815298     -0.101143   \n",
       "4  0.729794  0.677793  0.592274 -0.875068  0.695707  0.467458     -1.041044   \n",
       "\n",
       "   color_encoding  clarity_encoding        cut color clarity       city  price  \n",
       "0        1.991090         -0.022040    Premium     J     VS2      Dubai   4268  \n",
       "1        0.769625         -0.022040  Very Good     H     VS2   Kimberly    505  \n",
       "2        0.133092         -0.195311       Fair     G     VS1  Las Vegas   2686  \n",
       "3       -1.114363          0.105960       Good     D     SI1   Kimberly    738  \n",
       "4        0.133092          0.105960      Ideal     G     SI1      Dubai   4882  "
      ]
     },
     "execution_count": 73,
     "metadata": {},
     "output_type": "execute_result"
    }
   ],
   "source": [
    "df_diamonds_train=pd.merge(df_diamonds_train_num_scaled, df_diamonds_train_carat, left_index=True, right_index=True)\n",
    "df_diamonds_train=pd.merge(df_diamonds_train, df_diamonds_train_target, left_index=True, right_index=True)\n",
    "df_diamonds_train.head()"
   ]
  },
  {
   "cell_type": "markdown",
   "id": "8391a269",
   "metadata": {},
   "source": [
    "### 5.2 Category encoding"
   ]
  },
  {
   "cell_type": "code",
   "execution_count": 74,
   "id": "fc3046a3",
   "metadata": {},
   "outputs": [],
   "source": [
    "# Defining features y target\n",
    "X=df_diamonds_train[features_list_encoding]\n",
    "y=df_diamonds_train['price']"
   ]
  },
  {
   "cell_type": "code",
   "execution_count": 75,
   "id": "a73d7b9a",
   "metadata": {},
   "outputs": [],
   "source": [
    "for column in cat_features_list:\n",
    "    X[column]=X[column].astype('category')\n",
    "    X[column]=X[column].cat.codes"
   ]
  },
  {
   "cell_type": "code",
   "execution_count": 77,
   "id": "67df8aba",
   "metadata": {},
   "outputs": [],
   "source": [
    "X = X[features_list_encoding]"
   ]
  },
  {
   "cell_type": "code",
   "execution_count": 78,
   "id": "09c22037",
   "metadata": {
    "scrolled": true
   },
   "outputs": [
    {
     "data": {
      "text/html": [
       "<div>\n",
       "<style scoped>\n",
       "    .dataframe tbody tr th:only-of-type {\n",
       "        vertical-align: middle;\n",
       "    }\n",
       "\n",
       "    .dataframe tbody tr th {\n",
       "        vertical-align: top;\n",
       "    }\n",
       "\n",
       "    .dataframe thead th {\n",
       "        text-align: right;\n",
       "    }\n",
       "</style>\n",
       "<table border=\"1\" class=\"dataframe\">\n",
       "  <thead>\n",
       "    <tr style=\"text-align: right;\">\n",
       "      <th></th>\n",
       "      <th>x</th>\n",
       "      <th>y</th>\n",
       "      <th>z</th>\n",
       "      <th>depth</th>\n",
       "      <th>table</th>\n",
       "      <th>carat</th>\n",
       "      <th>cut</th>\n",
       "      <th>color</th>\n",
       "      <th>clarity</th>\n",
       "      <th>city</th>\n",
       "      <th>cut_encoding</th>\n",
       "      <th>color_encoding</th>\n",
       "      <th>clarity_encoding</th>\n",
       "    </tr>\n",
       "  </thead>\n",
       "  <tbody>\n",
       "    <tr>\n",
       "      <th>0</th>\n",
       "      <td>0.978807</td>\n",
       "      <td>0.921985</td>\n",
       "      <td>1.022657</td>\n",
       "      <td>0.452019</td>\n",
       "      <td>0.247981</td>\n",
       "      <td>0.867006</td>\n",
       "      <td>3</td>\n",
       "      <td>6</td>\n",
       "      <td>5</td>\n",
       "      <td>2</td>\n",
       "      <td>1.456645</td>\n",
       "      <td>1.991090</td>\n",
       "      <td>-0.022040</td>\n",
       "    </tr>\n",
       "    <tr>\n",
       "      <th>1</th>\n",
       "      <td>-1.226738</td>\n",
       "      <td>-1.179816</td>\n",
       "      <td>-1.129259</td>\n",
       "      <td>0.871099</td>\n",
       "      <td>-0.199745</td>\n",
       "      <td>-1.004557</td>\n",
       "      <td>4</td>\n",
       "      <td>4</td>\n",
       "      <td>5</td>\n",
       "      <td>3</td>\n",
       "      <td>0.139558</td>\n",
       "      <td>0.769625</td>\n",
       "      <td>-0.022040</td>\n",
       "    </tr>\n",
       "    <tr>\n",
       "      <th>2</th>\n",
       "      <td>-0.097286</td>\n",
       "      <td>-0.176882</td>\n",
       "      <td>0.161891</td>\n",
       "      <td>2.617265</td>\n",
       "      <td>-1.095198</td>\n",
       "      <td>-0.184434</td>\n",
       "      <td>0</td>\n",
       "      <td>3</td>\n",
       "      <td>4</td>\n",
       "      <td>4</td>\n",
       "      <td>0.856015</td>\n",
       "      <td>0.133092</td>\n",
       "      <td>-0.195311</td>\n",
       "    </tr>\n",
       "    <tr>\n",
       "      <th>3</th>\n",
       "      <td>-0.933258</td>\n",
       "      <td>-0.883296</td>\n",
       "      <td>-0.770607</td>\n",
       "      <td>1.429872</td>\n",
       "      <td>-0.647472</td>\n",
       "      <td>-0.815298</td>\n",
       "      <td>1</td>\n",
       "      <td>0</td>\n",
       "      <td>2</td>\n",
       "      <td>3</td>\n",
       "      <td>-0.101143</td>\n",
       "      <td>-1.114363</td>\n",
       "      <td>0.105960</td>\n",
       "    </tr>\n",
       "    <tr>\n",
       "      <th>4</th>\n",
       "      <td>0.729794</td>\n",
       "      <td>0.677793</td>\n",
       "      <td>0.592274</td>\n",
       "      <td>-0.875068</td>\n",
       "      <td>0.695707</td>\n",
       "      <td>0.467458</td>\n",
       "      <td>2</td>\n",
       "      <td>3</td>\n",
       "      <td>2</td>\n",
       "      <td>2</td>\n",
       "      <td>-1.041044</td>\n",
       "      <td>0.133092</td>\n",
       "      <td>0.105960</td>\n",
       "    </tr>\n",
       "  </tbody>\n",
       "</table>\n",
       "</div>"
      ],
      "text/plain": [
       "          x         y         z     depth     table     carat  cut  color  \\\n",
       "0  0.978807  0.921985  1.022657  0.452019  0.247981  0.867006    3      6   \n",
       "1 -1.226738 -1.179816 -1.129259  0.871099 -0.199745 -1.004557    4      4   \n",
       "2 -0.097286 -0.176882  0.161891  2.617265 -1.095198 -0.184434    0      3   \n",
       "3 -0.933258 -0.883296 -0.770607  1.429872 -0.647472 -0.815298    1      0   \n",
       "4  0.729794  0.677793  0.592274 -0.875068  0.695707  0.467458    2      3   \n",
       "\n",
       "   clarity  city  cut_encoding  color_encoding  clarity_encoding  \n",
       "0        5     2      1.456645        1.991090         -0.022040  \n",
       "1        5     3      0.139558        0.769625         -0.022040  \n",
       "2        4     4      0.856015        0.133092         -0.195311  \n",
       "3        2     3     -0.101143       -1.114363          0.105960  \n",
       "4        2     2     -1.041044        0.133092          0.105960  "
      ]
     },
     "execution_count": 78,
     "metadata": {},
     "output_type": "execute_result"
    }
   ],
   "source": [
    "X.head()"
   ]
  },
  {
   "cell_type": "markdown",
   "id": "b4e61db6",
   "metadata": {},
   "source": [
    "### 5.3 Define train and validation"
   ]
  },
  {
   "cell_type": "code",
   "execution_count": 79,
   "id": "83b76da3",
   "metadata": {},
   "outputs": [],
   "source": [
    "# Splitting train and test\n",
    "X_train, X_val, y_train, y_val = train_test_split(X, y, test_size=0.2, random_state=42)"
   ]
  },
  {
   "cell_type": "markdown",
   "id": "f0c06e54",
   "metadata": {},
   "source": [
    "## 6. Feature engineering (test set) "
   ]
  },
  {
   "cell_type": "code",
   "execution_count": 80,
   "id": "7d47ac61",
   "metadata": {},
   "outputs": [],
   "source": [
    "# Adapting categorical features for validation model\n",
    "X_test=df_diamonds_test[features_list]"
   ]
  },
  {
   "cell_type": "markdown",
   "id": "50c54f7a",
   "metadata": {},
   "source": [
    "### 6.1 Target encoding (mean and std)"
   ]
  },
  {
   "cell_type": "code",
   "execution_count": 81,
   "id": "90f00988",
   "metadata": {},
   "outputs": [],
   "source": [
    "# Target encoding for categorical variables using price's mean\n",
    "cut_encoding = df_diamonds_train.groupby(['cut'])['price'].mean().to_dict()\n",
    "X_test['cut_encoding'] = X_test['cut'].map(cut_encoding).astype(float)\n",
    "color_encoding = df_diamonds_train.groupby(['color'])['price'].mean().to_dict()\n",
    "X_test['color_encoding'] = X_test['color'].map(color_encoding).astype(float)\n",
    "clarity_encoding = df_diamonds_train.groupby(['clarity'])['price'].mean().to_dict()\n",
    "X_test['clarity_encoding'] = X_test['clarity'].map(clarity_encoding).astype(float)"
   ]
  },
  {
   "cell_type": "markdown",
   "id": "c92bc19e",
   "metadata": {},
   "source": [
    "## Scaling"
   ]
  },
  {
   "cell_type": "code",
   "execution_count": 82,
   "id": "d65f7ef6",
   "metadata": {},
   "outputs": [],
   "source": [
    "X_test_num=X_test[num_features_list]\n",
    "X_test_carat=X_test[cat_features_list]"
   ]
  },
  {
   "cell_type": "code",
   "execution_count": 83,
   "id": "182bfac5",
   "metadata": {},
   "outputs": [
    {
     "data": {
      "text/html": [
       "<div>\n",
       "<style scoped>\n",
       "    .dataframe tbody tr th:only-of-type {\n",
       "        vertical-align: middle;\n",
       "    }\n",
       "\n",
       "    .dataframe tbody tr th {\n",
       "        vertical-align: top;\n",
       "    }\n",
       "\n",
       "    .dataframe thead th {\n",
       "        text-align: right;\n",
       "    }\n",
       "</style>\n",
       "<table border=\"1\" class=\"dataframe\">\n",
       "  <thead>\n",
       "    <tr style=\"text-align: right;\">\n",
       "      <th></th>\n",
       "      <th>x</th>\n",
       "      <th>y</th>\n",
       "      <th>z</th>\n",
       "      <th>depth</th>\n",
       "      <th>table</th>\n",
       "      <th>carat</th>\n",
       "      <th>cut_encoding</th>\n",
       "      <th>color_encoding</th>\n",
       "      <th>clarity_encoding</th>\n",
       "    </tr>\n",
       "  </thead>\n",
       "  <tbody>\n",
       "    <tr>\n",
       "      <th>0</th>\n",
       "      <td>0.075022</td>\n",
       "      <td>0.133236</td>\n",
       "      <td>0.173091</td>\n",
       "      <td>0.669500</td>\n",
       "      <td>1.121874</td>\n",
       "      <td>-0.018412</td>\n",
       "      <td>0.122524</td>\n",
       "      <td>-0.342517</td>\n",
       "      <td>0.109405</td>\n",
       "    </tr>\n",
       "    <tr>\n",
       "      <th>1</th>\n",
       "      <td>0.964007</td>\n",
       "      <td>1.019395</td>\n",
       "      <td>0.870787</td>\n",
       "      <td>-0.514957</td>\n",
       "      <td>-0.219192</td>\n",
       "      <td>0.855078</td>\n",
       "      <td>-1.051999</td>\n",
       "      <td>2.001599</td>\n",
       "      <td>-0.194731</td>\n",
       "    </tr>\n",
       "    <tr>\n",
       "      <th>2</th>\n",
       "      <td>1.475847</td>\n",
       "      <td>1.400444</td>\n",
       "      <td>1.404319</td>\n",
       "      <td>0.321131</td>\n",
       "      <td>1.568896</td>\n",
       "      <td>1.643349</td>\n",
       "      <td>1.432828</td>\n",
       "      <td>0.779922</td>\n",
       "      <td>0.109405</td>\n",
       "    </tr>\n",
       "    <tr>\n",
       "      <th>3</th>\n",
       "      <td>0.317472</td>\n",
       "      <td>0.345914</td>\n",
       "      <td>0.487738</td>\n",
       "      <td>1.435914</td>\n",
       "      <td>-1.560258</td>\n",
       "      <td>0.215939</td>\n",
       "      <td>0.122524</td>\n",
       "      <td>-0.342517</td>\n",
       "      <td>0.109405</td>\n",
       "    </tr>\n",
       "    <tr>\n",
       "      <th>4</th>\n",
       "      <td>-0.616411</td>\n",
       "      <td>-0.575691</td>\n",
       "      <td>-0.483564</td>\n",
       "      <td>0.808848</td>\n",
       "      <td>0.227830</td>\n",
       "      <td>-0.636246</td>\n",
       "      <td>0.122524</td>\n",
       "      <td>-0.342517</td>\n",
       "      <td>-0.194731</td>\n",
       "    </tr>\n",
       "  </tbody>\n",
       "</table>\n",
       "</div>"
      ],
      "text/plain": [
       "          x         y         z     depth     table     carat  cut_encoding  \\\n",
       "0  0.075022  0.133236  0.173091  0.669500  1.121874 -0.018412      0.122524   \n",
       "1  0.964007  1.019395  0.870787 -0.514957 -0.219192  0.855078     -1.051999   \n",
       "2  1.475847  1.400444  1.404319  0.321131  1.568896  1.643349      1.432828   \n",
       "3  0.317472  0.345914  0.487738  1.435914 -1.560258  0.215939      0.122524   \n",
       "4 -0.616411 -0.575691 -0.483564  0.808848  0.227830 -0.636246      0.122524   \n",
       "\n",
       "   color_encoding  clarity_encoding  \n",
       "0       -0.342517          0.109405  \n",
       "1        2.001599         -0.194731  \n",
       "2        0.779922          0.109405  \n",
       "3       -0.342517          0.109405  \n",
       "4       -0.342517         -0.194731  "
      ]
     },
     "execution_count": 83,
     "metadata": {},
     "output_type": "execute_result"
    }
   ],
   "source": [
    "# Perform the feature scaling on the numeric attributes of the dataset\n",
    "num_scaler = StandardScaler()\n",
    "X_test_num_scaled = num_scaler.fit_transform(X_test_num)\n",
    "X_test_num_scaled = pd.DataFrame(X_test_num_scaled, columns=num_features_list)\n",
    "X_test_num_scaled.head()"
   ]
  },
  {
   "cell_type": "code",
   "execution_count": 84,
   "id": "f0cc46ce",
   "metadata": {},
   "outputs": [
    {
     "data": {
      "text/html": [
       "<div>\n",
       "<style scoped>\n",
       "    .dataframe tbody tr th:only-of-type {\n",
       "        vertical-align: middle;\n",
       "    }\n",
       "\n",
       "    .dataframe tbody tr th {\n",
       "        vertical-align: top;\n",
       "    }\n",
       "\n",
       "    .dataframe thead th {\n",
       "        text-align: right;\n",
       "    }\n",
       "</style>\n",
       "<table border=\"1\" class=\"dataframe\">\n",
       "  <thead>\n",
       "    <tr style=\"text-align: right;\">\n",
       "      <th></th>\n",
       "      <th>x</th>\n",
       "      <th>y</th>\n",
       "      <th>z</th>\n",
       "      <th>depth</th>\n",
       "      <th>table</th>\n",
       "      <th>carat</th>\n",
       "      <th>cut_encoding</th>\n",
       "      <th>color_encoding</th>\n",
       "      <th>clarity_encoding</th>\n",
       "      <th>cut</th>\n",
       "      <th>color</th>\n",
       "      <th>clarity</th>\n",
       "      <th>city</th>\n",
       "    </tr>\n",
       "  </thead>\n",
       "  <tbody>\n",
       "    <tr>\n",
       "      <th>0</th>\n",
       "      <td>0.075022</td>\n",
       "      <td>0.133236</td>\n",
       "      <td>0.173091</td>\n",
       "      <td>0.669500</td>\n",
       "      <td>1.121874</td>\n",
       "      <td>-0.018412</td>\n",
       "      <td>0.122524</td>\n",
       "      <td>-0.342517</td>\n",
       "      <td>0.109405</td>\n",
       "      <td>Very Good</td>\n",
       "      <td>F</td>\n",
       "      <td>SI1</td>\n",
       "      <td>Amsterdam</td>\n",
       "    </tr>\n",
       "    <tr>\n",
       "      <th>1</th>\n",
       "      <td>0.964007</td>\n",
       "      <td>1.019395</td>\n",
       "      <td>0.870787</td>\n",
       "      <td>-0.514957</td>\n",
       "      <td>-0.219192</td>\n",
       "      <td>0.855078</td>\n",
       "      <td>-1.051999</td>\n",
       "      <td>2.001599</td>\n",
       "      <td>-0.194731</td>\n",
       "      <td>Ideal</td>\n",
       "      <td>J</td>\n",
       "      <td>VS1</td>\n",
       "      <td>Surat</td>\n",
       "    </tr>\n",
       "    <tr>\n",
       "      <th>2</th>\n",
       "      <td>1.475847</td>\n",
       "      <td>1.400444</td>\n",
       "      <td>1.404319</td>\n",
       "      <td>0.321131</td>\n",
       "      <td>1.568896</td>\n",
       "      <td>1.643349</td>\n",
       "      <td>1.432828</td>\n",
       "      <td>0.779922</td>\n",
       "      <td>0.109405</td>\n",
       "      <td>Premium</td>\n",
       "      <td>H</td>\n",
       "      <td>SI1</td>\n",
       "      <td>Kimberly</td>\n",
       "    </tr>\n",
       "    <tr>\n",
       "      <th>3</th>\n",
       "      <td>0.317472</td>\n",
       "      <td>0.345914</td>\n",
       "      <td>0.487738</td>\n",
       "      <td>1.435914</td>\n",
       "      <td>-1.560258</td>\n",
       "      <td>0.215939</td>\n",
       "      <td>0.122524</td>\n",
       "      <td>-0.342517</td>\n",
       "      <td>0.109405</td>\n",
       "      <td>Very Good</td>\n",
       "      <td>F</td>\n",
       "      <td>SI1</td>\n",
       "      <td>Kimberly</td>\n",
       "    </tr>\n",
       "    <tr>\n",
       "      <th>4</th>\n",
       "      <td>-0.616411</td>\n",
       "      <td>-0.575691</td>\n",
       "      <td>-0.483564</td>\n",
       "      <td>0.808848</td>\n",
       "      <td>0.227830</td>\n",
       "      <td>-0.636246</td>\n",
       "      <td>0.122524</td>\n",
       "      <td>-0.342517</td>\n",
       "      <td>-0.194731</td>\n",
       "      <td>Very Good</td>\n",
       "      <td>F</td>\n",
       "      <td>VS1</td>\n",
       "      <td>Amsterdam</td>\n",
       "    </tr>\n",
       "  </tbody>\n",
       "</table>\n",
       "</div>"
      ],
      "text/plain": [
       "          x         y         z     depth     table     carat  cut_encoding  \\\n",
       "0  0.075022  0.133236  0.173091  0.669500  1.121874 -0.018412      0.122524   \n",
       "1  0.964007  1.019395  0.870787 -0.514957 -0.219192  0.855078     -1.051999   \n",
       "2  1.475847  1.400444  1.404319  0.321131  1.568896  1.643349      1.432828   \n",
       "3  0.317472  0.345914  0.487738  1.435914 -1.560258  0.215939      0.122524   \n",
       "4 -0.616411 -0.575691 -0.483564  0.808848  0.227830 -0.636246      0.122524   \n",
       "\n",
       "   color_encoding  clarity_encoding        cut color clarity       city  \n",
       "0       -0.342517          0.109405  Very Good     F     SI1  Amsterdam  \n",
       "1        2.001599         -0.194731      Ideal     J     VS1      Surat  \n",
       "2        0.779922          0.109405    Premium     H     SI1   Kimberly  \n",
       "3       -0.342517          0.109405  Very Good     F     SI1   Kimberly  \n",
       "4       -0.342517         -0.194731  Very Good     F     VS1  Amsterdam  "
      ]
     },
     "execution_count": 84,
     "metadata": {},
     "output_type": "execute_result"
    }
   ],
   "source": [
    "X_test=pd.merge(X_test_num_scaled, X_test_carat, left_index=True, right_index=True)\n",
    "X_test.head()"
   ]
  },
  {
   "cell_type": "code",
   "execution_count": 85,
   "id": "30860211",
   "metadata": {},
   "outputs": [
    {
     "data": {
      "text/plain": [
       "(32364, 13)"
      ]
     },
     "execution_count": 85,
     "metadata": {},
     "output_type": "execute_result"
    }
   ],
   "source": [
    "X_train.shape"
   ]
  },
  {
   "cell_type": "code",
   "execution_count": 86,
   "id": "138e739f",
   "metadata": {},
   "outputs": [
    {
     "name": "stdout",
     "output_type": "stream",
     "text": [
      "<class 'pandas.core.frame.DataFrame'>\n",
      "Int64Index: 32364 entries, 32121 to 15795\n",
      "Data columns (total 13 columns):\n",
      " #   Column            Non-Null Count  Dtype  \n",
      "---  ------            --------------  -----  \n",
      " 0   x                 32364 non-null  float64\n",
      " 1   y                 32364 non-null  float64\n",
      " 2   z                 32364 non-null  float64\n",
      " 3   depth             32364 non-null  float64\n",
      " 4   table             32364 non-null  float64\n",
      " 5   carat             32364 non-null  float64\n",
      " 6   cut               32364 non-null  int8   \n",
      " 7   color             32364 non-null  int8   \n",
      " 8   clarity           32364 non-null  int8   \n",
      " 9   city              32364 non-null  int8   \n",
      " 10  cut_encoding      32364 non-null  float64\n",
      " 11  color_encoding    32364 non-null  float64\n",
      " 12  clarity_encoding  32364 non-null  float64\n",
      "dtypes: float64(9), int8(4)\n",
      "memory usage: 2.6 MB\n"
     ]
    }
   ],
   "source": [
    "X_train.info()"
   ]
  },
  {
   "cell_type": "markdown",
   "id": "7b87eecc",
   "metadata": {},
   "source": [
    "### 6.2 Change categorical variables to code"
   ]
  },
  {
   "cell_type": "code",
   "execution_count": 87,
   "id": "6db4114d",
   "metadata": {},
   "outputs": [],
   "source": [
    "for column in cat_features_list:\n",
    "    X_test[column]=X_test[column].astype('category')\n",
    "    X_test[column]=X_test[column].cat.codes"
   ]
  },
  {
   "cell_type": "code",
   "execution_count": 88,
   "id": "a12258fe",
   "metadata": {},
   "outputs": [],
   "source": [
    "X_test = X_test[features_list_encoding]"
   ]
  },
  {
   "cell_type": "code",
   "execution_count": 89,
   "id": "37b97086",
   "metadata": {},
   "outputs": [
    {
     "data": {
      "text/html": [
       "<div>\n",
       "<style scoped>\n",
       "    .dataframe tbody tr th:only-of-type {\n",
       "        vertical-align: middle;\n",
       "    }\n",
       "\n",
       "    .dataframe tbody tr th {\n",
       "        vertical-align: top;\n",
       "    }\n",
       "\n",
       "    .dataframe thead th {\n",
       "        text-align: right;\n",
       "    }\n",
       "</style>\n",
       "<table border=\"1\" class=\"dataframe\">\n",
       "  <thead>\n",
       "    <tr style=\"text-align: right;\">\n",
       "      <th></th>\n",
       "      <th>x</th>\n",
       "      <th>y</th>\n",
       "      <th>z</th>\n",
       "      <th>depth</th>\n",
       "      <th>table</th>\n",
       "      <th>carat</th>\n",
       "      <th>cut</th>\n",
       "      <th>color</th>\n",
       "      <th>clarity</th>\n",
       "      <th>city</th>\n",
       "      <th>cut_encoding</th>\n",
       "      <th>color_encoding</th>\n",
       "      <th>clarity_encoding</th>\n",
       "    </tr>\n",
       "  </thead>\n",
       "  <tbody>\n",
       "    <tr>\n",
       "      <th>0</th>\n",
       "      <td>0.075022</td>\n",
       "      <td>0.133236</td>\n",
       "      <td>0.173091</td>\n",
       "      <td>0.669500</td>\n",
       "      <td>1.121874</td>\n",
       "      <td>-0.018412</td>\n",
       "      <td>4</td>\n",
       "      <td>2</td>\n",
       "      <td>2</td>\n",
       "      <td>0</td>\n",
       "      <td>0.122524</td>\n",
       "      <td>-0.342517</td>\n",
       "      <td>0.109405</td>\n",
       "    </tr>\n",
       "    <tr>\n",
       "      <th>1</th>\n",
       "      <td>0.964007</td>\n",
       "      <td>1.019395</td>\n",
       "      <td>0.870787</td>\n",
       "      <td>-0.514957</td>\n",
       "      <td>-0.219192</td>\n",
       "      <td>0.855078</td>\n",
       "      <td>2</td>\n",
       "      <td>6</td>\n",
       "      <td>4</td>\n",
       "      <td>10</td>\n",
       "      <td>-1.051999</td>\n",
       "      <td>2.001599</td>\n",
       "      <td>-0.194731</td>\n",
       "    </tr>\n",
       "    <tr>\n",
       "      <th>2</th>\n",
       "      <td>1.475847</td>\n",
       "      <td>1.400444</td>\n",
       "      <td>1.404319</td>\n",
       "      <td>0.321131</td>\n",
       "      <td>1.568896</td>\n",
       "      <td>1.643349</td>\n",
       "      <td>3</td>\n",
       "      <td>4</td>\n",
       "      <td>2</td>\n",
       "      <td>3</td>\n",
       "      <td>1.432828</td>\n",
       "      <td>0.779922</td>\n",
       "      <td>0.109405</td>\n",
       "    </tr>\n",
       "    <tr>\n",
       "      <th>3</th>\n",
       "      <td>0.317472</td>\n",
       "      <td>0.345914</td>\n",
       "      <td>0.487738</td>\n",
       "      <td>1.435914</td>\n",
       "      <td>-1.560258</td>\n",
       "      <td>0.215939</td>\n",
       "      <td>4</td>\n",
       "      <td>2</td>\n",
       "      <td>2</td>\n",
       "      <td>3</td>\n",
       "      <td>0.122524</td>\n",
       "      <td>-0.342517</td>\n",
       "      <td>0.109405</td>\n",
       "    </tr>\n",
       "    <tr>\n",
       "      <th>4</th>\n",
       "      <td>-0.616411</td>\n",
       "      <td>-0.575691</td>\n",
       "      <td>-0.483564</td>\n",
       "      <td>0.808848</td>\n",
       "      <td>0.227830</td>\n",
       "      <td>-0.636246</td>\n",
       "      <td>4</td>\n",
       "      <td>2</td>\n",
       "      <td>4</td>\n",
       "      <td>0</td>\n",
       "      <td>0.122524</td>\n",
       "      <td>-0.342517</td>\n",
       "      <td>-0.194731</td>\n",
       "    </tr>\n",
       "  </tbody>\n",
       "</table>\n",
       "</div>"
      ],
      "text/plain": [
       "          x         y         z     depth     table     carat  cut  color  \\\n",
       "0  0.075022  0.133236  0.173091  0.669500  1.121874 -0.018412    4      2   \n",
       "1  0.964007  1.019395  0.870787 -0.514957 -0.219192  0.855078    2      6   \n",
       "2  1.475847  1.400444  1.404319  0.321131  1.568896  1.643349    3      4   \n",
       "3  0.317472  0.345914  0.487738  1.435914 -1.560258  0.215939    4      2   \n",
       "4 -0.616411 -0.575691 -0.483564  0.808848  0.227830 -0.636246    4      2   \n",
       "\n",
       "   clarity  city  cut_encoding  color_encoding  clarity_encoding  \n",
       "0        2     0      0.122524       -0.342517          0.109405  \n",
       "1        4    10     -1.051999        2.001599         -0.194731  \n",
       "2        2     3      1.432828        0.779922          0.109405  \n",
       "3        2     3      0.122524       -0.342517          0.109405  \n",
       "4        4     0      0.122524       -0.342517         -0.194731  "
      ]
     },
     "execution_count": 89,
     "metadata": {},
     "output_type": "execute_result"
    }
   ],
   "source": [
    "X_test.head()"
   ]
  },
  {
   "cell_type": "code",
   "execution_count": 90,
   "id": "cb0abc73",
   "metadata": {},
   "outputs": [
    {
     "data": {
      "text/plain": [
       "(13485, 13)"
      ]
     },
     "execution_count": 90,
     "metadata": {},
     "output_type": "execute_result"
    }
   ],
   "source": [
    "X_test.shape"
   ]
  },
  {
   "cell_type": "code",
   "execution_count": 91,
   "id": "127d8ec7",
   "metadata": {},
   "outputs": [
    {
     "name": "stdout",
     "output_type": "stream",
     "text": [
      "<class 'pandas.core.frame.DataFrame'>\n",
      "RangeIndex: 13485 entries, 0 to 13484\n",
      "Data columns (total 13 columns):\n",
      " #   Column            Non-Null Count  Dtype  \n",
      "---  ------            --------------  -----  \n",
      " 0   x                 13485 non-null  float64\n",
      " 1   y                 13485 non-null  float64\n",
      " 2   z                 13485 non-null  float64\n",
      " 3   depth             13485 non-null  float64\n",
      " 4   table             13485 non-null  float64\n",
      " 5   carat             13485 non-null  float64\n",
      " 6   cut               13485 non-null  int8   \n",
      " 7   color             13485 non-null  int8   \n",
      " 8   clarity           13485 non-null  int8   \n",
      " 9   city              13485 non-null  int8   \n",
      " 10  cut_encoding      13485 non-null  float64\n",
      " 11  color_encoding    13485 non-null  float64\n",
      " 12  clarity_encoding  13485 non-null  float64\n",
      "dtypes: float64(9), int8(4)\n",
      "memory usage: 1001.0 KB\n"
     ]
    }
   ],
   "source": [
    "X_test.info()"
   ]
  },
  {
   "cell_type": "markdown",
   "id": "ac016dca",
   "metadata": {},
   "source": [
    "## 7. Model definition - XGBRegressor"
   ]
  },
  {
   "cell_type": "markdown",
   "id": "59fae7c9",
   "metadata": {},
   "source": [
    "RandomForestRegressor: multiple trees in paralel changing samples and convining diferrent features (overfitting when the tree is big and good to reduce error variance)"
   ]
  },
  {
   "cell_type": "markdown",
   "id": "422fc6f8",
   "metadata": {},
   "source": [
    "Main Parameters:\n",
    "   - bootstrap -> method for sampling data points (TRUE bagging and FALSE pasting, with/without replacement)\n",
    "   - n_estimators -> number of trees in the foreset\n",
    "   - max_depth -> max number of levels in each decision tree\n",
    "   - max_features -> max number of features considered for splitting a node\n",
    "   - ccp_alpha ->\n",
    "   - criterion ->\n",
    "   - max_leaf_nodes -> max number of solution nodes \n",
    "   - max_samples ->\n",
    "   - min_impurity_decrease ->\n",
    "   - min_samples_leaf -> min number of data points allowed in a leaf node\n",
    "   - min_samples_split -> min number of data points placed in a node before the node is split\n",
    "   - min_weight_fraction_leaf\n",
    "   - n_estimators -> number of trees in the foreset\n",
    "   - n_jobs \n",
    "   - oob_score \n",
    "   - random_state\n",
    "   - verbose\n",
    "   - warm_start   "
   ]
  },
  {
   "cell_type": "code",
   "execution_count": 92,
   "id": "8c90f8b4",
   "metadata": {},
   "outputs": [
    {
     "name": "stdout",
     "output_type": "stream",
     "text": [
      "<class 'xgboost.sklearn.XGBRegressor'> \n",
      "\n"
     ]
    }
   ],
   "source": [
    "# 1. XGBRegressor \n",
    "model = XGBRegressor(n_estimators=200,colsample_bylevel=1,colsample_bynode=1,\n",
    "                     colsample_bytree=0.8,reg_alpha=1, reg_lambda=1,gamma=0,learning_rate=0.1, random_state=42)\n",
    "hyperparameters = model.get_params()\n",
    "print(type(model), '\\n')"
   ]
  },
  {
   "cell_type": "markdown",
   "id": "1aaf37b1",
   "metadata": {},
   "source": [
    "## 8. Model training with validation"
   ]
  },
  {
   "cell_type": "code",
   "execution_count": 93,
   "id": "b0ec0a25",
   "metadata": {},
   "outputs": [
    {
     "name": "stdout",
     "output_type": "stream",
     "text": [
      "[0]\tvalidation_0-rmse:5050.20361\tvalidation_1-rmse:5089.46191\n",
      "[1]\tvalidation_0-rmse:4561.85986\tvalidation_1-rmse:4599.20605\n",
      "[2]\tvalidation_0-rmse:4125.37353\tvalidation_1-rmse:4160.49902\n",
      "[3]\tvalidation_0-rmse:3731.65332\tvalidation_1-rmse:3765.33496\n",
      "[4]\tvalidation_0-rmse:3378.73560\tvalidation_1-rmse:3411.42163\n",
      "[5]\tvalidation_0-rmse:3059.69751\tvalidation_1-rmse:3091.21118\n",
      "[6]\tvalidation_0-rmse:2781.38159\tvalidation_1-rmse:2810.80444\n",
      "[7]\tvalidation_0-rmse:2523.39648\tvalidation_1-rmse:2552.75732\n",
      "[8]\tvalidation_0-rmse:2295.53052\tvalidation_1-rmse:2323.95093\n",
      "[9]\tvalidation_0-rmse:2090.69482\tvalidation_1-rmse:2118.79736\n",
      "[10]\tvalidation_0-rmse:1904.92310\tvalidation_1-rmse:1932.43872\n",
      "[11]\tvalidation_0-rmse:1738.95666\tvalidation_1-rmse:1766.02600\n",
      "[12]\tvalidation_0-rmse:1590.44519\tvalidation_1-rmse:1617.73425\n",
      "[13]\tvalidation_0-rmse:1458.02942\tvalidation_1-rmse:1486.18897\n",
      "[14]\tvalidation_0-rmse:1340.17981\tvalidation_1-rmse:1368.77698\n",
      "[15]\tvalidation_0-rmse:1235.43701\tvalidation_1-rmse:1263.81348\n",
      "[16]\tvalidation_0-rmse:1141.74817\tvalidation_1-rmse:1171.64185\n",
      "[17]\tvalidation_0-rmse:1058.80530\tvalidation_1-rmse:1089.92297\n",
      "[18]\tvalidation_0-rmse:986.43567\tvalidation_1-rmse:1018.47552\n",
      "[19]\tvalidation_0-rmse:924.13391\tvalidation_1-rmse:956.28015\n",
      "[20]\tvalidation_0-rmse:870.16638\tvalidation_1-rmse:903.14770\n",
      "[21]\tvalidation_0-rmse:820.37463\tvalidation_1-rmse:854.27313\n",
      "[22]\tvalidation_0-rmse:777.21503\tvalidation_1-rmse:812.57849\n",
      "[23]\tvalidation_0-rmse:739.03137\tvalidation_1-rmse:774.72461\n",
      "[24]\tvalidation_0-rmse:705.89996\tvalidation_1-rmse:742.89410\n",
      "[25]\tvalidation_0-rmse:676.61749\tvalidation_1-rmse:714.98761\n",
      "[26]\tvalidation_0-rmse:651.45136\tvalidation_1-rmse:691.48083\n",
      "[27]\tvalidation_0-rmse:630.56354\tvalidation_1-rmse:670.98035\n",
      "[28]\tvalidation_0-rmse:612.43390\tvalidation_1-rmse:653.15808\n",
      "[29]\tvalidation_0-rmse:595.72522\tvalidation_1-rmse:638.28644\n",
      "[30]\tvalidation_0-rmse:582.13312\tvalidation_1-rmse:624.87476\n",
      "[31]\tvalidation_0-rmse:570.68781\tvalidation_1-rmse:614.09100\n",
      "[32]\tvalidation_0-rmse:560.09045\tvalidation_1-rmse:603.73920\n",
      "[33]\tvalidation_0-rmse:550.64032\tvalidation_1-rmse:594.66913\n",
      "[34]\tvalidation_0-rmse:542.86469\tvalidation_1-rmse:587.17822\n",
      "[35]\tvalidation_0-rmse:536.22986\tvalidation_1-rmse:581.61438\n",
      "[36]\tvalidation_0-rmse:529.96008\tvalidation_1-rmse:576.89893\n",
      "[37]\tvalidation_0-rmse:524.30286\tvalidation_1-rmse:571.87311\n",
      "[38]\tvalidation_0-rmse:519.16724\tvalidation_1-rmse:567.58258\n",
      "[39]\tvalidation_0-rmse:515.24676\tvalidation_1-rmse:564.13605\n",
      "[40]\tvalidation_0-rmse:511.35013\tvalidation_1-rmse:560.98816\n",
      "[41]\tvalidation_0-rmse:507.91773\tvalidation_1-rmse:557.57410\n",
      "[42]\tvalidation_0-rmse:504.95578\tvalidation_1-rmse:555.57349\n",
      "[43]\tvalidation_0-rmse:501.92395\tvalidation_1-rmse:552.82550\n",
      "[44]\tvalidation_0-rmse:499.32761\tvalidation_1-rmse:550.48175\n",
      "[45]\tvalidation_0-rmse:497.19873\tvalidation_1-rmse:549.27399\n",
      "[46]\tvalidation_0-rmse:494.83997\tvalidation_1-rmse:547.74811\n",
      "[47]\tvalidation_0-rmse:493.15753\tvalidation_1-rmse:546.43543\n",
      "[48]\tvalidation_0-rmse:490.66403\tvalidation_1-rmse:544.75336\n",
      "[49]\tvalidation_0-rmse:488.70926\tvalidation_1-rmse:544.32764\n",
      "[50]\tvalidation_0-rmse:487.18207\tvalidation_1-rmse:543.03546\n",
      "[51]\tvalidation_0-rmse:485.74548\tvalidation_1-rmse:542.11035\n",
      "[52]\tvalidation_0-rmse:484.34219\tvalidation_1-rmse:541.21704\n",
      "[53]\tvalidation_0-rmse:483.16534\tvalidation_1-rmse:540.34204\n",
      "[54]\tvalidation_0-rmse:482.10843\tvalidation_1-rmse:539.68512\n",
      "[55]\tvalidation_0-rmse:480.61401\tvalidation_1-rmse:538.60461\n",
      "[56]\tvalidation_0-rmse:479.31000\tvalidation_1-rmse:537.95306\n",
      "[57]\tvalidation_0-rmse:478.05759\tvalidation_1-rmse:537.00348\n",
      "[58]\tvalidation_0-rmse:476.53375\tvalidation_1-rmse:536.26538\n",
      "[59]\tvalidation_0-rmse:475.15146\tvalidation_1-rmse:535.70612\n",
      "[60]\tvalidation_0-rmse:473.35877\tvalidation_1-rmse:534.91724\n",
      "[61]\tvalidation_0-rmse:471.31610\tvalidation_1-rmse:534.58875\n",
      "[62]\tvalidation_0-rmse:470.02298\tvalidation_1-rmse:534.61725\n",
      "[63]\tvalidation_0-rmse:468.48611\tvalidation_1-rmse:533.86255\n",
      "[64]\tvalidation_0-rmse:467.45944\tvalidation_1-rmse:533.44391\n",
      "[65]\tvalidation_0-rmse:466.46835\tvalidation_1-rmse:532.98444\n",
      "[66]\tvalidation_0-rmse:465.55557\tvalidation_1-rmse:532.37653\n",
      "[67]\tvalidation_0-rmse:464.91174\tvalidation_1-rmse:532.31567\n",
      "[68]\tvalidation_0-rmse:463.90872\tvalidation_1-rmse:532.17474\n",
      "[69]\tvalidation_0-rmse:463.07733\tvalidation_1-rmse:531.66888\n",
      "[70]\tvalidation_0-rmse:462.36557\tvalidation_1-rmse:531.28699\n",
      "[71]\tvalidation_0-rmse:460.87103\tvalidation_1-rmse:530.78320\n",
      "[72]\tvalidation_0-rmse:460.23538\tvalidation_1-rmse:530.69513\n",
      "[73]\tvalidation_0-rmse:459.22662\tvalidation_1-rmse:530.56140\n",
      "[74]\tvalidation_0-rmse:457.61044\tvalidation_1-rmse:529.79773\n",
      "[75]\tvalidation_0-rmse:456.43912\tvalidation_1-rmse:529.52832\n",
      "[76]\tvalidation_0-rmse:455.39947\tvalidation_1-rmse:529.43378\n",
      "[77]\tvalidation_0-rmse:453.88303\tvalidation_1-rmse:529.44464\n",
      "[78]\tvalidation_0-rmse:453.04691\tvalidation_1-rmse:529.27606\n",
      "[79]\tvalidation_0-rmse:452.22638\tvalidation_1-rmse:529.14453\n",
      "[80]\tvalidation_0-rmse:450.58279\tvalidation_1-rmse:528.83984\n",
      "[81]\tvalidation_0-rmse:450.15271\tvalidation_1-rmse:528.68237\n",
      "[82]\tvalidation_0-rmse:448.60458\tvalidation_1-rmse:528.76453\n",
      "[83]\tvalidation_0-rmse:447.48550\tvalidation_1-rmse:528.65772\n",
      "[84]\tvalidation_0-rmse:446.17123\tvalidation_1-rmse:529.03094\n",
      "[85]\tvalidation_0-rmse:444.87985\tvalidation_1-rmse:529.42755\n",
      "[86]\tvalidation_0-rmse:444.41644\tvalidation_1-rmse:529.36505\n",
      "[87]\tvalidation_0-rmse:442.79648\tvalidation_1-rmse:529.83081\n",
      "[88]\tvalidation_0-rmse:441.72900\tvalidation_1-rmse:530.08478\n",
      "[89]\tvalidation_0-rmse:440.36032\tvalidation_1-rmse:530.27826\n",
      "[90]\tvalidation_0-rmse:439.75324\tvalidation_1-rmse:530.34485\n",
      "[91]\tvalidation_0-rmse:439.10153\tvalidation_1-rmse:530.49145\n",
      "[92]\tvalidation_0-rmse:438.17279\tvalidation_1-rmse:530.49323\n",
      "[93]\tvalidation_0-rmse:437.60590\tvalidation_1-rmse:530.35022\n",
      "[94]\tvalidation_0-rmse:436.41000\tvalidation_1-rmse:530.58594\n",
      "[95]\tvalidation_0-rmse:435.74264\tvalidation_1-rmse:530.56128\n",
      "[96]\tvalidation_0-rmse:434.39600\tvalidation_1-rmse:530.26538\n",
      "[97]\tvalidation_0-rmse:434.27014\tvalidation_1-rmse:530.17120\n",
      "[98]\tvalidation_0-rmse:433.79446\tvalidation_1-rmse:530.13953\n",
      "[99]\tvalidation_0-rmse:433.08099\tvalidation_1-rmse:530.38055\n",
      "[100]\tvalidation_0-rmse:432.49417\tvalidation_1-rmse:530.19855\n",
      "[101]\tvalidation_0-rmse:431.53674\tvalidation_1-rmse:529.95447\n",
      "[102]\tvalidation_0-rmse:430.90418\tvalidation_1-rmse:530.16309\n",
      "[103]\tvalidation_0-rmse:430.01627\tvalidation_1-rmse:530.32165\n",
      "[104]\tvalidation_0-rmse:429.87695\tvalidation_1-rmse:530.27362\n",
      "[105]\tvalidation_0-rmse:429.46726\tvalidation_1-rmse:530.64594\n",
      "[106]\tvalidation_0-rmse:428.96826\tvalidation_1-rmse:530.44025\n",
      "[107]\tvalidation_0-rmse:428.35525\tvalidation_1-rmse:530.30878\n",
      "[108]\tvalidation_0-rmse:427.64062\tvalidation_1-rmse:530.11749\n",
      "[109]\tvalidation_0-rmse:426.68848\tvalidation_1-rmse:530.16443\n",
      "[110]\tvalidation_0-rmse:425.94061\tvalidation_1-rmse:530.10303\n",
      "[111]\tvalidation_0-rmse:424.68201\tvalidation_1-rmse:530.05615\n",
      "[112]\tvalidation_0-rmse:423.25269\tvalidation_1-rmse:529.81201\n",
      "[113]\tvalidation_0-rmse:422.79581\tvalidation_1-rmse:529.74029\n",
      "[114]\tvalidation_0-rmse:421.97626\tvalidation_1-rmse:529.63849\n",
      "[115]\tvalidation_0-rmse:421.87680\tvalidation_1-rmse:529.70227\n",
      "[116]\tvalidation_0-rmse:421.27539\tvalidation_1-rmse:529.51416\n",
      "[117]\tvalidation_0-rmse:420.75970\tvalidation_1-rmse:529.33221\n",
      "[118]\tvalidation_0-rmse:419.74799\tvalidation_1-rmse:529.54523\n",
      "[119]\tvalidation_0-rmse:419.58939\tvalidation_1-rmse:529.49719\n",
      "[120]\tvalidation_0-rmse:419.51715\tvalidation_1-rmse:529.44659\n",
      "[121]\tvalidation_0-rmse:418.78046\tvalidation_1-rmse:529.43518\n",
      "[122]\tvalidation_0-rmse:418.67148\tvalidation_1-rmse:529.37909\n",
      "CPU times: user 9.2 s, sys: 471 ms, total: 9.67 s\n",
      "Wall time: 1.7 s\n"
     ]
    },
    {
     "data": {
      "text/plain": [
       "XGBRegressor(base_score=0.5, booster='gbtree', colsample_bylevel=1,\n",
       "             colsample_bynode=1, colsample_bytree=0.8, enable_categorical=False,\n",
       "             gamma=0, gpu_id=-1, importance_type=None,\n",
       "             interaction_constraints='', learning_rate=0.1, max_delta_step=0,\n",
       "             max_depth=6, min_child_weight=1, missing=nan,\n",
       "             monotone_constraints='()', n_estimators=200, n_jobs=8,\n",
       "             num_parallel_tree=1, predictor='auto', random_state=42,\n",
       "             reg_alpha=1, reg_lambda=1, scale_pos_weight=1, subsample=1,\n",
       "             tree_method='exact', validate_parameters=1, verbosity=None)"
      ]
     },
     "execution_count": 93,
     "metadata": {},
     "output_type": "execute_result"
    }
   ],
   "source": [
    "%%time\n",
    "# Model training\n",
    "model.fit(X_train, y_train,eval_set=[(X_train,y_train),(X_val,y_val)],early_stopping_rounds=40)"
   ]
  },
  {
   "cell_type": "code",
   "execution_count": 94,
   "id": "114ebca5",
   "metadata": {},
   "outputs": [
    {
     "name": "stdout",
     "output_type": "stream",
     "text": [
      "CPU times: user 44.6 ms, sys: 3.23 ms, total: 47.9 ms\n",
      "Wall time: 9.09 ms\n"
     ]
    }
   ],
   "source": [
    "%%time\n",
    "# Model predictions\n",
    "y_pred_val = model.predict(X_val)"
   ]
  },
  {
   "cell_type": "code",
   "execution_count": 95,
   "id": "653dbd7f",
   "metadata": {},
   "outputs": [
    {
     "name": "stdout",
     "output_type": "stream",
     "text": [
      "CPU times: user 116 ms, sys: 3.16 ms, total: 119 ms\n",
      "Wall time: 22.9 ms\n"
     ]
    }
   ],
   "source": [
    "%%time\n",
    "# Model predictions\n",
    "y_pred_train = model.predict(X_train)"
   ]
  },
  {
   "cell_type": "markdown",
   "id": "9d6b94a3",
   "metadata": {},
   "source": [
    "## 9. Training set error"
   ]
  },
  {
   "cell_type": "code",
   "execution_count": 96,
   "id": "a88fcb5b",
   "metadata": {},
   "outputs": [
    {
     "data": {
      "text/plain": [
       "447.4857359017463"
      ]
     },
     "execution_count": 96,
     "metadata": {},
     "output_type": "execute_result"
    }
   ],
   "source": [
    "# Model predictions\n",
    "rmse_train = mean_squared_error(y_train, y_pred_train)**0.5\n",
    "rmse_train"
   ]
  },
  {
   "cell_type": "code",
   "execution_count": 97,
   "id": "cb7a3f86",
   "metadata": {},
   "outputs": [
    {
     "data": {
      "text/plain": [
       "247.18925707379432"
      ]
     },
     "execution_count": 97,
     "metadata": {},
     "output_type": "execute_result"
    }
   ],
   "source": [
    "mae_train=mean_absolute_error(y_train, y_pred_train)\n",
    "mae_train"
   ]
  },
  {
   "cell_type": "code",
   "execution_count": 98,
   "id": "d1b6a927",
   "metadata": {},
   "outputs": [
    {
     "data": {
      "text/plain": [
       "0.9828380390491122"
      ]
     },
     "execution_count": 98,
     "metadata": {},
     "output_type": "execute_result"
    }
   ],
   "source": [
    "r2r = r2_score(y_val, y_pred_val)\n",
    "r2r"
   ]
  },
  {
   "cell_type": "markdown",
   "id": "2bfd4334",
   "metadata": {},
   "source": [
    "## 9. Validation set error"
   ]
  },
  {
   "cell_type": "code",
   "execution_count": 99,
   "id": "589c945e",
   "metadata": {},
   "outputs": [
    {
     "data": {
      "text/plain": [
       "528.6577610863301"
      ]
     },
     "execution_count": 99,
     "metadata": {},
     "output_type": "execute_result"
    }
   ],
   "source": [
    "#432\n",
    "rmse_val = mean_squared_error(y_val, y_pred_val)**0.5\n",
    "rmse_val"
   ]
  },
  {
   "cell_type": "code",
   "execution_count": 100,
   "id": "2cc1fbe1",
   "metadata": {},
   "outputs": [
    {
     "data": {
      "text/plain": [
       "276.8615789982757"
      ]
     },
     "execution_count": 100,
     "metadata": {},
     "output_type": "execute_result"
    }
   ],
   "source": [
    "mae_val=mean_absolute_error(y_val, y_pred_val)\n",
    "mae_val"
   ]
  },
  {
   "cell_type": "code",
   "execution_count": 101,
   "id": "e4b6f7bf",
   "metadata": {},
   "outputs": [
    {
     "data": {
      "text/plain": [
       "0.9828380390491122"
      ]
     },
     "execution_count": 101,
     "metadata": {},
     "output_type": "execute_result"
    }
   ],
   "source": [
    "r2r = r2_score(y_val, y_pred_val)\n",
    "r2r"
   ]
  },
  {
   "cell_type": "markdown",
   "id": "46e824c3",
   "metadata": {},
   "source": [
    "## 10. Model training without validation"
   ]
  },
  {
   "cell_type": "code",
   "execution_count": 102,
   "id": "0761fd7d",
   "metadata": {},
   "outputs": [
    {
     "name": "stdout",
     "output_type": "stream",
     "text": [
      "[0]\tvalidation_0-rmse:5050.02051\tvalidation_1-rmse:5086.54346\n",
      "[1]\tvalidation_0-rmse:4560.79883\tvalidation_1-rmse:4596.78564\n",
      "[2]\tvalidation_0-rmse:4124.03711\tvalidation_1-rmse:4157.51758\n",
      "[3]\tvalidation_0-rmse:3729.29858\tvalidation_1-rmse:3761.69580\n",
      "[4]\tvalidation_0-rmse:3374.62305\tvalidation_1-rmse:3406.22314\n",
      "[5]\tvalidation_0-rmse:3055.26245\tvalidation_1-rmse:3086.02002\n",
      "[6]\tvalidation_0-rmse:2776.91675\tvalidation_1-rmse:2804.64111\n",
      "[7]\tvalidation_0-rmse:2518.89331\tvalidation_1-rmse:2545.64551\n",
      "[8]\tvalidation_0-rmse:2289.88916\tvalidation_1-rmse:2313.61377\n",
      "[9]\tvalidation_0-rmse:2086.11768\tvalidation_1-rmse:2108.48804\n",
      "[10]\tvalidation_0-rmse:1900.31494\tvalidation_1-rmse:1921.19141\n",
      "[11]\tvalidation_0-rmse:1734.93152\tvalidation_1-rmse:1753.57800\n",
      "[12]\tvalidation_0-rmse:1587.10584\tvalidation_1-rmse:1605.68176\n",
      "[13]\tvalidation_0-rmse:1454.63806\tvalidation_1-rmse:1473.25513\n",
      "[14]\tvalidation_0-rmse:1337.58752\tvalidation_1-rmse:1355.24036\n",
      "[15]\tvalidation_0-rmse:1233.05481\tvalidation_1-rmse:1250.19080\n",
      "[16]\tvalidation_0-rmse:1139.65149\tvalidation_1-rmse:1155.43726\n",
      "[17]\tvalidation_0-rmse:1058.36877\tvalidation_1-rmse:1072.78149\n",
      "[18]\tvalidation_0-rmse:986.60693\tvalidation_1-rmse:999.79053\n",
      "[19]\tvalidation_0-rmse:923.93158\tvalidation_1-rmse:936.28497\n",
      "[20]\tvalidation_0-rmse:870.47522\tvalidation_1-rmse:881.77026\n",
      "[21]\tvalidation_0-rmse:821.34613\tvalidation_1-rmse:831.96350\n",
      "[22]\tvalidation_0-rmse:777.56415\tvalidation_1-rmse:787.67786\n",
      "[23]\tvalidation_0-rmse:740.29840\tvalidation_1-rmse:749.60126\n",
      "[24]\tvalidation_0-rmse:707.32251\tvalidation_1-rmse:715.45343\n",
      "[25]\tvalidation_0-rmse:679.29358\tvalidation_1-rmse:686.19110\n",
      "[26]\tvalidation_0-rmse:654.02203\tvalidation_1-rmse:660.90295\n",
      "[27]\tvalidation_0-rmse:632.96979\tvalidation_1-rmse:638.86621\n",
      "[28]\tvalidation_0-rmse:615.49347\tvalidation_1-rmse:620.27094\n",
      "[29]\tvalidation_0-rmse:599.85217\tvalidation_1-rmse:603.94244\n",
      "[30]\tvalidation_0-rmse:585.89941\tvalidation_1-rmse:589.09210\n",
      "[31]\tvalidation_0-rmse:574.08582\tvalidation_1-rmse:576.74799\n",
      "[32]\tvalidation_0-rmse:563.43451\tvalidation_1-rmse:566.09699\n",
      "[33]\tvalidation_0-rmse:554.77234\tvalidation_1-rmse:556.86938\n",
      "[34]\tvalidation_0-rmse:546.74933\tvalidation_1-rmse:548.70429\n",
      "[35]\tvalidation_0-rmse:540.26971\tvalidation_1-rmse:541.99921\n",
      "[36]\tvalidation_0-rmse:535.06946\tvalidation_1-rmse:536.30096\n",
      "[37]\tvalidation_0-rmse:529.61108\tvalidation_1-rmse:530.93799\n",
      "[38]\tvalidation_0-rmse:525.44336\tvalidation_1-rmse:525.96698\n",
      "[39]\tvalidation_0-rmse:521.36456\tvalidation_1-rmse:522.28876\n",
      "[40]\tvalidation_0-rmse:517.82043\tvalidation_1-rmse:518.39154\n",
      "[41]\tvalidation_0-rmse:514.70361\tvalidation_1-rmse:515.01703\n",
      "[42]\tvalidation_0-rmse:511.69666\tvalidation_1-rmse:511.98474\n",
      "[43]\tvalidation_0-rmse:509.33227\tvalidation_1-rmse:509.30521\n",
      "[44]\tvalidation_0-rmse:506.90524\tvalidation_1-rmse:506.59344\n",
      "[45]\tvalidation_0-rmse:504.52264\tvalidation_1-rmse:504.19397\n",
      "[46]\tvalidation_0-rmse:502.40634\tvalidation_1-rmse:501.93823\n",
      "[47]\tvalidation_0-rmse:500.51895\tvalidation_1-rmse:499.96646\n",
      "[48]\tvalidation_0-rmse:498.48657\tvalidation_1-rmse:497.68927\n",
      "[49]\tvalidation_0-rmse:496.36545\tvalidation_1-rmse:495.81808\n",
      "[50]\tvalidation_0-rmse:494.83890\tvalidation_1-rmse:493.90814\n",
      "[51]\tvalidation_0-rmse:492.76416\tvalidation_1-rmse:492.11264\n",
      "[52]\tvalidation_0-rmse:490.84409\tvalidation_1-rmse:490.59232\n",
      "[53]\tvalidation_0-rmse:489.94638\tvalidation_1-rmse:489.67596\n",
      "[54]\tvalidation_0-rmse:488.21619\tvalidation_1-rmse:488.50171\n",
      "[55]\tvalidation_0-rmse:485.76355\tvalidation_1-rmse:486.32709\n",
      "[56]\tvalidation_0-rmse:484.50806\tvalidation_1-rmse:485.15149\n",
      "[57]\tvalidation_0-rmse:483.55179\tvalidation_1-rmse:484.41949\n",
      "[58]\tvalidation_0-rmse:481.96585\tvalidation_1-rmse:482.79993\n",
      "[59]\tvalidation_0-rmse:480.92444\tvalidation_1-rmse:481.48425\n",
      "[60]\tvalidation_0-rmse:479.71362\tvalidation_1-rmse:480.64627\n",
      "[61]\tvalidation_0-rmse:477.94437\tvalidation_1-rmse:479.02152\n",
      "[62]\tvalidation_0-rmse:477.04904\tvalidation_1-rmse:478.22147\n",
      "[63]\tvalidation_0-rmse:475.23877\tvalidation_1-rmse:476.51944\n",
      "[64]\tvalidation_0-rmse:474.41153\tvalidation_1-rmse:475.66812\n",
      "[65]\tvalidation_0-rmse:473.17627\tvalidation_1-rmse:474.35062\n",
      "[66]\tvalidation_0-rmse:472.14114\tvalidation_1-rmse:472.94299\n",
      "[67]\tvalidation_0-rmse:471.50272\tvalidation_1-rmse:472.40366\n",
      "[68]\tvalidation_0-rmse:470.45319\tvalidation_1-rmse:471.55890\n",
      "[69]\tvalidation_0-rmse:469.77359\tvalidation_1-rmse:470.66049\n",
      "[70]\tvalidation_0-rmse:467.92252\tvalidation_1-rmse:468.15793\n",
      "[71]\tvalidation_0-rmse:466.90469\tvalidation_1-rmse:467.33942\n",
      "[72]\tvalidation_0-rmse:466.09900\tvalidation_1-rmse:466.10428\n",
      "[73]\tvalidation_0-rmse:465.45209\tvalidation_1-rmse:465.19513\n",
      "[74]\tvalidation_0-rmse:463.99194\tvalidation_1-rmse:463.35190\n",
      "[75]\tvalidation_0-rmse:462.69034\tvalidation_1-rmse:461.88464\n",
      "[76]\tvalidation_0-rmse:461.42184\tvalidation_1-rmse:460.94196\n",
      "[77]\tvalidation_0-rmse:459.84210\tvalidation_1-rmse:459.26608\n",
      "[78]\tvalidation_0-rmse:459.12372\tvalidation_1-rmse:458.60016\n",
      "[79]\tvalidation_0-rmse:458.52850\tvalidation_1-rmse:458.15137\n",
      "[80]\tvalidation_0-rmse:457.60525\tvalidation_1-rmse:457.48554\n",
      "[81]\tvalidation_0-rmse:456.76556\tvalidation_1-rmse:456.65039\n",
      "[82]\tvalidation_0-rmse:455.50049\tvalidation_1-rmse:455.31277\n",
      "[83]\tvalidation_0-rmse:454.75357\tvalidation_1-rmse:454.54721\n",
      "[84]\tvalidation_0-rmse:453.63388\tvalidation_1-rmse:453.56381\n",
      "[85]\tvalidation_0-rmse:453.27508\tvalidation_1-rmse:453.21307\n",
      "[86]\tvalidation_0-rmse:452.00610\tvalidation_1-rmse:451.32236\n",
      "[87]\tvalidation_0-rmse:451.53140\tvalidation_1-rmse:450.77625\n",
      "[88]\tvalidation_0-rmse:450.30795\tvalidation_1-rmse:449.71732\n",
      "[89]\tvalidation_0-rmse:449.98813\tvalidation_1-rmse:449.37976\n",
      "[90]\tvalidation_0-rmse:449.42743\tvalidation_1-rmse:448.87711\n",
      "[91]\tvalidation_0-rmse:448.82535\tvalidation_1-rmse:448.18387\n",
      "[92]\tvalidation_0-rmse:448.72812\tvalidation_1-rmse:448.09238\n",
      "[93]\tvalidation_0-rmse:448.07278\tvalidation_1-rmse:447.44784\n",
      "[94]\tvalidation_0-rmse:447.82352\tvalidation_1-rmse:447.15918\n",
      "[95]\tvalidation_0-rmse:447.10889\tvalidation_1-rmse:445.98456\n",
      "[96]\tvalidation_0-rmse:446.34259\tvalidation_1-rmse:445.23068\n",
      "[97]\tvalidation_0-rmse:445.18161\tvalidation_1-rmse:444.48025\n",
      "[98]\tvalidation_0-rmse:444.14914\tvalidation_1-rmse:443.32248\n",
      "[99]\tvalidation_0-rmse:443.81433\tvalidation_1-rmse:443.07321\n",
      "[100]\tvalidation_0-rmse:443.61993\tvalidation_1-rmse:442.85025\n",
      "[101]\tvalidation_0-rmse:443.34216\tvalidation_1-rmse:442.48581\n",
      "[102]\tvalidation_0-rmse:443.27017\tvalidation_1-rmse:442.41727\n",
      "[103]\tvalidation_0-rmse:443.02362\tvalidation_1-rmse:441.92999\n",
      "[104]\tvalidation_0-rmse:441.87341\tvalidation_1-rmse:441.05066\n",
      "[105]\tvalidation_0-rmse:441.64279\tvalidation_1-rmse:440.80930\n",
      "[106]\tvalidation_0-rmse:441.05948\tvalidation_1-rmse:440.28119\n",
      "[107]\tvalidation_0-rmse:440.18848\tvalidation_1-rmse:439.49103\n",
      "[108]\tvalidation_0-rmse:439.43189\tvalidation_1-rmse:438.79660\n",
      "[109]\tvalidation_0-rmse:439.03079\tvalidation_1-rmse:438.44644\n",
      "[110]\tvalidation_0-rmse:438.61279\tvalidation_1-rmse:437.91827\n",
      "[111]\tvalidation_0-rmse:437.29709\tvalidation_1-rmse:437.06476\n",
      "[112]\tvalidation_0-rmse:436.77310\tvalidation_1-rmse:436.48840\n",
      "[113]\tvalidation_0-rmse:436.48599\tvalidation_1-rmse:436.31839\n",
      "[114]\tvalidation_0-rmse:435.32437\tvalidation_1-rmse:434.93564\n",
      "[115]\tvalidation_0-rmse:434.25217\tvalidation_1-rmse:433.17169\n",
      "[116]\tvalidation_0-rmse:433.71490\tvalidation_1-rmse:432.82571\n",
      "[117]\tvalidation_0-rmse:432.76819\tvalidation_1-rmse:431.70987\n",
      "[118]\tvalidation_0-rmse:432.48251\tvalidation_1-rmse:431.25354\n",
      "[119]\tvalidation_0-rmse:432.29736\tvalidation_1-rmse:431.09946\n",
      "[120]\tvalidation_0-rmse:431.14835\tvalidation_1-rmse:430.38711\n",
      "[121]\tvalidation_0-rmse:430.88440\tvalidation_1-rmse:430.09836\n",
      "[122]\tvalidation_0-rmse:430.49863\tvalidation_1-rmse:429.75830\n",
      "[123]\tvalidation_0-rmse:429.33377\tvalidation_1-rmse:428.66516\n",
      "[124]\tvalidation_0-rmse:428.40515\tvalidation_1-rmse:427.73264\n",
      "[125]\tvalidation_0-rmse:427.09314\tvalidation_1-rmse:426.44083\n",
      "[126]\tvalidation_0-rmse:426.31305\tvalidation_1-rmse:425.77508\n",
      "[127]\tvalidation_0-rmse:425.53064\tvalidation_1-rmse:425.11731\n",
      "[128]\tvalidation_0-rmse:424.86810\tvalidation_1-rmse:424.64935\n",
      "[129]\tvalidation_0-rmse:424.29886\tvalidation_1-rmse:424.35919\n",
      "[130]\tvalidation_0-rmse:423.08969\tvalidation_1-rmse:423.37567\n",
      "[131]\tvalidation_0-rmse:422.73379\tvalidation_1-rmse:423.20825\n",
      "[132]\tvalidation_0-rmse:422.63055\tvalidation_1-rmse:423.12021\n",
      "[133]\tvalidation_0-rmse:422.57385\tvalidation_1-rmse:423.06467\n"
     ]
    },
    {
     "name": "stdout",
     "output_type": "stream",
     "text": [
      "[134]\tvalidation_0-rmse:422.11838\tvalidation_1-rmse:422.50534\n",
      "[135]\tvalidation_0-rmse:422.06284\tvalidation_1-rmse:422.40808\n",
      "[136]\tvalidation_0-rmse:421.78479\tvalidation_1-rmse:422.28607\n",
      "[137]\tvalidation_0-rmse:420.96139\tvalidation_1-rmse:422.02811\n",
      "[138]\tvalidation_0-rmse:420.36871\tvalidation_1-rmse:421.57956\n",
      "[139]\tvalidation_0-rmse:420.28583\tvalidation_1-rmse:421.47900\n",
      "[140]\tvalidation_0-rmse:419.96643\tvalidation_1-rmse:421.20959\n",
      "[141]\tvalidation_0-rmse:419.70294\tvalidation_1-rmse:420.93365\n",
      "[142]\tvalidation_0-rmse:419.43716\tvalidation_1-rmse:420.83466\n",
      "[143]\tvalidation_0-rmse:418.68454\tvalidation_1-rmse:420.27155\n",
      "[144]\tvalidation_0-rmse:418.22919\tvalidation_1-rmse:420.05045\n",
      "[145]\tvalidation_0-rmse:417.44641\tvalidation_1-rmse:419.29245\n",
      "[146]\tvalidation_0-rmse:416.70544\tvalidation_1-rmse:418.66391\n",
      "[147]\tvalidation_0-rmse:416.65277\tvalidation_1-rmse:418.61050\n",
      "[148]\tvalidation_0-rmse:415.80582\tvalidation_1-rmse:417.93521\n",
      "[149]\tvalidation_0-rmse:415.26651\tvalidation_1-rmse:417.40268\n",
      "[150]\tvalidation_0-rmse:415.02130\tvalidation_1-rmse:417.18942\n",
      "[151]\tvalidation_0-rmse:414.34442\tvalidation_1-rmse:416.53891\n",
      "[152]\tvalidation_0-rmse:413.59589\tvalidation_1-rmse:415.52570\n",
      "[153]\tvalidation_0-rmse:413.56448\tvalidation_1-rmse:415.46161\n",
      "[154]\tvalidation_0-rmse:413.53674\tvalidation_1-rmse:415.40567\n",
      "[155]\tvalidation_0-rmse:413.46204\tvalidation_1-rmse:415.32977\n",
      "[156]\tvalidation_0-rmse:412.38254\tvalidation_1-rmse:414.39758\n",
      "[157]\tvalidation_0-rmse:411.52441\tvalidation_1-rmse:413.60797\n",
      "[158]\tvalidation_0-rmse:411.40060\tvalidation_1-rmse:413.47684\n",
      "[159]\tvalidation_0-rmse:410.71497\tvalidation_1-rmse:412.95090\n",
      "[160]\tvalidation_0-rmse:410.10254\tvalidation_1-rmse:412.41910\n",
      "[161]\tvalidation_0-rmse:409.43262\tvalidation_1-rmse:411.75861\n",
      "[162]\tvalidation_0-rmse:408.99759\tvalidation_1-rmse:411.23874\n",
      "[163]\tvalidation_0-rmse:408.98221\tvalidation_1-rmse:411.21069\n",
      "[164]\tvalidation_0-rmse:408.96881\tvalidation_1-rmse:411.18646\n",
      "[165]\tvalidation_0-rmse:408.54279\tvalidation_1-rmse:410.74832\n",
      "[166]\tvalidation_0-rmse:407.74927\tvalidation_1-rmse:409.66061\n",
      "[167]\tvalidation_0-rmse:407.08514\tvalidation_1-rmse:408.61868\n",
      "[168]\tvalidation_0-rmse:406.87021\tvalidation_1-rmse:408.37543\n",
      "[169]\tvalidation_0-rmse:406.09985\tvalidation_1-rmse:407.73694\n",
      "[170]\tvalidation_0-rmse:405.99686\tvalidation_1-rmse:407.62869\n",
      "[171]\tvalidation_0-rmse:405.55228\tvalidation_1-rmse:407.13495\n",
      "[172]\tvalidation_0-rmse:404.92273\tvalidation_1-rmse:406.53076\n",
      "[173]\tvalidation_0-rmse:404.31973\tvalidation_1-rmse:405.92395\n",
      "[174]\tvalidation_0-rmse:403.92371\tvalidation_1-rmse:405.36169\n",
      "[175]\tvalidation_0-rmse:403.64877\tvalidation_1-rmse:405.12076\n",
      "[176]\tvalidation_0-rmse:403.51419\tvalidation_1-rmse:404.96906\n",
      "[177]\tvalidation_0-rmse:403.41394\tvalidation_1-rmse:404.89328\n",
      "[178]\tvalidation_0-rmse:403.31390\tvalidation_1-rmse:404.84357\n",
      "[179]\tvalidation_0-rmse:402.68835\tvalidation_1-rmse:404.32272\n",
      "[180]\tvalidation_0-rmse:402.03998\tvalidation_1-rmse:403.99527\n",
      "[181]\tvalidation_0-rmse:401.97879\tvalidation_1-rmse:403.92810\n",
      "[182]\tvalidation_0-rmse:401.87546\tvalidation_1-rmse:403.80109\n",
      "[183]\tvalidation_0-rmse:401.16272\tvalidation_1-rmse:403.31729\n",
      "[184]\tvalidation_0-rmse:400.95734\tvalidation_1-rmse:402.99573\n",
      "[185]\tvalidation_0-rmse:400.33270\tvalidation_1-rmse:402.12662\n",
      "[186]\tvalidation_0-rmse:400.06833\tvalidation_1-rmse:401.87247\n",
      "[187]\tvalidation_0-rmse:399.10794\tvalidation_1-rmse:401.13489\n",
      "[188]\tvalidation_0-rmse:398.88144\tvalidation_1-rmse:400.93466\n",
      "[189]\tvalidation_0-rmse:398.85226\tvalidation_1-rmse:400.89395\n",
      "[190]\tvalidation_0-rmse:398.30817\tvalidation_1-rmse:400.53061\n",
      "[191]\tvalidation_0-rmse:397.39874\tvalidation_1-rmse:399.73883\n",
      "[192]\tvalidation_0-rmse:396.79025\tvalidation_1-rmse:399.16150\n",
      "[193]\tvalidation_0-rmse:396.55762\tvalidation_1-rmse:398.95221\n",
      "[194]\tvalidation_0-rmse:396.28815\tvalidation_1-rmse:398.69934\n",
      "[195]\tvalidation_0-rmse:395.95636\tvalidation_1-rmse:398.46527\n",
      "[196]\tvalidation_0-rmse:395.79596\tvalidation_1-rmse:398.28983\n",
      "[197]\tvalidation_0-rmse:395.32281\tvalidation_1-rmse:398.07089\n",
      "[198]\tvalidation_0-rmse:395.29007\tvalidation_1-rmse:398.03787\n",
      "[199]\tvalidation_0-rmse:394.63382\tvalidation_1-rmse:397.67389\n",
      "CPU times: user 17.9 s, sys: 804 ms, total: 18.7 s\n",
      "Wall time: 3.16 s\n"
     ]
    },
    {
     "data": {
      "text/plain": [
       "XGBRegressor(base_score=0.5, booster='gbtree', colsample_bylevel=1,\n",
       "             colsample_bynode=1, colsample_bytree=0.8, enable_categorical=False,\n",
       "             gamma=0, gpu_id=-1, importance_type=None,\n",
       "             interaction_constraints='', learning_rate=0.1, max_delta_step=0,\n",
       "             max_depth=6, min_child_weight=1, missing=nan,\n",
       "             monotone_constraints='()', n_estimators=200, n_jobs=8,\n",
       "             num_parallel_tree=1, predictor='auto', random_state=42,\n",
       "             reg_alpha=1, reg_lambda=1, scale_pos_weight=1, subsample=1,\n",
       "             tree_method='exact', validate_parameters=1, verbosity=None)"
      ]
     },
     "execution_count": 102,
     "metadata": {},
     "output_type": "execute_result"
    }
   ],
   "source": [
    "%%time\n",
    "# Model training\n",
    "model.fit(X, y,eval_set=[(X_train,y_train),(X_val,y_val)],early_stopping_rounds=40)"
   ]
  },
  {
   "cell_type": "markdown",
   "id": "8f5f534f",
   "metadata": {},
   "source": [
    "## 11. Test Preditions"
   ]
  },
  {
   "cell_type": "code",
   "execution_count": 103,
   "id": "9085827c",
   "metadata": {},
   "outputs": [],
   "source": [
    "predictions = model.predict(X_test)"
   ]
  },
  {
   "cell_type": "code",
   "execution_count": 104,
   "id": "4d010675",
   "metadata": {},
   "outputs": [],
   "source": [
    "predictions=pd.DataFrame(predictions)"
   ]
  },
  {
   "cell_type": "code",
   "execution_count": 105,
   "id": "9d2ca3df",
   "metadata": {},
   "outputs": [],
   "source": [
    "predictions.reset_index(inplace=True)"
   ]
  },
  {
   "cell_type": "code",
   "execution_count": 106,
   "id": "2c805a71",
   "metadata": {},
   "outputs": [],
   "source": [
    "predictions=predictions.rename({0: 'price','index': 'id'}, axis=1)"
   ]
  },
  {
   "cell_type": "markdown",
   "id": "01a0cf38",
   "metadata": {},
   "source": [
    "## 12. Save Preditions"
   ]
  },
  {
   "cell_type": "code",
   "execution_count": 107,
   "id": "da3f74be",
   "metadata": {},
   "outputs": [],
   "source": [
    "predictions.to_csv('../data/diamonds_predictions_3.csv',index=False)"
   ]
  }
 ],
 "metadata": {
  "kernelspec": {
   "display_name": "Python [conda env:ML]",
   "language": "python",
   "name": "conda-env-ML-py"
  },
  "language_info": {
   "codemirror_mode": {
    "name": "ipython",
    "version": 3
   },
   "file_extension": ".py",
   "mimetype": "text/x-python",
   "name": "python",
   "nbconvert_exporter": "python",
   "pygments_lexer": "ipython3",
   "version": "3.7.13"
  }
 },
 "nbformat": 4,
 "nbformat_minor": 5
}
