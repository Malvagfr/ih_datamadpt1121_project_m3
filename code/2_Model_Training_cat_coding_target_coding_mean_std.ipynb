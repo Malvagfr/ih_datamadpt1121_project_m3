{
 "cells": [
  {
   "cell_type": "markdown",
   "id": "0de365a4",
   "metadata": {},
   "source": [
    "## 0. Review\n",
    "In this model the following decissions were taken: \n",
    "- Model choosen is XGBRegressor\n",
    "- All features are considered in the analysis (XGB has a good perform even there are dependent features or with week correlation in the dataset).\n",
    "- Data preparation is not needed as:\n",
    "    - There are not null values.\n",
    "    - There are few zero values (they are present in train/test and XGB can predict with 0 values)\n",
    "    - There are few outliers (8% in train and 1% in test), as we can not exclude them in the train it's better to keep them in the train so the model can learn about them.\n",
    "- Feature scalling does not provide better results (data range are not very big)\n",
    "- Target encoding using price's mean seems to reduce error variance.\n",
    "- Target encoding using price's std does not seems to provide better results.\n",
    "- Cross target encoding not seems to provide better results (there is more overfitting).\n",
    "- Category encoding performs better that one hot encoding when using tree decission models."
   ]
  },
  {
   "cell_type": "markdown",
   "id": "c1df95e2",
   "metadata": {},
   "source": [
    "## 1. Libraries import"
   ]
  },
  {
   "cell_type": "code",
   "execution_count": 1,
   "id": "a17f838c",
   "metadata": {},
   "outputs": [],
   "source": [
    "# Ignore warnings\n",
    "import warnings\n",
    "warnings.filterwarnings('ignore')"
   ]
  },
  {
   "cell_type": "code",
   "execution_count": 2,
   "id": "15bd2943",
   "metadata": {},
   "outputs": [],
   "source": [
    "# Imports \n",
    "import numpy as np\n",
    "import pandas as pd\n",
    "pd.set_option(\"display.max_columns\", 50)\n",
    "#train test split\n",
    "from sklearn.model_selection import train_test_split\n",
    "# model\n",
    "from xgboost import XGBRegressor\n",
    "# error\n",
    "from sklearn.metrics import mean_squared_error,r2_score,mean_absolute_error"
   ]
  },
  {
   "cell_type": "markdown",
   "id": "894bdee3",
   "metadata": {},
   "source": [
    "## 2. Data import"
   ]
  },
  {
   "cell_type": "markdown",
   "id": "0557a331",
   "metadata": {},
   "source": [
    "### 2.1 Impor train data"
   ]
  },
  {
   "cell_type": "code",
   "execution_count": 3,
   "id": "b35aa513",
   "metadata": {
    "scrolled": true
   },
   "outputs": [
    {
     "data": {
      "text/html": [
       "<div>\n",
       "<style scoped>\n",
       "    .dataframe tbody tr th:only-of-type {\n",
       "        vertical-align: middle;\n",
       "    }\n",
       "\n",
       "    .dataframe tbody tr th {\n",
       "        vertical-align: top;\n",
       "    }\n",
       "\n",
       "    .dataframe thead th {\n",
       "        text-align: right;\n",
       "    }\n",
       "</style>\n",
       "<table border=\"1\" class=\"dataframe\">\n",
       "  <thead>\n",
       "    <tr style=\"text-align: right;\">\n",
       "      <th></th>\n",
       "      <th>depth</th>\n",
       "      <th>table</th>\n",
       "      <th>x</th>\n",
       "      <th>y</th>\n",
       "      <th>z</th>\n",
       "      <th>price</th>\n",
       "      <th>carat</th>\n",
       "      <th>cut</th>\n",
       "      <th>color</th>\n",
       "      <th>clarity</th>\n",
       "      <th>city</th>\n",
       "    </tr>\n",
       "  </thead>\n",
       "  <tbody>\n",
       "    <tr>\n",
       "      <th>0</th>\n",
       "      <td>62.4</td>\n",
       "      <td>58.0</td>\n",
       "      <td>6.83</td>\n",
       "      <td>6.79</td>\n",
       "      <td>4.25</td>\n",
       "      <td>4268</td>\n",
       "      <td>1.21</td>\n",
       "      <td>Premium</td>\n",
       "      <td>J</td>\n",
       "      <td>VS2</td>\n",
       "      <td>Dubai</td>\n",
       "    </tr>\n",
       "    <tr>\n",
       "      <th>1</th>\n",
       "      <td>63.0</td>\n",
       "      <td>57.0</td>\n",
       "      <td>4.35</td>\n",
       "      <td>4.38</td>\n",
       "      <td>2.75</td>\n",
       "      <td>505</td>\n",
       "      <td>0.32</td>\n",
       "      <td>Very Good</td>\n",
       "      <td>H</td>\n",
       "      <td>VS2</td>\n",
       "      <td>Kimberly</td>\n",
       "    </tr>\n",
       "    <tr>\n",
       "      <th>2</th>\n",
       "      <td>65.5</td>\n",
       "      <td>55.0</td>\n",
       "      <td>5.62</td>\n",
       "      <td>5.53</td>\n",
       "      <td>3.65</td>\n",
       "      <td>2686</td>\n",
       "      <td>0.71</td>\n",
       "      <td>Fair</td>\n",
       "      <td>G</td>\n",
       "      <td>VS1</td>\n",
       "      <td>Las Vegas</td>\n",
       "    </tr>\n",
       "    <tr>\n",
       "      <th>3</th>\n",
       "      <td>63.8</td>\n",
       "      <td>56.0</td>\n",
       "      <td>4.68</td>\n",
       "      <td>4.72</td>\n",
       "      <td>3.00</td>\n",
       "      <td>738</td>\n",
       "      <td>0.41</td>\n",
       "      <td>Good</td>\n",
       "      <td>D</td>\n",
       "      <td>SI1</td>\n",
       "      <td>Kimberly</td>\n",
       "    </tr>\n",
       "    <tr>\n",
       "      <th>4</th>\n",
       "      <td>60.5</td>\n",
       "      <td>59.0</td>\n",
       "      <td>6.55</td>\n",
       "      <td>6.51</td>\n",
       "      <td>3.95</td>\n",
       "      <td>4882</td>\n",
       "      <td>1.02</td>\n",
       "      <td>Ideal</td>\n",
       "      <td>G</td>\n",
       "      <td>SI1</td>\n",
       "      <td>Dubai</td>\n",
       "    </tr>\n",
       "  </tbody>\n",
       "</table>\n",
       "</div>"
      ],
      "text/plain": [
       "   depth  table     x     y     z  price  carat        cut color clarity  \\\n",
       "0   62.4   58.0  6.83  6.79  4.25   4268   1.21    Premium     J     VS2   \n",
       "1   63.0   57.0  4.35  4.38  2.75    505   0.32  Very Good     H     VS2   \n",
       "2   65.5   55.0  5.62  5.53  3.65   2686   0.71       Fair     G     VS1   \n",
       "3   63.8   56.0  4.68  4.72  3.00    738   0.41       Good     D     SI1   \n",
       "4   60.5   59.0  6.55  6.51  3.95   4882   1.02      Ideal     G     SI1   \n",
       "\n",
       "        city  \n",
       "0      Dubai  \n",
       "1   Kimberly  \n",
       "2  Las Vegas  \n",
       "3   Kimberly  \n",
       "4      Dubai  "
      ]
     },
     "execution_count": 3,
     "metadata": {},
     "output_type": "execute_result"
    }
   ],
   "source": [
    "df_diamonds_train=pd.read_csv('../data/diamonds_train.csv')\n",
    "df_diamonds_train.drop(['Unnamed: 0', 'index_id'], axis=1,inplace=True) #dropped unnecessary columns\n",
    "df_diamonds_train.head()"
   ]
  },
  {
   "cell_type": "markdown",
   "id": "ff913d6c",
   "metadata": {},
   "source": [
    "### 2.2 Impor test data"
   ]
  },
  {
   "cell_type": "code",
   "execution_count": 4,
   "id": "65ba238d",
   "metadata": {},
   "outputs": [
    {
     "data": {
      "text/html": [
       "<div>\n",
       "<style scoped>\n",
       "    .dataframe tbody tr th:only-of-type {\n",
       "        vertical-align: middle;\n",
       "    }\n",
       "\n",
       "    .dataframe tbody tr th {\n",
       "        vertical-align: top;\n",
       "    }\n",
       "\n",
       "    .dataframe thead th {\n",
       "        text-align: right;\n",
       "    }\n",
       "</style>\n",
       "<table border=\"1\" class=\"dataframe\">\n",
       "  <thead>\n",
       "    <tr style=\"text-align: right;\">\n",
       "      <th></th>\n",
       "      <th>carat</th>\n",
       "      <th>cut</th>\n",
       "      <th>color</th>\n",
       "      <th>clarity</th>\n",
       "      <th>depth</th>\n",
       "      <th>table</th>\n",
       "      <th>x</th>\n",
       "      <th>y</th>\n",
       "      <th>z</th>\n",
       "      <th>city</th>\n",
       "    </tr>\n",
       "  </thead>\n",
       "  <tbody>\n",
       "    <tr>\n",
       "      <th>0</th>\n",
       "      <td>0.79</td>\n",
       "      <td>Very Good</td>\n",
       "      <td>F</td>\n",
       "      <td>SI1</td>\n",
       "      <td>62.7</td>\n",
       "      <td>60.0</td>\n",
       "      <td>5.82</td>\n",
       "      <td>5.89</td>\n",
       "      <td>3.67</td>\n",
       "      <td>Amsterdam</td>\n",
       "    </tr>\n",
       "    <tr>\n",
       "      <th>1</th>\n",
       "      <td>1.20</td>\n",
       "      <td>Ideal</td>\n",
       "      <td>J</td>\n",
       "      <td>VS1</td>\n",
       "      <td>61.0</td>\n",
       "      <td>57.0</td>\n",
       "      <td>6.81</td>\n",
       "      <td>6.89</td>\n",
       "      <td>4.18</td>\n",
       "      <td>Surat</td>\n",
       "    </tr>\n",
       "    <tr>\n",
       "      <th>2</th>\n",
       "      <td>1.57</td>\n",
       "      <td>Premium</td>\n",
       "      <td>H</td>\n",
       "      <td>SI1</td>\n",
       "      <td>62.2</td>\n",
       "      <td>61.0</td>\n",
       "      <td>7.38</td>\n",
       "      <td>7.32</td>\n",
       "      <td>4.57</td>\n",
       "      <td>Kimberly</td>\n",
       "    </tr>\n",
       "    <tr>\n",
       "      <th>3</th>\n",
       "      <td>0.90</td>\n",
       "      <td>Very Good</td>\n",
       "      <td>F</td>\n",
       "      <td>SI1</td>\n",
       "      <td>63.8</td>\n",
       "      <td>54.0</td>\n",
       "      <td>6.09</td>\n",
       "      <td>6.13</td>\n",
       "      <td>3.90</td>\n",
       "      <td>Kimberly</td>\n",
       "    </tr>\n",
       "    <tr>\n",
       "      <th>4</th>\n",
       "      <td>0.50</td>\n",
       "      <td>Very Good</td>\n",
       "      <td>F</td>\n",
       "      <td>VS1</td>\n",
       "      <td>62.9</td>\n",
       "      <td>58.0</td>\n",
       "      <td>5.05</td>\n",
       "      <td>5.09</td>\n",
       "      <td>3.19</td>\n",
       "      <td>Amsterdam</td>\n",
       "    </tr>\n",
       "  </tbody>\n",
       "</table>\n",
       "</div>"
      ],
      "text/plain": [
       "   carat        cut color clarity  depth  table     x     y     z       city\n",
       "0   0.79  Very Good     F     SI1   62.7   60.0  5.82  5.89  3.67  Amsterdam\n",
       "1   1.20      Ideal     J     VS1   61.0   57.0  6.81  6.89  4.18      Surat\n",
       "2   1.57    Premium     H     SI1   62.2   61.0  7.38  7.32  4.57   Kimberly\n",
       "3   0.90  Very Good     F     SI1   63.8   54.0  6.09  6.13  3.90   Kimberly\n",
       "4   0.50  Very Good     F     VS1   62.9   58.0  5.05  5.09  3.19  Amsterdam"
      ]
     },
     "execution_count": 4,
     "metadata": {},
     "output_type": "execute_result"
    }
   ],
   "source": [
    "df_diamonds_test=pd.read_csv('../data/diamonds_test.csv')\n",
    "df_diamonds_test.drop(['id'], axis=1,inplace=True) #dropped unnecessary columns\n",
    "df_diamonds_test.head()"
   ]
  },
  {
   "cell_type": "markdown",
   "id": "75c82972",
   "metadata": {},
   "source": [
    "## 3. Features to be considered in the analysis"
   ]
  },
  {
   "cell_type": "markdown",
   "id": "d296e198",
   "metadata": {},
   "source": [
    "All features are considered in the analysis (model chosen XGB has a good perform even there are dependent features or with week correlation in the dataset):"
   ]
  },
  {
   "cell_type": "code",
   "execution_count": 5,
   "id": "b379bd21",
   "metadata": {},
   "outputs": [],
   "source": [
    "num_features_list=['x','y','z','depth','table','carat']\n",
    "cat_features_list=['cut','color','clarity','city']\n",
    "features_list=['x','y','z','depth','table','carat','cut','color','clarity','city']\n",
    "target='price'"
   ]
  },
  {
   "cell_type": "markdown",
   "id": "5aa0abf6",
   "metadata": {},
   "source": [
    "## 4. Data preparation "
   ]
  },
  {
   "cell_type": "markdown",
   "id": "d5a24af6",
   "metadata": {},
   "source": [
    "Data preparation is not needed as:\n",
    "- There are not null values.\n",
    "- There are few zero values (they are present in train/test and XGB can predict with 0 values)\n",
    "- There are few outliers (8% in train and 1% in test), as we can not exclude them in the train it's better to keep them in the train so the model can learn about them."
   ]
  },
  {
   "cell_type": "markdown",
   "id": "a00b9ac0",
   "metadata": {},
   "source": [
    "## 5. Feature engineering (training set)"
   ]
  },
  {
   "cell_type": "markdown",
   "id": "9e66c050",
   "metadata": {},
   "source": [
    "- Feature scalling does not provide better results (data range are not very big).\n",
    "- Target encoding using price mean seems to reduce error variance.\n",
    "- Target encoding using price std does not seems to provide better results.\n",
    "- Cross target encoding not seems to provide better results (there is more overfitting).\n",
    "- Category encoding performs better that one hot encoding when using tree decission models."
   ]
  },
  {
   "cell_type": "markdown",
   "id": "d7f630c8",
   "metadata": {},
   "source": [
    "### 5.1 Target encoding "
   ]
  },
  {
   "cell_type": "code",
   "execution_count": 6,
   "id": "cf87f1b3",
   "metadata": {},
   "outputs": [],
   "source": [
    "# Target encoding for categorical variables using price's mean\n",
    "#mean\n",
    "cut_encoding = df_diamonds_train.groupby(['cut'])['price'].mean().to_dict()\n",
    "df_diamonds_train['cut_encoding'] = df_diamonds_train['cut'].map(cut_encoding).astype(float)\n",
    "color_encoding = df_diamonds_train.groupby(['color'])['price'].mean().to_dict()\n",
    "df_diamonds_train['color_encoding'] = df_diamonds_train['color'].map(color_encoding).astype(float)\n",
    "clarity_encoding = df_diamonds_train.groupby(['clarity'])['price'].mean().to_dict()\n",
    "df_diamonds_train['clarity_encoding'] = df_diamonds_train['clarity'].map(clarity_encoding).astype(float)\n",
    "#std\n",
    "cut_encoding_std = df_diamonds_train.groupby(['cut'])['price'].std().to_dict()\n",
    "df_diamonds_train['cut_encoding_std'] = df_diamonds_train['cut'].map(cut_encoding_std).astype(float)\n",
    "color_encoding_std = df_diamonds_train.groupby(['color'])['price'].std().to_dict()\n",
    "df_diamonds_train['color_encoding_std'] = df_diamonds_train['color'].map(color_encoding_std).astype(float)\n",
    "clarity_encoding_std = df_diamonds_train.groupby(['clarity'])['price'].std().to_dict()\n",
    "df_diamonds_train['clarity_encoding_std'] = df_diamonds_train['clarity'].map(clarity_encoding_std).astype(float)"
   ]
  },
  {
   "cell_type": "code",
   "execution_count": 7,
   "id": "9221f981",
   "metadata": {},
   "outputs": [],
   "source": [
    "features_list_encoding=['x','y','z','depth','table','carat','cut','color','clarity','city',\n",
    "                        'cut_encoding','color_encoding','clarity_encoding',\n",
    "                        'cut_encoding_std','color_encoding_std','clarity_encoding_std']"
   ]
  },
  {
   "cell_type": "markdown",
   "id": "8391a269",
   "metadata": {},
   "source": [
    "### 5.2 Category encoding"
   ]
  },
  {
   "cell_type": "code",
   "execution_count": 8,
   "id": "fc3046a3",
   "metadata": {},
   "outputs": [],
   "source": [
    "# Defining features y target\n",
    "X=df_diamonds_train[features_list_encoding]\n",
    "y=df_diamonds_train['price']"
   ]
  },
  {
   "cell_type": "code",
   "execution_count": 9,
   "id": "a73d7b9a",
   "metadata": {},
   "outputs": [],
   "source": [
    "for column in cat_features_list:\n",
    "    X[column]=X[column].astype('category')\n",
    "    X[column]=X[column].cat.codes"
   ]
  },
  {
   "cell_type": "code",
   "execution_count": 10,
   "id": "09c22037",
   "metadata": {
    "scrolled": true
   },
   "outputs": [
    {
     "data": {
      "text/html": [
       "<div>\n",
       "<style scoped>\n",
       "    .dataframe tbody tr th:only-of-type {\n",
       "        vertical-align: middle;\n",
       "    }\n",
       "\n",
       "    .dataframe tbody tr th {\n",
       "        vertical-align: top;\n",
       "    }\n",
       "\n",
       "    .dataframe thead th {\n",
       "        text-align: right;\n",
       "    }\n",
       "</style>\n",
       "<table border=\"1\" class=\"dataframe\">\n",
       "  <thead>\n",
       "    <tr style=\"text-align: right;\">\n",
       "      <th></th>\n",
       "      <th>x</th>\n",
       "      <th>y</th>\n",
       "      <th>z</th>\n",
       "      <th>depth</th>\n",
       "      <th>table</th>\n",
       "      <th>carat</th>\n",
       "      <th>cut</th>\n",
       "      <th>color</th>\n",
       "      <th>clarity</th>\n",
       "      <th>city</th>\n",
       "      <th>cut_encoding</th>\n",
       "      <th>color_encoding</th>\n",
       "      <th>clarity_encoding</th>\n",
       "      <th>cut_encoding_std</th>\n",
       "      <th>color_encoding_std</th>\n",
       "      <th>clarity_encoding_std</th>\n",
       "    </tr>\n",
       "  </thead>\n",
       "  <tbody>\n",
       "    <tr>\n",
       "      <th>0</th>\n",
       "      <td>6.83</td>\n",
       "      <td>6.79</td>\n",
       "      <td>4.25</td>\n",
       "      <td>62.4</td>\n",
       "      <td>58.0</td>\n",
       "      <td>1.21</td>\n",
       "      <td>3</td>\n",
       "      <td>6</td>\n",
       "      <td>5</td>\n",
       "      <td>2</td>\n",
       "      <td>4617.322612</td>\n",
       "      <td>5346.234112</td>\n",
       "      <td>3913.590182</td>\n",
       "      <td>4380.357286</td>\n",
       "      <td>4437.967123</td>\n",
       "      <td>4029.640798</td>\n",
       "    </tr>\n",
       "    <tr>\n",
       "      <th>1</th>\n",
       "      <td>4.35</td>\n",
       "      <td>4.38</td>\n",
       "      <td>2.75</td>\n",
       "      <td>63.0</td>\n",
       "      <td>57.0</td>\n",
       "      <td>0.32</td>\n",
       "      <td>4</td>\n",
       "      <td>4</td>\n",
       "      <td>5</td>\n",
       "      <td>3</td>\n",
       "      <td>3994.444420</td>\n",
       "      <td>4476.469014</td>\n",
       "      <td>3913.590182</td>\n",
       "      <td>3955.185677</td>\n",
       "      <td>4204.035086</td>\n",
       "      <td>4029.640798</td>\n",
       "    </tr>\n",
       "    <tr>\n",
       "      <th>2</th>\n",
       "      <td>5.62</td>\n",
       "      <td>5.53</td>\n",
       "      <td>3.65</td>\n",
       "      <td>65.5</td>\n",
       "      <td>55.0</td>\n",
       "      <td>0.71</td>\n",
       "      <td>0</td>\n",
       "      <td>3</td>\n",
       "      <td>4</td>\n",
       "      <td>4</td>\n",
       "      <td>4333.271980</td>\n",
       "      <td>4023.214902</td>\n",
       "      <td>3796.813551</td>\n",
       "      <td>3496.467642</td>\n",
       "      <td>4063.947046</td>\n",
       "      <td>4001.986722</td>\n",
       "    </tr>\n",
       "    <tr>\n",
       "      <th>3</th>\n",
       "      <td>4.68</td>\n",
       "      <td>4.72</td>\n",
       "      <td>3.00</td>\n",
       "      <td>63.8</td>\n",
       "      <td>56.0</td>\n",
       "      <td>0.41</td>\n",
       "      <td>1</td>\n",
       "      <td>0</td>\n",
       "      <td>2</td>\n",
       "      <td>3</td>\n",
       "      <td>3880.611794</td>\n",
       "      <td>3134.943157</td>\n",
       "      <td>3999.856908</td>\n",
       "      <td>3647.039840</td>\n",
       "      <td>3315.698012</td>\n",
       "      <td>3821.246565</td>\n",
       "    </tr>\n",
       "    <tr>\n",
       "      <th>4</th>\n",
       "      <td>6.55</td>\n",
       "      <td>6.51</td>\n",
       "      <td>3.95</td>\n",
       "      <td>60.5</td>\n",
       "      <td>59.0</td>\n",
       "      <td>1.02</td>\n",
       "      <td>2</td>\n",
       "      <td>3</td>\n",
       "      <td>2</td>\n",
       "      <td>2</td>\n",
       "      <td>3436.112577</td>\n",
       "      <td>4023.214902</td>\n",
       "      <td>3999.856908</td>\n",
       "      <td>3790.911135</td>\n",
       "      <td>4063.947046</td>\n",
       "      <td>3821.246565</td>\n",
       "    </tr>\n",
       "  </tbody>\n",
       "</table>\n",
       "</div>"
      ],
      "text/plain": [
       "      x     y     z  depth  table  carat  cut  color  clarity  city  \\\n",
       "0  6.83  6.79  4.25   62.4   58.0   1.21    3      6        5     2   \n",
       "1  4.35  4.38  2.75   63.0   57.0   0.32    4      4        5     3   \n",
       "2  5.62  5.53  3.65   65.5   55.0   0.71    0      3        4     4   \n",
       "3  4.68  4.72  3.00   63.8   56.0   0.41    1      0        2     3   \n",
       "4  6.55  6.51  3.95   60.5   59.0   1.02    2      3        2     2   \n",
       "\n",
       "   cut_encoding  color_encoding  clarity_encoding  cut_encoding_std  \\\n",
       "0   4617.322612     5346.234112       3913.590182       4380.357286   \n",
       "1   3994.444420     4476.469014       3913.590182       3955.185677   \n",
       "2   4333.271980     4023.214902       3796.813551       3496.467642   \n",
       "3   3880.611794     3134.943157       3999.856908       3647.039840   \n",
       "4   3436.112577     4023.214902       3999.856908       3790.911135   \n",
       "\n",
       "   color_encoding_std  clarity_encoding_std  \n",
       "0         4437.967123           4029.640798  \n",
       "1         4204.035086           4029.640798  \n",
       "2         4063.947046           4001.986722  \n",
       "3         3315.698012           3821.246565  \n",
       "4         4063.947046           3821.246565  "
      ]
     },
     "execution_count": 10,
     "metadata": {},
     "output_type": "execute_result"
    }
   ],
   "source": [
    "X.head()"
   ]
  },
  {
   "cell_type": "markdown",
   "id": "b4e61db6",
   "metadata": {},
   "source": [
    "### 5.3 Define train and validation"
   ]
  },
  {
   "cell_type": "code",
   "execution_count": 11,
   "id": "83b76da3",
   "metadata": {},
   "outputs": [],
   "source": [
    "# Splitting train and test\n",
    "X_train, X_val, y_train, y_val = train_test_split(X, y, test_size=0.2, random_state=42)"
   ]
  },
  {
   "cell_type": "markdown",
   "id": "f0c06e54",
   "metadata": {},
   "source": [
    "## 6. Feature engineering (test set) "
   ]
  },
  {
   "cell_type": "code",
   "execution_count": 12,
   "id": "7d47ac61",
   "metadata": {},
   "outputs": [],
   "source": [
    "# Adapting categorical features for validation model\n",
    "X_test=df_diamonds_test[features_list]"
   ]
  },
  {
   "cell_type": "markdown",
   "id": "50c54f7a",
   "metadata": {},
   "source": [
    "### 6.1 Target encoding (mean and std)"
   ]
  },
  {
   "cell_type": "code",
   "execution_count": 13,
   "id": "90f00988",
   "metadata": {},
   "outputs": [],
   "source": [
    "# Target encoding for categorical variables using price's mean\n",
    "#std\n",
    "cut_encoding = df_diamonds_train.groupby(['cut'])['price'].mean().to_dict()\n",
    "X_test['cut_encoding'] = X_test['cut'].map(cut_encoding).astype(float)\n",
    "color_encoding = df_diamonds_train.groupby(['color'])['price'].mean().to_dict()\n",
    "X_test['color_encoding'] = X_test['color'].map(color_encoding).astype(float)\n",
    "clarity_encoding = df_diamonds_train.groupby(['clarity'])['price'].mean().to_dict()\n",
    "X_test['clarity_encoding'] = X_test['clarity'].map(clarity_encoding).astype(float)\n",
    "#std\n",
    "# Std\n",
    "cut_encoding_std = df_diamonds_train.groupby(['cut'])['price'].std().to_dict()\n",
    "X_test['cut_encoding_std'] = X_test['cut'].map(cut_encoding_std).astype(float)\n",
    "color_encoding_std = df_diamonds_train.groupby(['color'])['price'].std().to_dict()\n",
    "X_test['color_encoding_std'] = X_test['color'].map(color_encoding_std).astype(float)\n",
    "clarity_encoding_std = df_diamonds_train.groupby(['clarity'])['price'].std().to_dict()\n",
    "X_test['clarity_encoding_std'] = X_test['clarity'].map(clarity_encoding_std).astype(float)"
   ]
  },
  {
   "cell_type": "code",
   "execution_count": 14,
   "id": "30860211",
   "metadata": {},
   "outputs": [
    {
     "data": {
      "text/plain": [
       "(32364, 16)"
      ]
     },
     "execution_count": 14,
     "metadata": {},
     "output_type": "execute_result"
    }
   ],
   "source": [
    "X_train.shape"
   ]
  },
  {
   "cell_type": "code",
   "execution_count": 15,
   "id": "138e739f",
   "metadata": {},
   "outputs": [
    {
     "name": "stdout",
     "output_type": "stream",
     "text": [
      "<class 'pandas.core.frame.DataFrame'>\n",
      "Int64Index: 32364 entries, 32121 to 15795\n",
      "Data columns (total 16 columns):\n",
      " #   Column                Non-Null Count  Dtype  \n",
      "---  ------                --------------  -----  \n",
      " 0   x                     32364 non-null  float64\n",
      " 1   y                     32364 non-null  float64\n",
      " 2   z                     32364 non-null  float64\n",
      " 3   depth                 32364 non-null  float64\n",
      " 4   table                 32364 non-null  float64\n",
      " 5   carat                 32364 non-null  float64\n",
      " 6   cut                   32364 non-null  int8   \n",
      " 7   color                 32364 non-null  int8   \n",
      " 8   clarity               32364 non-null  int8   \n",
      " 9   city                  32364 non-null  int8   \n",
      " 10  cut_encoding          32364 non-null  float64\n",
      " 11  color_encoding        32364 non-null  float64\n",
      " 12  clarity_encoding      32364 non-null  float64\n",
      " 13  cut_encoding_std      32364 non-null  float64\n",
      " 14  color_encoding_std    32364 non-null  float64\n",
      " 15  clarity_encoding_std  32364 non-null  float64\n",
      "dtypes: float64(12), int8(4)\n",
      "memory usage: 3.3 MB\n"
     ]
    }
   ],
   "source": [
    "X_train.info()"
   ]
  },
  {
   "cell_type": "markdown",
   "id": "7b87eecc",
   "metadata": {},
   "source": [
    "### 6.2 Change categorical variables to code"
   ]
  },
  {
   "cell_type": "code",
   "execution_count": 16,
   "id": "6db4114d",
   "metadata": {},
   "outputs": [],
   "source": [
    "for column in cat_features_list:\n",
    "    X_test[column]=X_test[column].astype('category')\n",
    "    X_test[column]=X_test[column].cat.codes"
   ]
  },
  {
   "cell_type": "code",
   "execution_count": 17,
   "id": "37b97086",
   "metadata": {},
   "outputs": [
    {
     "data": {
      "text/html": [
       "<div>\n",
       "<style scoped>\n",
       "    .dataframe tbody tr th:only-of-type {\n",
       "        vertical-align: middle;\n",
       "    }\n",
       "\n",
       "    .dataframe tbody tr th {\n",
       "        vertical-align: top;\n",
       "    }\n",
       "\n",
       "    .dataframe thead th {\n",
       "        text-align: right;\n",
       "    }\n",
       "</style>\n",
       "<table border=\"1\" class=\"dataframe\">\n",
       "  <thead>\n",
       "    <tr style=\"text-align: right;\">\n",
       "      <th></th>\n",
       "      <th>x</th>\n",
       "      <th>y</th>\n",
       "      <th>z</th>\n",
       "      <th>depth</th>\n",
       "      <th>table</th>\n",
       "      <th>carat</th>\n",
       "      <th>cut</th>\n",
       "      <th>color</th>\n",
       "      <th>clarity</th>\n",
       "      <th>city</th>\n",
       "      <th>cut_encoding</th>\n",
       "      <th>color_encoding</th>\n",
       "      <th>clarity_encoding</th>\n",
       "      <th>cut_encoding_std</th>\n",
       "      <th>color_encoding_std</th>\n",
       "      <th>clarity_encoding_std</th>\n",
       "    </tr>\n",
       "  </thead>\n",
       "  <tbody>\n",
       "    <tr>\n",
       "      <th>0</th>\n",
       "      <td>5.82</td>\n",
       "      <td>5.89</td>\n",
       "      <td>3.67</td>\n",
       "      <td>62.7</td>\n",
       "      <td>60.0</td>\n",
       "      <td>0.79</td>\n",
       "      <td>4</td>\n",
       "      <td>2</td>\n",
       "      <td>2</td>\n",
       "      <td>0</td>\n",
       "      <td>3994.444420</td>\n",
       "      <td>3677.355720</td>\n",
       "      <td>3999.856908</td>\n",
       "      <td>3955.185677</td>\n",
       "      <td>3771.406126</td>\n",
       "      <td>3821.246565</td>\n",
       "    </tr>\n",
       "    <tr>\n",
       "      <th>1</th>\n",
       "      <td>6.81</td>\n",
       "      <td>6.89</td>\n",
       "      <td>4.18</td>\n",
       "      <td>61.0</td>\n",
       "      <td>57.0</td>\n",
       "      <td>1.20</td>\n",
       "      <td>2</td>\n",
       "      <td>6</td>\n",
       "      <td>4</td>\n",
       "      <td>10</td>\n",
       "      <td>3436.112577</td>\n",
       "      <td>5346.234112</td>\n",
       "      <td>3796.813551</td>\n",
       "      <td>3790.911135</td>\n",
       "      <td>4437.967123</td>\n",
       "      <td>4001.986722</td>\n",
       "    </tr>\n",
       "    <tr>\n",
       "      <th>2</th>\n",
       "      <td>7.38</td>\n",
       "      <td>7.32</td>\n",
       "      <td>4.57</td>\n",
       "      <td>62.2</td>\n",
       "      <td>61.0</td>\n",
       "      <td>1.57</td>\n",
       "      <td>3</td>\n",
       "      <td>4</td>\n",
       "      <td>2</td>\n",
       "      <td>3</td>\n",
       "      <td>4617.322612</td>\n",
       "      <td>4476.469014</td>\n",
       "      <td>3999.856908</td>\n",
       "      <td>4380.357286</td>\n",
       "      <td>4204.035086</td>\n",
       "      <td>3821.246565</td>\n",
       "    </tr>\n",
       "    <tr>\n",
       "      <th>3</th>\n",
       "      <td>6.09</td>\n",
       "      <td>6.13</td>\n",
       "      <td>3.90</td>\n",
       "      <td>63.8</td>\n",
       "      <td>54.0</td>\n",
       "      <td>0.90</td>\n",
       "      <td>4</td>\n",
       "      <td>2</td>\n",
       "      <td>2</td>\n",
       "      <td>3</td>\n",
       "      <td>3994.444420</td>\n",
       "      <td>3677.355720</td>\n",
       "      <td>3999.856908</td>\n",
       "      <td>3955.185677</td>\n",
       "      <td>3771.406126</td>\n",
       "      <td>3821.246565</td>\n",
       "    </tr>\n",
       "    <tr>\n",
       "      <th>4</th>\n",
       "      <td>5.05</td>\n",
       "      <td>5.09</td>\n",
       "      <td>3.19</td>\n",
       "      <td>62.9</td>\n",
       "      <td>58.0</td>\n",
       "      <td>0.50</td>\n",
       "      <td>4</td>\n",
       "      <td>2</td>\n",
       "      <td>4</td>\n",
       "      <td>0</td>\n",
       "      <td>3994.444420</td>\n",
       "      <td>3677.355720</td>\n",
       "      <td>3796.813551</td>\n",
       "      <td>3955.185677</td>\n",
       "      <td>3771.406126</td>\n",
       "      <td>4001.986722</td>\n",
       "    </tr>\n",
       "  </tbody>\n",
       "</table>\n",
       "</div>"
      ],
      "text/plain": [
       "      x     y     z  depth  table  carat  cut  color  clarity  city  \\\n",
       "0  5.82  5.89  3.67   62.7   60.0   0.79    4      2        2     0   \n",
       "1  6.81  6.89  4.18   61.0   57.0   1.20    2      6        4    10   \n",
       "2  7.38  7.32  4.57   62.2   61.0   1.57    3      4        2     3   \n",
       "3  6.09  6.13  3.90   63.8   54.0   0.90    4      2        2     3   \n",
       "4  5.05  5.09  3.19   62.9   58.0   0.50    4      2        4     0   \n",
       "\n",
       "   cut_encoding  color_encoding  clarity_encoding  cut_encoding_std  \\\n",
       "0   3994.444420     3677.355720       3999.856908       3955.185677   \n",
       "1   3436.112577     5346.234112       3796.813551       3790.911135   \n",
       "2   4617.322612     4476.469014       3999.856908       4380.357286   \n",
       "3   3994.444420     3677.355720       3999.856908       3955.185677   \n",
       "4   3994.444420     3677.355720       3796.813551       3955.185677   \n",
       "\n",
       "   color_encoding_std  clarity_encoding_std  \n",
       "0         3771.406126           3821.246565  \n",
       "1         4437.967123           4001.986722  \n",
       "2         4204.035086           3821.246565  \n",
       "3         3771.406126           3821.246565  \n",
       "4         3771.406126           4001.986722  "
      ]
     },
     "execution_count": 17,
     "metadata": {},
     "output_type": "execute_result"
    }
   ],
   "source": [
    "X_test.head()"
   ]
  },
  {
   "cell_type": "code",
   "execution_count": 18,
   "id": "cb0abc73",
   "metadata": {},
   "outputs": [
    {
     "data": {
      "text/plain": [
       "(13485, 16)"
      ]
     },
     "execution_count": 18,
     "metadata": {},
     "output_type": "execute_result"
    }
   ],
   "source": [
    "X_test.shape"
   ]
  },
  {
   "cell_type": "code",
   "execution_count": 19,
   "id": "127d8ec7",
   "metadata": {},
   "outputs": [
    {
     "name": "stdout",
     "output_type": "stream",
     "text": [
      "<class 'pandas.core.frame.DataFrame'>\n",
      "RangeIndex: 13485 entries, 0 to 13484\n",
      "Data columns (total 16 columns):\n",
      " #   Column                Non-Null Count  Dtype  \n",
      "---  ------                --------------  -----  \n",
      " 0   x                     13485 non-null  float64\n",
      " 1   y                     13485 non-null  float64\n",
      " 2   z                     13485 non-null  float64\n",
      " 3   depth                 13485 non-null  float64\n",
      " 4   table                 13485 non-null  float64\n",
      " 5   carat                 13485 non-null  float64\n",
      " 6   cut                   13485 non-null  int8   \n",
      " 7   color                 13485 non-null  int8   \n",
      " 8   clarity               13485 non-null  int8   \n",
      " 9   city                  13485 non-null  int8   \n",
      " 10  cut_encoding          13485 non-null  float64\n",
      " 11  color_encoding        13485 non-null  float64\n",
      " 12  clarity_encoding      13485 non-null  float64\n",
      " 13  cut_encoding_std      13485 non-null  float64\n",
      " 14  color_encoding_std    13485 non-null  float64\n",
      " 15  clarity_encoding_std  13485 non-null  float64\n",
      "dtypes: float64(12), int8(4)\n",
      "memory usage: 1.3 MB\n"
     ]
    }
   ],
   "source": [
    "X_test.info()"
   ]
  },
  {
   "cell_type": "markdown",
   "id": "ac016dca",
   "metadata": {},
   "source": [
    "## 7. Model definition - XGBRegressor"
   ]
  },
  {
   "cell_type": "markdown",
   "id": "59fae7c9",
   "metadata": {},
   "source": [
    "RandomForestRegressor: multiple trees in paralel changing samples and convining diferrent features (overfitting when the tree is big and good to reduce error variance)"
   ]
  },
  {
   "cell_type": "markdown",
   "id": "422fc6f8",
   "metadata": {},
   "source": [
    "Main Parameters:\n",
    "   - bootstrap -> method for sampling data points (TRUE bagging and FALSE pasting, with/without replacement)\n",
    "   - n_estimators -> number of trees in the foreset\n",
    "   - max_depth -> max number of levels in each decision tree\n",
    "   - max_features -> max number of features considered for splitting a node\n",
    "   - ccp_alpha ->\n",
    "   - criterion ->\n",
    "   - max_leaf_nodes -> max number of solution nodes \n",
    "   - max_samples ->\n",
    "   - min_impurity_decrease ->\n",
    "   - min_samples_leaf -> min number of data points allowed in a leaf node\n",
    "   - min_samples_split -> min number of data points placed in a node before the node is split\n",
    "   - min_weight_fraction_leaf\n",
    "   - n_estimators -> number of trees in the foreset\n",
    "   - n_jobs \n",
    "   - oob_score \n",
    "   - random_state\n",
    "   - verbose\n",
    "   - warm_start   "
   ]
  },
  {
   "cell_type": "code",
   "execution_count": 20,
   "id": "8c90f8b4",
   "metadata": {},
   "outputs": [
    {
     "name": "stdout",
     "output_type": "stream",
     "text": [
      "<class 'xgboost.sklearn.XGBRegressor'> \n",
      "\n"
     ]
    }
   ],
   "source": [
    "# 1. XGBRegressor \n",
    "model = XGBRegressor(n_estimators=200,colsample_bylevel=1,colsample_bynode=1,\n",
    "                     colsample_bytree=0.8,reg_alpha=1, reg_lambda=1,gamma=0,learning_rate=0.1, random_state=42)\n",
    "hyperparameters = model.get_params()\n",
    "print(type(model), '\\n')"
   ]
  },
  {
   "cell_type": "markdown",
   "id": "1aaf37b1",
   "metadata": {},
   "source": [
    "## 8. Model training with validation"
   ]
  },
  {
   "cell_type": "code",
   "execution_count": 21,
   "id": "b0ec0a25",
   "metadata": {},
   "outputs": [
    {
     "name": "stdout",
     "output_type": "stream",
     "text": [
      "[0]\tvalidation_0-rmse:5049.43262\tvalidation_1-rmse:5090.20605\n",
      "[1]\tvalidation_0-rmse:4561.66943\tvalidation_1-rmse:4601.57275\n",
      "[2]\tvalidation_0-rmse:4123.17432\tvalidation_1-rmse:4161.91260\n",
      "[3]\tvalidation_0-rmse:3729.97925\tvalidation_1-rmse:3767.03613\n",
      "[4]\tvalidation_0-rmse:3374.57471\tvalidation_1-rmse:3410.81763\n",
      "[5]\tvalidation_0-rmse:3056.49268\tvalidation_1-rmse:3092.52441\n",
      "[6]\tvalidation_0-rmse:2773.00781\tvalidation_1-rmse:2808.54492\n",
      "[7]\tvalidation_0-rmse:2516.19653\tvalidation_1-rmse:2549.88599\n",
      "[8]\tvalidation_0-rmse:2286.21973\tvalidation_1-rmse:2319.63794\n",
      "[9]\tvalidation_0-rmse:2079.98828\tvalidation_1-rmse:2113.38574\n",
      "[10]\tvalidation_0-rmse:1894.95496\tvalidation_1-rmse:1927.09985\n",
      "[11]\tvalidation_0-rmse:1730.08118\tvalidation_1-rmse:1763.08301\n",
      "[12]\tvalidation_0-rmse:1582.69898\tvalidation_1-rmse:1614.79004\n",
      "[13]\tvalidation_0-rmse:1450.82617\tvalidation_1-rmse:1483.48950\n",
      "[14]\tvalidation_0-rmse:1333.63123\tvalidation_1-rmse:1366.36145\n",
      "[15]\tvalidation_0-rmse:1231.67981\tvalidation_1-rmse:1265.17737\n",
      "[16]\tvalidation_0-rmse:1139.04590\tvalidation_1-rmse:1173.03113\n",
      "[17]\tvalidation_0-rmse:1056.36169\tvalidation_1-rmse:1090.69446\n",
      "[18]\tvalidation_0-rmse:983.40045\tvalidation_1-rmse:1018.98828\n",
      "[19]\tvalidation_0-rmse:920.06690\tvalidation_1-rmse:956.14459\n",
      "[20]\tvalidation_0-rmse:863.94940\tvalidation_1-rmse:900.71381\n",
      "[21]\tvalidation_0-rmse:814.67120\tvalidation_1-rmse:851.69244\n",
      "[22]\tvalidation_0-rmse:771.90094\tvalidation_1-rmse:810.08148\n",
      "[23]\tvalidation_0-rmse:735.26764\tvalidation_1-rmse:774.08490\n",
      "[24]\tvalidation_0-rmse:703.55798\tvalidation_1-rmse:742.52283\n",
      "[25]\tvalidation_0-rmse:675.61993\tvalidation_1-rmse:714.90448\n",
      "[26]\tvalidation_0-rmse:651.25275\tvalidation_1-rmse:691.13599\n",
      "[27]\tvalidation_0-rmse:630.29675\tvalidation_1-rmse:671.61511\n",
      "[28]\tvalidation_0-rmse:611.97315\tvalidation_1-rmse:654.91223\n",
      "[29]\tvalidation_0-rmse:596.83844\tvalidation_1-rmse:640.44415\n",
      "[30]\tvalidation_0-rmse:582.74164\tvalidation_1-rmse:626.77081\n",
      "[31]\tvalidation_0-rmse:570.98389\tvalidation_1-rmse:616.47607\n",
      "[32]\tvalidation_0-rmse:561.05810\tvalidation_1-rmse:606.69983\n",
      "[33]\tvalidation_0-rmse:551.84033\tvalidation_1-rmse:598.74634\n",
      "[34]\tvalidation_0-rmse:544.23273\tvalidation_1-rmse:592.03009\n",
      "[35]\tvalidation_0-rmse:537.58728\tvalidation_1-rmse:586.10199\n",
      "[36]\tvalidation_0-rmse:531.56299\tvalidation_1-rmse:580.82221\n",
      "[37]\tvalidation_0-rmse:526.37091\tvalidation_1-rmse:575.67743\n",
      "[38]\tvalidation_0-rmse:521.82861\tvalidation_1-rmse:571.94958\n",
      "[39]\tvalidation_0-rmse:517.64008\tvalidation_1-rmse:568.18994\n",
      "[40]\tvalidation_0-rmse:513.41919\tvalidation_1-rmse:565.00043\n",
      "[41]\tvalidation_0-rmse:509.87817\tvalidation_1-rmse:561.56482\n",
      "[42]\tvalidation_0-rmse:506.70282\tvalidation_1-rmse:558.71149\n",
      "[43]\tvalidation_0-rmse:504.57056\tvalidation_1-rmse:556.71472\n",
      "[44]\tvalidation_0-rmse:502.39429\tvalidation_1-rmse:554.56427\n",
      "[45]\tvalidation_0-rmse:500.32840\tvalidation_1-rmse:553.23560\n",
      "[46]\tvalidation_0-rmse:497.57953\tvalidation_1-rmse:551.92432\n",
      "[47]\tvalidation_0-rmse:495.07523\tvalidation_1-rmse:550.22736\n",
      "[48]\tvalidation_0-rmse:493.11676\tvalidation_1-rmse:548.71710\n",
      "[49]\tvalidation_0-rmse:490.29562\tvalidation_1-rmse:547.85419\n",
      "[50]\tvalidation_0-rmse:488.57834\tvalidation_1-rmse:546.96454\n",
      "[51]\tvalidation_0-rmse:487.42886\tvalidation_1-rmse:546.23920\n",
      "[52]\tvalidation_0-rmse:485.76358\tvalidation_1-rmse:545.59326\n",
      "[53]\tvalidation_0-rmse:483.69946\tvalidation_1-rmse:544.57367\n",
      "[54]\tvalidation_0-rmse:482.63123\tvalidation_1-rmse:543.89050\n",
      "[55]\tvalidation_0-rmse:480.81744\tvalidation_1-rmse:543.23163\n",
      "[56]\tvalidation_0-rmse:479.42798\tvalidation_1-rmse:542.59674\n",
      "[57]\tvalidation_0-rmse:478.39652\tvalidation_1-rmse:541.62683\n",
      "[58]\tvalidation_0-rmse:476.49463\tvalidation_1-rmse:540.70178\n",
      "[59]\tvalidation_0-rmse:474.85385\tvalidation_1-rmse:539.82837\n",
      "[60]\tvalidation_0-rmse:473.71051\tvalidation_1-rmse:539.66840\n",
      "[61]\tvalidation_0-rmse:471.99350\tvalidation_1-rmse:538.95319\n",
      "[62]\tvalidation_0-rmse:470.92703\tvalidation_1-rmse:538.43677\n",
      "[63]\tvalidation_0-rmse:469.36572\tvalidation_1-rmse:537.65765\n",
      "[64]\tvalidation_0-rmse:468.14301\tvalidation_1-rmse:537.01294\n",
      "[65]\tvalidation_0-rmse:466.83972\tvalidation_1-rmse:536.72357\n",
      "[66]\tvalidation_0-rmse:465.70947\tvalidation_1-rmse:536.20727\n",
      "[67]\tvalidation_0-rmse:464.61523\tvalidation_1-rmse:535.63580\n",
      "[68]\tvalidation_0-rmse:464.07614\tvalidation_1-rmse:535.46088\n",
      "[69]\tvalidation_0-rmse:462.78058\tvalidation_1-rmse:534.97156\n",
      "[70]\tvalidation_0-rmse:462.02164\tvalidation_1-rmse:534.73755\n",
      "[71]\tvalidation_0-rmse:460.04987\tvalidation_1-rmse:534.10394\n",
      "[72]\tvalidation_0-rmse:459.54629\tvalidation_1-rmse:533.96106\n",
      "[73]\tvalidation_0-rmse:458.69260\tvalidation_1-rmse:533.78699\n",
      "[74]\tvalidation_0-rmse:457.32550\tvalidation_1-rmse:533.45209\n",
      "[75]\tvalidation_0-rmse:455.75098\tvalidation_1-rmse:533.01221\n",
      "[76]\tvalidation_0-rmse:454.99091\tvalidation_1-rmse:532.92358\n",
      "[77]\tvalidation_0-rmse:453.50855\tvalidation_1-rmse:532.74793\n",
      "[78]\tvalidation_0-rmse:452.97345\tvalidation_1-rmse:532.66022\n",
      "[79]\tvalidation_0-rmse:452.20712\tvalidation_1-rmse:532.45300\n",
      "[80]\tvalidation_0-rmse:451.18854\tvalidation_1-rmse:532.12940\n",
      "[81]\tvalidation_0-rmse:449.78903\tvalidation_1-rmse:531.83618\n",
      "[82]\tvalidation_0-rmse:449.18298\tvalidation_1-rmse:531.43994\n",
      "[83]\tvalidation_0-rmse:448.45139\tvalidation_1-rmse:531.48560\n",
      "[84]\tvalidation_0-rmse:447.46429\tvalidation_1-rmse:531.23633\n",
      "[85]\tvalidation_0-rmse:446.66125\tvalidation_1-rmse:530.82483\n",
      "[86]\tvalidation_0-rmse:445.38284\tvalidation_1-rmse:530.92670\n",
      "[87]\tvalidation_0-rmse:444.46268\tvalidation_1-rmse:531.04285\n",
      "[88]\tvalidation_0-rmse:443.42047\tvalidation_1-rmse:531.04645\n",
      "[89]\tvalidation_0-rmse:443.10263\tvalidation_1-rmse:530.95300\n",
      "[90]\tvalidation_0-rmse:442.17212\tvalidation_1-rmse:530.81457\n",
      "[91]\tvalidation_0-rmse:441.52045\tvalidation_1-rmse:530.90173\n",
      "[92]\tvalidation_0-rmse:440.58493\tvalidation_1-rmse:530.68481\n",
      "[93]\tvalidation_0-rmse:440.14999\tvalidation_1-rmse:530.54944\n",
      "[94]\tvalidation_0-rmse:439.42999\tvalidation_1-rmse:530.47223\n",
      "[95]\tvalidation_0-rmse:439.14700\tvalidation_1-rmse:530.35437\n",
      "[96]\tvalidation_0-rmse:437.31476\tvalidation_1-rmse:530.19965\n",
      "[97]\tvalidation_0-rmse:435.76825\tvalidation_1-rmse:530.28424\n",
      "[98]\tvalidation_0-rmse:434.46286\tvalidation_1-rmse:529.84717\n",
      "[99]\tvalidation_0-rmse:433.83328\tvalidation_1-rmse:529.64722\n",
      "[100]\tvalidation_0-rmse:433.18085\tvalidation_1-rmse:529.63623\n",
      "[101]\tvalidation_0-rmse:431.98248\tvalidation_1-rmse:530.07343\n",
      "[102]\tvalidation_0-rmse:431.38873\tvalidation_1-rmse:530.02954\n",
      "[103]\tvalidation_0-rmse:431.05441\tvalidation_1-rmse:530.02679\n",
      "[104]\tvalidation_0-rmse:430.93555\tvalidation_1-rmse:529.94623\n",
      "[105]\tvalidation_0-rmse:430.67145\tvalidation_1-rmse:529.94543\n",
      "[106]\tvalidation_0-rmse:429.78204\tvalidation_1-rmse:529.87463\n",
      "[107]\tvalidation_0-rmse:428.85834\tvalidation_1-rmse:529.82758\n",
      "[108]\tvalidation_0-rmse:427.36020\tvalidation_1-rmse:529.43451\n",
      "[109]\tvalidation_0-rmse:426.44415\tvalidation_1-rmse:529.61719\n",
      "[110]\tvalidation_0-rmse:426.34317\tvalidation_1-rmse:529.54449\n",
      "[111]\tvalidation_0-rmse:425.50012\tvalidation_1-rmse:529.64343\n",
      "[112]\tvalidation_0-rmse:424.26608\tvalidation_1-rmse:529.16003\n",
      "[113]\tvalidation_0-rmse:423.92523\tvalidation_1-rmse:529.33136\n",
      "[114]\tvalidation_0-rmse:422.78497\tvalidation_1-rmse:529.04327\n",
      "[115]\tvalidation_0-rmse:421.76209\tvalidation_1-rmse:529.41577\n",
      "[116]\tvalidation_0-rmse:421.05160\tvalidation_1-rmse:529.65820\n",
      "[117]\tvalidation_0-rmse:420.38730\tvalidation_1-rmse:529.43976\n",
      "[118]\tvalidation_0-rmse:420.33227\tvalidation_1-rmse:529.49103\n",
      "[119]\tvalidation_0-rmse:419.45334\tvalidation_1-rmse:529.46668\n",
      "[120]\tvalidation_0-rmse:418.11057\tvalidation_1-rmse:529.30066\n",
      "[121]\tvalidation_0-rmse:417.31708\tvalidation_1-rmse:529.10394\n",
      "[122]\tvalidation_0-rmse:417.17841\tvalidation_1-rmse:529.18298\n",
      "[123]\tvalidation_0-rmse:416.50818\tvalidation_1-rmse:529.08392\n",
      "[124]\tvalidation_0-rmse:416.41748\tvalidation_1-rmse:529.02191\n",
      "[125]\tvalidation_0-rmse:415.77777\tvalidation_1-rmse:528.73151\n",
      "[126]\tvalidation_0-rmse:415.73199\tvalidation_1-rmse:528.74048\n",
      "[127]\tvalidation_0-rmse:415.34308\tvalidation_1-rmse:528.70184\n",
      "[128]\tvalidation_0-rmse:414.84781\tvalidation_1-rmse:528.62964\n",
      "[129]\tvalidation_0-rmse:414.25833\tvalidation_1-rmse:528.74072\n",
      "[130]\tvalidation_0-rmse:413.95630\tvalidation_1-rmse:528.68591\n",
      "[131]\tvalidation_0-rmse:413.34933\tvalidation_1-rmse:528.69434\n",
      "[132]\tvalidation_0-rmse:413.29971\tvalidation_1-rmse:528.76099\n",
      "[133]\tvalidation_0-rmse:412.61584\tvalidation_1-rmse:528.94574\n"
     ]
    },
    {
     "name": "stdout",
     "output_type": "stream",
     "text": [
      "[134]\tvalidation_0-rmse:411.72043\tvalidation_1-rmse:529.23926\n",
      "[135]\tvalidation_0-rmse:410.92343\tvalidation_1-rmse:529.00342\n",
      "[136]\tvalidation_0-rmse:410.70425\tvalidation_1-rmse:529.02191\n",
      "[137]\tvalidation_0-rmse:410.63678\tvalidation_1-rmse:528.98181\n",
      "[138]\tvalidation_0-rmse:409.64673\tvalidation_1-rmse:528.70306\n",
      "[139]\tvalidation_0-rmse:408.64368\tvalidation_1-rmse:528.60754\n",
      "[140]\tvalidation_0-rmse:407.87918\tvalidation_1-rmse:528.77643\n",
      "[141]\tvalidation_0-rmse:407.65222\tvalidation_1-rmse:528.79614\n",
      "[142]\tvalidation_0-rmse:407.55701\tvalidation_1-rmse:528.77850\n",
      "[143]\tvalidation_0-rmse:407.45706\tvalidation_1-rmse:528.64130\n",
      "[144]\tvalidation_0-rmse:407.08591\tvalidation_1-rmse:528.66596\n",
      "[145]\tvalidation_0-rmse:406.82190\tvalidation_1-rmse:528.57983\n",
      "[146]\tvalidation_0-rmse:406.73496\tvalidation_1-rmse:528.54010\n",
      "[147]\tvalidation_0-rmse:405.56232\tvalidation_1-rmse:528.76141\n",
      "[148]\tvalidation_0-rmse:404.99353\tvalidation_1-rmse:528.99402\n",
      "[149]\tvalidation_0-rmse:404.39078\tvalidation_1-rmse:529.02295\n",
      "[150]\tvalidation_0-rmse:403.68802\tvalidation_1-rmse:529.07880\n",
      "[151]\tvalidation_0-rmse:403.63367\tvalidation_1-rmse:529.17670\n",
      "[152]\tvalidation_0-rmse:403.06232\tvalidation_1-rmse:529.20136\n",
      "[153]\tvalidation_0-rmse:402.66846\tvalidation_1-rmse:529.12366\n",
      "[154]\tvalidation_0-rmse:402.44797\tvalidation_1-rmse:529.05926\n",
      "[155]\tvalidation_0-rmse:401.84491\tvalidation_1-rmse:528.98279\n",
      "[156]\tvalidation_0-rmse:401.79861\tvalidation_1-rmse:529.03027\n",
      "[157]\tvalidation_0-rmse:400.93601\tvalidation_1-rmse:528.94086\n",
      "[158]\tvalidation_0-rmse:400.69443\tvalidation_1-rmse:528.84741\n",
      "[159]\tvalidation_0-rmse:400.14114\tvalidation_1-rmse:528.99438\n",
      "[160]\tvalidation_0-rmse:399.58246\tvalidation_1-rmse:528.89764\n",
      "[161]\tvalidation_0-rmse:399.42828\tvalidation_1-rmse:528.89874\n",
      "[162]\tvalidation_0-rmse:398.98663\tvalidation_1-rmse:528.97730\n",
      "[163]\tvalidation_0-rmse:398.37546\tvalidation_1-rmse:528.77484\n",
      "[164]\tvalidation_0-rmse:397.51749\tvalidation_1-rmse:528.86926\n",
      "[165]\tvalidation_0-rmse:396.90958\tvalidation_1-rmse:528.77838\n",
      "[166]\tvalidation_0-rmse:396.52054\tvalidation_1-rmse:528.91748\n",
      "[167]\tvalidation_0-rmse:395.92377\tvalidation_1-rmse:528.81622\n",
      "[168]\tvalidation_0-rmse:394.78195\tvalidation_1-rmse:528.80133\n",
      "[169]\tvalidation_0-rmse:393.99539\tvalidation_1-rmse:528.78729\n",
      "[170]\tvalidation_0-rmse:393.27899\tvalidation_1-rmse:528.74701\n",
      "[171]\tvalidation_0-rmse:392.62961\tvalidation_1-rmse:528.70508\n",
      "[172]\tvalidation_0-rmse:392.57144\tvalidation_1-rmse:528.73877\n",
      "[173]\tvalidation_0-rmse:392.52646\tvalidation_1-rmse:528.71301\n",
      "[174]\tvalidation_0-rmse:391.91507\tvalidation_1-rmse:528.62683\n",
      "[175]\tvalidation_0-rmse:391.86560\tvalidation_1-rmse:528.66235\n",
      "[176]\tvalidation_0-rmse:390.44327\tvalidation_1-rmse:528.83344\n",
      "[177]\tvalidation_0-rmse:389.90088\tvalidation_1-rmse:528.76306\n",
      "[178]\tvalidation_0-rmse:389.09326\tvalidation_1-rmse:528.69989\n",
      "[179]\tvalidation_0-rmse:388.89508\tvalidation_1-rmse:528.69952\n",
      "[180]\tvalidation_0-rmse:388.75604\tvalidation_1-rmse:528.70398\n",
      "[181]\tvalidation_0-rmse:388.31491\tvalidation_1-rmse:528.69031\n",
      "[182]\tvalidation_0-rmse:387.68497\tvalidation_1-rmse:528.88635\n",
      "[183]\tvalidation_0-rmse:387.50613\tvalidation_1-rmse:528.83777\n",
      "[184]\tvalidation_0-rmse:387.47141\tvalidation_1-rmse:528.82391\n",
      "[185]\tvalidation_0-rmse:386.93424\tvalidation_1-rmse:528.86707\n",
      "[186]\tvalidation_0-rmse:386.90625\tvalidation_1-rmse:528.86877\n",
      "CPU times: user 14.5 s, sys: 675 ms, total: 15.2 s\n",
      "Wall time: 2.62 s\n"
     ]
    },
    {
     "data": {
      "text/plain": [
       "XGBRegressor(base_score=0.5, booster='gbtree', colsample_bylevel=1,\n",
       "             colsample_bynode=1, colsample_bytree=0.8, enable_categorical=False,\n",
       "             gamma=0, gpu_id=-1, importance_type=None,\n",
       "             interaction_constraints='', learning_rate=0.1, max_delta_step=0,\n",
       "             max_depth=6, min_child_weight=1, missing=nan,\n",
       "             monotone_constraints='()', n_estimators=200, n_jobs=8,\n",
       "             num_parallel_tree=1, predictor='auto', random_state=42,\n",
       "             reg_alpha=1, reg_lambda=1, scale_pos_weight=1, subsample=1,\n",
       "             tree_method='exact', validate_parameters=1, verbosity=None)"
      ]
     },
     "execution_count": 21,
     "metadata": {},
     "output_type": "execute_result"
    }
   ],
   "source": [
    "%%time\n",
    "# Model training\n",
    "model.fit(X_train, y_train,eval_set=[(X_train,y_train),(X_val,y_val)],early_stopping_rounds=40)"
   ]
  },
  {
   "cell_type": "code",
   "execution_count": 22,
   "id": "114ebca5",
   "metadata": {},
   "outputs": [
    {
     "name": "stdout",
     "output_type": "stream",
     "text": [
      "CPU times: user 79.7 ms, sys: 6.58 ms, total: 86.3 ms\n",
      "Wall time: 18.7 ms\n"
     ]
    }
   ],
   "source": [
    "%%time\n",
    "# Model predictions\n",
    "y_pred_val = model.predict(X_val)"
   ]
  },
  {
   "cell_type": "code",
   "execution_count": 23,
   "id": "653dbd7f",
   "metadata": {},
   "outputs": [
    {
     "name": "stdout",
     "output_type": "stream",
     "text": [
      "CPU times: user 196 ms, sys: 4.59 ms, total: 200 ms\n",
      "Wall time: 36.4 ms\n"
     ]
    }
   ],
   "source": [
    "%%time\n",
    "# Model predictions\n",
    "y_pred_train = model.predict(X_train)"
   ]
  },
  {
   "cell_type": "markdown",
   "id": "9d6b94a3",
   "metadata": {},
   "source": [
    "## 9. Training set error"
   ]
  },
  {
   "cell_type": "code",
   "execution_count": 24,
   "id": "a88fcb5b",
   "metadata": {},
   "outputs": [
    {
     "data": {
      "text/plain": [
       "406.7349402669031"
      ]
     },
     "execution_count": 24,
     "metadata": {},
     "output_type": "execute_result"
    }
   ],
   "source": [
    "# Model predictions\n",
    "rmse_train = mean_squared_error(y_train, y_pred_train)**0.5\n",
    "rmse_train"
   ]
  },
  {
   "cell_type": "code",
   "execution_count": 25,
   "id": "cb7a3f86",
   "metadata": {},
   "outputs": [
    {
     "data": {
      "text/plain": [
       "228.50397469955857"
      ]
     },
     "execution_count": 25,
     "metadata": {},
     "output_type": "execute_result"
    }
   ],
   "source": [
    "mae_train=mean_absolute_error(y_train, y_pred_train)\n",
    "mae_train"
   ]
  },
  {
   "cell_type": "code",
   "execution_count": 26,
   "id": "d1b6a927",
   "metadata": {},
   "outputs": [
    {
     "data": {
      "text/plain": [
       "0.9828456740423707"
      ]
     },
     "execution_count": 26,
     "metadata": {},
     "output_type": "execute_result"
    }
   ],
   "source": [
    "r2r = r2_score(y_val, y_pred_val)\n",
    "r2r"
   ]
  },
  {
   "cell_type": "markdown",
   "id": "2bfd4334",
   "metadata": {},
   "source": [
    "## 9. Validation set error"
   ]
  },
  {
   "cell_type": "code",
   "execution_count": 27,
   "id": "589c945e",
   "metadata": {},
   "outputs": [
    {
     "data": {
      "text/plain": [
       "528.5401536791891"
      ]
     },
     "execution_count": 27,
     "metadata": {},
     "output_type": "execute_result"
    }
   ],
   "source": [
    "#432\n",
    "rmse_val = mean_squared_error(y_val, y_pred_val)**0.5\n",
    "rmse_val"
   ]
  },
  {
   "cell_type": "code",
   "execution_count": 28,
   "id": "2cc1fbe1",
   "metadata": {},
   "outputs": [
    {
     "data": {
      "text/plain": [
       "271.8974370809085"
      ]
     },
     "execution_count": 28,
     "metadata": {},
     "output_type": "execute_result"
    }
   ],
   "source": [
    "mae_val=mean_absolute_error(y_val, y_pred_val)\n",
    "mae_val"
   ]
  },
  {
   "cell_type": "code",
   "execution_count": 29,
   "id": "e4b6f7bf",
   "metadata": {},
   "outputs": [
    {
     "data": {
      "text/plain": [
       "0.9828456740423707"
      ]
     },
     "execution_count": 29,
     "metadata": {},
     "output_type": "execute_result"
    }
   ],
   "source": [
    "r2r = r2_score(y_val, y_pred_val)\n",
    "r2r"
   ]
  },
  {
   "cell_type": "markdown",
   "id": "46e824c3",
   "metadata": {},
   "source": [
    "## 10. Model training without validation"
   ]
  },
  {
   "cell_type": "code",
   "execution_count": 30,
   "id": "0761fd7d",
   "metadata": {},
   "outputs": [
    {
     "name": "stdout",
     "output_type": "stream",
     "text": [
      "[0]\tvalidation_0-rmse:5048.78076\tvalidation_1-rmse:5087.30908\n",
      "[1]\tvalidation_0-rmse:4560.51123\tvalidation_1-rmse:4597.12061\n",
      "[2]\tvalidation_0-rmse:4121.58301\tvalidation_1-rmse:4156.11377\n",
      "[3]\tvalidation_0-rmse:3728.11719\tvalidation_1-rmse:3760.80078\n",
      "[4]\tvalidation_0-rmse:3372.50244\tvalidation_1-rmse:3403.88306\n",
      "[5]\tvalidation_0-rmse:3053.63525\tvalidation_1-rmse:3083.90088\n",
      "[6]\tvalidation_0-rmse:2770.06714\tvalidation_1-rmse:2798.31665\n",
      "[7]\tvalidation_0-rmse:2513.57324\tvalidation_1-rmse:2539.69287\n",
      "[8]\tvalidation_0-rmse:2283.63696\tvalidation_1-rmse:2310.04468\n",
      "[9]\tvalidation_0-rmse:2077.72949\tvalidation_1-rmse:2103.17798\n",
      "[10]\tvalidation_0-rmse:1893.39062\tvalidation_1-rmse:1916.80481\n",
      "[11]\tvalidation_0-rmse:1728.79297\tvalidation_1-rmse:1749.74353\n",
      "[12]\tvalidation_0-rmse:1581.59228\tvalidation_1-rmse:1600.14465\n",
      "[13]\tvalidation_0-rmse:1449.89734\tvalidation_1-rmse:1467.38135\n",
      "[14]\tvalidation_0-rmse:1333.08093\tvalidation_1-rmse:1349.81543\n",
      "[15]\tvalidation_0-rmse:1231.29407\tvalidation_1-rmse:1247.80481\n",
      "[16]\tvalidation_0-rmse:1139.02966\tvalidation_1-rmse:1155.29639\n",
      "[17]\tvalidation_0-rmse:1057.62317\tvalidation_1-rmse:1073.60181\n",
      "[18]\tvalidation_0-rmse:986.33301\tvalidation_1-rmse:1001.44238\n",
      "[19]\tvalidation_0-rmse:922.60919\tvalidation_1-rmse:937.04968\n",
      "[20]\tvalidation_0-rmse:867.14551\tvalidation_1-rmse:880.83612\n",
      "[21]\tvalidation_0-rmse:819.04822\tvalidation_1-rmse:831.04553\n",
      "[22]\tvalidation_0-rmse:775.45398\tvalidation_1-rmse:786.71716\n",
      "[23]\tvalidation_0-rmse:738.70337\tvalidation_1-rmse:750.04883\n",
      "[24]\tvalidation_0-rmse:707.69849\tvalidation_1-rmse:717.95136\n",
      "[25]\tvalidation_0-rmse:679.41571\tvalidation_1-rmse:687.90790\n",
      "[26]\tvalidation_0-rmse:655.04993\tvalidation_1-rmse:661.73315\n",
      "[27]\tvalidation_0-rmse:634.23669\tvalidation_1-rmse:640.00116\n",
      "[28]\tvalidation_0-rmse:616.27246\tvalidation_1-rmse:621.27441\n",
      "[29]\tvalidation_0-rmse:600.72150\tvalidation_1-rmse:604.92053\n",
      "[30]\tvalidation_0-rmse:587.19067\tvalidation_1-rmse:590.79279\n",
      "[31]\tvalidation_0-rmse:575.51373\tvalidation_1-rmse:578.49738\n",
      "[32]\tvalidation_0-rmse:565.66363\tvalidation_1-rmse:568.07428\n",
      "[33]\tvalidation_0-rmse:556.73657\tvalidation_1-rmse:559.07703\n",
      "[34]\tvalidation_0-rmse:548.88708\tvalidation_1-rmse:551.25537\n",
      "[35]\tvalidation_0-rmse:542.66968\tvalidation_1-rmse:544.61377\n",
      "[36]\tvalidation_0-rmse:536.54266\tvalidation_1-rmse:538.58795\n",
      "[37]\tvalidation_0-rmse:531.69757\tvalidation_1-rmse:532.87421\n",
      "[38]\tvalidation_0-rmse:527.07507\tvalidation_1-rmse:528.08881\n",
      "[39]\tvalidation_0-rmse:523.12775\tvalidation_1-rmse:523.62347\n",
      "[40]\tvalidation_0-rmse:519.56494\tvalidation_1-rmse:519.86548\n",
      "[41]\tvalidation_0-rmse:516.40881\tvalidation_1-rmse:516.84759\n",
      "[42]\tvalidation_0-rmse:513.21313\tvalidation_1-rmse:513.47406\n",
      "[43]\tvalidation_0-rmse:510.35306\tvalidation_1-rmse:510.79587\n",
      "[44]\tvalidation_0-rmse:508.11469\tvalidation_1-rmse:508.50220\n",
      "[45]\tvalidation_0-rmse:505.94443\tvalidation_1-rmse:506.32864\n",
      "[46]\tvalidation_0-rmse:503.69287\tvalidation_1-rmse:504.08533\n",
      "[47]\tvalidation_0-rmse:501.68967\tvalidation_1-rmse:502.08481\n",
      "[48]\tvalidation_0-rmse:500.21860\tvalidation_1-rmse:500.18964\n",
      "[49]\tvalidation_0-rmse:498.38223\tvalidation_1-rmse:498.51209\n",
      "[50]\tvalidation_0-rmse:496.90155\tvalidation_1-rmse:496.66434\n",
      "[51]\tvalidation_0-rmse:495.46237\tvalidation_1-rmse:495.32730\n",
      "[52]\tvalidation_0-rmse:493.78601\tvalidation_1-rmse:493.65958\n",
      "[53]\tvalidation_0-rmse:491.56128\tvalidation_1-rmse:491.72589\n",
      "[54]\tvalidation_0-rmse:490.05514\tvalidation_1-rmse:490.53220\n",
      "[55]\tvalidation_0-rmse:488.29514\tvalidation_1-rmse:488.42511\n",
      "[56]\tvalidation_0-rmse:487.05051\tvalidation_1-rmse:487.15155\n",
      "[57]\tvalidation_0-rmse:485.72852\tvalidation_1-rmse:485.57098\n",
      "[58]\tvalidation_0-rmse:484.36493\tvalidation_1-rmse:484.28351\n",
      "[59]\tvalidation_0-rmse:482.88977\tvalidation_1-rmse:482.67819\n",
      "[60]\tvalidation_0-rmse:481.74915\tvalidation_1-rmse:481.90936\n",
      "[61]\tvalidation_0-rmse:480.47400\tvalidation_1-rmse:480.66504\n",
      "[62]\tvalidation_0-rmse:479.27463\tvalidation_1-rmse:479.44052\n",
      "[63]\tvalidation_0-rmse:478.62946\tvalidation_1-rmse:478.60474\n",
      "[64]\tvalidation_0-rmse:476.97104\tvalidation_1-rmse:477.15656\n",
      "[65]\tvalidation_0-rmse:475.93613\tvalidation_1-rmse:475.66351\n",
      "[66]\tvalidation_0-rmse:474.83978\tvalidation_1-rmse:474.47681\n",
      "[67]\tvalidation_0-rmse:473.24561\tvalidation_1-rmse:472.18420\n",
      "[68]\tvalidation_0-rmse:472.04831\tvalidation_1-rmse:471.28992\n",
      "[69]\tvalidation_0-rmse:470.43445\tvalidation_1-rmse:469.87030\n",
      "[70]\tvalidation_0-rmse:468.90591\tvalidation_1-rmse:468.36374\n",
      "[71]\tvalidation_0-rmse:468.07504\tvalidation_1-rmse:467.31930\n",
      "[72]\tvalidation_0-rmse:467.36679\tvalidation_1-rmse:466.71573\n",
      "[73]\tvalidation_0-rmse:466.88614\tvalidation_1-rmse:466.21869\n",
      "[74]\tvalidation_0-rmse:465.76105\tvalidation_1-rmse:464.70499\n",
      "[75]\tvalidation_0-rmse:464.72824\tvalidation_1-rmse:463.65372\n",
      "[76]\tvalidation_0-rmse:463.11584\tvalidation_1-rmse:462.07281\n",
      "[77]\tvalidation_0-rmse:462.63110\tvalidation_1-rmse:461.58273\n",
      "[78]\tvalidation_0-rmse:461.37573\tvalidation_1-rmse:460.56921\n",
      "[79]\tvalidation_0-rmse:460.77063\tvalidation_1-rmse:459.70340\n",
      "[80]\tvalidation_0-rmse:459.65213\tvalidation_1-rmse:458.70825\n",
      "[81]\tvalidation_0-rmse:458.43115\tvalidation_1-rmse:457.79675\n",
      "[82]\tvalidation_0-rmse:457.71045\tvalidation_1-rmse:457.02768\n",
      "[83]\tvalidation_0-rmse:457.34595\tvalidation_1-rmse:456.42664\n",
      "[84]\tvalidation_0-rmse:456.80228\tvalidation_1-rmse:455.97909\n",
      "[85]\tvalidation_0-rmse:455.59287\tvalidation_1-rmse:454.87717\n",
      "[86]\tvalidation_0-rmse:454.29336\tvalidation_1-rmse:453.33557\n",
      "[87]\tvalidation_0-rmse:453.24316\tvalidation_1-rmse:452.32223\n",
      "[88]\tvalidation_0-rmse:452.62219\tvalidation_1-rmse:451.93863\n",
      "[89]\tvalidation_0-rmse:451.77277\tvalidation_1-rmse:450.94095\n",
      "[90]\tvalidation_0-rmse:451.08154\tvalidation_1-rmse:450.02188\n",
      "[91]\tvalidation_0-rmse:450.35693\tvalidation_1-rmse:449.30746\n",
      "[92]\tvalidation_0-rmse:450.22553\tvalidation_1-rmse:449.18594\n",
      "[93]\tvalidation_0-rmse:449.42911\tvalidation_1-rmse:448.72919\n",
      "[94]\tvalidation_0-rmse:448.46133\tvalidation_1-rmse:447.84372\n",
      "[95]\tvalidation_0-rmse:447.69415\tvalidation_1-rmse:447.16666\n",
      "[96]\tvalidation_0-rmse:447.27823\tvalidation_1-rmse:446.56302\n",
      "[97]\tvalidation_0-rmse:446.25403\tvalidation_1-rmse:445.48981\n",
      "[98]\tvalidation_0-rmse:445.42032\tvalidation_1-rmse:444.81848\n",
      "[99]\tvalidation_0-rmse:444.58893\tvalidation_1-rmse:444.46167\n",
      "[100]\tvalidation_0-rmse:444.12854\tvalidation_1-rmse:443.76172\n",
      "[101]\tvalidation_0-rmse:443.61386\tvalidation_1-rmse:442.92636\n",
      "[102]\tvalidation_0-rmse:443.50882\tvalidation_1-rmse:442.82816\n",
      "[103]\tvalidation_0-rmse:442.84094\tvalidation_1-rmse:442.31271\n",
      "[104]\tvalidation_0-rmse:442.72266\tvalidation_1-rmse:442.20947\n",
      "[105]\tvalidation_0-rmse:442.31021\tvalidation_1-rmse:441.85614\n",
      "[106]\tvalidation_0-rmse:441.99741\tvalidation_1-rmse:441.52856\n",
      "[107]\tvalidation_0-rmse:441.15362\tvalidation_1-rmse:440.46976\n",
      "[108]\tvalidation_0-rmse:441.03018\tvalidation_1-rmse:440.35916\n",
      "[109]\tvalidation_0-rmse:440.14404\tvalidation_1-rmse:439.44784\n",
      "[110]\tvalidation_0-rmse:440.00211\tvalidation_1-rmse:439.33136\n",
      "[111]\tvalidation_0-rmse:438.87372\tvalidation_1-rmse:438.06067\n",
      "[112]\tvalidation_0-rmse:438.18323\tvalidation_1-rmse:437.41000\n",
      "[113]\tvalidation_0-rmse:437.77982\tvalidation_1-rmse:437.20816\n",
      "[114]\tvalidation_0-rmse:436.80701\tvalidation_1-rmse:436.16614\n",
      "[115]\tvalidation_0-rmse:435.85968\tvalidation_1-rmse:434.94113\n",
      "[116]\tvalidation_0-rmse:435.57660\tvalidation_1-rmse:434.68387\n",
      "[117]\tvalidation_0-rmse:435.50943\tvalidation_1-rmse:434.62643\n",
      "[118]\tvalidation_0-rmse:435.32355\tvalidation_1-rmse:434.45380\n",
      "[119]\tvalidation_0-rmse:435.20111\tvalidation_1-rmse:434.34818\n",
      "[120]\tvalidation_0-rmse:434.54273\tvalidation_1-rmse:433.38559\n",
      "[121]\tvalidation_0-rmse:433.93472\tvalidation_1-rmse:432.61865\n",
      "[122]\tvalidation_0-rmse:433.58743\tvalidation_1-rmse:432.11484\n",
      "[123]\tvalidation_0-rmse:433.49536\tvalidation_1-rmse:432.03720\n",
      "[124]\tvalidation_0-rmse:433.33835\tvalidation_1-rmse:431.85458\n",
      "[125]\tvalidation_0-rmse:432.72559\tvalidation_1-rmse:431.02545\n",
      "[126]\tvalidation_0-rmse:431.87427\tvalidation_1-rmse:430.03451\n",
      "[127]\tvalidation_0-rmse:431.05997\tvalidation_1-rmse:429.30917\n",
      "[128]\tvalidation_0-rmse:430.99783\tvalidation_1-rmse:429.23724\n",
      "[129]\tvalidation_0-rmse:430.65402\tvalidation_1-rmse:428.51996\n",
      "[130]\tvalidation_0-rmse:430.12686\tvalidation_1-rmse:427.77612\n",
      "[131]\tvalidation_0-rmse:429.34824\tvalidation_1-rmse:427.10718\n",
      "[132]\tvalidation_0-rmse:429.26874\tvalidation_1-rmse:427.04309\n",
      "[133]\tvalidation_0-rmse:429.22275\tvalidation_1-rmse:427.00241\n"
     ]
    },
    {
     "name": "stdout",
     "output_type": "stream",
     "text": [
      "[134]\tvalidation_0-rmse:429.03751\tvalidation_1-rmse:426.82028\n",
      "[135]\tvalidation_0-rmse:428.63422\tvalidation_1-rmse:426.47473\n",
      "[136]\tvalidation_0-rmse:428.25781\tvalidation_1-rmse:426.15961\n",
      "[137]\tvalidation_0-rmse:427.41715\tvalidation_1-rmse:425.36350\n",
      "[138]\tvalidation_0-rmse:426.39966\tvalidation_1-rmse:424.44168\n",
      "[139]\tvalidation_0-rmse:426.14548\tvalidation_1-rmse:424.18866\n",
      "[140]\tvalidation_0-rmse:425.54807\tvalidation_1-rmse:423.40637\n",
      "[141]\tvalidation_0-rmse:424.74588\tvalidation_1-rmse:422.52145\n",
      "[142]\tvalidation_0-rmse:424.53650\tvalidation_1-rmse:422.32080\n",
      "[143]\tvalidation_0-rmse:424.28876\tvalidation_1-rmse:421.94772\n",
      "[144]\tvalidation_0-rmse:423.73218\tvalidation_1-rmse:421.35541\n",
      "[145]\tvalidation_0-rmse:423.68399\tvalidation_1-rmse:421.28751\n",
      "[146]\tvalidation_0-rmse:422.76389\tvalidation_1-rmse:420.49701\n",
      "[147]\tvalidation_0-rmse:422.14563\tvalidation_1-rmse:420.19379\n",
      "[148]\tvalidation_0-rmse:421.83908\tvalidation_1-rmse:419.95749\n",
      "[149]\tvalidation_0-rmse:421.37454\tvalidation_1-rmse:419.61243\n",
      "[150]\tvalidation_0-rmse:421.02335\tvalidation_1-rmse:419.30994\n",
      "[151]\tvalidation_0-rmse:420.34454\tvalidation_1-rmse:418.65616\n",
      "[152]\tvalidation_0-rmse:420.15616\tvalidation_1-rmse:418.43192\n",
      "[153]\tvalidation_0-rmse:419.89166\tvalidation_1-rmse:418.14468\n",
      "[154]\tvalidation_0-rmse:419.18991\tvalidation_1-rmse:417.14676\n",
      "[155]\tvalidation_0-rmse:419.12909\tvalidation_1-rmse:417.09253\n",
      "[156]\tvalidation_0-rmse:418.83157\tvalidation_1-rmse:416.74075\n",
      "[157]\tvalidation_0-rmse:418.18817\tvalidation_1-rmse:416.11374\n",
      "[158]\tvalidation_0-rmse:417.37836\tvalidation_1-rmse:415.37787\n",
      "[159]\tvalidation_0-rmse:416.91620\tvalidation_1-rmse:415.06949\n",
      "[160]\tvalidation_0-rmse:416.09174\tvalidation_1-rmse:414.28171\n",
      "[161]\tvalidation_0-rmse:415.59699\tvalidation_1-rmse:413.80200\n",
      "[162]\tvalidation_0-rmse:414.88428\tvalidation_1-rmse:412.84638\n",
      "[163]\tvalidation_0-rmse:414.00861\tvalidation_1-rmse:412.11243\n",
      "[164]\tvalidation_0-rmse:413.97894\tvalidation_1-rmse:412.07288\n",
      "[165]\tvalidation_0-rmse:413.87497\tvalidation_1-rmse:411.96210\n",
      "[166]\tvalidation_0-rmse:413.36350\tvalidation_1-rmse:411.41846\n",
      "[167]\tvalidation_0-rmse:412.77875\tvalidation_1-rmse:410.77875\n",
      "[168]\tvalidation_0-rmse:412.16690\tvalidation_1-rmse:410.18369\n",
      "[169]\tvalidation_0-rmse:411.70706\tvalidation_1-rmse:409.80447\n",
      "[170]\tvalidation_0-rmse:411.14145\tvalidation_1-rmse:409.21378\n",
      "[171]\tvalidation_0-rmse:410.60892\tvalidation_1-rmse:408.84814\n",
      "[172]\tvalidation_0-rmse:410.57858\tvalidation_1-rmse:408.82181\n",
      "[173]\tvalidation_0-rmse:409.86398\tvalidation_1-rmse:408.21286\n",
      "[174]\tvalidation_0-rmse:408.90460\tvalidation_1-rmse:407.45074\n",
      "[175]\tvalidation_0-rmse:408.37097\tvalidation_1-rmse:407.05942\n",
      "[176]\tvalidation_0-rmse:407.74564\tvalidation_1-rmse:406.23245\n",
      "[177]\tvalidation_0-rmse:407.24484\tvalidation_1-rmse:405.69614\n",
      "[178]\tvalidation_0-rmse:407.07840\tvalidation_1-rmse:405.56372\n",
      "[179]\tvalidation_0-rmse:406.89401\tvalidation_1-rmse:405.43097\n",
      "[180]\tvalidation_0-rmse:406.28751\tvalidation_1-rmse:405.00617\n",
      "[181]\tvalidation_0-rmse:405.82956\tvalidation_1-rmse:404.60712\n",
      "[182]\tvalidation_0-rmse:405.51749\tvalidation_1-rmse:404.46359\n",
      "[183]\tvalidation_0-rmse:405.40457\tvalidation_1-rmse:404.33990\n",
      "[184]\tvalidation_0-rmse:404.86209\tvalidation_1-rmse:403.91101\n",
      "[185]\tvalidation_0-rmse:404.74298\tvalidation_1-rmse:403.82193\n",
      "[186]\tvalidation_0-rmse:404.40659\tvalidation_1-rmse:403.62930\n",
      "[187]\tvalidation_0-rmse:404.14972\tvalidation_1-rmse:403.43826\n",
      "[188]\tvalidation_0-rmse:403.95990\tvalidation_1-rmse:403.20615\n",
      "[189]\tvalidation_0-rmse:403.51111\tvalidation_1-rmse:402.73599\n",
      "[190]\tvalidation_0-rmse:403.28293\tvalidation_1-rmse:402.55936\n",
      "[191]\tvalidation_0-rmse:403.25110\tvalidation_1-rmse:402.52200\n",
      "[192]\tvalidation_0-rmse:402.34918\tvalidation_1-rmse:401.56412\n",
      "[193]\tvalidation_0-rmse:402.15771\tvalidation_1-rmse:401.39362\n",
      "[194]\tvalidation_0-rmse:402.12607\tvalidation_1-rmse:401.36578\n",
      "[195]\tvalidation_0-rmse:401.61215\tvalidation_1-rmse:401.00446\n",
      "[196]\tvalidation_0-rmse:401.19290\tvalidation_1-rmse:400.72702\n",
      "[197]\tvalidation_0-rmse:400.74768\tvalidation_1-rmse:400.31580\n",
      "[198]\tvalidation_0-rmse:400.58014\tvalidation_1-rmse:400.16937\n",
      "[199]\tvalidation_0-rmse:400.51059\tvalidation_1-rmse:400.15256\n",
      "CPU times: user 19 s, sys: 797 ms, total: 19.8 s\n",
      "Wall time: 3.32 s\n"
     ]
    },
    {
     "data": {
      "text/plain": [
       "XGBRegressor(base_score=0.5, booster='gbtree', colsample_bylevel=1,\n",
       "             colsample_bynode=1, colsample_bytree=0.8, enable_categorical=False,\n",
       "             gamma=0, gpu_id=-1, importance_type=None,\n",
       "             interaction_constraints='', learning_rate=0.1, max_delta_step=0,\n",
       "             max_depth=6, min_child_weight=1, missing=nan,\n",
       "             monotone_constraints='()', n_estimators=200, n_jobs=8,\n",
       "             num_parallel_tree=1, predictor='auto', random_state=42,\n",
       "             reg_alpha=1, reg_lambda=1, scale_pos_weight=1, subsample=1,\n",
       "             tree_method='exact', validate_parameters=1, verbosity=None)"
      ]
     },
     "execution_count": 30,
     "metadata": {},
     "output_type": "execute_result"
    }
   ],
   "source": [
    "%%time\n",
    "# Model training\n",
    "model.fit(X, y,eval_set=[(X_train,y_train),(X_val,y_val)],early_stopping_rounds=40)"
   ]
  },
  {
   "cell_type": "markdown",
   "id": "8f5f534f",
   "metadata": {},
   "source": [
    "## 11. Test Preditions"
   ]
  },
  {
   "cell_type": "code",
   "execution_count": 31,
   "id": "9085827c",
   "metadata": {},
   "outputs": [],
   "source": [
    "predictions = model.predict(X_test)"
   ]
  },
  {
   "cell_type": "code",
   "execution_count": 32,
   "id": "4d010675",
   "metadata": {},
   "outputs": [],
   "source": [
    "predictions=pd.DataFrame(predictions)"
   ]
  },
  {
   "cell_type": "code",
   "execution_count": 33,
   "id": "9d2ca3df",
   "metadata": {},
   "outputs": [],
   "source": [
    "predictions.reset_index(inplace=True)"
   ]
  },
  {
   "cell_type": "code",
   "execution_count": 34,
   "id": "2c805a71",
   "metadata": {},
   "outputs": [],
   "source": [
    "predictions=predictions.rename({0: 'price','index': 'id'}, axis=1)"
   ]
  },
  {
   "cell_type": "markdown",
   "id": "01a0cf38",
   "metadata": {},
   "source": [
    "## 12. Save Preditions"
   ]
  },
  {
   "cell_type": "code",
   "execution_count": 35,
   "id": "da3f74be",
   "metadata": {},
   "outputs": [],
   "source": [
    "predictions.to_csv('../data/diamonds_predictions_2.csv',index=False)"
   ]
  }
 ],
 "metadata": {
  "kernelspec": {
   "display_name": "Python [conda env:ML]",
   "language": "python",
   "name": "conda-env-ML-py"
  },
  "language_info": {
   "codemirror_mode": {
    "name": "ipython",
    "version": 3
   },
   "file_extension": ".py",
   "mimetype": "text/x-python",
   "name": "python",
   "nbconvert_exporter": "python",
   "pygments_lexer": "ipython3",
   "version": "3.7.13"
  }
 },
 "nbformat": 4,
 "nbformat_minor": 5
}
