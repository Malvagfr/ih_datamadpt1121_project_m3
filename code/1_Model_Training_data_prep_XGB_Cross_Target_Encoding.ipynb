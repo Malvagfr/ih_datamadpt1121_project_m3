{
 "cells": [
  {
   "cell_type": "markdown",
   "id": "c1df95e2",
   "metadata": {},
   "source": [
    "## 0. Libraries import"
   ]
  },
  {
   "cell_type": "code",
   "execution_count": 127,
   "id": "a17f838c",
   "metadata": {},
   "outputs": [],
   "source": [
    "# ignore warnings\n",
    "import warnings\n",
    "warnings.filterwarnings('ignore')"
   ]
  },
  {
   "cell_type": "code",
   "execution_count": 128,
   "id": "15bd2943",
   "metadata": {},
   "outputs": [],
   "source": [
    "# imports \n",
    "import numpy as np\n",
    "import pandas as pd\n",
    "pd.set_option(\"display.max_columns\", 50)\n",
    "import matplotlib.pyplot as plt\n",
    "%matplotlib inline\n",
    "from sklearn.preprocessing import StandardScaler\n",
    "#train test split\n",
    "from sklearn.model_selection import train_test_split\n",
    "# Hyperparameters selection\n",
    "from sklearn.model_selection import RandomizedSearchCV\n",
    "# Importing cross validation function from sklearn\n",
    "from sklearn.model_selection import cross_val_score\n",
    "# models\n",
    "from sklearn.ensemble import RandomForestRegressor\n",
    "from xgboost import XGBRegressor\n",
    "from sklearn.neighbors import KNeighborsRegressor\n",
    "# error\n",
    "from sklearn.metrics import mean_squared_error,r2_score,mean_absolute_error"
   ]
  },
  {
   "cell_type": "markdown",
   "id": "894bdee3",
   "metadata": {},
   "source": [
    "## 1. Data import"
   ]
  },
  {
   "cell_type": "markdown",
   "id": "0557a331",
   "metadata": {},
   "source": [
    "### 1.1 Impor train data"
   ]
  },
  {
   "cell_type": "code",
   "execution_count": 129,
   "id": "b35aa513",
   "metadata": {},
   "outputs": [
    {
     "data": {
      "text/html": [
       "<div>\n",
       "<style scoped>\n",
       "    .dataframe tbody tr th:only-of-type {\n",
       "        vertical-align: middle;\n",
       "    }\n",
       "\n",
       "    .dataframe tbody tr th {\n",
       "        vertical-align: top;\n",
       "    }\n",
       "\n",
       "    .dataframe thead th {\n",
       "        text-align: right;\n",
       "    }\n",
       "</style>\n",
       "<table border=\"1\" class=\"dataframe\">\n",
       "  <thead>\n",
       "    <tr style=\"text-align: right;\">\n",
       "      <th></th>\n",
       "      <th>index_id</th>\n",
       "      <th>depth</th>\n",
       "      <th>table</th>\n",
       "      <th>x</th>\n",
       "      <th>y</th>\n",
       "      <th>z</th>\n",
       "      <th>price</th>\n",
       "      <th>carat</th>\n",
       "      <th>cut</th>\n",
       "      <th>color</th>\n",
       "      <th>clarity</th>\n",
       "      <th>city</th>\n",
       "    </tr>\n",
       "  </thead>\n",
       "  <tbody>\n",
       "    <tr>\n",
       "      <th>0</th>\n",
       "      <td>5feceb66ffc86f38d952786c6d696c79c2dbc239dd4e91...</td>\n",
       "      <td>62.4</td>\n",
       "      <td>58.0</td>\n",
       "      <td>6.83</td>\n",
       "      <td>6.79</td>\n",
       "      <td>4.25</td>\n",
       "      <td>4268</td>\n",
       "      <td>1.21</td>\n",
       "      <td>Premium</td>\n",
       "      <td>J</td>\n",
       "      <td>VS2</td>\n",
       "      <td>Dubai</td>\n",
       "    </tr>\n",
       "    <tr>\n",
       "      <th>1</th>\n",
       "      <td>6b86b273ff34fce19d6b804eff5a3f5747ada4eaa22f1d...</td>\n",
       "      <td>63.0</td>\n",
       "      <td>57.0</td>\n",
       "      <td>4.35</td>\n",
       "      <td>4.38</td>\n",
       "      <td>2.75</td>\n",
       "      <td>505</td>\n",
       "      <td>0.32</td>\n",
       "      <td>Very Good</td>\n",
       "      <td>H</td>\n",
       "      <td>VS2</td>\n",
       "      <td>Kimberly</td>\n",
       "    </tr>\n",
       "    <tr>\n",
       "      <th>2</th>\n",
       "      <td>d4735e3a265e16eee03f59718b9b5d03019c07d8b6c51f...</td>\n",
       "      <td>65.5</td>\n",
       "      <td>55.0</td>\n",
       "      <td>5.62</td>\n",
       "      <td>5.53</td>\n",
       "      <td>3.65</td>\n",
       "      <td>2686</td>\n",
       "      <td>0.71</td>\n",
       "      <td>Fair</td>\n",
       "      <td>G</td>\n",
       "      <td>VS1</td>\n",
       "      <td>Las Vegas</td>\n",
       "    </tr>\n",
       "    <tr>\n",
       "      <th>3</th>\n",
       "      <td>4e07408562bedb8b60ce05c1decfe3ad16b72230967de0...</td>\n",
       "      <td>63.8</td>\n",
       "      <td>56.0</td>\n",
       "      <td>4.68</td>\n",
       "      <td>4.72</td>\n",
       "      <td>3.00</td>\n",
       "      <td>738</td>\n",
       "      <td>0.41</td>\n",
       "      <td>Good</td>\n",
       "      <td>D</td>\n",
       "      <td>SI1</td>\n",
       "      <td>Kimberly</td>\n",
       "    </tr>\n",
       "    <tr>\n",
       "      <th>4</th>\n",
       "      <td>4b227777d4dd1fc61c6f884f48641d02b4d121d3fd328c...</td>\n",
       "      <td>60.5</td>\n",
       "      <td>59.0</td>\n",
       "      <td>6.55</td>\n",
       "      <td>6.51</td>\n",
       "      <td>3.95</td>\n",
       "      <td>4882</td>\n",
       "      <td>1.02</td>\n",
       "      <td>Ideal</td>\n",
       "      <td>G</td>\n",
       "      <td>SI1</td>\n",
       "      <td>Dubai</td>\n",
       "    </tr>\n",
       "    <tr>\n",
       "      <th>...</th>\n",
       "      <td>...</td>\n",
       "      <td>...</td>\n",
       "      <td>...</td>\n",
       "      <td>...</td>\n",
       "      <td>...</td>\n",
       "      <td>...</td>\n",
       "      <td>...</td>\n",
       "      <td>...</td>\n",
       "      <td>...</td>\n",
       "      <td>...</td>\n",
       "      <td>...</td>\n",
       "      <td>...</td>\n",
       "    </tr>\n",
       "    <tr>\n",
       "      <th>40450</th>\n",
       "      <td>f0bc79169405ebeb24e308055156b946ffd819db9b4f75...</td>\n",
       "      <td>62.7</td>\n",
       "      <td>57.0</td>\n",
       "      <td>7.10</td>\n",
       "      <td>7.04</td>\n",
       "      <td>4.43</td>\n",
       "      <td>10070</td>\n",
       "      <td>1.34</td>\n",
       "      <td>Ideal</td>\n",
       "      <td>G</td>\n",
       "      <td>VS1</td>\n",
       "      <td>Antwerp</td>\n",
       "    </tr>\n",
       "    <tr>\n",
       "      <th>40451</th>\n",
       "      <td>339916a23bf22b052b54cb2a9b36ee8418c1c68b46acad...</td>\n",
       "      <td>57.1</td>\n",
       "      <td>60.0</td>\n",
       "      <td>8.31</td>\n",
       "      <td>8.25</td>\n",
       "      <td>4.73</td>\n",
       "      <td>12615</td>\n",
       "      <td>2.02</td>\n",
       "      <td>Good</td>\n",
       "      <td>F</td>\n",
       "      <td>SI2</td>\n",
       "      <td>Madrid</td>\n",
       "    </tr>\n",
       "    <tr>\n",
       "      <th>40452</th>\n",
       "      <td>46957922b99954654c1deb8d854c3f069bf118b2ce9415...</td>\n",
       "      <td>62.7</td>\n",
       "      <td>56.0</td>\n",
       "      <td>6.37</td>\n",
       "      <td>6.42</td>\n",
       "      <td>4.01</td>\n",
       "      <td>5457</td>\n",
       "      <td>1.01</td>\n",
       "      <td>Ideal</td>\n",
       "      <td>H</td>\n",
       "      <td>SI1</td>\n",
       "      <td>Kimberly</td>\n",
       "    </tr>\n",
       "    <tr>\n",
       "      <th>40453</th>\n",
       "      <td>9d733392d362d5c6f1d9b9659b601c7d4b5a1c1c8df579...</td>\n",
       "      <td>61.9</td>\n",
       "      <td>54.3</td>\n",
       "      <td>4.45</td>\n",
       "      <td>4.47</td>\n",
       "      <td>2.76</td>\n",
       "      <td>456</td>\n",
       "      <td>0.33</td>\n",
       "      <td>Ideal</td>\n",
       "      <td>J</td>\n",
       "      <td>VS1</td>\n",
       "      <td>Kimberly</td>\n",
       "    </tr>\n",
       "    <tr>\n",
       "      <th>40454</th>\n",
       "      <td>a02744a70faa594d240b067f21fcc23a8d17cd1098a9fb...</td>\n",
       "      <td>62.0</td>\n",
       "      <td>58.0</td>\n",
       "      <td>6.83</td>\n",
       "      <td>6.88</td>\n",
       "      <td>4.25</td>\n",
       "      <td>6232</td>\n",
       "      <td>1.24</td>\n",
       "      <td>Ideal</td>\n",
       "      <td>I</td>\n",
       "      <td>SI1</td>\n",
       "      <td>London</td>\n",
       "    </tr>\n",
       "  </tbody>\n",
       "</table>\n",
       "<p>40455 rows × 12 columns</p>\n",
       "</div>"
      ],
      "text/plain": [
       "                                                index_id  depth  table     x  \\\n",
       "0      5feceb66ffc86f38d952786c6d696c79c2dbc239dd4e91...   62.4   58.0  6.83   \n",
       "1      6b86b273ff34fce19d6b804eff5a3f5747ada4eaa22f1d...   63.0   57.0  4.35   \n",
       "2      d4735e3a265e16eee03f59718b9b5d03019c07d8b6c51f...   65.5   55.0  5.62   \n",
       "3      4e07408562bedb8b60ce05c1decfe3ad16b72230967de0...   63.8   56.0  4.68   \n",
       "4      4b227777d4dd1fc61c6f884f48641d02b4d121d3fd328c...   60.5   59.0  6.55   \n",
       "...                                                  ...    ...    ...   ...   \n",
       "40450  f0bc79169405ebeb24e308055156b946ffd819db9b4f75...   62.7   57.0  7.10   \n",
       "40451  339916a23bf22b052b54cb2a9b36ee8418c1c68b46acad...   57.1   60.0  8.31   \n",
       "40452  46957922b99954654c1deb8d854c3f069bf118b2ce9415...   62.7   56.0  6.37   \n",
       "40453  9d733392d362d5c6f1d9b9659b601c7d4b5a1c1c8df579...   61.9   54.3  4.45   \n",
       "40454  a02744a70faa594d240b067f21fcc23a8d17cd1098a9fb...   62.0   58.0  6.83   \n",
       "\n",
       "          y     z  price  carat        cut color clarity       city  \n",
       "0      6.79  4.25   4268   1.21    Premium     J     VS2      Dubai  \n",
       "1      4.38  2.75    505   0.32  Very Good     H     VS2   Kimberly  \n",
       "2      5.53  3.65   2686   0.71       Fair     G     VS1  Las Vegas  \n",
       "3      4.72  3.00    738   0.41       Good     D     SI1   Kimberly  \n",
       "4      6.51  3.95   4882   1.02      Ideal     G     SI1      Dubai  \n",
       "...     ...   ...    ...    ...        ...   ...     ...        ...  \n",
       "40450  7.04  4.43  10070   1.34      Ideal     G     VS1    Antwerp  \n",
       "40451  8.25  4.73  12615   2.02       Good     F     SI2     Madrid  \n",
       "40452  6.42  4.01   5457   1.01      Ideal     H     SI1   Kimberly  \n",
       "40453  4.47  2.76    456   0.33      Ideal     J     VS1   Kimberly  \n",
       "40454  6.88  4.25   6232   1.24      Ideal     I     SI1     London  \n",
       "\n",
       "[40455 rows x 12 columns]"
      ]
     },
     "execution_count": 129,
     "metadata": {},
     "output_type": "execute_result"
    }
   ],
   "source": [
    "df_diamonds_train=pd.read_csv('../data/diamonds_train.csv')\n",
    "df_diamonds_train.pop(\"Unnamed: 0\") #dropped an unnecessary column\n",
    "df_diamonds_train"
   ]
  },
  {
   "cell_type": "markdown",
   "id": "ff913d6c",
   "metadata": {},
   "source": [
    "### 1.2 Impor test data"
   ]
  },
  {
   "cell_type": "code",
   "execution_count": 130,
   "id": "65ba238d",
   "metadata": {},
   "outputs": [
    {
     "data": {
      "text/html": [
       "<div>\n",
       "<style scoped>\n",
       "    .dataframe tbody tr th:only-of-type {\n",
       "        vertical-align: middle;\n",
       "    }\n",
       "\n",
       "    .dataframe tbody tr th {\n",
       "        vertical-align: top;\n",
       "    }\n",
       "\n",
       "    .dataframe thead th {\n",
       "        text-align: right;\n",
       "    }\n",
       "</style>\n",
       "<table border=\"1\" class=\"dataframe\">\n",
       "  <thead>\n",
       "    <tr style=\"text-align: right;\">\n",
       "      <th></th>\n",
       "      <th>id</th>\n",
       "      <th>carat</th>\n",
       "      <th>cut</th>\n",
       "      <th>color</th>\n",
       "      <th>clarity</th>\n",
       "      <th>depth</th>\n",
       "      <th>table</th>\n",
       "      <th>x</th>\n",
       "      <th>y</th>\n",
       "      <th>z</th>\n",
       "      <th>city</th>\n",
       "    </tr>\n",
       "  </thead>\n",
       "  <tbody>\n",
       "    <tr>\n",
       "      <th>0</th>\n",
       "      <td>0</td>\n",
       "      <td>0.79</td>\n",
       "      <td>Very Good</td>\n",
       "      <td>F</td>\n",
       "      <td>SI1</td>\n",
       "      <td>62.7</td>\n",
       "      <td>60.0</td>\n",
       "      <td>5.82</td>\n",
       "      <td>5.89</td>\n",
       "      <td>3.67</td>\n",
       "      <td>Amsterdam</td>\n",
       "    </tr>\n",
       "    <tr>\n",
       "      <th>1</th>\n",
       "      <td>1</td>\n",
       "      <td>1.20</td>\n",
       "      <td>Ideal</td>\n",
       "      <td>J</td>\n",
       "      <td>VS1</td>\n",
       "      <td>61.0</td>\n",
       "      <td>57.0</td>\n",
       "      <td>6.81</td>\n",
       "      <td>6.89</td>\n",
       "      <td>4.18</td>\n",
       "      <td>Surat</td>\n",
       "    </tr>\n",
       "    <tr>\n",
       "      <th>2</th>\n",
       "      <td>2</td>\n",
       "      <td>1.57</td>\n",
       "      <td>Premium</td>\n",
       "      <td>H</td>\n",
       "      <td>SI1</td>\n",
       "      <td>62.2</td>\n",
       "      <td>61.0</td>\n",
       "      <td>7.38</td>\n",
       "      <td>7.32</td>\n",
       "      <td>4.57</td>\n",
       "      <td>Kimberly</td>\n",
       "    </tr>\n",
       "    <tr>\n",
       "      <th>3</th>\n",
       "      <td>3</td>\n",
       "      <td>0.90</td>\n",
       "      <td>Very Good</td>\n",
       "      <td>F</td>\n",
       "      <td>SI1</td>\n",
       "      <td>63.8</td>\n",
       "      <td>54.0</td>\n",
       "      <td>6.09</td>\n",
       "      <td>6.13</td>\n",
       "      <td>3.90</td>\n",
       "      <td>Kimberly</td>\n",
       "    </tr>\n",
       "    <tr>\n",
       "      <th>4</th>\n",
       "      <td>4</td>\n",
       "      <td>0.50</td>\n",
       "      <td>Very Good</td>\n",
       "      <td>F</td>\n",
       "      <td>VS1</td>\n",
       "      <td>62.9</td>\n",
       "      <td>58.0</td>\n",
       "      <td>5.05</td>\n",
       "      <td>5.09</td>\n",
       "      <td>3.19</td>\n",
       "      <td>Amsterdam</td>\n",
       "    </tr>\n",
       "    <tr>\n",
       "      <th>...</th>\n",
       "      <td>...</td>\n",
       "      <td>...</td>\n",
       "      <td>...</td>\n",
       "      <td>...</td>\n",
       "      <td>...</td>\n",
       "      <td>...</td>\n",
       "      <td>...</td>\n",
       "      <td>...</td>\n",
       "      <td>...</td>\n",
       "      <td>...</td>\n",
       "      <td>...</td>\n",
       "    </tr>\n",
       "    <tr>\n",
       "      <th>13480</th>\n",
       "      <td>13480</td>\n",
       "      <td>0.57</td>\n",
       "      <td>Ideal</td>\n",
       "      <td>E</td>\n",
       "      <td>SI1</td>\n",
       "      <td>61.9</td>\n",
       "      <td>56.0</td>\n",
       "      <td>5.35</td>\n",
       "      <td>5.32</td>\n",
       "      <td>3.30</td>\n",
       "      <td>Amsterdam</td>\n",
       "    </tr>\n",
       "    <tr>\n",
       "      <th>13481</th>\n",
       "      <td>13481</td>\n",
       "      <td>0.71</td>\n",
       "      <td>Ideal</td>\n",
       "      <td>I</td>\n",
       "      <td>VS2</td>\n",
       "      <td>62.2</td>\n",
       "      <td>55.0</td>\n",
       "      <td>5.71</td>\n",
       "      <td>5.73</td>\n",
       "      <td>3.56</td>\n",
       "      <td>New York City</td>\n",
       "    </tr>\n",
       "    <tr>\n",
       "      <th>13482</th>\n",
       "      <td>13482</td>\n",
       "      <td>0.70</td>\n",
       "      <td>Ideal</td>\n",
       "      <td>F</td>\n",
       "      <td>VS1</td>\n",
       "      <td>61.6</td>\n",
       "      <td>55.0</td>\n",
       "      <td>5.75</td>\n",
       "      <td>5.71</td>\n",
       "      <td>3.53</td>\n",
       "      <td>Tel Aviv</td>\n",
       "    </tr>\n",
       "    <tr>\n",
       "      <th>13483</th>\n",
       "      <td>13483</td>\n",
       "      <td>0.70</td>\n",
       "      <td>Very Good</td>\n",
       "      <td>F</td>\n",
       "      <td>SI2</td>\n",
       "      <td>58.8</td>\n",
       "      <td>57.0</td>\n",
       "      <td>5.85</td>\n",
       "      <td>5.89</td>\n",
       "      <td>3.45</td>\n",
       "      <td>Surat</td>\n",
       "    </tr>\n",
       "    <tr>\n",
       "      <th>13484</th>\n",
       "      <td>13484</td>\n",
       "      <td>0.40</td>\n",
       "      <td>Ideal</td>\n",
       "      <td>I</td>\n",
       "      <td>VVS2</td>\n",
       "      <td>62.4</td>\n",
       "      <td>55.0</td>\n",
       "      <td>4.70</td>\n",
       "      <td>4.73</td>\n",
       "      <td>2.94</td>\n",
       "      <td>New York City</td>\n",
       "    </tr>\n",
       "  </tbody>\n",
       "</table>\n",
       "<p>13485 rows × 11 columns</p>\n",
       "</div>"
      ],
      "text/plain": [
       "          id  carat        cut color clarity  depth  table     x     y     z  \\\n",
       "0          0   0.79  Very Good     F     SI1   62.7   60.0  5.82  5.89  3.67   \n",
       "1          1   1.20      Ideal     J     VS1   61.0   57.0  6.81  6.89  4.18   \n",
       "2          2   1.57    Premium     H     SI1   62.2   61.0  7.38  7.32  4.57   \n",
       "3          3   0.90  Very Good     F     SI1   63.8   54.0  6.09  6.13  3.90   \n",
       "4          4   0.50  Very Good     F     VS1   62.9   58.0  5.05  5.09  3.19   \n",
       "...      ...    ...        ...   ...     ...    ...    ...   ...   ...   ...   \n",
       "13480  13480   0.57      Ideal     E     SI1   61.9   56.0  5.35  5.32  3.30   \n",
       "13481  13481   0.71      Ideal     I     VS2   62.2   55.0  5.71  5.73  3.56   \n",
       "13482  13482   0.70      Ideal     F     VS1   61.6   55.0  5.75  5.71  3.53   \n",
       "13483  13483   0.70  Very Good     F     SI2   58.8   57.0  5.85  5.89  3.45   \n",
       "13484  13484   0.40      Ideal     I    VVS2   62.4   55.0  4.70  4.73  2.94   \n",
       "\n",
       "                city  \n",
       "0          Amsterdam  \n",
       "1              Surat  \n",
       "2           Kimberly  \n",
       "3           Kimberly  \n",
       "4          Amsterdam  \n",
       "...              ...  \n",
       "13480      Amsterdam  \n",
       "13481  New York City  \n",
       "13482       Tel Aviv  \n",
       "13483          Surat  \n",
       "13484  New York City  \n",
       "\n",
       "[13485 rows x 11 columns]"
      ]
     },
     "execution_count": 130,
     "metadata": {},
     "output_type": "execute_result"
    }
   ],
   "source": [
    "df_diamonds_test=pd.read_csv('../data/diamonds_test.csv')\n",
    "df_diamonds_test"
   ]
  },
  {
   "cell_type": "markdown",
   "id": "5aa0abf6",
   "metadata": {},
   "source": [
    "## 2. Data preparation (training set)"
   ]
  },
  {
   "cell_type": "markdown",
   "id": "817acd2e",
   "metadata": {},
   "source": [
    "### 2.1 Defining numerical and categorical features"
   ]
  },
  {
   "cell_type": "code",
   "execution_count": 131,
   "id": "203446b3",
   "metadata": {},
   "outputs": [],
   "source": [
    "# Excluding city (with trees sometimes is better to keep variables even if they are correlated)\n",
    "num_features_list=['x','y','z','depth','table','carat']\n",
    "cat_features_list=['cut','color','clarity']\n",
    "target='price'\n",
    "features_list=['x','y','z','depth','table','carat','cut','color','clarity']"
   ]
  },
  {
   "cell_type": "markdown",
   "id": "a890ec2d",
   "metadata": {},
   "source": [
    "### 2.2 Checking if zero/null values"
   ]
  },
  {
   "cell_type": "code",
   "execution_count": 132,
   "id": "e4f4a7c7",
   "metadata": {},
   "outputs": [
    {
     "data": {
      "text/plain": [
       "x        0\n",
       "y        0\n",
       "z        0\n",
       "depth    0\n",
       "table    0\n",
       "carat    0\n",
       "dtype: int64"
      ]
     },
     "execution_count": 132,
     "metadata": {},
     "output_type": "execute_result"
    }
   ],
   "source": [
    "df_diamonds_train[num_features_list].isna().sum()"
   ]
  },
  {
   "cell_type": "code",
   "execution_count": 133,
   "id": "65438084",
   "metadata": {},
   "outputs": [
    {
     "name": "stdout",
     "output_type": "stream",
     "text": [
      "No 0 values\n"
     ]
    }
   ],
   "source": [
    "if 0 in df_diamonds_train[num_features_list]:\n",
    "    print('0 values')\n",
    "else:\n",
    "    print('No 0 values')"
   ]
  },
  {
   "cell_type": "markdown",
   "id": "54991b3e",
   "metadata": {},
   "source": [
    "### 2.3 Remove outliers"
   ]
  },
  {
   "cell_type": "code",
   "execution_count": 134,
   "id": "62200e49",
   "metadata": {},
   "outputs": [],
   "source": [
    "def remove_outliers(df,feature):\n",
    "    # IQR\n",
    "    Q1 = np.percentile(df[feature], 25,\n",
    "                   interpolation = 'midpoint')\n",
    "    Q3 = np.percentile(df[feature], 75,\n",
    "                   interpolation = 'midpoint')\n",
    "    IQR = Q3 - Q1\n",
    "    # Upper and lower\n",
    "    upper_limit=Q3+1.5*IQR\n",
    "    lower_limit=Q1-1.5*IQR\n",
    "    # Removing the Outliers\n",
    "    return df[(df[feature]>=lower_limit) & (df[feature]<=upper_limit)]"
   ]
  },
  {
   "cell_type": "code",
   "execution_count": 135,
   "id": "a2c9a21d",
   "metadata": {},
   "outputs": [],
   "source": [
    "df_diamonds_train=remove_outliers(df_diamonds_train,'x')\n",
    "df_diamonds_train=remove_outliers(df_diamonds_train,'y')\n",
    "df_diamonds_train=remove_outliers(df_diamonds_train,'z')\n",
    "df_diamonds_train=remove_outliers(df_diamonds_train,'depth')\n",
    "df_diamonds_train=remove_outliers(df_diamonds_train,'table')\n",
    "df_diamonds_train=remove_outliers(df_diamonds_train,'carat')"
   ]
  },
  {
   "cell_type": "code",
   "execution_count": 136,
   "id": "6526dba9",
   "metadata": {},
   "outputs": [
    {
     "data": {
      "text/plain": [
       "(37264, 12)"
      ]
     },
     "execution_count": 136,
     "metadata": {},
     "output_type": "execute_result"
    }
   ],
   "source": [
    "df_diamonds_train.shape"
   ]
  },
  {
   "cell_type": "markdown",
   "id": "cbbaaeb2",
   "metadata": {},
   "source": [
    "### 3. Feature engineering (training set)"
   ]
  },
  {
   "cell_type": "markdown",
   "id": "24926ca5",
   "metadata": {},
   "source": [
    "### 3.1 Target encoding (mean and std)"
   ]
  },
  {
   "cell_type": "code",
   "execution_count": 137,
   "id": "d7db93ac",
   "metadata": {},
   "outputs": [],
   "source": [
    "# 1.Target encoding for categorical variables\n",
    "# Mean\n",
    "cut_encoding = df_diamonds_train.groupby(['cut'])['price'].mean().to_dict()\n",
    "df_diamonds_train['cut_encoding'] = df_diamonds_train['cut'].map(cut_encoding).astype(float)\n",
    "color_encoding = df_diamonds_train.groupby(['color'])['price'].mean().to_dict()\n",
    "df_diamonds_train['color_encoding'] = df_diamonds_train['color'].map(color_encoding).astype(float)\n",
    "clarity_encoding = df_diamonds_train.groupby(['clarity'])['price'].mean().to_dict()\n",
    "df_diamonds_train['clarity_encoding'] = df_diamonds_train['clarity'].map(clarity_encoding).astype(float)\n",
    "# Std\n",
    "cut_encoding_std = df_diamonds_train.groupby(['cut'])['price'].std().to_dict()\n",
    "df_diamonds_train['cut_encoding_std'] = df_diamonds_train['cut'].map(cut_encoding_std).astype(float)\n",
    "color_encoding_std = df_diamonds_train.groupby(['color'])['price'].std().to_dict()\n",
    "df_diamonds_train['color_encoding_std'] = df_diamonds_train['color'].map(color_encoding_std).astype(float)\n",
    "clarity_encoding_std = df_diamonds_train.groupby(['clarity'])['price'].std().to_dict()\n",
    "df_diamonds_train['clarity_encoding_std'] = df_diamonds_train['clarity'].map(clarity_encoding_std).astype(float)"
   ]
  },
  {
   "cell_type": "code",
   "execution_count": 138,
   "id": "0b0d474f",
   "metadata": {},
   "outputs": [
    {
     "data": {
      "text/html": [
       "<div>\n",
       "<style scoped>\n",
       "    .dataframe tbody tr th:only-of-type {\n",
       "        vertical-align: middle;\n",
       "    }\n",
       "\n",
       "    .dataframe tbody tr th {\n",
       "        vertical-align: top;\n",
       "    }\n",
       "\n",
       "    .dataframe thead th {\n",
       "        text-align: right;\n",
       "    }\n",
       "</style>\n",
       "<table border=\"1\" class=\"dataframe\">\n",
       "  <thead>\n",
       "    <tr style=\"text-align: right;\">\n",
       "      <th></th>\n",
       "      <th>index_id</th>\n",
       "      <th>depth</th>\n",
       "      <th>table</th>\n",
       "      <th>x</th>\n",
       "      <th>y</th>\n",
       "      <th>z</th>\n",
       "      <th>price</th>\n",
       "      <th>carat</th>\n",
       "      <th>cut</th>\n",
       "      <th>color</th>\n",
       "      <th>clarity</th>\n",
       "      <th>city</th>\n",
       "      <th>cut_encoding</th>\n",
       "      <th>color_encoding</th>\n",
       "      <th>clarity_encoding</th>\n",
       "      <th>cut_encoding_std</th>\n",
       "      <th>color_encoding_std</th>\n",
       "      <th>clarity_encoding_std</th>\n",
       "    </tr>\n",
       "  </thead>\n",
       "  <tbody>\n",
       "    <tr>\n",
       "      <th>0</th>\n",
       "      <td>5feceb66ffc86f38d952786c6d696c79c2dbc239dd4e91...</td>\n",
       "      <td>62.4</td>\n",
       "      <td>58.0</td>\n",
       "      <td>6.83</td>\n",
       "      <td>6.79</td>\n",
       "      <td>4.25</td>\n",
       "      <td>4268</td>\n",
       "      <td>1.21</td>\n",
       "      <td>Premium</td>\n",
       "      <td>J</td>\n",
       "      <td>VS2</td>\n",
       "      <td>Dubai</td>\n",
       "      <td>4090.451413</td>\n",
       "      <td>4205.372106</td>\n",
       "      <td>3706.916046</td>\n",
       "      <td>3786.059445</td>\n",
       "      <td>3203.931679</td>\n",
       "      <td>3773.320777</td>\n",
       "    </tr>\n",
       "    <tr>\n",
       "      <th>1</th>\n",
       "      <td>6b86b273ff34fce19d6b804eff5a3f5747ada4eaa22f1d...</td>\n",
       "      <td>63.0</td>\n",
       "      <td>57.0</td>\n",
       "      <td>4.35</td>\n",
       "      <td>4.38</td>\n",
       "      <td>2.75</td>\n",
       "      <td>505</td>\n",
       "      <td>0.32</td>\n",
       "      <td>Very Good</td>\n",
       "      <td>H</td>\n",
       "      <td>VS2</td>\n",
       "      <td>Kimberly</td>\n",
       "      <td>3716.148388</td>\n",
       "      <td>3989.238859</td>\n",
       "      <td>3706.916046</td>\n",
       "      <td>3552.522893</td>\n",
       "      <td>3617.921017</td>\n",
       "      <td>3773.320777</td>\n",
       "    </tr>\n",
       "    <tr>\n",
       "      <th>3</th>\n",
       "      <td>4e07408562bedb8b60ce05c1decfe3ad16b72230967de0...</td>\n",
       "      <td>63.8</td>\n",
       "      <td>56.0</td>\n",
       "      <td>4.68</td>\n",
       "      <td>4.72</td>\n",
       "      <td>3.00</td>\n",
       "      <td>738</td>\n",
       "      <td>0.41</td>\n",
       "      <td>Good</td>\n",
       "      <td>D</td>\n",
       "      <td>SI1</td>\n",
       "      <td>Kimberly</td>\n",
       "      <td>3629.673247</td>\n",
       "      <td>3032.494785</td>\n",
       "      <td>3667.767250</td>\n",
       "      <td>3352.922564</td>\n",
       "      <td>3210.147580</td>\n",
       "      <td>3345.026353</td>\n",
       "    </tr>\n",
       "    <tr>\n",
       "      <th>4</th>\n",
       "      <td>4b227777d4dd1fc61c6f884f48641d02b4d121d3fd328c...</td>\n",
       "      <td>60.5</td>\n",
       "      <td>59.0</td>\n",
       "      <td>6.55</td>\n",
       "      <td>6.51</td>\n",
       "      <td>3.95</td>\n",
       "      <td>4882</td>\n",
       "      <td>1.02</td>\n",
       "      <td>Ideal</td>\n",
       "      <td>G</td>\n",
       "      <td>SI1</td>\n",
       "      <td>Dubai</td>\n",
       "      <td>3209.761477</td>\n",
       "      <td>3813.444988</td>\n",
       "      <td>3667.767250</td>\n",
       "      <td>3433.146709</td>\n",
       "      <td>3821.613156</td>\n",
       "      <td>3345.026353</td>\n",
       "    </tr>\n",
       "    <tr>\n",
       "      <th>5</th>\n",
       "      <td>ef2d127de37b942baad06145e54b0c619a1f22327b2ebb...</td>\n",
       "      <td>61.2</td>\n",
       "      <td>57.0</td>\n",
       "      <td>7.45</td>\n",
       "      <td>7.39</td>\n",
       "      <td>4.54</td>\n",
       "      <td>9057</td>\n",
       "      <td>1.52</td>\n",
       "      <td>Ideal</td>\n",
       "      <td>F</td>\n",
       "      <td>SI2</td>\n",
       "      <td>Tel Aviv</td>\n",
       "      <td>3209.761477</td>\n",
       "      <td>3553.853659</td>\n",
       "      <td>4133.827826</td>\n",
       "      <td>3433.146709</td>\n",
       "      <td>3603.654261</td>\n",
       "      <td>3073.028701</td>\n",
       "    </tr>\n",
       "  </tbody>\n",
       "</table>\n",
       "</div>"
      ],
      "text/plain": [
       "                                            index_id  depth  table     x  \\\n",
       "0  5feceb66ffc86f38d952786c6d696c79c2dbc239dd4e91...   62.4   58.0  6.83   \n",
       "1  6b86b273ff34fce19d6b804eff5a3f5747ada4eaa22f1d...   63.0   57.0  4.35   \n",
       "3  4e07408562bedb8b60ce05c1decfe3ad16b72230967de0...   63.8   56.0  4.68   \n",
       "4  4b227777d4dd1fc61c6f884f48641d02b4d121d3fd328c...   60.5   59.0  6.55   \n",
       "5  ef2d127de37b942baad06145e54b0c619a1f22327b2ebb...   61.2   57.0  7.45   \n",
       "\n",
       "      y     z  price  carat        cut color clarity      city  cut_encoding  \\\n",
       "0  6.79  4.25   4268   1.21    Premium     J     VS2     Dubai   4090.451413   \n",
       "1  4.38  2.75    505   0.32  Very Good     H     VS2  Kimberly   3716.148388   \n",
       "3  4.72  3.00    738   0.41       Good     D     SI1  Kimberly   3629.673247   \n",
       "4  6.51  3.95   4882   1.02      Ideal     G     SI1     Dubai   3209.761477   \n",
       "5  7.39  4.54   9057   1.52      Ideal     F     SI2  Tel Aviv   3209.761477   \n",
       "\n",
       "   color_encoding  clarity_encoding  cut_encoding_std  color_encoding_std  \\\n",
       "0     4205.372106       3706.916046       3786.059445         3203.931679   \n",
       "1     3989.238859       3706.916046       3552.522893         3617.921017   \n",
       "3     3032.494785       3667.767250       3352.922564         3210.147580   \n",
       "4     3813.444988       3667.767250       3433.146709         3821.613156   \n",
       "5     3553.853659       4133.827826       3433.146709         3603.654261   \n",
       "\n",
       "   clarity_encoding_std  \n",
       "0           3773.320777  \n",
       "1           3773.320777  \n",
       "3           3345.026353  \n",
       "4           3345.026353  \n",
       "5           3073.028701  "
      ]
     },
     "execution_count": 138,
     "metadata": {},
     "output_type": "execute_result"
    }
   ],
   "source": [
    "df_diamonds_train.head()"
   ]
  },
  {
   "cell_type": "markdown",
   "id": "57097add",
   "metadata": {},
   "source": [
    "### 3.2 Including volume"
   ]
  },
  {
   "cell_type": "code",
   "execution_count": 139,
   "id": "43ae2bcf",
   "metadata": {},
   "outputs": [],
   "source": [
    "#df_diamonds_train['volume']=df_diamonds_train['x']*df_diamonds_train['y']*df_diamonds_train['z']"
   ]
  },
  {
   "cell_type": "markdown",
   "id": "87cef81c",
   "metadata": {},
   "source": [
    "### 3.3 Cross Target encoding (mean and std)"
   ]
  },
  {
   "cell_type": "code",
   "execution_count": 140,
   "id": "b38d8560",
   "metadata": {},
   "outputs": [],
   "source": [
    "# 2. Cross target encoding\n",
    "# Mean\n",
    "cut_color_encoding = df_diamonds_train.groupby(['cut','color'])['price'].mean().to_dict()\n",
    "df_diamonds_train['cut_color_encoding'] = df_diamonds_train.set_index(['cut',\n",
    "                                                                       'color']).index.map(cut_color_encoding.get).astype(float)\n",
    "cut_clarity_encoding = df_diamonds_train.groupby(['cut','clarity'])['price'].mean().to_dict()\n",
    "df_diamonds_train['cut_clarity_encoding'] = df_diamonds_train.set_index(['cut',\n",
    "                                                                       'clarity']).index.map(cut_clarity_encoding.get).astype(float)\n",
    "color_clarity_encoding = df_diamonds_train.groupby(['color','clarity'])['price'].mean().to_dict()\n",
    "df_diamonds_train['color_clarity_encoding'] = df_diamonds_train.set_index(['color',\n",
    "                                                                          'clarity']).index.map(color_clarity_encoding.get).astype(float)\n",
    "# Std  \n",
    "#cut_color_encoding_std = df_diamonds_train.groupby(['cut','color'])['price'].std().to_dict()\n",
    "#df_diamonds_train['cut_color_encoding_std'] = df_diamonds_train.set_index(['cut',\n",
    "#                                                                       'color']).index.map(cut_color_encoding_std.get).astype(float)\n",
    "#cut_clarity_encoding_std = df_diamonds_train.groupby(['cut','clarity'])['price'].std().to_dict()\n",
    "#df_diamonds_train['cut_clarity_encoding_std'] = df_diamonds_train.set_index(['cut',\n",
    "#                                                                       'clarity']).index.map(cut_clarity_encoding_std.get).astype(float)\n",
    "#color_clarity_encoding_std = df_diamonds_train.groupby(['color','clarity'])['price'].std().to_dict()\n",
    "#df_diamonds_train['color_clarity_encoding_std'] = df_diamonds_train.set_index(['color',\n",
    "#                                                                           'clarity']).index.map(color_clarity_encoding_std.get).astype(float)\n"
   ]
  },
  {
   "cell_type": "code",
   "execution_count": 141,
   "id": "8d47a3a4",
   "metadata": {},
   "outputs": [],
   "source": [
    "features_list_encoding=['x','y','z','depth','table','carat','cut','color','clarity','cut_encoding','color_encoding'\n",
    "                        ,'clarity_encoding','cut_encoding_std','color_encoding_std','clarity_encoding_std'\n",
    "                        ,'cut_color_encoding','cut_clarity_encoding','color_clarity_encoding'\n",
    "#                       ,'cut_color_encoding_std','cut_clarity_encoding_std','color_clarity_encoding_std'\n",
    "                       ]"
   ]
  },
  {
   "cell_type": "code",
   "execution_count": 142,
   "id": "635d9534",
   "metadata": {},
   "outputs": [],
   "source": [
    "#num_features_encoding=['x','y','z','depth','table','carat','cut_encoding','color_encoding','clarity_encoding',\n",
    "#                        'cut_encoding_std','color_encoding_std','clarity_encoding_std','volume','cut_color_encoding',\n",
    "#                        'cut_clarity_encoding','color_clarity_encoding','cut_color_encoding_std',\n",
    "#                        'cut_clarity_encoding_std','color_clarity_encoding_std']\n",
    "#target='price'"
   ]
  },
  {
   "cell_type": "markdown",
   "id": "12cefd2b",
   "metadata": {},
   "source": [
    "### 3.4 Feature Scaling"
   ]
  },
  {
   "cell_type": "markdown",
   "id": "19d3e12c",
   "metadata": {},
   "source": [
    "With few exceptions, Machine Learning algrorithms don't perform well when the input numerical attributes have very different scales. We sure want our models to work well, so how can we go about it?\n",
    "\n",
    "Feature scaling can be done in 2 ways: Min-max scaling and Standardization. I would preferably use Standardization, because it is much less affected by outliers. Scikit-Learn provides a transformer called StandardScaler for this transformation."
   ]
  },
  {
   "cell_type": "code",
   "execution_count": 143,
   "id": "1cae4edb",
   "metadata": {},
   "outputs": [],
   "source": [
    "#Nodf_diamonds_train_num=df_diamonds_train[num_features_encoding]\n",
    "#df_diamonds_train_num=df_diamonds_train[num_features_list]\n",
    "#df_diamonds_train_carat=df_diamonds_train[cat_features_list]\n",
    "#df_diamonds_train_target=df_diamonds_train['price']"
   ]
  },
  {
   "cell_type": "code",
   "execution_count": 144,
   "id": "0846202c",
   "metadata": {},
   "outputs": [],
   "source": [
    "# Perform the feature scaling on the numeric attributes of the dataset\n",
    "#num_scaler = StandardScaler()\n",
    "#df_diamonds_train_num_scaled = num_scaler.fit_transform(df_diamonds_train_num)\n",
    "#df_diamonds_train_num_scaled\n",
    "#df_diamonds_train_num_scaled=pd.DataFrame(df_diamonds_train_num_scaled)\n",
    "#NOdf_diamonds_train_num_scaled.rename(columns = {0:'x', 1:'y', 2:'z', 3:'depth', 4:'table', 5:'carat', 6:'cut_encoding',\n",
    "#                                              7:'color_encoding', 8:'clarity_encoding', 9:'cut_encoding_std',\n",
    "#                                               10:'color_encoding_std',11:'clarity_encoding_std', 12:'volume',\n",
    "#                                               13:'cut_color_encoding',14:'cut_clarity_encoding',\n",
    "#                                               15:'color_clarity_encoding',16:'cut_color_encoding_std',\n",
    "#                                               17:'cut_clarity_encoding_std',18:'color_clarity_encoding_std'}, \n",
    "#                           inplace = True)\n",
    "#df_diamonds_train_num_scaled.rename(columns = {0:'x', 1:'y', 2:'z', 3:'depth', 4:'table', 5:'carat'}, \n",
    "#                           inplace = True)\n",
    "#df_diamonds_train_num_scaled.head()"
   ]
  },
  {
   "cell_type": "code",
   "execution_count": 145,
   "id": "b8b8ca86",
   "metadata": {},
   "outputs": [],
   "source": [
    "#df_diamonds_train=pd.merge(df_diamonds_train_num_scaled, df_diamonds_train_carat, left_index=True, right_index=True)\n",
    "#df_diamonds_train=pd.merge(df_diamonds_train, df_diamonds_train_target, left_index=True, right_index=True)\n",
    "#df_diamonds_train.head()"
   ]
  },
  {
   "cell_type": "markdown",
   "id": "8391a269",
   "metadata": {},
   "source": [
    "### 3.5 One hot encoding"
   ]
  },
  {
   "cell_type": "code",
   "execution_count": 146,
   "id": "fc3046a3",
   "metadata": {},
   "outputs": [],
   "source": [
    "# 3. Defining features y target\n",
    "#features_list_volume=['x', 'y', 'z', 'depth', 'table', 'carat', 'cut', 'color', 'clarity','volume']\n",
    "X=df_diamonds_train[features_list_encoding]\n",
    "y=df_diamonds_train['price']"
   ]
  },
  {
   "cell_type": "code",
   "execution_count": 147,
   "id": "fcb4c48c",
   "metadata": {},
   "outputs": [],
   "source": [
    "# 4.One-hot encoding for categorical variables\n",
    "X=pd.get_dummies(X,columns=cat_features_list,drop_first=True)"
   ]
  },
  {
   "cell_type": "code",
   "execution_count": 148,
   "id": "20cda772",
   "metadata": {},
   "outputs": [
    {
     "data": {
      "text/html": [
       "<div>\n",
       "<style scoped>\n",
       "    .dataframe tbody tr th:only-of-type {\n",
       "        vertical-align: middle;\n",
       "    }\n",
       "\n",
       "    .dataframe tbody tr th {\n",
       "        vertical-align: top;\n",
       "    }\n",
       "\n",
       "    .dataframe thead th {\n",
       "        text-align: right;\n",
       "    }\n",
       "</style>\n",
       "<table border=\"1\" class=\"dataframe\">\n",
       "  <thead>\n",
       "    <tr style=\"text-align: right;\">\n",
       "      <th></th>\n",
       "      <th>x</th>\n",
       "      <th>y</th>\n",
       "      <th>z</th>\n",
       "      <th>depth</th>\n",
       "      <th>table</th>\n",
       "      <th>carat</th>\n",
       "      <th>cut_encoding</th>\n",
       "      <th>color_encoding</th>\n",
       "      <th>clarity_encoding</th>\n",
       "      <th>cut_encoding_std</th>\n",
       "      <th>color_encoding_std</th>\n",
       "      <th>clarity_encoding_std</th>\n",
       "      <th>cut_color_encoding</th>\n",
       "      <th>cut_clarity_encoding</th>\n",
       "      <th>color_clarity_encoding</th>\n",
       "      <th>cut_Good</th>\n",
       "      <th>cut_Ideal</th>\n",
       "      <th>cut_Premium</th>\n",
       "      <th>cut_Very Good</th>\n",
       "      <th>color_E</th>\n",
       "      <th>color_F</th>\n",
       "      <th>color_G</th>\n",
       "      <th>color_H</th>\n",
       "      <th>color_I</th>\n",
       "      <th>color_J</th>\n",
       "      <th>clarity_IF</th>\n",
       "      <th>clarity_SI1</th>\n",
       "      <th>clarity_SI2</th>\n",
       "      <th>clarity_VS1</th>\n",
       "      <th>clarity_VS2</th>\n",
       "      <th>clarity_VVS1</th>\n",
       "      <th>clarity_VVS2</th>\n",
       "    </tr>\n",
       "  </thead>\n",
       "  <tbody>\n",
       "    <tr>\n",
       "      <th>0</th>\n",
       "      <td>6.83</td>\n",
       "      <td>6.79</td>\n",
       "      <td>4.25</td>\n",
       "      <td>62.4</td>\n",
       "      <td>58.0</td>\n",
       "      <td>1.21</td>\n",
       "      <td>4090.451413</td>\n",
       "      <td>4205.372106</td>\n",
       "      <td>3706.916046</td>\n",
       "      <td>3786.059445</td>\n",
       "      <td>3203.931679</td>\n",
       "      <td>3773.320777</td>\n",
       "      <td>4723.032323</td>\n",
       "      <td>4279.325321</td>\n",
       "      <td>4072.978678</td>\n",
       "      <td>0</td>\n",
       "      <td>0</td>\n",
       "      <td>1</td>\n",
       "      <td>0</td>\n",
       "      <td>0</td>\n",
       "      <td>0</td>\n",
       "      <td>0</td>\n",
       "      <td>0</td>\n",
       "      <td>0</td>\n",
       "      <td>1</td>\n",
       "      <td>0</td>\n",
       "      <td>0</td>\n",
       "      <td>0</td>\n",
       "      <td>0</td>\n",
       "      <td>1</td>\n",
       "      <td>0</td>\n",
       "      <td>0</td>\n",
       "    </tr>\n",
       "    <tr>\n",
       "      <th>1</th>\n",
       "      <td>4.35</td>\n",
       "      <td>4.38</td>\n",
       "      <td>2.75</td>\n",
       "      <td>63.0</td>\n",
       "      <td>57.0</td>\n",
       "      <td>0.32</td>\n",
       "      <td>3716.148388</td>\n",
       "      <td>3989.238859</td>\n",
       "      <td>3706.916046</td>\n",
       "      <td>3552.522893</td>\n",
       "      <td>3617.921017</td>\n",
       "      <td>3773.320777</td>\n",
       "      <td>4131.209839</td>\n",
       "      <td>4064.356420</td>\n",
       "      <td>4536.957035</td>\n",
       "      <td>0</td>\n",
       "      <td>0</td>\n",
       "      <td>0</td>\n",
       "      <td>1</td>\n",
       "      <td>0</td>\n",
       "      <td>0</td>\n",
       "      <td>0</td>\n",
       "      <td>1</td>\n",
       "      <td>0</td>\n",
       "      <td>0</td>\n",
       "      <td>0</td>\n",
       "      <td>0</td>\n",
       "      <td>0</td>\n",
       "      <td>0</td>\n",
       "      <td>1</td>\n",
       "      <td>0</td>\n",
       "      <td>0</td>\n",
       "    </tr>\n",
       "    <tr>\n",
       "      <th>3</th>\n",
       "      <td>4.68</td>\n",
       "      <td>4.72</td>\n",
       "      <td>3.00</td>\n",
       "      <td>63.8</td>\n",
       "      <td>56.0</td>\n",
       "      <td>0.41</td>\n",
       "      <td>3629.673247</td>\n",
       "      <td>3032.494785</td>\n",
       "      <td>3667.767250</td>\n",
       "      <td>3352.922564</td>\n",
       "      <td>3210.147580</td>\n",
       "      <td>3345.026353</td>\n",
       "      <td>3092.344221</td>\n",
       "      <td>3398.128440</td>\n",
       "      <td>2890.454856</td>\n",
       "      <td>1</td>\n",
       "      <td>0</td>\n",
       "      <td>0</td>\n",
       "      <td>0</td>\n",
       "      <td>0</td>\n",
       "      <td>0</td>\n",
       "      <td>0</td>\n",
       "      <td>0</td>\n",
       "      <td>0</td>\n",
       "      <td>0</td>\n",
       "      <td>0</td>\n",
       "      <td>1</td>\n",
       "      <td>0</td>\n",
       "      <td>0</td>\n",
       "      <td>0</td>\n",
       "      <td>0</td>\n",
       "      <td>0</td>\n",
       "    </tr>\n",
       "    <tr>\n",
       "      <th>4</th>\n",
       "      <td>6.55</td>\n",
       "      <td>6.51</td>\n",
       "      <td>3.95</td>\n",
       "      <td>60.5</td>\n",
       "      <td>59.0</td>\n",
       "      <td>1.02</td>\n",
       "      <td>3209.761477</td>\n",
       "      <td>3813.444988</td>\n",
       "      <td>3667.767250</td>\n",
       "      <td>3433.146709</td>\n",
       "      <td>3821.613156</td>\n",
       "      <td>3345.026353</td>\n",
       "      <td>3622.447529</td>\n",
       "      <td>3442.506284</td>\n",
       "      <td>3608.093343</td>\n",
       "      <td>0</td>\n",
       "      <td>1</td>\n",
       "      <td>0</td>\n",
       "      <td>0</td>\n",
       "      <td>0</td>\n",
       "      <td>0</td>\n",
       "      <td>1</td>\n",
       "      <td>0</td>\n",
       "      <td>0</td>\n",
       "      <td>0</td>\n",
       "      <td>0</td>\n",
       "      <td>1</td>\n",
       "      <td>0</td>\n",
       "      <td>0</td>\n",
       "      <td>0</td>\n",
       "      <td>0</td>\n",
       "      <td>0</td>\n",
       "    </tr>\n",
       "    <tr>\n",
       "      <th>5</th>\n",
       "      <td>7.45</td>\n",
       "      <td>7.39</td>\n",
       "      <td>4.54</td>\n",
       "      <td>61.2</td>\n",
       "      <td>57.0</td>\n",
       "      <td>1.52</td>\n",
       "      <td>3209.761477</td>\n",
       "      <td>3553.853659</td>\n",
       "      <td>4133.827826</td>\n",
       "      <td>3433.146709</td>\n",
       "      <td>3603.654261</td>\n",
       "      <td>3073.028701</td>\n",
       "      <td>3214.139157</td>\n",
       "      <td>3850.286193</td>\n",
       "      <td>3891.265835</td>\n",
       "      <td>0</td>\n",
       "      <td>1</td>\n",
       "      <td>0</td>\n",
       "      <td>0</td>\n",
       "      <td>0</td>\n",
       "      <td>1</td>\n",
       "      <td>0</td>\n",
       "      <td>0</td>\n",
       "      <td>0</td>\n",
       "      <td>0</td>\n",
       "      <td>0</td>\n",
       "      <td>0</td>\n",
       "      <td>1</td>\n",
       "      <td>0</td>\n",
       "      <td>0</td>\n",
       "      <td>0</td>\n",
       "      <td>0</td>\n",
       "    </tr>\n",
       "  </tbody>\n",
       "</table>\n",
       "</div>"
      ],
      "text/plain": [
       "      x     y     z  depth  table  carat  cut_encoding  color_encoding  \\\n",
       "0  6.83  6.79  4.25   62.4   58.0   1.21   4090.451413     4205.372106   \n",
       "1  4.35  4.38  2.75   63.0   57.0   0.32   3716.148388     3989.238859   \n",
       "3  4.68  4.72  3.00   63.8   56.0   0.41   3629.673247     3032.494785   \n",
       "4  6.55  6.51  3.95   60.5   59.0   1.02   3209.761477     3813.444988   \n",
       "5  7.45  7.39  4.54   61.2   57.0   1.52   3209.761477     3553.853659   \n",
       "\n",
       "   clarity_encoding  cut_encoding_std  color_encoding_std  \\\n",
       "0       3706.916046       3786.059445         3203.931679   \n",
       "1       3706.916046       3552.522893         3617.921017   \n",
       "3       3667.767250       3352.922564         3210.147580   \n",
       "4       3667.767250       3433.146709         3821.613156   \n",
       "5       4133.827826       3433.146709         3603.654261   \n",
       "\n",
       "   clarity_encoding_std  cut_color_encoding  cut_clarity_encoding  \\\n",
       "0           3773.320777         4723.032323           4279.325321   \n",
       "1           3773.320777         4131.209839           4064.356420   \n",
       "3           3345.026353         3092.344221           3398.128440   \n",
       "4           3345.026353         3622.447529           3442.506284   \n",
       "5           3073.028701         3214.139157           3850.286193   \n",
       "\n",
       "   color_clarity_encoding  cut_Good  cut_Ideal  cut_Premium  cut_Very Good  \\\n",
       "0             4072.978678         0          0            1              0   \n",
       "1             4536.957035         0          0            0              1   \n",
       "3             2890.454856         1          0            0              0   \n",
       "4             3608.093343         0          1            0              0   \n",
       "5             3891.265835         0          1            0              0   \n",
       "\n",
       "   color_E  color_F  color_G  color_H  color_I  color_J  clarity_IF  \\\n",
       "0        0        0        0        0        0        1           0   \n",
       "1        0        0        0        1        0        0           0   \n",
       "3        0        0        0        0        0        0           0   \n",
       "4        0        0        1        0        0        0           0   \n",
       "5        0        1        0        0        0        0           0   \n",
       "\n",
       "   clarity_SI1  clarity_SI2  clarity_VS1  clarity_VS2  clarity_VVS1  \\\n",
       "0            0            0            0            1             0   \n",
       "1            0            0            0            1             0   \n",
       "3            1            0            0            0             0   \n",
       "4            1            0            0            0             0   \n",
       "5            0            1            0            0             0   \n",
       "\n",
       "   clarity_VVS2  \n",
       "0             0  \n",
       "1             0  \n",
       "3             0  \n",
       "4             0  \n",
       "5             0  "
      ]
     },
     "execution_count": 148,
     "metadata": {},
     "output_type": "execute_result"
    }
   ],
   "source": [
    "X.head()"
   ]
  },
  {
   "cell_type": "markdown",
   "id": "b4e61db6",
   "metadata": {},
   "source": [
    "### 3.6 Define train and validation"
   ]
  },
  {
   "cell_type": "code",
   "execution_count": 149,
   "id": "83b76da3",
   "metadata": {},
   "outputs": [],
   "source": [
    "# 5.Splitting train and test\n",
    "X_train, X_val, y_train, y_val = train_test_split(X, y, test_size=0.2, random_state=42)"
   ]
  },
  {
   "cell_type": "code",
   "execution_count": 150,
   "id": "30860211",
   "metadata": {},
   "outputs": [
    {
     "data": {
      "text/plain": [
       "(29811, 32)"
      ]
     },
     "execution_count": 150,
     "metadata": {},
     "output_type": "execute_result"
    }
   ],
   "source": [
    "X_train.shape"
   ]
  },
  {
   "cell_type": "code",
   "execution_count": 151,
   "id": "138e739f",
   "metadata": {},
   "outputs": [
    {
     "name": "stdout",
     "output_type": "stream",
     "text": [
      "<class 'pandas.core.frame.DataFrame'>\n",
      "Int64Index: 29811 entries, 11656 to 17132\n",
      "Data columns (total 32 columns):\n",
      " #   Column                  Non-Null Count  Dtype  \n",
      "---  ------                  --------------  -----  \n",
      " 0   x                       29811 non-null  float64\n",
      " 1   y                       29811 non-null  float64\n",
      " 2   z                       29811 non-null  float64\n",
      " 3   depth                   29811 non-null  float64\n",
      " 4   table                   29811 non-null  float64\n",
      " 5   carat                   29811 non-null  float64\n",
      " 6   cut_encoding            29811 non-null  float64\n",
      " 7   color_encoding          29811 non-null  float64\n",
      " 8   clarity_encoding        29811 non-null  float64\n",
      " 9   cut_encoding_std        29811 non-null  float64\n",
      " 10  color_encoding_std      29811 non-null  float64\n",
      " 11  clarity_encoding_std    29811 non-null  float64\n",
      " 12  cut_color_encoding      29811 non-null  float64\n",
      " 13  cut_clarity_encoding    29811 non-null  float64\n",
      " 14  color_clarity_encoding  29811 non-null  float64\n",
      " 15  cut_Good                29811 non-null  uint8  \n",
      " 16  cut_Ideal               29811 non-null  uint8  \n",
      " 17  cut_Premium             29811 non-null  uint8  \n",
      " 18  cut_Very Good           29811 non-null  uint8  \n",
      " 19  color_E                 29811 non-null  uint8  \n",
      " 20  color_F                 29811 non-null  uint8  \n",
      " 21  color_G                 29811 non-null  uint8  \n",
      " 22  color_H                 29811 non-null  uint8  \n",
      " 23  color_I                 29811 non-null  uint8  \n",
      " 24  color_J                 29811 non-null  uint8  \n",
      " 25  clarity_IF              29811 non-null  uint8  \n",
      " 26  clarity_SI1             29811 non-null  uint8  \n",
      " 27  clarity_SI2             29811 non-null  uint8  \n",
      " 28  clarity_VS1             29811 non-null  uint8  \n",
      " 29  clarity_VS2             29811 non-null  uint8  \n",
      " 30  clarity_VVS1            29811 non-null  uint8  \n",
      " 31  clarity_VVS2            29811 non-null  uint8  \n",
      "dtypes: float64(15), uint8(17)\n",
      "memory usage: 4.1 MB\n"
     ]
    }
   ],
   "source": [
    "X_train.info()"
   ]
  },
  {
   "cell_type": "markdown",
   "id": "f55054fc",
   "metadata": {},
   "source": [
    "## 4. Data preparation (test set)"
   ]
  },
  {
   "cell_type": "markdown",
   "id": "457ec3db",
   "metadata": {},
   "source": [
    "## 5. Feature engineering (test set) "
   ]
  },
  {
   "cell_type": "code",
   "execution_count": 152,
   "id": "0c218bfd",
   "metadata": {},
   "outputs": [],
   "source": [
    "# 0. Adapting categorical features for validation model\n",
    "X_test=df_diamonds_test[features_list]"
   ]
  },
  {
   "cell_type": "markdown",
   "id": "3dfa806d",
   "metadata": {},
   "source": [
    "### 5.1 Target encoding (mean and std)"
   ]
  },
  {
   "cell_type": "code",
   "execution_count": 153,
   "id": "4337b985",
   "metadata": {},
   "outputs": [],
   "source": [
    "# 1.Target encoding for categorical variables\n",
    "# Mean\n",
    "cut_encoding = df_diamonds_train.groupby(['cut'])['price'].mean().to_dict()\n",
    "X_test['cut_encoding'] = X_test['cut'].map(cut_encoding).astype(float)\n",
    "color_encoding = df_diamonds_train.groupby(['color'])['price'].mean().to_dict()\n",
    "X_test['color_encoding'] = X_test['color'].map(color_encoding).astype(float)\n",
    "clarity_encoding = df_diamonds_train.groupby(['clarity'])['price'].mean().to_dict()\n",
    "X_test['clarity_encoding'] = X_test['clarity'].map(clarity_encoding).astype(float)\n",
    "# Std\n",
    "cut_encoding_std = df_diamonds_train.groupby(['cut'])['price'].std().to_dict()\n",
    "X_test['cut_encoding_std'] = X_test['cut'].map(cut_encoding_std).astype(float)\n",
    "color_encoding_std = df_diamonds_train.groupby(['color'])['price'].std().to_dict()\n",
    "X_test['color_encoding_std'] = X_test['color'].map(color_encoding_std).astype(float)\n",
    "clarity_encoding_std = df_diamonds_train.groupby(['clarity'])['price'].std().to_dict()\n",
    "X_test['clarity_encoding_std'] = X_test['clarity'].map(clarity_encoding_std).astype(float)"
   ]
  },
  {
   "cell_type": "markdown",
   "id": "622aa47d",
   "metadata": {},
   "source": [
    "### 5.2 Including volume"
   ]
  },
  {
   "cell_type": "code",
   "execution_count": 154,
   "id": "b15ba8d1",
   "metadata": {},
   "outputs": [],
   "source": [
    "#X_test['volume']=X_test['x']*X_test['y']*X_test['z']"
   ]
  },
  {
   "cell_type": "markdown",
   "id": "ea54c608",
   "metadata": {},
   "source": [
    "### 5.3 Cross Target encoding (mean and std)"
   ]
  },
  {
   "cell_type": "code",
   "execution_count": 155,
   "id": "54db05a1",
   "metadata": {},
   "outputs": [],
   "source": [
    "# 2. Cross target encoding\n",
    "# Mean\n",
    "cut_color_encoding = df_diamonds_train.groupby(['cut','color'])['price'].mean().to_dict()\n",
    "X_test['cut_color_encoding'] = X_test.set_index(['cut','color']).index.map(cut_color_encoding.get).astype(float)\n",
    "cut_clarity_encoding = df_diamonds_train.groupby(['cut','clarity'])['price'].mean().to_dict()\n",
    "X_test['cut_clarity_encoding'] = X_test.set_index(['cut','clarity']).index.map(cut_clarity_encoding.get).astype(float)\n",
    "color_clarity_encoding = df_diamonds_train.groupby(['color','clarity'])['price'].mean().to_dict()\n",
    "X_test['color_clarity_encoding'] = X_test.set_index(['color','clarity']).index.map(color_clarity_encoding.get).astype(float)\n",
    "\n",
    "# Std  \n",
    "#cut_color_encoding_std = df_diamonds_train.groupby(['cut','color'])['price'].std().to_dict()\n",
    "#X_test['cut_color_encoding_std'] = X_test.set_index(['cut','color']).index.map(cut_color_encoding_std.get).astype(float)\n",
    "#cut_clarity_encoding_std = df_diamonds_train.groupby(['cut','clarity'])['price'].std().to_dict()\n",
    "#X_test['cut_clarity_encoding_std'] = X_test.set_index(['cut','clarity']).index.map(cut_clarity_encoding_std.get).astype(float)\n",
    "#color_clarity_encoding_std = df_diamonds_train.groupby(['color','clarity'])['price'].std().to_dict()\n",
    "#X_test['color_clarity_encoding_std'] = X_test.set_index(['color','clarity']).index.map(color_clarity_encoding_std.get).astype(float)"
   ]
  },
  {
   "cell_type": "markdown",
   "id": "7fba5f21",
   "metadata": {},
   "source": [
    "### 5.4 Feature Scaling"
   ]
  },
  {
   "cell_type": "code",
   "execution_count": 156,
   "id": "f061e4c9",
   "metadata": {},
   "outputs": [],
   "source": [
    "#X_test_num=X_test[num_features_list]\n",
    "#X_test_carat=X_test[cat_features_list]"
   ]
  },
  {
   "cell_type": "code",
   "execution_count": 95,
   "id": "5d1e81ba",
   "metadata": {},
   "outputs": [],
   "source": [
    "# Perform the feature scaling on the numeric attributes of the dataset\n",
    "#num_scaler = StandardScaler()\n",
    "#X_test_num_scaled = num_scaler.fit_transform(X_test_num)\n",
    "#X_test_num_scaled=pd.DataFrame(X_test_num_scaled)\n",
    "#X_test_num_scaled.rename(columns = {0:'x', 1:'y', 2:'z', 3:'depth', 4:'table', 5:'carat'}, \n",
    "#                           inplace = True)\n",
    "#X_test_num_scaled.head()"
   ]
  },
  {
   "cell_type": "code",
   "execution_count": 96,
   "id": "a4e785fb",
   "metadata": {},
   "outputs": [],
   "source": [
    "#X_test=pd.merge(X_test_num_scaled, X_test_carat, left_index=True, right_index=True)\n",
    "#X_test.head()"
   ]
  },
  {
   "cell_type": "markdown",
   "id": "7887d396",
   "metadata": {},
   "source": [
    "### 5.5 One hot encoding"
   ]
  },
  {
   "cell_type": "code",
   "execution_count": 157,
   "id": "a2720031",
   "metadata": {},
   "outputs": [],
   "source": [
    "# 3. One-hot encoding for categorical variables\n",
    "X_test=pd.get_dummies(X_test,columns=cat_features_list,drop_first=True)"
   ]
  },
  {
   "cell_type": "code",
   "execution_count": 158,
   "id": "74753be9",
   "metadata": {},
   "outputs": [
    {
     "data": {
      "text/plain": [
       "(13485, 32)"
      ]
     },
     "execution_count": 158,
     "metadata": {},
     "output_type": "execute_result"
    }
   ],
   "source": [
    "X_test.shape"
   ]
  },
  {
   "cell_type": "code",
   "execution_count": 159,
   "id": "f3def3b0",
   "metadata": {},
   "outputs": [
    {
     "name": "stdout",
     "output_type": "stream",
     "text": [
      "<class 'pandas.core.frame.DataFrame'>\n",
      "RangeIndex: 13485 entries, 0 to 13484\n",
      "Data columns (total 32 columns):\n",
      " #   Column                  Non-Null Count  Dtype  \n",
      "---  ------                  --------------  -----  \n",
      " 0   x                       13485 non-null  float64\n",
      " 1   y                       13485 non-null  float64\n",
      " 2   z                       13485 non-null  float64\n",
      " 3   depth                   13485 non-null  float64\n",
      " 4   table                   13485 non-null  float64\n",
      " 5   carat                   13485 non-null  float64\n",
      " 6   cut_encoding            13485 non-null  float64\n",
      " 7   color_encoding          13485 non-null  float64\n",
      " 8   clarity_encoding        13485 non-null  float64\n",
      " 9   cut_encoding_std        13485 non-null  float64\n",
      " 10  color_encoding_std      13485 non-null  float64\n",
      " 11  clarity_encoding_std    13485 non-null  float64\n",
      " 12  cut_color_encoding      13485 non-null  float64\n",
      " 13  cut_clarity_encoding    13485 non-null  float64\n",
      " 14  color_clarity_encoding  13485 non-null  float64\n",
      " 15  cut_Good                13485 non-null  uint8  \n",
      " 16  cut_Ideal               13485 non-null  uint8  \n",
      " 17  cut_Premium             13485 non-null  uint8  \n",
      " 18  cut_Very Good           13485 non-null  uint8  \n",
      " 19  color_E                 13485 non-null  uint8  \n",
      " 20  color_F                 13485 non-null  uint8  \n",
      " 21  color_G                 13485 non-null  uint8  \n",
      " 22  color_H                 13485 non-null  uint8  \n",
      " 23  color_I                 13485 non-null  uint8  \n",
      " 24  color_J                 13485 non-null  uint8  \n",
      " 25  clarity_IF              13485 non-null  uint8  \n",
      " 26  clarity_SI1             13485 non-null  uint8  \n",
      " 27  clarity_SI2             13485 non-null  uint8  \n",
      " 28  clarity_VS1             13485 non-null  uint8  \n",
      " 29  clarity_VS2             13485 non-null  uint8  \n",
      " 30  clarity_VVS1            13485 non-null  uint8  \n",
      " 31  clarity_VVS2            13485 non-null  uint8  \n",
      "dtypes: float64(15), uint8(17)\n",
      "memory usage: 1.8 MB\n"
     ]
    }
   ],
   "source": [
    "X_test.info()"
   ]
  },
  {
   "cell_type": "markdown",
   "id": "ac016dca",
   "metadata": {},
   "source": [
    "## Model definition - RandomForestRegressor - with Random Hyperparameter Grid"
   ]
  },
  {
   "cell_type": "markdown",
   "id": "59fae7c9",
   "metadata": {},
   "source": [
    "RandomForestRegressor: multiple trees in paralel changing samples and convining diferrent features (overfitting when the tree is big and good to reduce error variance)"
   ]
  },
  {
   "cell_type": "markdown",
   "id": "422fc6f8",
   "metadata": {},
   "source": [
    "Main Parameters:\n",
    "   - bootstrap -> method for sampling data points (TRUE bagging and FALSE pasting, with/without replacement)\n",
    "   - n_estimators -> number of trees in the foreset\n",
    "   - max_depth -> max number of levels in each decision tree\n",
    "   - max_features -> max number of features considered for splitting a node\n",
    "   - ccp_alpha ->\n",
    "   - criterion ->\n",
    "   - max_leaf_nodes -> max number of solution nodes \n",
    "   - max_samples ->\n",
    "   - min_impurity_decrease ->\n",
    "   - min_samples_leaf -> min number of data points allowed in a leaf node\n",
    "   - min_samples_split -> min number of data points placed in a node before the node is split\n",
    "   - min_weight_fraction_leaf\n",
    "   - n_estimators -> number of trees in the foreset\n",
    "   - n_jobs \n",
    "   - oob_score \n",
    "   - random_state\n",
    "   - verbose\n",
    "   - warm_start   "
   ]
  },
  {
   "cell_type": "code",
   "execution_count": 166,
   "id": "920cfbcc",
   "metadata": {},
   "outputs": [],
   "source": [
    "# 0. Random Hyperparameter Grid - Grid definition\n",
    "\n",
    "#n_estimators = [int(x) for x in np.linspace(start = 200, stop = 2000, num = 10)] # Number of trees in random forest\n",
    "#max_features = ['auto', 'sqrt'] # Number of features to consider at every split\n",
    "#max_depth = [int(x) for x in np.linspace(10, 110, num = 11)] # Maximum number of levels in tree\n",
    "#max_depth.append(None)\n",
    "#min_samples_split = [2, 5, 10] # Minimum number of samples required to split a node\n",
    "#min_samples_leaf = [1, 2, 4] # Minimum number of samples required at each leaf node\n",
    "#bootstrap = [True, False] # Method of selecting samples for training each tree\n",
    "\n",
    "# Create the random grid\n",
    "#random_grid = {'n_estimators': n_estimators,\n",
    "#               'max_features': max_features,\n",
    "#               'max_depth': max_depth,\n",
    "#               'min_samples_split': min_samples_split,\n",
    "#               'min_samples_leaf': min_samples_leaf,\n",
    "#               'bootstrap': bootstrap}\n",
    "#print(random_grid)"
   ]
  },
  {
   "cell_type": "code",
   "execution_count": 167,
   "id": "53ebb610",
   "metadata": {},
   "outputs": [],
   "source": [
    "#%%time\n",
    "#1. Random Hyperparameter Grid - Use the random grid to search for best hyperparameters\n",
    "\n",
    "# First create the base model to tune\n",
    "#rf = RandomForestRegressor()\n",
    "# Random search of parameters, using 3 fold cross validation, \n",
    "#search across 100 different combinations, and use all available cores\n",
    "#rf_random = RandomizedSearchCV(estimator = rf, param_distributions = random_grid, n_iter = 100,\n",
    "#                               cv = 3, verbose=2, random_state=42, n_jobs = -1)\n",
    "# Fit the random search model\n",
    "#rf_random.fit([(X_train,y_train),(X_val,y_val)])"
   ]
  },
  {
   "cell_type": "code",
   "execution_count": 102,
   "id": "15d068fa",
   "metadata": {},
   "outputs": [],
   "source": [
    "#rf_random.best_params_"
   ]
  },
  {
   "cell_type": "code",
   "execution_count": 103,
   "id": "cb8c32dd",
   "metadata": {},
   "outputs": [],
   "source": [
    "#best_params={'n_estimators': 1600,\n",
    "# 'min_samples_split': 5,\n",
    "# 'min_samples_leaf': 1,\n",
    "# 'max_features': 'auto',\n",
    "# 'max_depth': 90,\n",
    "# 'bootstrap': True}\n",
    "\n",
    "#(n_estimators=100,min_samples_split=5,min_samples_leaf=1,\n",
    "#                              max_features='auto',max_depth=10,bootstrap=True)\n",
    "\n",
    "#n_estimators=100,min_samples_split=5,min_samples_leaf=1,\n",
    "#                              max_features='auto',max_depth=40,bootstrap=True"
   ]
  },
  {
   "cell_type": "code",
   "execution_count": 125,
   "id": "8c90f8b4",
   "metadata": {},
   "outputs": [],
   "source": [
    "# 2. RandomForestRegressor definition\n",
    "model = RandomForestRegressor(n_estimators=500,min_samples_split=5,min_samples_leaf=1,\n",
    "                              max_features='auto',max_depth=10,bootstrap=True)"
   ]
  },
  {
   "cell_type": "code",
   "execution_count": 223,
   "id": "19387912",
   "metadata": {},
   "outputs": [],
   "source": [
    "#Importance\n",
    "#feats = {} # a dict to hold feature_name: feature_importance\n",
    "#for feature, importance in zip(X_train.columns, model.feature_importances_):\n",
    "#    feats[feature] = importance #add the name/value pair "
   ]
  },
  {
   "cell_type": "code",
   "execution_count": 224,
   "id": "82e864fc",
   "metadata": {},
   "outputs": [],
   "source": [
    "#Importance=pd.DataFrame(list(feats.items()),columns = ['feature','importance']).sort_values('importance',ascending=False)"
   ]
  },
  {
   "cell_type": "code",
   "execution_count": 124,
   "id": "13f46afa",
   "metadata": {},
   "outputs": [
    {
     "name": "stdout",
     "output_type": "stream",
     "text": [
      "<class 'xgboost.sklearn.XGBRegressor'> \n",
      "\n",
      "Model hyperparameters: {'objective': 'reg:squarederror', 'base_score': None, 'booster': None, 'colsample_bylevel': 1, 'colsample_bynode': 1, 'colsample_bytree': 0.8, 'enable_categorical': False, 'gamma': 0, 'gpu_id': None, 'importance_type': None, 'interaction_constraints': None, 'learning_rate': 0.1, 'max_delta_step': None, 'max_depth': None, 'min_child_weight': None, 'missing': nan, 'monotone_constraints': None, 'n_estimators': 200, 'n_jobs': None, 'num_parallel_tree': None, 'predictor': None, 'random_state': None, 'reg_alpha': 1, 'reg_lambda': 1, 'scale_pos_weight': None, 'subsample': None, 'tree_method': None, 'validate_parameters': None, 'verbosity': None} \n",
      "\n"
     ]
    }
   ],
   "source": [
    "# 1. XGBRegressor \n",
    "model = XGBRegressor(n_estimators=200,colsample_bylevel=1,colsample_bynode=1,\n",
    "                     colsample_bytree=0.8,reg_alpha=1, reg_lambda=1,gamma=0,learning_rate=0.1)\n",
    "hyperparameters = model.get_params()\n",
    "print(type(model), '\\n')\n",
    "print('Model hyperparameters:', hyperparameters, '\\n')"
   ]
  },
  {
   "cell_type": "code",
   "execution_count": 551,
   "id": "a4bb2a61",
   "metadata": {},
   "outputs": [],
   "source": [
    "#model = KNeighborsRegressor(algorithm='auto', leaf_size=30, metric='minkowski',\n",
    "#                    metric_params=None, n_jobs=None, n_neighbors=4, p=2,\n",
    "#                    weights='uniform')"
   ]
  },
  {
   "cell_type": "markdown",
   "id": "1aaf37b1",
   "metadata": {},
   "source": [
    "## Model training with validation"
   ]
  },
  {
   "cell_type": "code",
   "execution_count": 126,
   "id": "b0ec0a25",
   "metadata": {},
   "outputs": [
    {
     "data": {
      "text/plain": [
       "RandomForestRegressor(max_depth=10, min_samples_split=5, n_estimators=500)"
      ]
     },
     "execution_count": 126,
     "metadata": {},
     "output_type": "execute_result"
    }
   ],
   "source": [
    "model.fit(X_train, y_train)"
   ]
  },
  {
   "cell_type": "code",
   "execution_count": 40,
   "id": "6f3e3373",
   "metadata": {},
   "outputs": [
    {
     "name": "stdout",
     "output_type": "stream",
     "text": [
      "[0]\tvalidation_0-rmse:4597.60498\tvalidation_1-rmse:4445.81787\n",
      "[1]\tvalidation_0-rmse:4153.07617\tvalidation_1-rmse:4013.94238\n",
      "[2]\tvalidation_0-rmse:3756.91260\tvalidation_1-rmse:3630.57153\n",
      "[3]\tvalidation_0-rmse:3397.47168\tvalidation_1-rmse:3282.39014\n",
      "[4]\tvalidation_0-rmse:3073.40454\tvalidation_1-rmse:2967.96875\n",
      "[5]\tvalidation_0-rmse:2781.83716\tvalidation_1-rmse:2684.21973\n",
      "[6]\tvalidation_0-rmse:2521.44116\tvalidation_1-rmse:2430.68774\n",
      "[7]\tvalidation_0-rmse:2286.37354\tvalidation_1-rmse:2202.94507\n",
      "[8]\tvalidation_0-rmse:2077.30200\tvalidation_1-rmse:1999.03906\n",
      "[9]\tvalidation_0-rmse:1887.39282\tvalidation_1-rmse:1815.12976\n",
      "[10]\tvalidation_0-rmse:1718.90271\tvalidation_1-rmse:1652.15759\n",
      "[11]\tvalidation_0-rmse:1567.44006\tvalidation_1-rmse:1505.20117\n",
      "[12]\tvalidation_0-rmse:1431.38818\tvalidation_1-rmse:1374.61023\n",
      "[13]\tvalidation_0-rmse:1310.32849\tvalidation_1-rmse:1257.15369\n",
      "[14]\tvalidation_0-rmse:1202.43030\tvalidation_1-rmse:1153.43616\n",
      "[15]\tvalidation_0-rmse:1106.48938\tvalidation_1-rmse:1061.90149\n",
      "[16]\tvalidation_0-rmse:1020.71484\tvalidation_1-rmse:980.12970\n",
      "[17]\tvalidation_0-rmse:946.33258\tvalidation_1-rmse:910.40143\n",
      "[18]\tvalidation_0-rmse:879.14496\tvalidation_1-rmse:847.88922\n",
      "[19]\tvalidation_0-rmse:819.13123\tvalidation_1-rmse:790.92981\n",
      "[20]\tvalidation_0-rmse:767.74133\tvalidation_1-rmse:743.15619\n",
      "[21]\tvalidation_0-rmse:722.17004\tvalidation_1-rmse:700.90686\n",
      "[22]\tvalidation_0-rmse:681.00324\tvalidation_1-rmse:662.17157\n",
      "[23]\tvalidation_0-rmse:645.35138\tvalidation_1-rmse:629.41803\n",
      "[24]\tvalidation_0-rmse:614.35724\tvalidation_1-rmse:600.96545\n",
      "[25]\tvalidation_0-rmse:587.34485\tvalidation_1-rmse:577.09039\n",
      "[26]\tvalidation_0-rmse:564.64581\tvalidation_1-rmse:557.01294\n",
      "[27]\tvalidation_0-rmse:544.99554\tvalidation_1-rmse:540.05450\n",
      "[28]\tvalidation_0-rmse:527.73346\tvalidation_1-rmse:525.86224\n",
      "[29]\tvalidation_0-rmse:512.36072\tvalidation_1-rmse:513.29571\n",
      "[30]\tvalidation_0-rmse:499.13470\tvalidation_1-rmse:501.78857\n",
      "[31]\tvalidation_0-rmse:487.44876\tvalidation_1-rmse:492.38446\n",
      "[32]\tvalidation_0-rmse:477.73962\tvalidation_1-rmse:484.83978\n",
      "[33]\tvalidation_0-rmse:469.49500\tvalidation_1-rmse:478.94250\n",
      "[34]\tvalidation_0-rmse:462.25363\tvalidation_1-rmse:473.56494\n",
      "[35]\tvalidation_0-rmse:455.61746\tvalidation_1-rmse:468.33560\n",
      "[36]\tvalidation_0-rmse:449.87631\tvalidation_1-rmse:463.90006\n",
      "[37]\tvalidation_0-rmse:445.08600\tvalidation_1-rmse:460.34723\n",
      "[38]\tvalidation_0-rmse:440.91492\tvalidation_1-rmse:457.54425\n",
      "[39]\tvalidation_0-rmse:436.80395\tvalidation_1-rmse:454.68109\n",
      "[40]\tvalidation_0-rmse:433.26981\tvalidation_1-rmse:452.92941\n",
      "[41]\tvalidation_0-rmse:430.61233\tvalidation_1-rmse:451.48846\n",
      "[42]\tvalidation_0-rmse:427.91016\tvalidation_1-rmse:449.60376\n",
      "[43]\tvalidation_0-rmse:425.52948\tvalidation_1-rmse:448.33932\n",
      "[44]\tvalidation_0-rmse:423.10992\tvalidation_1-rmse:447.02799\n",
      "[45]\tvalidation_0-rmse:421.07306\tvalidation_1-rmse:445.85266\n",
      "[46]\tvalidation_0-rmse:418.96091\tvalidation_1-rmse:444.87836\n",
      "[47]\tvalidation_0-rmse:416.86145\tvalidation_1-rmse:444.11557\n",
      "[48]\tvalidation_0-rmse:414.81369\tvalidation_1-rmse:443.21835\n",
      "[49]\tvalidation_0-rmse:413.41632\tvalidation_1-rmse:442.76129\n",
      "[50]\tvalidation_0-rmse:412.28934\tvalidation_1-rmse:442.41803\n",
      "[51]\tvalidation_0-rmse:410.72876\tvalidation_1-rmse:442.37878\n",
      "[52]\tvalidation_0-rmse:409.13336\tvalidation_1-rmse:442.14209\n",
      "[53]\tvalidation_0-rmse:408.05002\tvalidation_1-rmse:441.76462\n",
      "[54]\tvalidation_0-rmse:406.53778\tvalidation_1-rmse:441.05807\n",
      "[55]\tvalidation_0-rmse:405.59137\tvalidation_1-rmse:440.65704\n",
      "[56]\tvalidation_0-rmse:404.53223\tvalidation_1-rmse:440.31320\n",
      "[57]\tvalidation_0-rmse:403.55334\tvalidation_1-rmse:440.08902\n",
      "[58]\tvalidation_0-rmse:402.70010\tvalidation_1-rmse:440.03348\n",
      "[59]\tvalidation_0-rmse:401.82632\tvalidation_1-rmse:440.13220\n",
      "[60]\tvalidation_0-rmse:401.14630\tvalidation_1-rmse:440.23648\n",
      "[61]\tvalidation_0-rmse:399.01938\tvalidation_1-rmse:439.74094\n",
      "[62]\tvalidation_0-rmse:398.19690\tvalidation_1-rmse:439.75266\n",
      "[63]\tvalidation_0-rmse:397.32782\tvalidation_1-rmse:439.61563\n",
      "[64]\tvalidation_0-rmse:396.45276\tvalidation_1-rmse:439.45615\n",
      "[65]\tvalidation_0-rmse:395.60291\tvalidation_1-rmse:439.22525\n",
      "[66]\tvalidation_0-rmse:394.88303\tvalidation_1-rmse:438.94723\n",
      "[67]\tvalidation_0-rmse:394.14563\tvalidation_1-rmse:438.84976\n",
      "[68]\tvalidation_0-rmse:393.44638\tvalidation_1-rmse:438.67963\n",
      "[69]\tvalidation_0-rmse:392.55633\tvalidation_1-rmse:438.50732\n",
      "[70]\tvalidation_0-rmse:391.72391\tvalidation_1-rmse:438.09256\n",
      "[71]\tvalidation_0-rmse:390.93698\tvalidation_1-rmse:437.93521\n",
      "[72]\tvalidation_0-rmse:390.03030\tvalidation_1-rmse:437.70438\n",
      "[73]\tvalidation_0-rmse:389.46402\tvalidation_1-rmse:437.58285\n",
      "[74]\tvalidation_0-rmse:388.76999\tvalidation_1-rmse:437.52499\n",
      "[75]\tvalidation_0-rmse:388.06396\tvalidation_1-rmse:437.57065\n",
      "[76]\tvalidation_0-rmse:387.60788\tvalidation_1-rmse:437.42770\n",
      "[77]\tvalidation_0-rmse:387.17889\tvalidation_1-rmse:437.30878\n",
      "[78]\tvalidation_0-rmse:386.61133\tvalidation_1-rmse:437.25674\n",
      "[79]\tvalidation_0-rmse:385.91046\tvalidation_1-rmse:437.26517\n",
      "[80]\tvalidation_0-rmse:385.52011\tvalidation_1-rmse:437.15817\n",
      "[81]\tvalidation_0-rmse:384.12894\tvalidation_1-rmse:437.14401\n",
      "[82]\tvalidation_0-rmse:383.93039\tvalidation_1-rmse:437.11584\n",
      "[83]\tvalidation_0-rmse:383.52023\tvalidation_1-rmse:437.09058\n",
      "[84]\tvalidation_0-rmse:382.87176\tvalidation_1-rmse:437.11630\n",
      "[85]\tvalidation_0-rmse:381.64465\tvalidation_1-rmse:437.35550\n",
      "[86]\tvalidation_0-rmse:380.98132\tvalidation_1-rmse:437.30756\n",
      "[87]\tvalidation_0-rmse:380.53378\tvalidation_1-rmse:437.38214\n",
      "[88]\tvalidation_0-rmse:379.82944\tvalidation_1-rmse:436.85507\n",
      "[89]\tvalidation_0-rmse:379.53223\tvalidation_1-rmse:436.82236\n",
      "[90]\tvalidation_0-rmse:379.19672\tvalidation_1-rmse:436.70569\n",
      "[91]\tvalidation_0-rmse:378.79120\tvalidation_1-rmse:436.60947\n",
      "[92]\tvalidation_0-rmse:378.30426\tvalidation_1-rmse:436.71442\n",
      "[93]\tvalidation_0-rmse:377.43494\tvalidation_1-rmse:436.61563\n",
      "[94]\tvalidation_0-rmse:377.31027\tvalidation_1-rmse:436.52200\n",
      "[95]\tvalidation_0-rmse:376.36017\tvalidation_1-rmse:436.73325\n",
      "[96]\tvalidation_0-rmse:376.09036\tvalidation_1-rmse:436.66785\n",
      "[97]\tvalidation_0-rmse:375.21118\tvalidation_1-rmse:436.94534\n",
      "[98]\tvalidation_0-rmse:374.98135\tvalidation_1-rmse:436.94934\n",
      "[99]\tvalidation_0-rmse:373.81430\tvalidation_1-rmse:436.91849\n",
      "[100]\tvalidation_0-rmse:373.16367\tvalidation_1-rmse:437.01025\n",
      "[101]\tvalidation_0-rmse:372.30710\tvalidation_1-rmse:437.14954\n",
      "[102]\tvalidation_0-rmse:372.16901\tvalidation_1-rmse:437.26007\n",
      "[103]\tvalidation_0-rmse:371.78513\tvalidation_1-rmse:437.36246\n",
      "[104]\tvalidation_0-rmse:371.43643\tvalidation_1-rmse:437.32617\n",
      "[105]\tvalidation_0-rmse:370.50433\tvalidation_1-rmse:437.08426\n",
      "[106]\tvalidation_0-rmse:370.07867\tvalidation_1-rmse:436.96027\n",
      "[107]\tvalidation_0-rmse:369.22797\tvalidation_1-rmse:437.05765\n",
      "[108]\tvalidation_0-rmse:368.68369\tvalidation_1-rmse:436.94949\n",
      "[109]\tvalidation_0-rmse:367.78085\tvalidation_1-rmse:436.65057\n",
      "[110]\tvalidation_0-rmse:367.59222\tvalidation_1-rmse:436.64847\n",
      "[111]\tvalidation_0-rmse:366.87662\tvalidation_1-rmse:436.50400\n",
      "[112]\tvalidation_0-rmse:366.52033\tvalidation_1-rmse:436.40359\n",
      "[113]\tvalidation_0-rmse:366.21487\tvalidation_1-rmse:436.34897\n",
      "[114]\tvalidation_0-rmse:365.76621\tvalidation_1-rmse:436.53781\n",
      "[115]\tvalidation_0-rmse:364.89255\tvalidation_1-rmse:436.51404\n",
      "[116]\tvalidation_0-rmse:364.27631\tvalidation_1-rmse:436.49866\n",
      "[117]\tvalidation_0-rmse:363.46078\tvalidation_1-rmse:436.54358\n",
      "[118]\tvalidation_0-rmse:363.38605\tvalidation_1-rmse:436.49033\n",
      "[119]\tvalidation_0-rmse:363.26016\tvalidation_1-rmse:436.48019\n",
      "[120]\tvalidation_0-rmse:362.94513\tvalidation_1-rmse:436.63626\n",
      "[121]\tvalidation_0-rmse:362.11264\tvalidation_1-rmse:436.75955\n",
      "[122]\tvalidation_0-rmse:361.30090\tvalidation_1-rmse:436.80212\n",
      "[123]\tvalidation_0-rmse:361.22897\tvalidation_1-rmse:436.75244\n",
      "[124]\tvalidation_0-rmse:360.75061\tvalidation_1-rmse:436.70535\n",
      "[125]\tvalidation_0-rmse:360.31741\tvalidation_1-rmse:436.67160\n",
      "[126]\tvalidation_0-rmse:359.92465\tvalidation_1-rmse:436.42685\n",
      "[127]\tvalidation_0-rmse:359.07135\tvalidation_1-rmse:436.52249\n",
      "[128]\tvalidation_0-rmse:358.48929\tvalidation_1-rmse:436.57050\n",
      "[129]\tvalidation_0-rmse:357.96173\tvalidation_1-rmse:436.71457\n",
      "[130]\tvalidation_0-rmse:357.15573\tvalidation_1-rmse:436.47855\n",
      "[131]\tvalidation_0-rmse:356.36847\tvalidation_1-rmse:436.58911\n",
      "[132]\tvalidation_0-rmse:356.08060\tvalidation_1-rmse:436.53018\n",
      "[133]\tvalidation_0-rmse:355.86066\tvalidation_1-rmse:436.51297\n"
     ]
    },
    {
     "name": "stdout",
     "output_type": "stream",
     "text": [
      "[134]\tvalidation_0-rmse:355.78497\tvalidation_1-rmse:436.48981\n",
      "[135]\tvalidation_0-rmse:355.48486\tvalidation_1-rmse:436.43372\n",
      "[136]\tvalidation_0-rmse:354.92654\tvalidation_1-rmse:436.47815\n",
      "[137]\tvalidation_0-rmse:354.48920\tvalidation_1-rmse:436.51016\n",
      "[138]\tvalidation_0-rmse:354.13834\tvalidation_1-rmse:436.67044\n",
      "[139]\tvalidation_0-rmse:353.75394\tvalidation_1-rmse:436.55679\n",
      "[140]\tvalidation_0-rmse:353.30063\tvalidation_1-rmse:436.54114\n",
      "[141]\tvalidation_0-rmse:352.27365\tvalidation_1-rmse:436.52615\n",
      "[142]\tvalidation_0-rmse:351.96234\tvalidation_1-rmse:436.55096\n",
      "[143]\tvalidation_0-rmse:351.64963\tvalidation_1-rmse:436.65836\n",
      "[144]\tvalidation_0-rmse:350.90720\tvalidation_1-rmse:436.64740\n",
      "[145]\tvalidation_0-rmse:350.54047\tvalidation_1-rmse:436.23776\n",
      "[146]\tvalidation_0-rmse:350.31567\tvalidation_1-rmse:436.21707\n",
      "[147]\tvalidation_0-rmse:350.13995\tvalidation_1-rmse:436.33942\n",
      "[148]\tvalidation_0-rmse:349.49503\tvalidation_1-rmse:436.56708\n",
      "[149]\tvalidation_0-rmse:348.75702\tvalidation_1-rmse:436.43704\n",
      "[150]\tvalidation_0-rmse:348.36017\tvalidation_1-rmse:436.49292\n",
      "[151]\tvalidation_0-rmse:348.20309\tvalidation_1-rmse:436.57730\n",
      "[152]\tvalidation_0-rmse:347.69196\tvalidation_1-rmse:436.46097\n",
      "[153]\tvalidation_0-rmse:347.14874\tvalidation_1-rmse:436.49991\n",
      "[154]\tvalidation_0-rmse:346.69409\tvalidation_1-rmse:436.49405\n",
      "[155]\tvalidation_0-rmse:346.15689\tvalidation_1-rmse:436.41702\n",
      "[156]\tvalidation_0-rmse:345.84143\tvalidation_1-rmse:436.47168\n",
      "[157]\tvalidation_0-rmse:345.41064\tvalidation_1-rmse:436.33344\n",
      "[158]\tvalidation_0-rmse:345.33554\tvalidation_1-rmse:436.28552\n",
      "[159]\tvalidation_0-rmse:344.63757\tvalidation_1-rmse:436.15228\n",
      "[160]\tvalidation_0-rmse:344.53201\tvalidation_1-rmse:436.03449\n",
      "[161]\tvalidation_0-rmse:344.23428\tvalidation_1-rmse:436.11655\n",
      "[162]\tvalidation_0-rmse:344.00671\tvalidation_1-rmse:436.07266\n",
      "[163]\tvalidation_0-rmse:343.49142\tvalidation_1-rmse:436.28265\n",
      "[164]\tvalidation_0-rmse:342.85236\tvalidation_1-rmse:436.30481\n",
      "[165]\tvalidation_0-rmse:342.79166\tvalidation_1-rmse:436.26477\n",
      "[166]\tvalidation_0-rmse:342.30960\tvalidation_1-rmse:436.30762\n",
      "[167]\tvalidation_0-rmse:342.26459\tvalidation_1-rmse:436.30176\n",
      "[168]\tvalidation_0-rmse:341.48050\tvalidation_1-rmse:436.16296\n",
      "[169]\tvalidation_0-rmse:340.44696\tvalidation_1-rmse:436.06253\n",
      "[170]\tvalidation_0-rmse:339.84329\tvalidation_1-rmse:436.13156\n",
      "[171]\tvalidation_0-rmse:339.29822\tvalidation_1-rmse:436.16452\n",
      "[172]\tvalidation_0-rmse:338.66504\tvalidation_1-rmse:436.36313\n",
      "[173]\tvalidation_0-rmse:338.30710\tvalidation_1-rmse:436.44241\n",
      "[174]\tvalidation_0-rmse:337.52594\tvalidation_1-rmse:436.59396\n",
      "[175]\tvalidation_0-rmse:336.89914\tvalidation_1-rmse:436.54587\n",
      "[176]\tvalidation_0-rmse:336.86072\tvalidation_1-rmse:436.54269\n",
      "[177]\tvalidation_0-rmse:336.32373\tvalidation_1-rmse:436.64456\n",
      "[178]\tvalidation_0-rmse:336.08975\tvalidation_1-rmse:436.63919\n",
      "[179]\tvalidation_0-rmse:336.03769\tvalidation_1-rmse:436.61008\n",
      "[180]\tvalidation_0-rmse:335.46515\tvalidation_1-rmse:436.67935\n",
      "[181]\tvalidation_0-rmse:335.13480\tvalidation_1-rmse:436.66986\n",
      "[182]\tvalidation_0-rmse:334.91492\tvalidation_1-rmse:436.62372\n",
      "[183]\tvalidation_0-rmse:334.19821\tvalidation_1-rmse:436.67389\n",
      "[184]\tvalidation_0-rmse:333.69998\tvalidation_1-rmse:436.72076\n",
      "[185]\tvalidation_0-rmse:333.33292\tvalidation_1-rmse:436.76459\n",
      "[186]\tvalidation_0-rmse:332.98276\tvalidation_1-rmse:436.79410\n",
      "[187]\tvalidation_0-rmse:332.13876\tvalidation_1-rmse:436.82980\n",
      "[188]\tvalidation_0-rmse:331.79352\tvalidation_1-rmse:436.82758\n",
      "[189]\tvalidation_0-rmse:331.32834\tvalidation_1-rmse:436.98318\n",
      "[190]\tvalidation_0-rmse:330.99588\tvalidation_1-rmse:436.90179\n",
      "[191]\tvalidation_0-rmse:330.96747\tvalidation_1-rmse:436.93097\n",
      "[192]\tvalidation_0-rmse:330.56131\tvalidation_1-rmse:436.85922\n",
      "[193]\tvalidation_0-rmse:330.51813\tvalidation_1-rmse:436.83383\n",
      "[194]\tvalidation_0-rmse:330.30987\tvalidation_1-rmse:436.79636\n",
      "[195]\tvalidation_0-rmse:329.85608\tvalidation_1-rmse:437.03772\n",
      "[196]\tvalidation_0-rmse:329.40082\tvalidation_1-rmse:437.00845\n",
      "[197]\tvalidation_0-rmse:329.03610\tvalidation_1-rmse:436.92252\n",
      "[198]\tvalidation_0-rmse:328.56076\tvalidation_1-rmse:437.03244\n",
      "[199]\tvalidation_0-rmse:328.40189\tvalidation_1-rmse:437.07828\n",
      "CPU times: user 21.8 s, sys: 922 ms, total: 22.7 s\n",
      "Wall time: 3.99 s\n"
     ]
    },
    {
     "data": {
      "text/plain": [
       "XGBRegressor(base_score=0.5, booster='gbtree', colsample_bylevel=1,\n",
       "             colsample_bynode=1, colsample_bytree=0.8, enable_categorical=False,\n",
       "             gamma=0, gpu_id=-1, importance_type=None,\n",
       "             interaction_constraints='', learning_rate=0.1, max_delta_step=0,\n",
       "             max_depth=6, min_child_weight=1, missing=nan,\n",
       "             monotone_constraints='()', n_estimators=200, n_jobs=8,\n",
       "             num_parallel_tree=1, predictor='auto', random_state=0, reg_alpha=1,\n",
       "             reg_lambda=1, scale_pos_weight=1, subsample=1, tree_method='exact',\n",
       "             validate_parameters=1, verbosity=None)"
      ]
     },
     "execution_count": 40,
     "metadata": {},
     "output_type": "execute_result"
    }
   ],
   "source": [
    "%%time\n",
    "# 1. XGBRegressor \n",
    "# Model training\n",
    "model.fit(X_train, y_train,eval_set=[(X_train,y_train),(X_val,y_val)],early_stopping_rounds=40)"
   ]
  },
  {
   "cell_type": "code",
   "execution_count": 115,
   "id": "114ebca5",
   "metadata": {},
   "outputs": [
    {
     "name": "stdout",
     "output_type": "stream",
     "text": [
      "CPU times: user 153 ms, sys: 2.21 ms, total: 155 ms\n",
      "Wall time: 155 ms\n"
     ]
    }
   ],
   "source": [
    "%%time\n",
    "# Model predictions\n",
    "y_pred_val = model.predict(X_val)"
   ]
  },
  {
   "cell_type": "code",
   "execution_count": 116,
   "id": "653dbd7f",
   "metadata": {},
   "outputs": [
    {
     "name": "stdout",
     "output_type": "stream",
     "text": [
      "CPU times: user 518 ms, sys: 3.3 ms, total: 521 ms\n",
      "Wall time: 522 ms\n"
     ]
    }
   ],
   "source": [
    "%%time\n",
    "# Model predictions\n",
    "y_pred_train = model.predict(X_train)"
   ]
  },
  {
   "cell_type": "markdown",
   "id": "9d6b94a3",
   "metadata": {},
   "source": [
    "## Training set error"
   ]
  },
  {
   "cell_type": "code",
   "execution_count": 117,
   "id": "a88fcb5b",
   "metadata": {},
   "outputs": [
    {
     "data": {
      "text/plain": [
       "387.97152511723135"
      ]
     },
     "execution_count": 117,
     "metadata": {},
     "output_type": "execute_result"
    }
   ],
   "source": [
    "# Model predictions\n",
    "rmse_train = mean_squared_error(y_train, y_pred_train)**0.5\n",
    "rmse_train"
   ]
  },
  {
   "cell_type": "code",
   "execution_count": 118,
   "id": "cb7a3f86",
   "metadata": {},
   "outputs": [
    {
     "data": {
      "text/plain": [
       "220.1684072850851"
      ]
     },
     "execution_count": 118,
     "metadata": {},
     "output_type": "execute_result"
    }
   ],
   "source": [
    "mae_train=mean_absolute_error(y_train, y_pred_train)\n",
    "mae_train"
   ]
  },
  {
   "cell_type": "code",
   "execution_count": 119,
   "id": "d1b6a927",
   "metadata": {},
   "outputs": [
    {
     "data": {
      "text/plain": [
       "0.9824080905577942"
      ]
     },
     "execution_count": 119,
     "metadata": {},
     "output_type": "execute_result"
    }
   ],
   "source": [
    "r2r = r2_score(y_val, y_pred_val)\n",
    "r2r"
   ]
  },
  {
   "cell_type": "markdown",
   "id": "2bfd4334",
   "metadata": {},
   "source": [
    "## Model validation"
   ]
  },
  {
   "cell_type": "code",
   "execution_count": 120,
   "id": "589c945e",
   "metadata": {},
   "outputs": [
    {
     "data": {
      "text/plain": [
       "458.8931212374295"
      ]
     },
     "execution_count": 120,
     "metadata": {},
     "output_type": "execute_result"
    }
   ],
   "source": [
    "#432\n",
    "rmse_val = mean_squared_error(y_val, y_pred_val)**0.5\n",
    "rmse_val"
   ]
  },
  {
   "cell_type": "code",
   "execution_count": 121,
   "id": "2cc1fbe1",
   "metadata": {},
   "outputs": [
    {
     "data": {
      "text/plain": [
       "250.2266356184842"
      ]
     },
     "execution_count": 121,
     "metadata": {},
     "output_type": "execute_result"
    }
   ],
   "source": [
    "mae_val=mean_absolute_error(y_val, y_pred_val)\n",
    "mae_val"
   ]
  },
  {
   "cell_type": "code",
   "execution_count": 122,
   "id": "e4b6f7bf",
   "metadata": {},
   "outputs": [
    {
     "data": {
      "text/plain": [
       "0.9824080905577942"
      ]
     },
     "execution_count": 122,
     "metadata": {},
     "output_type": "execute_result"
    }
   ],
   "source": [
    "r2r = r2_score(y_val, y_pred_val)\n",
    "r2r"
   ]
  },
  {
   "cell_type": "markdown",
   "id": "46e824c3",
   "metadata": {},
   "source": [
    "## Model training without validation"
   ]
  },
  {
   "cell_type": "code",
   "execution_count": 236,
   "id": "643a3878",
   "metadata": {},
   "outputs": [
    {
     "name": "stdout",
     "output_type": "stream",
     "text": [
      "[0]\tvalidation_0-rmse:4597.65234\tvalidation_1-rmse:4445.54053\n",
      "[1]\tvalidation_0-rmse:4153.35352\tvalidation_1-rmse:4013.25537\n",
      "[2]\tvalidation_0-rmse:3757.12988\tvalidation_1-rmse:3629.02173\n",
      "[3]\tvalidation_0-rmse:3397.85059\tvalidation_1-rmse:3280.38062\n",
      "[4]\tvalidation_0-rmse:3074.06885\tvalidation_1-rmse:2965.40698\n",
      "[5]\tvalidation_0-rmse:2782.83203\tvalidation_1-rmse:2682.07422\n",
      "[6]\tvalidation_0-rmse:2523.01367\tvalidation_1-rmse:2428.66357\n",
      "[7]\tvalidation_0-rmse:2288.53931\tvalidation_1-rmse:2200.68994\n",
      "[8]\tvalidation_0-rmse:2079.38330\tvalidation_1-rmse:1996.21948\n",
      "[9]\tvalidation_0-rmse:1890.61060\tvalidation_1-rmse:1812.64136\n",
      "[10]\tvalidation_0-rmse:1722.10022\tvalidation_1-rmse:1649.11829\n",
      "[11]\tvalidation_0-rmse:1571.44898\tvalidation_1-rmse:1502.40833\n",
      "[12]\tvalidation_0-rmse:1435.38709\tvalidation_1-rmse:1370.18933\n",
      "[13]\tvalidation_0-rmse:1314.66370\tvalidation_1-rmse:1252.56372\n",
      "[14]\tvalidation_0-rmse:1207.35303\tvalidation_1-rmse:1149.10095\n",
      "[15]\tvalidation_0-rmse:1112.12878\tvalidation_1-rmse:1056.93469\n",
      "[16]\tvalidation_0-rmse:1026.24231\tvalidation_1-rmse:974.06934\n",
      "[17]\tvalidation_0-rmse:951.88788\tvalidation_1-rmse:903.05884\n",
      "[18]\tvalidation_0-rmse:884.48480\tvalidation_1-rmse:839.00049\n",
      "[19]\tvalidation_0-rmse:824.52704\tvalidation_1-rmse:780.74896\n",
      "[20]\tvalidation_0-rmse:773.11182\tvalidation_1-rmse:732.28827\n",
      "[21]\tvalidation_0-rmse:727.95209\tvalidation_1-rmse:688.63794\n",
      "[22]\tvalidation_0-rmse:686.89978\tvalidation_1-rmse:649.53888\n",
      "[23]\tvalidation_0-rmse:650.90033\tvalidation_1-rmse:615.22595\n",
      "[24]\tvalidation_0-rmse:620.28412\tvalidation_1-rmse:586.40955\n",
      "[25]\tvalidation_0-rmse:593.21112\tvalidation_1-rmse:560.48138\n",
      "[26]\tvalidation_0-rmse:570.14209\tvalidation_1-rmse:539.10107\n",
      "[27]\tvalidation_0-rmse:550.76630\tvalidation_1-rmse:521.74078\n",
      "[28]\tvalidation_0-rmse:533.35272\tvalidation_1-rmse:505.39197\n",
      "[29]\tvalidation_0-rmse:517.87097\tvalidation_1-rmse:491.13742\n",
      "[30]\tvalidation_0-rmse:504.73773\tvalidation_1-rmse:479.28946\n",
      "[31]\tvalidation_0-rmse:493.28424\tvalidation_1-rmse:468.67743\n",
      "[32]\tvalidation_0-rmse:483.39859\tvalidation_1-rmse:459.68372\n",
      "[33]\tvalidation_0-rmse:475.04025\tvalidation_1-rmse:452.01102\n",
      "[34]\tvalidation_0-rmse:467.61099\tvalidation_1-rmse:445.77893\n",
      "[35]\tvalidation_0-rmse:460.89130\tvalidation_1-rmse:440.25488\n",
      "[36]\tvalidation_0-rmse:455.26486\tvalidation_1-rmse:435.00403\n",
      "[37]\tvalidation_0-rmse:450.13641\tvalidation_1-rmse:430.95917\n",
      "[38]\tvalidation_0-rmse:445.78540\tvalidation_1-rmse:427.15750\n",
      "[39]\tvalidation_0-rmse:442.15738\tvalidation_1-rmse:423.94943\n",
      "[40]\tvalidation_0-rmse:438.54147\tvalidation_1-rmse:421.29733\n",
      "[41]\tvalidation_0-rmse:435.84064\tvalidation_1-rmse:419.03131\n",
      "[42]\tvalidation_0-rmse:433.17764\tvalidation_1-rmse:417.08655\n",
      "[43]\tvalidation_0-rmse:430.68103\tvalidation_1-rmse:415.04614\n",
      "[44]\tvalidation_0-rmse:428.20761\tvalidation_1-rmse:413.17667\n",
      "[45]\tvalidation_0-rmse:426.06537\tvalidation_1-rmse:411.63043\n",
      "[46]\tvalidation_0-rmse:423.92145\tvalidation_1-rmse:409.94122\n",
      "[47]\tvalidation_0-rmse:422.16757\tvalidation_1-rmse:408.58502\n",
      "[48]\tvalidation_0-rmse:420.59576\tvalidation_1-rmse:407.17358\n",
      "[49]\tvalidation_0-rmse:419.35959\tvalidation_1-rmse:406.13776\n",
      "[50]\tvalidation_0-rmse:417.54294\tvalidation_1-rmse:404.82007\n",
      "[51]\tvalidation_0-rmse:416.34888\tvalidation_1-rmse:403.76092\n",
      "[52]\tvalidation_0-rmse:414.84430\tvalidation_1-rmse:402.63431\n",
      "[53]\tvalidation_0-rmse:414.01230\tvalidation_1-rmse:401.87384\n",
      "[54]\tvalidation_0-rmse:413.23163\tvalidation_1-rmse:401.38083\n",
      "[55]\tvalidation_0-rmse:412.08637\tvalidation_1-rmse:400.76062\n",
      "[56]\tvalidation_0-rmse:410.69171\tvalidation_1-rmse:399.76175\n",
      "[57]\tvalidation_0-rmse:409.32416\tvalidation_1-rmse:398.89105\n",
      "[58]\tvalidation_0-rmse:408.39285\tvalidation_1-rmse:397.96570\n",
      "[59]\tvalidation_0-rmse:407.50110\tvalidation_1-rmse:397.29398\n",
      "[60]\tvalidation_0-rmse:406.33249\tvalidation_1-rmse:395.98203\n",
      "[61]\tvalidation_0-rmse:405.66763\tvalidation_1-rmse:395.26559\n",
      "[62]\tvalidation_0-rmse:404.91525\tvalidation_1-rmse:394.49310\n",
      "[63]\tvalidation_0-rmse:404.13068\tvalidation_1-rmse:393.79123\n",
      "[64]\tvalidation_0-rmse:403.16516\tvalidation_1-rmse:393.00015\n",
      "[65]\tvalidation_0-rmse:402.52139\tvalidation_1-rmse:392.46277\n",
      "[66]\tvalidation_0-rmse:401.58298\tvalidation_1-rmse:391.36520\n",
      "[67]\tvalidation_0-rmse:400.39218\tvalidation_1-rmse:390.29877\n",
      "[68]\tvalidation_0-rmse:399.24902\tvalidation_1-rmse:389.16727\n",
      "[69]\tvalidation_0-rmse:398.34512\tvalidation_1-rmse:388.60919\n",
      "[70]\tvalidation_0-rmse:397.74841\tvalidation_1-rmse:388.11127\n",
      "[71]\tvalidation_0-rmse:396.84824\tvalidation_1-rmse:387.24289\n",
      "[72]\tvalidation_0-rmse:395.65411\tvalidation_1-rmse:386.14850\n",
      "[73]\tvalidation_0-rmse:394.96393\tvalidation_1-rmse:385.34375\n",
      "[74]\tvalidation_0-rmse:393.82712\tvalidation_1-rmse:384.10376\n",
      "[75]\tvalidation_0-rmse:393.29001\tvalidation_1-rmse:383.61212\n",
      "[76]\tvalidation_0-rmse:392.53528\tvalidation_1-rmse:382.76410\n",
      "[77]\tvalidation_0-rmse:391.67841\tvalidation_1-rmse:382.13464\n",
      "[78]\tvalidation_0-rmse:391.28162\tvalidation_1-rmse:381.88870\n",
      "[79]\tvalidation_0-rmse:390.62051\tvalidation_1-rmse:381.31848\n",
      "[80]\tvalidation_0-rmse:390.23392\tvalidation_1-rmse:380.84445\n",
      "[81]\tvalidation_0-rmse:389.40982\tvalidation_1-rmse:380.21820\n",
      "[82]\tvalidation_0-rmse:388.99258\tvalidation_1-rmse:379.75275\n",
      "[83]\tvalidation_0-rmse:388.10391\tvalidation_1-rmse:379.06772\n",
      "[84]\tvalidation_0-rmse:387.49991\tvalidation_1-rmse:378.40939\n",
      "[85]\tvalidation_0-rmse:386.78314\tvalidation_1-rmse:377.70648\n",
      "[86]\tvalidation_0-rmse:386.17212\tvalidation_1-rmse:377.13110\n",
      "[87]\tvalidation_0-rmse:385.56174\tvalidation_1-rmse:376.56140\n",
      "[88]\tvalidation_0-rmse:384.46033\tvalidation_1-rmse:375.62997\n",
      "[89]\tvalidation_0-rmse:383.71835\tvalidation_1-rmse:374.80862\n",
      "[90]\tvalidation_0-rmse:382.85638\tvalidation_1-rmse:373.97238\n",
      "[91]\tvalidation_0-rmse:382.51282\tvalidation_1-rmse:373.74381\n",
      "[92]\tvalidation_0-rmse:382.30051\tvalidation_1-rmse:373.62015\n",
      "[93]\tvalidation_0-rmse:381.44635\tvalidation_1-rmse:372.58362\n",
      "[94]\tvalidation_0-rmse:380.42892\tvalidation_1-rmse:371.31476\n",
      "[95]\tvalidation_0-rmse:380.10175\tvalidation_1-rmse:371.08371\n",
      "[96]\tvalidation_0-rmse:379.57825\tvalidation_1-rmse:370.71649\n",
      "[97]\tvalidation_0-rmse:378.61087\tvalidation_1-rmse:369.99161\n",
      "[98]\tvalidation_0-rmse:378.18726\tvalidation_1-rmse:369.70798\n",
      "[99]\tvalidation_0-rmse:377.71051\tvalidation_1-rmse:369.01987\n",
      "[100]\tvalidation_0-rmse:377.42358\tvalidation_1-rmse:368.79993\n",
      "[101]\tvalidation_0-rmse:377.08914\tvalidation_1-rmse:368.41064\n",
      "[102]\tvalidation_0-rmse:376.70196\tvalidation_1-rmse:367.96362\n",
      "[103]\tvalidation_0-rmse:376.35931\tvalidation_1-rmse:367.69522\n",
      "[104]\tvalidation_0-rmse:375.77994\tvalidation_1-rmse:367.21814\n",
      "[105]\tvalidation_0-rmse:375.59595\tvalidation_1-rmse:366.97070\n",
      "[106]\tvalidation_0-rmse:375.13913\tvalidation_1-rmse:366.64679\n",
      "[107]\tvalidation_0-rmse:374.78122\tvalidation_1-rmse:366.13580\n",
      "[108]\tvalidation_0-rmse:374.66754\tvalidation_1-rmse:366.03046\n",
      "[109]\tvalidation_0-rmse:374.42465\tvalidation_1-rmse:365.72553\n",
      "[110]\tvalidation_0-rmse:373.79361\tvalidation_1-rmse:365.21283\n",
      "[111]\tvalidation_0-rmse:373.00177\tvalidation_1-rmse:364.74515\n",
      "[112]\tvalidation_0-rmse:372.47549\tvalidation_1-rmse:364.22690\n",
      "[113]\tvalidation_0-rmse:371.90326\tvalidation_1-rmse:363.53113\n",
      "[114]\tvalidation_0-rmse:371.83804\tvalidation_1-rmse:363.45505\n",
      "[115]\tvalidation_0-rmse:371.66672\tvalidation_1-rmse:363.38031\n",
      "[116]\tvalidation_0-rmse:371.18356\tvalidation_1-rmse:362.42307\n",
      "[117]\tvalidation_0-rmse:370.48752\tvalidation_1-rmse:361.84177\n",
      "[118]\tvalidation_0-rmse:370.18253\tvalidation_1-rmse:361.48645\n",
      "[119]\tvalidation_0-rmse:369.56268\tvalidation_1-rmse:360.77423\n",
      "[120]\tvalidation_0-rmse:369.40686\tvalidation_1-rmse:360.65265\n",
      "[121]\tvalidation_0-rmse:368.96173\tvalidation_1-rmse:360.06290\n",
      "[122]\tvalidation_0-rmse:368.67014\tvalidation_1-rmse:359.72345\n",
      "[123]\tvalidation_0-rmse:368.08118\tvalidation_1-rmse:358.92129\n",
      "[124]\tvalidation_0-rmse:367.92322\tvalidation_1-rmse:358.79797\n",
      "[125]\tvalidation_0-rmse:367.44138\tvalidation_1-rmse:358.45068\n",
      "[126]\tvalidation_0-rmse:367.11350\tvalidation_1-rmse:358.16272\n",
      "[127]\tvalidation_0-rmse:366.74203\tvalidation_1-rmse:357.91773\n",
      "[128]\tvalidation_0-rmse:366.23218\tvalidation_1-rmse:357.72733\n",
      "[129]\tvalidation_0-rmse:366.10443\tvalidation_1-rmse:357.66614\n",
      "[130]\tvalidation_0-rmse:366.01303\tvalidation_1-rmse:357.58264\n",
      "[131]\tvalidation_0-rmse:365.66559\tvalidation_1-rmse:357.20871\n",
      "[132]\tvalidation_0-rmse:365.14520\tvalidation_1-rmse:356.88870\n",
      "[133]\tvalidation_0-rmse:364.69110\tvalidation_1-rmse:356.49799\n"
     ]
    },
    {
     "name": "stdout",
     "output_type": "stream",
     "text": [
      "[134]\tvalidation_0-rmse:364.24530\tvalidation_1-rmse:355.72629\n",
      "[135]\tvalidation_0-rmse:363.75162\tvalidation_1-rmse:355.08414\n",
      "[136]\tvalidation_0-rmse:363.67737\tvalidation_1-rmse:355.01236\n",
      "[137]\tvalidation_0-rmse:363.28522\tvalidation_1-rmse:354.65683\n",
      "[138]\tvalidation_0-rmse:363.10425\tvalidation_1-rmse:354.42325\n",
      "[139]\tvalidation_0-rmse:362.37460\tvalidation_1-rmse:353.87824\n",
      "[140]\tvalidation_0-rmse:361.81726\tvalidation_1-rmse:353.52335\n",
      "[141]\tvalidation_0-rmse:361.30771\tvalidation_1-rmse:352.97806\n",
      "[142]\tvalidation_0-rmse:360.86020\tvalidation_1-rmse:352.56506\n",
      "[143]\tvalidation_0-rmse:360.26148\tvalidation_1-rmse:352.11652\n",
      "[144]\tvalidation_0-rmse:359.53445\tvalidation_1-rmse:351.47607\n",
      "[145]\tvalidation_0-rmse:359.42099\tvalidation_1-rmse:351.37286\n",
      "[146]\tvalidation_0-rmse:358.86246\tvalidation_1-rmse:351.12546\n",
      "[147]\tvalidation_0-rmse:358.52841\tvalidation_1-rmse:350.60715\n",
      "[148]\tvalidation_0-rmse:357.92682\tvalidation_1-rmse:349.93311\n",
      "[149]\tvalidation_0-rmse:357.86557\tvalidation_1-rmse:349.87619\n",
      "[150]\tvalidation_0-rmse:357.28464\tvalidation_1-rmse:349.43573\n",
      "[151]\tvalidation_0-rmse:356.77893\tvalidation_1-rmse:349.32184\n",
      "[152]\tvalidation_0-rmse:355.98575\tvalidation_1-rmse:348.74027\n",
      "[153]\tvalidation_0-rmse:355.67331\tvalidation_1-rmse:348.30145\n",
      "[154]\tvalidation_0-rmse:355.36945\tvalidation_1-rmse:348.02374\n",
      "[155]\tvalidation_0-rmse:355.06461\tvalidation_1-rmse:347.83145\n",
      "[156]\tvalidation_0-rmse:354.72339\tvalidation_1-rmse:347.46799\n",
      "[157]\tvalidation_0-rmse:353.80164\tvalidation_1-rmse:346.53763\n",
      "[158]\tvalidation_0-rmse:352.99737\tvalidation_1-rmse:345.84079\n",
      "[159]\tvalidation_0-rmse:352.40268\tvalidation_1-rmse:345.41168\n",
      "[160]\tvalidation_0-rmse:352.29990\tvalidation_1-rmse:345.32205\n",
      "[161]\tvalidation_0-rmse:352.25320\tvalidation_1-rmse:345.28296\n",
      "[162]\tvalidation_0-rmse:351.95563\tvalidation_1-rmse:345.09674\n",
      "[163]\tvalidation_0-rmse:351.65137\tvalidation_1-rmse:344.64398\n",
      "[164]\tvalidation_0-rmse:351.09302\tvalidation_1-rmse:344.25143\n",
      "[165]\tvalidation_0-rmse:350.94034\tvalidation_1-rmse:344.17410\n",
      "[166]\tvalidation_0-rmse:350.82535\tvalidation_1-rmse:344.08359\n",
      "[167]\tvalidation_0-rmse:350.45727\tvalidation_1-rmse:343.71286\n",
      "[168]\tvalidation_0-rmse:349.73492\tvalidation_1-rmse:343.23737\n",
      "[169]\tvalidation_0-rmse:348.99988\tvalidation_1-rmse:342.70364\n",
      "[170]\tvalidation_0-rmse:348.33304\tvalidation_1-rmse:342.28836\n",
      "[171]\tvalidation_0-rmse:348.28845\tvalidation_1-rmse:342.26184\n",
      "[172]\tvalidation_0-rmse:348.23874\tvalidation_1-rmse:342.21927\n",
      "[173]\tvalidation_0-rmse:347.70633\tvalidation_1-rmse:341.88150\n",
      "[174]\tvalidation_0-rmse:347.47510\tvalidation_1-rmse:341.75290\n",
      "[175]\tvalidation_0-rmse:347.10938\tvalidation_1-rmse:341.14142\n",
      "[176]\tvalidation_0-rmse:346.69696\tvalidation_1-rmse:340.77426\n",
      "[177]\tvalidation_0-rmse:345.87592\tvalidation_1-rmse:340.02176\n",
      "[178]\tvalidation_0-rmse:345.31421\tvalidation_1-rmse:339.60113\n",
      "[179]\tvalidation_0-rmse:344.89655\tvalidation_1-rmse:339.20407\n",
      "[180]\tvalidation_0-rmse:344.45783\tvalidation_1-rmse:338.81390\n",
      "[181]\tvalidation_0-rmse:344.05521\tvalidation_1-rmse:338.39917\n",
      "[182]\tvalidation_0-rmse:343.76410\tvalidation_1-rmse:338.33301\n",
      "[183]\tvalidation_0-rmse:343.47736\tvalidation_1-rmse:338.24719\n",
      "[184]\tvalidation_0-rmse:342.96155\tvalidation_1-rmse:337.85898\n",
      "[185]\tvalidation_0-rmse:342.76959\tvalidation_1-rmse:337.74567\n",
      "[186]\tvalidation_0-rmse:342.36050\tvalidation_1-rmse:337.31448\n",
      "[187]\tvalidation_0-rmse:341.81271\tvalidation_1-rmse:336.82852\n",
      "[188]\tvalidation_0-rmse:341.54846\tvalidation_1-rmse:336.45883\n",
      "[189]\tvalidation_0-rmse:341.17239\tvalidation_1-rmse:336.08310\n",
      "[190]\tvalidation_0-rmse:340.40814\tvalidation_1-rmse:335.36090\n",
      "[191]\tvalidation_0-rmse:339.89194\tvalidation_1-rmse:334.87268\n",
      "[192]\tvalidation_0-rmse:339.85593\tvalidation_1-rmse:334.84656\n",
      "[193]\tvalidation_0-rmse:339.52637\tvalidation_1-rmse:334.57590\n",
      "[194]\tvalidation_0-rmse:338.87219\tvalidation_1-rmse:333.95123\n",
      "[195]\tvalidation_0-rmse:338.35971\tvalidation_1-rmse:333.44876\n",
      "[196]\tvalidation_0-rmse:337.66672\tvalidation_1-rmse:332.95785\n",
      "[197]\tvalidation_0-rmse:337.26343\tvalidation_1-rmse:332.72775\n",
      "[198]\tvalidation_0-rmse:336.95160\tvalidation_1-rmse:332.57657\n",
      "[199]\tvalidation_0-rmse:336.89969\tvalidation_1-rmse:332.52875\n",
      "CPU times: user 27.1 s, sys: 879 ms, total: 28 s\n",
      "Wall time: 4.46 s\n"
     ]
    },
    {
     "data": {
      "text/plain": [
       "XGBRegressor(base_score=0.5, booster='gbtree', colsample_bylevel=1,\n",
       "             colsample_bynode=1, colsample_bytree=0.8, enable_categorical=False,\n",
       "             gamma=0, gpu_id=-1, importance_type=None,\n",
       "             interaction_constraints='', learning_rate=0.1, max_delta_step=0,\n",
       "             max_depth=6, min_child_weight=1, missing=nan,\n",
       "             monotone_constraints='()', n_estimators=200, n_jobs=8,\n",
       "             num_parallel_tree=1, predictor='auto', random_state=0, reg_alpha=1,\n",
       "             reg_lambda=1, scale_pos_weight=1, subsample=1, tree_method='exact',\n",
       "             validate_parameters=1, verbosity=None)"
      ]
     },
     "execution_count": 236,
     "metadata": {},
     "output_type": "execute_result"
    }
   ],
   "source": [
    "%%time\n",
    "# Model training\n",
    "model.fit(X, y,eval_set=[(X_train,y_train),(X_val,y_val)],early_stopping_rounds=40)"
   ]
  },
  {
   "cell_type": "markdown",
   "id": "8f5f534f",
   "metadata": {},
   "source": [
    "## Test Preditions"
   ]
  },
  {
   "cell_type": "code",
   "execution_count": 36,
   "id": "9085827c",
   "metadata": {},
   "outputs": [],
   "source": [
    "predictions = model.predict(X_test)"
   ]
  },
  {
   "cell_type": "code",
   "execution_count": 37,
   "id": "4d010675",
   "metadata": {},
   "outputs": [],
   "source": [
    "predictions=pd.DataFrame(predictions)"
   ]
  },
  {
   "cell_type": "code",
   "execution_count": 600,
   "id": "9d2ca3df",
   "metadata": {},
   "outputs": [],
   "source": [
    "predictions.reset_index(inplace=True)"
   ]
  },
  {
   "cell_type": "code",
   "execution_count": 463,
   "id": "2c805a71",
   "metadata": {},
   "outputs": [],
   "source": [
    "predictions=predictions.rename({0: 'price','index': 'id'}, axis=1)"
   ]
  },
  {
   "cell_type": "markdown",
   "id": "01a0cf38",
   "metadata": {},
   "source": [
    "## Save Preditions"
   ]
  },
  {
   "cell_type": "code",
   "execution_count": 464,
   "id": "da3f74be",
   "metadata": {},
   "outputs": [],
   "source": [
    "predictions.to_csv('../data/diamonds_predictions_XGBRegressor_Cross_Target.csv',index=False)"
   ]
  }
 ],
 "metadata": {
  "kernelspec": {
   "display_name": "Python [conda env:ML]",
   "language": "python",
   "name": "conda-env-ML-py"
  },
  "language_info": {
   "codemirror_mode": {
    "name": "ipython",
    "version": 3
   },
   "file_extension": ".py",
   "mimetype": "text/x-python",
   "name": "python",
   "nbconvert_exporter": "python",
   "pygments_lexer": "ipython3",
   "version": "3.7.13"
  }
 },
 "nbformat": 4,
 "nbformat_minor": 5
}
