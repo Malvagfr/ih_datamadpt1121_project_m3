{
 "cells": [
  {
   "cell_type": "markdown",
   "id": "c1df95e2",
   "metadata": {},
   "source": [
    "## Libraries import"
   ]
  },
  {
   "cell_type": "code",
   "execution_count": 7,
   "id": "15bd2943",
   "metadata": {},
   "outputs": [],
   "source": [
    "# imports\n",
    "import warnings\n",
    "warnings.filterwarnings('ignore')\n",
    "import numpy as np\n",
    "import pandas as pd\n",
    "import matplotlib.pyplot as plt\n",
    "import seaborn as sns\n",
    "%matplotlib inline\n",
    "from sklearn import preprocessing\n",
    "#train test split\n",
    "from sklearn.model_selection import train_test_split\n",
    "#models\n",
    "from sklearn.linear_model import Lasso\n",
    "#error\n",
    "from sklearn.metrics import mean_squared_error"
   ]
  },
  {
   "cell_type": "markdown",
   "id": "894bdee3",
   "metadata": {},
   "source": [
    "## Data import"
   ]
  },
  {
   "cell_type": "code",
   "execution_count": 5,
   "id": "b35aa513",
   "metadata": {},
   "outputs": [
    {
     "data": {
      "text/html": [
       "<div>\n",
       "<style scoped>\n",
       "    .dataframe tbody tr th:only-of-type {\n",
       "        vertical-align: middle;\n",
       "    }\n",
       "\n",
       "    .dataframe tbody tr th {\n",
       "        vertical-align: top;\n",
       "    }\n",
       "\n",
       "    .dataframe thead th {\n",
       "        text-align: right;\n",
       "    }\n",
       "</style>\n",
       "<table border=\"1\" class=\"dataframe\">\n",
       "  <thead>\n",
       "    <tr style=\"text-align: right;\">\n",
       "      <th></th>\n",
       "      <th>index_id</th>\n",
       "      <th>depth</th>\n",
       "      <th>table</th>\n",
       "      <th>x</th>\n",
       "      <th>y</th>\n",
       "      <th>z</th>\n",
       "      <th>price</th>\n",
       "      <th>carat</th>\n",
       "      <th>cut</th>\n",
       "      <th>color</th>\n",
       "      <th>clarity</th>\n",
       "      <th>city</th>\n",
       "    </tr>\n",
       "  </thead>\n",
       "  <tbody>\n",
       "    <tr>\n",
       "      <th>0</th>\n",
       "      <td>5feceb66ffc86f38d952786c6d696c79c2dbc239dd4e91...</td>\n",
       "      <td>62.4</td>\n",
       "      <td>58.0</td>\n",
       "      <td>6.83</td>\n",
       "      <td>6.79</td>\n",
       "      <td>4.25</td>\n",
       "      <td>4268</td>\n",
       "      <td>1.21</td>\n",
       "      <td>Premium</td>\n",
       "      <td>J</td>\n",
       "      <td>VS2</td>\n",
       "      <td>Dubai</td>\n",
       "    </tr>\n",
       "    <tr>\n",
       "      <th>1</th>\n",
       "      <td>6b86b273ff34fce19d6b804eff5a3f5747ada4eaa22f1d...</td>\n",
       "      <td>63.0</td>\n",
       "      <td>57.0</td>\n",
       "      <td>4.35</td>\n",
       "      <td>4.38</td>\n",
       "      <td>2.75</td>\n",
       "      <td>505</td>\n",
       "      <td>0.32</td>\n",
       "      <td>Very Good</td>\n",
       "      <td>H</td>\n",
       "      <td>VS2</td>\n",
       "      <td>Kimberly</td>\n",
       "    </tr>\n",
       "    <tr>\n",
       "      <th>2</th>\n",
       "      <td>d4735e3a265e16eee03f59718b9b5d03019c07d8b6c51f...</td>\n",
       "      <td>65.5</td>\n",
       "      <td>55.0</td>\n",
       "      <td>5.62</td>\n",
       "      <td>5.53</td>\n",
       "      <td>3.65</td>\n",
       "      <td>2686</td>\n",
       "      <td>0.71</td>\n",
       "      <td>Fair</td>\n",
       "      <td>G</td>\n",
       "      <td>VS1</td>\n",
       "      <td>Las Vegas</td>\n",
       "    </tr>\n",
       "    <tr>\n",
       "      <th>3</th>\n",
       "      <td>4e07408562bedb8b60ce05c1decfe3ad16b72230967de0...</td>\n",
       "      <td>63.8</td>\n",
       "      <td>56.0</td>\n",
       "      <td>4.68</td>\n",
       "      <td>4.72</td>\n",
       "      <td>3.00</td>\n",
       "      <td>738</td>\n",
       "      <td>0.41</td>\n",
       "      <td>Good</td>\n",
       "      <td>D</td>\n",
       "      <td>SI1</td>\n",
       "      <td>Kimberly</td>\n",
       "    </tr>\n",
       "    <tr>\n",
       "      <th>4</th>\n",
       "      <td>4b227777d4dd1fc61c6f884f48641d02b4d121d3fd328c...</td>\n",
       "      <td>60.5</td>\n",
       "      <td>59.0</td>\n",
       "      <td>6.55</td>\n",
       "      <td>6.51</td>\n",
       "      <td>3.95</td>\n",
       "      <td>4882</td>\n",
       "      <td>1.02</td>\n",
       "      <td>Ideal</td>\n",
       "      <td>G</td>\n",
       "      <td>SI1</td>\n",
       "      <td>Dubai</td>\n",
       "    </tr>\n",
       "    <tr>\n",
       "      <th>...</th>\n",
       "      <td>...</td>\n",
       "      <td>...</td>\n",
       "      <td>...</td>\n",
       "      <td>...</td>\n",
       "      <td>...</td>\n",
       "      <td>...</td>\n",
       "      <td>...</td>\n",
       "      <td>...</td>\n",
       "      <td>...</td>\n",
       "      <td>...</td>\n",
       "      <td>...</td>\n",
       "      <td>...</td>\n",
       "    </tr>\n",
       "    <tr>\n",
       "      <th>40450</th>\n",
       "      <td>f0bc79169405ebeb24e308055156b946ffd819db9b4f75...</td>\n",
       "      <td>62.7</td>\n",
       "      <td>57.0</td>\n",
       "      <td>7.10</td>\n",
       "      <td>7.04</td>\n",
       "      <td>4.43</td>\n",
       "      <td>10070</td>\n",
       "      <td>1.34</td>\n",
       "      <td>Ideal</td>\n",
       "      <td>G</td>\n",
       "      <td>VS1</td>\n",
       "      <td>Antwerp</td>\n",
       "    </tr>\n",
       "    <tr>\n",
       "      <th>40451</th>\n",
       "      <td>339916a23bf22b052b54cb2a9b36ee8418c1c68b46acad...</td>\n",
       "      <td>57.1</td>\n",
       "      <td>60.0</td>\n",
       "      <td>8.31</td>\n",
       "      <td>8.25</td>\n",
       "      <td>4.73</td>\n",
       "      <td>12615</td>\n",
       "      <td>2.02</td>\n",
       "      <td>Good</td>\n",
       "      <td>F</td>\n",
       "      <td>SI2</td>\n",
       "      <td>Madrid</td>\n",
       "    </tr>\n",
       "    <tr>\n",
       "      <th>40452</th>\n",
       "      <td>46957922b99954654c1deb8d854c3f069bf118b2ce9415...</td>\n",
       "      <td>62.7</td>\n",
       "      <td>56.0</td>\n",
       "      <td>6.37</td>\n",
       "      <td>6.42</td>\n",
       "      <td>4.01</td>\n",
       "      <td>5457</td>\n",
       "      <td>1.01</td>\n",
       "      <td>Ideal</td>\n",
       "      <td>H</td>\n",
       "      <td>SI1</td>\n",
       "      <td>Kimberly</td>\n",
       "    </tr>\n",
       "    <tr>\n",
       "      <th>40453</th>\n",
       "      <td>9d733392d362d5c6f1d9b9659b601c7d4b5a1c1c8df579...</td>\n",
       "      <td>61.9</td>\n",
       "      <td>54.3</td>\n",
       "      <td>4.45</td>\n",
       "      <td>4.47</td>\n",
       "      <td>2.76</td>\n",
       "      <td>456</td>\n",
       "      <td>0.33</td>\n",
       "      <td>Ideal</td>\n",
       "      <td>J</td>\n",
       "      <td>VS1</td>\n",
       "      <td>Kimberly</td>\n",
       "    </tr>\n",
       "    <tr>\n",
       "      <th>40454</th>\n",
       "      <td>a02744a70faa594d240b067f21fcc23a8d17cd1098a9fb...</td>\n",
       "      <td>62.0</td>\n",
       "      <td>58.0</td>\n",
       "      <td>6.83</td>\n",
       "      <td>6.88</td>\n",
       "      <td>4.25</td>\n",
       "      <td>6232</td>\n",
       "      <td>1.24</td>\n",
       "      <td>Ideal</td>\n",
       "      <td>I</td>\n",
       "      <td>SI1</td>\n",
       "      <td>London</td>\n",
       "    </tr>\n",
       "  </tbody>\n",
       "</table>\n",
       "<p>40455 rows × 12 columns</p>\n",
       "</div>"
      ],
      "text/plain": [
       "                                                index_id  depth  table     x  \\\n",
       "0      5feceb66ffc86f38d952786c6d696c79c2dbc239dd4e91...   62.4   58.0  6.83   \n",
       "1      6b86b273ff34fce19d6b804eff5a3f5747ada4eaa22f1d...   63.0   57.0  4.35   \n",
       "2      d4735e3a265e16eee03f59718b9b5d03019c07d8b6c51f...   65.5   55.0  5.62   \n",
       "3      4e07408562bedb8b60ce05c1decfe3ad16b72230967de0...   63.8   56.0  4.68   \n",
       "4      4b227777d4dd1fc61c6f884f48641d02b4d121d3fd328c...   60.5   59.0  6.55   \n",
       "...                                                  ...    ...    ...   ...   \n",
       "40450  f0bc79169405ebeb24e308055156b946ffd819db9b4f75...   62.7   57.0  7.10   \n",
       "40451  339916a23bf22b052b54cb2a9b36ee8418c1c68b46acad...   57.1   60.0  8.31   \n",
       "40452  46957922b99954654c1deb8d854c3f069bf118b2ce9415...   62.7   56.0  6.37   \n",
       "40453  9d733392d362d5c6f1d9b9659b601c7d4b5a1c1c8df579...   61.9   54.3  4.45   \n",
       "40454  a02744a70faa594d240b067f21fcc23a8d17cd1098a9fb...   62.0   58.0  6.83   \n",
       "\n",
       "          y     z  price  carat        cut color clarity       city  \n",
       "0      6.79  4.25   4268   1.21    Premium     J     VS2      Dubai  \n",
       "1      4.38  2.75    505   0.32  Very Good     H     VS2   Kimberly  \n",
       "2      5.53  3.65   2686   0.71       Fair     G     VS1  Las Vegas  \n",
       "3      4.72  3.00    738   0.41       Good     D     SI1   Kimberly  \n",
       "4      6.51  3.95   4882   1.02      Ideal     G     SI1      Dubai  \n",
       "...     ...   ...    ...    ...        ...   ...     ...        ...  \n",
       "40450  7.04  4.43  10070   1.34      Ideal     G     VS1    Antwerp  \n",
       "40451  8.25  4.73  12615   2.02       Good     F     SI2     Madrid  \n",
       "40452  6.42  4.01   5457   1.01      Ideal     H     SI1   Kimberly  \n",
       "40453  4.47  2.76    456   0.33      Ideal     J     VS1   Kimberly  \n",
       "40454  6.88  4.25   6232   1.24      Ideal     I     SI1     London  \n",
       "\n",
       "[40455 rows x 12 columns]"
      ]
     },
     "execution_count": 5,
     "metadata": {},
     "output_type": "execute_result"
    }
   ],
   "source": [
    "# Impor train data\n",
    "df_diamonds_train=pd.read_csv('../data/diamonds_train.csv')\n",
    "df_diamonds_train.pop(\"Unnamed: 0\")\n",
    "df_diamonds_train"
   ]
  },
  {
   "cell_type": "code",
   "execution_count": 6,
   "id": "65ba238d",
   "metadata": {},
   "outputs": [
    {
     "data": {
      "text/html": [
       "<div>\n",
       "<style scoped>\n",
       "    .dataframe tbody tr th:only-of-type {\n",
       "        vertical-align: middle;\n",
       "    }\n",
       "\n",
       "    .dataframe tbody tr th {\n",
       "        vertical-align: top;\n",
       "    }\n",
       "\n",
       "    .dataframe thead th {\n",
       "        text-align: right;\n",
       "    }\n",
       "</style>\n",
       "<table border=\"1\" class=\"dataframe\">\n",
       "  <thead>\n",
       "    <tr style=\"text-align: right;\">\n",
       "      <th></th>\n",
       "      <th>id</th>\n",
       "      <th>carat</th>\n",
       "      <th>cut</th>\n",
       "      <th>color</th>\n",
       "      <th>clarity</th>\n",
       "      <th>depth</th>\n",
       "      <th>table</th>\n",
       "      <th>x</th>\n",
       "      <th>y</th>\n",
       "      <th>z</th>\n",
       "      <th>city</th>\n",
       "    </tr>\n",
       "  </thead>\n",
       "  <tbody>\n",
       "    <tr>\n",
       "      <th>0</th>\n",
       "      <td>0</td>\n",
       "      <td>0.79</td>\n",
       "      <td>Very Good</td>\n",
       "      <td>F</td>\n",
       "      <td>SI1</td>\n",
       "      <td>62.7</td>\n",
       "      <td>60.0</td>\n",
       "      <td>5.82</td>\n",
       "      <td>5.89</td>\n",
       "      <td>3.67</td>\n",
       "      <td>Amsterdam</td>\n",
       "    </tr>\n",
       "    <tr>\n",
       "      <th>1</th>\n",
       "      <td>1</td>\n",
       "      <td>1.20</td>\n",
       "      <td>Ideal</td>\n",
       "      <td>J</td>\n",
       "      <td>VS1</td>\n",
       "      <td>61.0</td>\n",
       "      <td>57.0</td>\n",
       "      <td>6.81</td>\n",
       "      <td>6.89</td>\n",
       "      <td>4.18</td>\n",
       "      <td>Surat</td>\n",
       "    </tr>\n",
       "    <tr>\n",
       "      <th>2</th>\n",
       "      <td>2</td>\n",
       "      <td>1.57</td>\n",
       "      <td>Premium</td>\n",
       "      <td>H</td>\n",
       "      <td>SI1</td>\n",
       "      <td>62.2</td>\n",
       "      <td>61.0</td>\n",
       "      <td>7.38</td>\n",
       "      <td>7.32</td>\n",
       "      <td>4.57</td>\n",
       "      <td>Kimberly</td>\n",
       "    </tr>\n",
       "    <tr>\n",
       "      <th>3</th>\n",
       "      <td>3</td>\n",
       "      <td>0.90</td>\n",
       "      <td>Very Good</td>\n",
       "      <td>F</td>\n",
       "      <td>SI1</td>\n",
       "      <td>63.8</td>\n",
       "      <td>54.0</td>\n",
       "      <td>6.09</td>\n",
       "      <td>6.13</td>\n",
       "      <td>3.90</td>\n",
       "      <td>Kimberly</td>\n",
       "    </tr>\n",
       "    <tr>\n",
       "      <th>4</th>\n",
       "      <td>4</td>\n",
       "      <td>0.50</td>\n",
       "      <td>Very Good</td>\n",
       "      <td>F</td>\n",
       "      <td>VS1</td>\n",
       "      <td>62.9</td>\n",
       "      <td>58.0</td>\n",
       "      <td>5.05</td>\n",
       "      <td>5.09</td>\n",
       "      <td>3.19</td>\n",
       "      <td>Amsterdam</td>\n",
       "    </tr>\n",
       "    <tr>\n",
       "      <th>...</th>\n",
       "      <td>...</td>\n",
       "      <td>...</td>\n",
       "      <td>...</td>\n",
       "      <td>...</td>\n",
       "      <td>...</td>\n",
       "      <td>...</td>\n",
       "      <td>...</td>\n",
       "      <td>...</td>\n",
       "      <td>...</td>\n",
       "      <td>...</td>\n",
       "      <td>...</td>\n",
       "    </tr>\n",
       "    <tr>\n",
       "      <th>13480</th>\n",
       "      <td>13480</td>\n",
       "      <td>0.57</td>\n",
       "      <td>Ideal</td>\n",
       "      <td>E</td>\n",
       "      <td>SI1</td>\n",
       "      <td>61.9</td>\n",
       "      <td>56.0</td>\n",
       "      <td>5.35</td>\n",
       "      <td>5.32</td>\n",
       "      <td>3.30</td>\n",
       "      <td>Amsterdam</td>\n",
       "    </tr>\n",
       "    <tr>\n",
       "      <th>13481</th>\n",
       "      <td>13481</td>\n",
       "      <td>0.71</td>\n",
       "      <td>Ideal</td>\n",
       "      <td>I</td>\n",
       "      <td>VS2</td>\n",
       "      <td>62.2</td>\n",
       "      <td>55.0</td>\n",
       "      <td>5.71</td>\n",
       "      <td>5.73</td>\n",
       "      <td>3.56</td>\n",
       "      <td>New York City</td>\n",
       "    </tr>\n",
       "    <tr>\n",
       "      <th>13482</th>\n",
       "      <td>13482</td>\n",
       "      <td>0.70</td>\n",
       "      <td>Ideal</td>\n",
       "      <td>F</td>\n",
       "      <td>VS1</td>\n",
       "      <td>61.6</td>\n",
       "      <td>55.0</td>\n",
       "      <td>5.75</td>\n",
       "      <td>5.71</td>\n",
       "      <td>3.53</td>\n",
       "      <td>Tel Aviv</td>\n",
       "    </tr>\n",
       "    <tr>\n",
       "      <th>13483</th>\n",
       "      <td>13483</td>\n",
       "      <td>0.70</td>\n",
       "      <td>Very Good</td>\n",
       "      <td>F</td>\n",
       "      <td>SI2</td>\n",
       "      <td>58.8</td>\n",
       "      <td>57.0</td>\n",
       "      <td>5.85</td>\n",
       "      <td>5.89</td>\n",
       "      <td>3.45</td>\n",
       "      <td>Surat</td>\n",
       "    </tr>\n",
       "    <tr>\n",
       "      <th>13484</th>\n",
       "      <td>13484</td>\n",
       "      <td>0.40</td>\n",
       "      <td>Ideal</td>\n",
       "      <td>I</td>\n",
       "      <td>VVS2</td>\n",
       "      <td>62.4</td>\n",
       "      <td>55.0</td>\n",
       "      <td>4.70</td>\n",
       "      <td>4.73</td>\n",
       "      <td>2.94</td>\n",
       "      <td>New York City</td>\n",
       "    </tr>\n",
       "  </tbody>\n",
       "</table>\n",
       "<p>13485 rows × 11 columns</p>\n",
       "</div>"
      ],
      "text/plain": [
       "          id  carat        cut color clarity  depth  table     x     y     z  \\\n",
       "0          0   0.79  Very Good     F     SI1   62.7   60.0  5.82  5.89  3.67   \n",
       "1          1   1.20      Ideal     J     VS1   61.0   57.0  6.81  6.89  4.18   \n",
       "2          2   1.57    Premium     H     SI1   62.2   61.0  7.38  7.32  4.57   \n",
       "3          3   0.90  Very Good     F     SI1   63.8   54.0  6.09  6.13  3.90   \n",
       "4          4   0.50  Very Good     F     VS1   62.9   58.0  5.05  5.09  3.19   \n",
       "...      ...    ...        ...   ...     ...    ...    ...   ...   ...   ...   \n",
       "13480  13480   0.57      Ideal     E     SI1   61.9   56.0  5.35  5.32  3.30   \n",
       "13481  13481   0.71      Ideal     I     VS2   62.2   55.0  5.71  5.73  3.56   \n",
       "13482  13482   0.70      Ideal     F     VS1   61.6   55.0  5.75  5.71  3.53   \n",
       "13483  13483   0.70  Very Good     F     SI2   58.8   57.0  5.85  5.89  3.45   \n",
       "13484  13484   0.40      Ideal     I    VVS2   62.4   55.0  4.70  4.73  2.94   \n",
       "\n",
       "                city  \n",
       "0          Amsterdam  \n",
       "1              Surat  \n",
       "2           Kimberly  \n",
       "3           Kimberly  \n",
       "4          Amsterdam  \n",
       "...              ...  \n",
       "13480      Amsterdam  \n",
       "13481  New York City  \n",
       "13482       Tel Aviv  \n",
       "13483          Surat  \n",
       "13484  New York City  \n",
       "\n",
       "[13485 rows x 11 columns]"
      ]
     },
     "execution_count": 6,
     "metadata": {},
     "output_type": "execute_result"
    }
   ],
   "source": [
    "# Import test data\n",
    "df_diamonds_test=pd.read_csv('../data/diamonds_test.csv')\n",
    "df_diamonds_test"
   ]
  },
  {
   "cell_type": "markdown",
   "id": "5aa0abf6",
   "metadata": {},
   "source": [
    "## Data prep"
   ]
  },
  {
   "cell_type": "code",
   "execution_count": 12,
   "id": "c38ab80c",
   "metadata": {},
   "outputs": [
    {
     "data": {
      "image/png": "[encoded data removed]",
      "text/plain": [
       "<Figure size 180x180 with 1 Axes>"
      ]
     },
     "metadata": {
      "needs_background": "light"
     },
     "output_type": "display_data"
    },
    {
     "data": {
      "image/png": "[encoded data removed]",
      "text/plain": [
       "<Figure size 540x180 with 3 Axes>"
      ]
     },
     "metadata": {
      "needs_background": "light"
     },
     "output_type": "display_data"
    }
   ],
   "source": [
    "# plot price vs. carat\n",
    "sns.pairplot(df_diamonds_train,x_vars=['carat'], y_vars = ['price'])\n",
    "# plot carat vs other Cs\n",
    "sns.pairplot(df_diamonds_train, x_vars=['cut','clarity','color'], y_vars = ['carat'])\n",
    "plt.show()"
   ]
  },
  {
   "cell_type": "markdown",
   "id": "c326138f",
   "metadata": {},
   "source": [
    "\n",
    "We can see that the properties charts reveal a lot about how and where bulk of diamonds fall under each property value e.g. most bigger diamonds (higher carat) fall in Fair cut, I1 clarity and H-I color. These are poor (commercial grade) diamonds generally sold by retail jewelry shops across the world to attract consumers with advertisements like ‘Diamonds at 50% off’"
   ]
  },
  {
   "cell_type": "markdown",
   "id": "46cff346",
   "metadata": {},
   "source": [
    "The price vs. carat chart also show that there are some outliers in the dataset i.e. few diamonds that are really over priced!"
   ]
  },
  {
   "cell_type": "code",
   "execution_count": 13,
   "id": "ae8a3448",
   "metadata": {},
   "outputs": [],
   "source": [
    "def histplot(df, listvar):\n",
    "    fig, axes = plt.subplots(nrows=1, ncols=len(listvar), figsize=(20, 3))\n",
    "    counter=0\n",
    "    for ax in axes:\n",
    "        df.hist(column=listvar[counter], bins=20, ax=axes[counter])\n",
    "        plt.ylabel('Price')\n",
    "        plt.xlabel(listvar[counter])\n",
    "        counter = counter+1\n",
    "        plt.show()"
   ]
  },
  {
   "cell_type": "code",
   "execution_count": 14,
   "id": "f1071814",
   "metadata": {},
   "outputs": [
    {
     "data": {
      "text/plain": [
       "['depth', 'table', 'x', 'y', 'z', 'price', 'carat']"
      ]
     },
     "metadata": {},
     "output_type": "display_data"
    }
   ],
   "source": [
    "linear_vars = df_diamonds_train.select_dtypes(include=[np.number]).columns\n",
    "display(list(linear_vars))"
   ]
  },
  {
   "cell_type": "code",
   "execution_count": 15,
   "id": "9dbf42c7",
   "metadata": {},
   "outputs": [
    {
     "data": {
      "image/png": "[encoded data removed]",
      "text/plain": [
       "<Figure size 1440x216 with 7 Axes>"
      ]
     },
     "metadata": {
      "needs_background": "light"
     },
     "output_type": "display_data"
    },
    {
     "data": {
      "image/png": "[encoded data removed]",
      "text/plain": [
       "<Figure size 432x288 with 1 Axes>"
      ]
     },
     "metadata": {
      "needs_background": "light"
     },
     "output_type": "display_data"
    },
    {
     "data": {
      "image/png": "[encoded data removed]",
      "text/plain": [
       "<Figure size 432x288 with 1 Axes>"
      ]
     },
     "metadata": {
      "needs_background": "light"
     },
     "output_type": "display_data"
    },
    {
     "data": {
      "image/png": "[encoded data removed]",
      "text/plain": [
       "<Figure size 432x288 with 1 Axes>"
      ]
     },
     "metadata": {
      "needs_background": "light"
     },
     "output_type": "display_data"
    },
    {
     "data": {
      "image/png": "[encoded data removed]",
      "text/plain": [
       "<Figure size 432x288 with 1 Axes>"
      ]
     },
     "metadata": {
      "needs_background": "light"
     },
     "output_type": "display_data"
    },
    {
     "data": {
      "image/png": "[encoded data removed]",
      "text/plain": [
       "<Figure size 432x288 with 1 Axes>"
      ]
     },
     "metadata": {
      "needs_background": "light"
     },
     "output_type": "display_data"
    },
    {
     "data": {
      "image/png": "[encoded data removed]",
      "text/plain": [
       "<Figure size 432x288 with 1 Axes>"
      ]
     },
     "metadata": {
      "needs_background": "light"
     },
     "output_type": "display_data"
    }
   ],
   "source": [
    "histplot(df_diamonds_train,linear_vars)"
   ]
  },
  {
   "cell_type": "markdown",
   "id": "23cd0a6e",
   "metadata": {},
   "source": [
    "One of the key steps in Machine learning process is to convert features having bimodal distribution to ones with BINOMIAL distribution"
   ]
  },
  {
   "cell_type": "code",
   "execution_count": 17,
   "id": "945de10f",
   "metadata": {},
   "outputs": [
    {
     "name": "stdout",
     "output_type": "stream",
     "text": [
      "0 values → True\n",
      "Filled all 0 values with 0.01. Now any 0 values? → False\n"
     ]
    }
   ],
   "source": [
    "#Check for any ZERO value\n",
    "print('0 values →', 0 in df_diamonds_train.values)\n",
    "df_diamonds_train[linear_vars] = df_diamonds_train[linear_vars] + 0.01\n",
    "print('Filled all 0 values with 0.01. Now any 0 values? →', 0 in df_diamonds_train.values)"
   ]
  },
  {
   "cell_type": "code",
   "execution_count": 19,
   "id": "d5f30cc3",
   "metadata": {},
   "outputs": [],
   "source": [
    "#View and remove outliers using z-score\n",
    "def sorteddf(df_diamonds_train, listvar):\n",
    "    for var in listvar:\n",
    "        display('sorted by ' + var + ' --> ' + str(list(df_diamonds_train[listvar].sort_values(by=var,ascending=False)[var].head())))"
   ]
  },
  {
   "cell_type": "code",
   "execution_count": 20,
   "id": "89ad91ff",
   "metadata": {},
   "outputs": [
    {
     "data": {
      "text/plain": [
       "'sorted by depth --> [79.01, 73.61, 72.91000000000001, 72.21000000000001, 71.81]'"
      ]
     },
     "metadata": {},
     "output_type": "display_data"
    },
    {
     "data": {
      "text/plain": [
       "'sorted by table --> [95.01, 79.01, 76.01, 73.01, 73.01]'"
      ]
     },
     "metadata": {},
     "output_type": "display_data"
    },
    {
     "data": {
      "text/plain": [
       "'sorted by x --> [10.24, 10.15, 10.03, 10.02, 10.01]'"
      ]
     },
     "metadata": {},
     "output_type": "display_data"
    },
    {
     "data": {
      "text/plain": [
       "'sorted by y --> [58.91, 10.17, 10.11, 9.95, 9.95]'"
      ]
     },
     "metadata": {},
     "output_type": "display_data"
    },
    {
     "data": {
      "text/plain": [
       "'sorted by z --> [8.07, 6.7299999999999995, 6.4399999999999995, 6.319999999999999, 6.279999999999999]'"
      ]
     },
     "metadata": {},
     "output_type": "display_data"
    },
    {
     "data": {
      "text/plain": [
       "'sorted by price --> [18823.01, 18818.01, 18806.01, 18797.01, 18795.01]'"
      ]
     },
     "metadata": {},
     "output_type": "display_data"
    },
    {
     "data": {
      "text/plain": [
       "'sorted by carat --> [4.51, 4.14, 4.02, 4.02, 4.01]'"
      ]
     },
     "metadata": {},
     "output_type": "display_data"
    }
   ],
   "source": [
    "sorteddf(df_diamonds_train, linear_vars)"
   ]
  },
  {
   "cell_type": "code",
   "execution_count": 21,
   "id": "6016dfea",
   "metadata": {},
   "outputs": [],
   "source": [
    "def dfboxplot(df, listvar):\n",
    "    fig, axes = plt.subplots(nrows=1, ncols=len(listvar), figsize=(20, 3))\n",
    "    counter=0\n",
    "    for ax in axes:\n",
    "        df.boxplot(column=listvar[counter], ax=axes[counter])\n",
    "        plt.ylabel('Price')\n",
    "        plt.xlabel(listvar[counter])\n",
    "        counter = counter+1\n",
    "        plt.show()"
   ]
  },
  {
   "cell_type": "code",
   "execution_count": 22,
   "id": "d89f2c86",
   "metadata": {},
   "outputs": [
    {
     "data": {
      "image/png": "[encoded data removed]",
      "text/plain": [
       "<Figure size 1440x216 with 7 Axes>"
      ]
     },
     "metadata": {
      "needs_background": "light"
     },
     "output_type": "display_data"
    },
    {
     "data": {
      "image/png": "[encoded data removed]",
      "text/plain": [
       "<Figure size 432x288 with 1 Axes>"
      ]
     },
     "metadata": {
      "needs_background": "light"
     },
     "output_type": "display_data"
    },
    {
     "data": {
      "image/png": "[encoded data removed]",
      "text/plain": [
       "<Figure size 432x288 with 1 Axes>"
      ]
     },
     "metadata": {
      "needs_background": "light"
     },
     "output_type": "display_data"
    },
    {
     "data": {
      "image/png": "[encoded data removed]",
      "text/plain": [
       "<Figure size 432x288 with 1 Axes>"
      ]
     },
     "metadata": {
      "needs_background": "light"
     },
     "output_type": "display_data"
    },
    {
     "data": {
      "image/png": "[encoded data removed]",
      "text/plain": [
       "<Figure size 432x288 with 1 Axes>"
      ]
     },
     "metadata": {
      "needs_background": "light"
     },
     "output_type": "display_data"
    },
    {
     "data": {
      "image/png": "[encoded data removed]",
      "text/plain": [
       "<Figure size 432x288 with 1 Axes>"
      ]
     },
     "metadata": {
      "needs_background": "light"
     },
     "output_type": "display_data"
    },
    {
     "data": {
      "image/png": "[encoded data removed]",
      "text/plain": [
       "<Figure size 432x288 with 1 Axes>"
      ]
     },
     "metadata": {
      "needs_background": "light"
     },
     "output_type": "display_data"
    }
   ],
   "source": [
    "dfboxplot(df_diamonds_train, linear_vars)"
   ]
  },
  {
   "cell_type": "code",
   "execution_count": 26,
   "id": "02022a88",
   "metadata": {},
   "outputs": [],
   "source": [
    "#removeoutliers\n",
    "def removeoutliers(df, listvars, z):\n",
    "    from scipy import stats\n",
    "    for var in listvars:\n",
    "        df1 = df[np.abs(stats.zscore(df[var])) < z]\n",
    "    return df1\n",
    "df = removeoutliers(df_diamonds_train, linear_vars,2)"
   ]
  },
  {
   "cell_type": "code",
   "execution_count": 27,
   "id": "af3fbe23",
   "metadata": {},
   "outputs": [
    {
     "data": {
      "text/html": [
       "<div>\n",
       "<style scoped>\n",
       "    .dataframe tbody tr th:only-of-type {\n",
       "        vertical-align: middle;\n",
       "    }\n",
       "\n",
       "    .dataframe tbody tr th {\n",
       "        vertical-align: top;\n",
       "    }\n",
       "\n",
       "    .dataframe thead th {\n",
       "        text-align: right;\n",
       "    }\n",
       "</style>\n",
       "<table border=\"1\" class=\"dataframe\">\n",
       "  <thead>\n",
       "    <tr style=\"text-align: right;\">\n",
       "      <th></th>\n",
       "      <th>index_id</th>\n",
       "      <th>depth</th>\n",
       "      <th>table</th>\n",
       "      <th>x</th>\n",
       "      <th>y</th>\n",
       "      <th>z</th>\n",
       "      <th>price</th>\n",
       "      <th>carat</th>\n",
       "      <th>cut</th>\n",
       "      <th>color</th>\n",
       "      <th>clarity</th>\n",
       "      <th>city</th>\n",
       "    </tr>\n",
       "  </thead>\n",
       "  <tbody>\n",
       "    <tr>\n",
       "      <th>0</th>\n",
       "      <td>5feceb66ffc86f38d952786c6d696c79c2dbc239dd4e91...</td>\n",
       "      <td>62.41</td>\n",
       "      <td>58.01</td>\n",
       "      <td>6.84</td>\n",
       "      <td>6.80</td>\n",
       "      <td>4.26</td>\n",
       "      <td>4268.01</td>\n",
       "      <td>1.22</td>\n",
       "      <td>Premium</td>\n",
       "      <td>J</td>\n",
       "      <td>VS2</td>\n",
       "      <td>Dubai</td>\n",
       "    </tr>\n",
       "    <tr>\n",
       "      <th>1</th>\n",
       "      <td>6b86b273ff34fce19d6b804eff5a3f5747ada4eaa22f1d...</td>\n",
       "      <td>63.01</td>\n",
       "      <td>57.01</td>\n",
       "      <td>4.36</td>\n",
       "      <td>4.39</td>\n",
       "      <td>2.76</td>\n",
       "      <td>505.01</td>\n",
       "      <td>0.33</td>\n",
       "      <td>Very Good</td>\n",
       "      <td>H</td>\n",
       "      <td>VS2</td>\n",
       "      <td>Kimberly</td>\n",
       "    </tr>\n",
       "    <tr>\n",
       "      <th>2</th>\n",
       "      <td>d4735e3a265e16eee03f59718b9b5d03019c07d8b6c51f...</td>\n",
       "      <td>65.51</td>\n",
       "      <td>55.01</td>\n",
       "      <td>5.63</td>\n",
       "      <td>5.54</td>\n",
       "      <td>3.66</td>\n",
       "      <td>2686.01</td>\n",
       "      <td>0.72</td>\n",
       "      <td>Fair</td>\n",
       "      <td>G</td>\n",
       "      <td>VS1</td>\n",
       "      <td>Las Vegas</td>\n",
       "    </tr>\n",
       "    <tr>\n",
       "      <th>3</th>\n",
       "      <td>4e07408562bedb8b60ce05c1decfe3ad16b72230967de0...</td>\n",
       "      <td>63.81</td>\n",
       "      <td>56.01</td>\n",
       "      <td>4.69</td>\n",
       "      <td>4.73</td>\n",
       "      <td>3.01</td>\n",
       "      <td>738.01</td>\n",
       "      <td>0.42</td>\n",
       "      <td>Good</td>\n",
       "      <td>D</td>\n",
       "      <td>SI1</td>\n",
       "      <td>Kimberly</td>\n",
       "    </tr>\n",
       "    <tr>\n",
       "      <th>4</th>\n",
       "      <td>4b227777d4dd1fc61c6f884f48641d02b4d121d3fd328c...</td>\n",
       "      <td>60.51</td>\n",
       "      <td>59.01</td>\n",
       "      <td>6.56</td>\n",
       "      <td>6.52</td>\n",
       "      <td>3.96</td>\n",
       "      <td>4882.01</td>\n",
       "      <td>1.03</td>\n",
       "      <td>Ideal</td>\n",
       "      <td>G</td>\n",
       "      <td>SI1</td>\n",
       "      <td>Dubai</td>\n",
       "    </tr>\n",
       "    <tr>\n",
       "      <th>...</th>\n",
       "      <td>...</td>\n",
       "      <td>...</td>\n",
       "      <td>...</td>\n",
       "      <td>...</td>\n",
       "      <td>...</td>\n",
       "      <td>...</td>\n",
       "      <td>...</td>\n",
       "      <td>...</td>\n",
       "      <td>...</td>\n",
       "      <td>...</td>\n",
       "      <td>...</td>\n",
       "      <td>...</td>\n",
       "    </tr>\n",
       "    <tr>\n",
       "      <th>40449</th>\n",
       "      <td>1726e8e229489b353e6007fac1dfffb5300a96bf6166cf...</td>\n",
       "      <td>61.91</td>\n",
       "      <td>56.01</td>\n",
       "      <td>5.70</td>\n",
       "      <td>5.73</td>\n",
       "      <td>3.54</td>\n",
       "      <td>3710.01</td>\n",
       "      <td>0.72</td>\n",
       "      <td>Ideal</td>\n",
       "      <td>F</td>\n",
       "      <td>VS1</td>\n",
       "      <td>Kimberly</td>\n",
       "    </tr>\n",
       "    <tr>\n",
       "      <th>40450</th>\n",
       "      <td>f0bc79169405ebeb24e308055156b946ffd819db9b4f75...</td>\n",
       "      <td>62.71</td>\n",
       "      <td>57.01</td>\n",
       "      <td>7.11</td>\n",
       "      <td>7.05</td>\n",
       "      <td>4.44</td>\n",
       "      <td>10070.01</td>\n",
       "      <td>1.35</td>\n",
       "      <td>Ideal</td>\n",
       "      <td>G</td>\n",
       "      <td>VS1</td>\n",
       "      <td>Antwerp</td>\n",
       "    </tr>\n",
       "    <tr>\n",
       "      <th>40452</th>\n",
       "      <td>46957922b99954654c1deb8d854c3f069bf118b2ce9415...</td>\n",
       "      <td>62.71</td>\n",
       "      <td>56.01</td>\n",
       "      <td>6.38</td>\n",
       "      <td>6.43</td>\n",
       "      <td>4.02</td>\n",
       "      <td>5457.01</td>\n",
       "      <td>1.02</td>\n",
       "      <td>Ideal</td>\n",
       "      <td>H</td>\n",
       "      <td>SI1</td>\n",
       "      <td>Kimberly</td>\n",
       "    </tr>\n",
       "    <tr>\n",
       "      <th>40453</th>\n",
       "      <td>9d733392d362d5c6f1d9b9659b601c7d4b5a1c1c8df579...</td>\n",
       "      <td>61.91</td>\n",
       "      <td>54.31</td>\n",
       "      <td>4.46</td>\n",
       "      <td>4.48</td>\n",
       "      <td>2.77</td>\n",
       "      <td>456.01</td>\n",
       "      <td>0.34</td>\n",
       "      <td>Ideal</td>\n",
       "      <td>J</td>\n",
       "      <td>VS1</td>\n",
       "      <td>Kimberly</td>\n",
       "    </tr>\n",
       "    <tr>\n",
       "      <th>40454</th>\n",
       "      <td>a02744a70faa594d240b067f21fcc23a8d17cd1098a9fb...</td>\n",
       "      <td>62.01</td>\n",
       "      <td>58.01</td>\n",
       "      <td>6.84</td>\n",
       "      <td>6.89</td>\n",
       "      <td>4.26</td>\n",
       "      <td>6232.01</td>\n",
       "      <td>1.25</td>\n",
       "      <td>Ideal</td>\n",
       "      <td>I</td>\n",
       "      <td>SI1</td>\n",
       "      <td>London</td>\n",
       "    </tr>\n",
       "  </tbody>\n",
       "</table>\n",
       "<p>38621 rows × 12 columns</p>\n",
       "</div>"
      ],
      "text/plain": [
       "                                                index_id  depth  table     x  \\\n",
       "0      5feceb66ffc86f38d952786c6d696c79c2dbc239dd4e91...  62.41  58.01  6.84   \n",
       "1      6b86b273ff34fce19d6b804eff5a3f5747ada4eaa22f1d...  63.01  57.01  4.36   \n",
       "2      d4735e3a265e16eee03f59718b9b5d03019c07d8b6c51f...  65.51  55.01  5.63   \n",
       "3      4e07408562bedb8b60ce05c1decfe3ad16b72230967de0...  63.81  56.01  4.69   \n",
       "4      4b227777d4dd1fc61c6f884f48641d02b4d121d3fd328c...  60.51  59.01  6.56   \n",
       "...                                                  ...    ...    ...   ...   \n",
       "40449  1726e8e229489b353e6007fac1dfffb5300a96bf6166cf...  61.91  56.01  5.70   \n",
       "40450  f0bc79169405ebeb24e308055156b946ffd819db9b4f75...  62.71  57.01  7.11   \n",
       "40452  46957922b99954654c1deb8d854c3f069bf118b2ce9415...  62.71  56.01  6.38   \n",
       "40453  9d733392d362d5c6f1d9b9659b601c7d4b5a1c1c8df579...  61.91  54.31  4.46   \n",
       "40454  a02744a70faa594d240b067f21fcc23a8d17cd1098a9fb...  62.01  58.01  6.84   \n",
       "\n",
       "          y     z     price  carat        cut color clarity       city  \n",
       "0      6.80  4.26   4268.01   1.22    Premium     J     VS2      Dubai  \n",
       "1      4.39  2.76    505.01   0.33  Very Good     H     VS2   Kimberly  \n",
       "2      5.54  3.66   2686.01   0.72       Fair     G     VS1  Las Vegas  \n",
       "3      4.73  3.01    738.01   0.42       Good     D     SI1   Kimberly  \n",
       "4      6.52  3.96   4882.01   1.03      Ideal     G     SI1      Dubai  \n",
       "...     ...   ...       ...    ...        ...   ...     ...        ...  \n",
       "40449  5.73  3.54   3710.01   0.72      Ideal     F     VS1   Kimberly  \n",
       "40450  7.05  4.44  10070.01   1.35      Ideal     G     VS1    Antwerp  \n",
       "40452  6.43  4.02   5457.01   1.02      Ideal     H     SI1   Kimberly  \n",
       "40453  4.48  2.77    456.01   0.34      Ideal     J     VS1   Kimberly  \n",
       "40454  6.89  4.26   6232.01   1.25      Ideal     I     SI1     London  \n",
       "\n",
       "[38621 rows x 12 columns]"
      ]
     },
     "execution_count": 27,
     "metadata": {},
     "output_type": "execute_result"
    }
   ],
   "source": [
    "df"
   ]
  },
  {
   "cell_type": "code",
   "execution_count": 30,
   "id": "2ec836d5",
   "metadata": {},
   "outputs": [
    {
     "ename": "SyntaxError",
     "evalue": "invalid syntax (2569719661.py, line 5)",
     "output_type": "error",
     "traceback": [
      "\u001b[0;36m  File \u001b[0;32m\"/var/folders/dk/5757d03j1t3d7vhy5byqrlgm0000gn/T/ipykernel_54014/2569719661.py\"\u001b[0;36m, line \u001b[0;32m5\u001b[0m\n\u001b[0;31m    df[var] = np.log(df[var])convertfeatures2log(df, linear_vars)\u001b[0m\n\u001b[0m                                               ^\u001b[0m\n\u001b[0;31mSyntaxError\u001b[0m\u001b[0;31m:\u001b[0m invalid syntax\n"
     ]
    }
   ],
   "source": [
    "# Convert to log scale\n",
    "# this log converts dataframe's features inplace\n",
    "def convertfeatures2log(df, listvars):\n",
    "    for var in listvars:\n",
    "        df[var] = np.log(df[var])convertfeatures2log(df, linear_vars)\n",
    "        histplot(df, linear_vars)"
   ]
  }
 ],
 "metadata": {
  "kernelspec": {
   "display_name": "Python [conda env:ML]",
   "language": "python",
   "name": "conda-env-ML-py"
  },
  "language_info": {
   "codemirror_mode": {
    "name": "ipython",
    "version": 3
   },
   "file_extension": ".py",
   "mimetype": "text/x-python",
   "name": "python",
   "nbconvert_exporter": "python",
   "pygments_lexer": "ipython3",
   "version": "3.7.13"
  }
 },
 "nbformat": 4,
 "nbformat_minor": 5
}
