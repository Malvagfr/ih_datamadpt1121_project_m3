{
 "cells": [
  {
   "cell_type": "markdown",
   "id": "c1df95e2",
   "metadata": {},
   "source": [
    "## Libraries import"
   ]
  },
  {
   "cell_type": "code",
   "execution_count": 11,
   "id": "a17f838c",
   "metadata": {},
   "outputs": [],
   "source": [
    "import warnings\n",
    "warnings.filterwarnings('ignore')"
   ]
  },
  {
   "cell_type": "code",
   "execution_count": 12,
   "id": "15bd2943",
   "metadata": {},
   "outputs": [],
   "source": [
    "# imports \n",
    "import numpy as np\n",
    "import pandas as pd\n",
    "import matplotlib.pyplot as plt\n",
    "#outliers\n",
    "from sklearn.datasets import load_boston\n",
    "#train test split\n",
    "from sklearn.model_selection import train_test_split\n",
    "#models\n",
    "from sklearn.model_selection import RandomizedSearchCV\n",
    "from sklearn.ensemble import RandomForestRegressor\n",
    "from xgboost import XGBRegressor\n",
    "#error\n",
    "from sklearn.metrics import mean_squared_error,r2_score"
   ]
  },
  {
   "cell_type": "markdown",
   "id": "894bdee3",
   "metadata": {},
   "source": [
    "## Data import"
   ]
  },
  {
   "cell_type": "code",
   "execution_count": 13,
   "id": "b35aa513",
   "metadata": {},
   "outputs": [
    {
     "data": {
      "text/html": [
       "<div>\n",
       "<style scoped>\n",
       "    .dataframe tbody tr th:only-of-type {\n",
       "        vertical-align: middle;\n",
       "    }\n",
       "\n",
       "    .dataframe tbody tr th {\n",
       "        vertical-align: top;\n",
       "    }\n",
       "\n",
       "    .dataframe thead th {\n",
       "        text-align: right;\n",
       "    }\n",
       "</style>\n",
       "<table border=\"1\" class=\"dataframe\">\n",
       "  <thead>\n",
       "    <tr style=\"text-align: right;\">\n",
       "      <th></th>\n",
       "      <th>index_id</th>\n",
       "      <th>depth</th>\n",
       "      <th>table</th>\n",
       "      <th>x</th>\n",
       "      <th>y</th>\n",
       "      <th>z</th>\n",
       "      <th>price</th>\n",
       "      <th>carat</th>\n",
       "      <th>cut</th>\n",
       "      <th>color</th>\n",
       "      <th>clarity</th>\n",
       "      <th>city</th>\n",
       "    </tr>\n",
       "  </thead>\n",
       "  <tbody>\n",
       "    <tr>\n",
       "      <th>0</th>\n",
       "      <td>5feceb66ffc86f38d952786c6d696c79c2dbc239dd4e91...</td>\n",
       "      <td>62.4</td>\n",
       "      <td>58.0</td>\n",
       "      <td>6.83</td>\n",
       "      <td>6.79</td>\n",
       "      <td>4.25</td>\n",
       "      <td>4268</td>\n",
       "      <td>1.21</td>\n",
       "      <td>Premium</td>\n",
       "      <td>J</td>\n",
       "      <td>VS2</td>\n",
       "      <td>Dubai</td>\n",
       "    </tr>\n",
       "    <tr>\n",
       "      <th>1</th>\n",
       "      <td>6b86b273ff34fce19d6b804eff5a3f5747ada4eaa22f1d...</td>\n",
       "      <td>63.0</td>\n",
       "      <td>57.0</td>\n",
       "      <td>4.35</td>\n",
       "      <td>4.38</td>\n",
       "      <td>2.75</td>\n",
       "      <td>505</td>\n",
       "      <td>0.32</td>\n",
       "      <td>Very Good</td>\n",
       "      <td>H</td>\n",
       "      <td>VS2</td>\n",
       "      <td>Kimberly</td>\n",
       "    </tr>\n",
       "    <tr>\n",
       "      <th>2</th>\n",
       "      <td>d4735e3a265e16eee03f59718b9b5d03019c07d8b6c51f...</td>\n",
       "      <td>65.5</td>\n",
       "      <td>55.0</td>\n",
       "      <td>5.62</td>\n",
       "      <td>5.53</td>\n",
       "      <td>3.65</td>\n",
       "      <td>2686</td>\n",
       "      <td>0.71</td>\n",
       "      <td>Fair</td>\n",
       "      <td>G</td>\n",
       "      <td>VS1</td>\n",
       "      <td>Las Vegas</td>\n",
       "    </tr>\n",
       "    <tr>\n",
       "      <th>3</th>\n",
       "      <td>4e07408562bedb8b60ce05c1decfe3ad16b72230967de0...</td>\n",
       "      <td>63.8</td>\n",
       "      <td>56.0</td>\n",
       "      <td>4.68</td>\n",
       "      <td>4.72</td>\n",
       "      <td>3.00</td>\n",
       "      <td>738</td>\n",
       "      <td>0.41</td>\n",
       "      <td>Good</td>\n",
       "      <td>D</td>\n",
       "      <td>SI1</td>\n",
       "      <td>Kimberly</td>\n",
       "    </tr>\n",
       "    <tr>\n",
       "      <th>4</th>\n",
       "      <td>4b227777d4dd1fc61c6f884f48641d02b4d121d3fd328c...</td>\n",
       "      <td>60.5</td>\n",
       "      <td>59.0</td>\n",
       "      <td>6.55</td>\n",
       "      <td>6.51</td>\n",
       "      <td>3.95</td>\n",
       "      <td>4882</td>\n",
       "      <td>1.02</td>\n",
       "      <td>Ideal</td>\n",
       "      <td>G</td>\n",
       "      <td>SI1</td>\n",
       "      <td>Dubai</td>\n",
       "    </tr>\n",
       "    <tr>\n",
       "      <th>...</th>\n",
       "      <td>...</td>\n",
       "      <td>...</td>\n",
       "      <td>...</td>\n",
       "      <td>...</td>\n",
       "      <td>...</td>\n",
       "      <td>...</td>\n",
       "      <td>...</td>\n",
       "      <td>...</td>\n",
       "      <td>...</td>\n",
       "      <td>...</td>\n",
       "      <td>...</td>\n",
       "      <td>...</td>\n",
       "    </tr>\n",
       "    <tr>\n",
       "      <th>40450</th>\n",
       "      <td>f0bc79169405ebeb24e308055156b946ffd819db9b4f75...</td>\n",
       "      <td>62.7</td>\n",
       "      <td>57.0</td>\n",
       "      <td>7.10</td>\n",
       "      <td>7.04</td>\n",
       "      <td>4.43</td>\n",
       "      <td>10070</td>\n",
       "      <td>1.34</td>\n",
       "      <td>Ideal</td>\n",
       "      <td>G</td>\n",
       "      <td>VS1</td>\n",
       "      <td>Antwerp</td>\n",
       "    </tr>\n",
       "    <tr>\n",
       "      <th>40451</th>\n",
       "      <td>339916a23bf22b052b54cb2a9b36ee8418c1c68b46acad...</td>\n",
       "      <td>57.1</td>\n",
       "      <td>60.0</td>\n",
       "      <td>8.31</td>\n",
       "      <td>8.25</td>\n",
       "      <td>4.73</td>\n",
       "      <td>12615</td>\n",
       "      <td>2.02</td>\n",
       "      <td>Good</td>\n",
       "      <td>F</td>\n",
       "      <td>SI2</td>\n",
       "      <td>Madrid</td>\n",
       "    </tr>\n",
       "    <tr>\n",
       "      <th>40452</th>\n",
       "      <td>46957922b99954654c1deb8d854c3f069bf118b2ce9415...</td>\n",
       "      <td>62.7</td>\n",
       "      <td>56.0</td>\n",
       "      <td>6.37</td>\n",
       "      <td>6.42</td>\n",
       "      <td>4.01</td>\n",
       "      <td>5457</td>\n",
       "      <td>1.01</td>\n",
       "      <td>Ideal</td>\n",
       "      <td>H</td>\n",
       "      <td>SI1</td>\n",
       "      <td>Kimberly</td>\n",
       "    </tr>\n",
       "    <tr>\n",
       "      <th>40453</th>\n",
       "      <td>9d733392d362d5c6f1d9b9659b601c7d4b5a1c1c8df579...</td>\n",
       "      <td>61.9</td>\n",
       "      <td>54.3</td>\n",
       "      <td>4.45</td>\n",
       "      <td>4.47</td>\n",
       "      <td>2.76</td>\n",
       "      <td>456</td>\n",
       "      <td>0.33</td>\n",
       "      <td>Ideal</td>\n",
       "      <td>J</td>\n",
       "      <td>VS1</td>\n",
       "      <td>Kimberly</td>\n",
       "    </tr>\n",
       "    <tr>\n",
       "      <th>40454</th>\n",
       "      <td>a02744a70faa594d240b067f21fcc23a8d17cd1098a9fb...</td>\n",
       "      <td>62.0</td>\n",
       "      <td>58.0</td>\n",
       "      <td>6.83</td>\n",
       "      <td>6.88</td>\n",
       "      <td>4.25</td>\n",
       "      <td>6232</td>\n",
       "      <td>1.24</td>\n",
       "      <td>Ideal</td>\n",
       "      <td>I</td>\n",
       "      <td>SI1</td>\n",
       "      <td>London</td>\n",
       "    </tr>\n",
       "  </tbody>\n",
       "</table>\n",
       "<p>40455 rows × 12 columns</p>\n",
       "</div>"
      ],
      "text/plain": [
       "                                                index_id  depth  table     x  \\\n",
       "0      5feceb66ffc86f38d952786c6d696c79c2dbc239dd4e91...   62.4   58.0  6.83   \n",
       "1      6b86b273ff34fce19d6b804eff5a3f5747ada4eaa22f1d...   63.0   57.0  4.35   \n",
       "2      d4735e3a265e16eee03f59718b9b5d03019c07d8b6c51f...   65.5   55.0  5.62   \n",
       "3      4e07408562bedb8b60ce05c1decfe3ad16b72230967de0...   63.8   56.0  4.68   \n",
       "4      4b227777d4dd1fc61c6f884f48641d02b4d121d3fd328c...   60.5   59.0  6.55   \n",
       "...                                                  ...    ...    ...   ...   \n",
       "40450  f0bc79169405ebeb24e308055156b946ffd819db9b4f75...   62.7   57.0  7.10   \n",
       "40451  339916a23bf22b052b54cb2a9b36ee8418c1c68b46acad...   57.1   60.0  8.31   \n",
       "40452  46957922b99954654c1deb8d854c3f069bf118b2ce9415...   62.7   56.0  6.37   \n",
       "40453  9d733392d362d5c6f1d9b9659b601c7d4b5a1c1c8df579...   61.9   54.3  4.45   \n",
       "40454  a02744a70faa594d240b067f21fcc23a8d17cd1098a9fb...   62.0   58.0  6.83   \n",
       "\n",
       "          y     z  price  carat        cut color clarity       city  \n",
       "0      6.79  4.25   4268   1.21    Premium     J     VS2      Dubai  \n",
       "1      4.38  2.75    505   0.32  Very Good     H     VS2   Kimberly  \n",
       "2      5.53  3.65   2686   0.71       Fair     G     VS1  Las Vegas  \n",
       "3      4.72  3.00    738   0.41       Good     D     SI1   Kimberly  \n",
       "4      6.51  3.95   4882   1.02      Ideal     G     SI1      Dubai  \n",
       "...     ...   ...    ...    ...        ...   ...     ...        ...  \n",
       "40450  7.04  4.43  10070   1.34      Ideal     G     VS1    Antwerp  \n",
       "40451  8.25  4.73  12615   2.02       Good     F     SI2     Madrid  \n",
       "40452  6.42  4.01   5457   1.01      Ideal     H     SI1   Kimberly  \n",
       "40453  4.47  2.76    456   0.33      Ideal     J     VS1   Kimberly  \n",
       "40454  6.88  4.25   6232   1.24      Ideal     I     SI1     London  \n",
       "\n",
       "[40455 rows x 12 columns]"
      ]
     },
     "execution_count": 13,
     "metadata": {},
     "output_type": "execute_result"
    }
   ],
   "source": [
    "# Impor train data\n",
    "df_diamonds_train=pd.read_csv('../data/diamonds_train.csv')\n",
    "df_diamonds_train.pop(\"Unnamed: 0\")\n",
    "df_diamonds_train"
   ]
  },
  {
   "cell_type": "code",
   "execution_count": 14,
   "id": "65ba238d",
   "metadata": {},
   "outputs": [
    {
     "data": {
      "text/html": [
       "<div>\n",
       "<style scoped>\n",
       "    .dataframe tbody tr th:only-of-type {\n",
       "        vertical-align: middle;\n",
       "    }\n",
       "\n",
       "    .dataframe tbody tr th {\n",
       "        vertical-align: top;\n",
       "    }\n",
       "\n",
       "    .dataframe thead th {\n",
       "        text-align: right;\n",
       "    }\n",
       "</style>\n",
       "<table border=\"1\" class=\"dataframe\">\n",
       "  <thead>\n",
       "    <tr style=\"text-align: right;\">\n",
       "      <th></th>\n",
       "      <th>id</th>\n",
       "      <th>carat</th>\n",
       "      <th>cut</th>\n",
       "      <th>color</th>\n",
       "      <th>clarity</th>\n",
       "      <th>depth</th>\n",
       "      <th>table</th>\n",
       "      <th>x</th>\n",
       "      <th>y</th>\n",
       "      <th>z</th>\n",
       "      <th>city</th>\n",
       "    </tr>\n",
       "  </thead>\n",
       "  <tbody>\n",
       "    <tr>\n",
       "      <th>0</th>\n",
       "      <td>0</td>\n",
       "      <td>0.79</td>\n",
       "      <td>Very Good</td>\n",
       "      <td>F</td>\n",
       "      <td>SI1</td>\n",
       "      <td>62.7</td>\n",
       "      <td>60.0</td>\n",
       "      <td>5.82</td>\n",
       "      <td>5.89</td>\n",
       "      <td>3.67</td>\n",
       "      <td>Amsterdam</td>\n",
       "    </tr>\n",
       "    <tr>\n",
       "      <th>1</th>\n",
       "      <td>1</td>\n",
       "      <td>1.20</td>\n",
       "      <td>Ideal</td>\n",
       "      <td>J</td>\n",
       "      <td>VS1</td>\n",
       "      <td>61.0</td>\n",
       "      <td>57.0</td>\n",
       "      <td>6.81</td>\n",
       "      <td>6.89</td>\n",
       "      <td>4.18</td>\n",
       "      <td>Surat</td>\n",
       "    </tr>\n",
       "    <tr>\n",
       "      <th>2</th>\n",
       "      <td>2</td>\n",
       "      <td>1.57</td>\n",
       "      <td>Premium</td>\n",
       "      <td>H</td>\n",
       "      <td>SI1</td>\n",
       "      <td>62.2</td>\n",
       "      <td>61.0</td>\n",
       "      <td>7.38</td>\n",
       "      <td>7.32</td>\n",
       "      <td>4.57</td>\n",
       "      <td>Kimberly</td>\n",
       "    </tr>\n",
       "    <tr>\n",
       "      <th>3</th>\n",
       "      <td>3</td>\n",
       "      <td>0.90</td>\n",
       "      <td>Very Good</td>\n",
       "      <td>F</td>\n",
       "      <td>SI1</td>\n",
       "      <td>63.8</td>\n",
       "      <td>54.0</td>\n",
       "      <td>6.09</td>\n",
       "      <td>6.13</td>\n",
       "      <td>3.90</td>\n",
       "      <td>Kimberly</td>\n",
       "    </tr>\n",
       "    <tr>\n",
       "      <th>4</th>\n",
       "      <td>4</td>\n",
       "      <td>0.50</td>\n",
       "      <td>Very Good</td>\n",
       "      <td>F</td>\n",
       "      <td>VS1</td>\n",
       "      <td>62.9</td>\n",
       "      <td>58.0</td>\n",
       "      <td>5.05</td>\n",
       "      <td>5.09</td>\n",
       "      <td>3.19</td>\n",
       "      <td>Amsterdam</td>\n",
       "    </tr>\n",
       "    <tr>\n",
       "      <th>...</th>\n",
       "      <td>...</td>\n",
       "      <td>...</td>\n",
       "      <td>...</td>\n",
       "      <td>...</td>\n",
       "      <td>...</td>\n",
       "      <td>...</td>\n",
       "      <td>...</td>\n",
       "      <td>...</td>\n",
       "      <td>...</td>\n",
       "      <td>...</td>\n",
       "      <td>...</td>\n",
       "    </tr>\n",
       "    <tr>\n",
       "      <th>13480</th>\n",
       "      <td>13480</td>\n",
       "      <td>0.57</td>\n",
       "      <td>Ideal</td>\n",
       "      <td>E</td>\n",
       "      <td>SI1</td>\n",
       "      <td>61.9</td>\n",
       "      <td>56.0</td>\n",
       "      <td>5.35</td>\n",
       "      <td>5.32</td>\n",
       "      <td>3.30</td>\n",
       "      <td>Amsterdam</td>\n",
       "    </tr>\n",
       "    <tr>\n",
       "      <th>13481</th>\n",
       "      <td>13481</td>\n",
       "      <td>0.71</td>\n",
       "      <td>Ideal</td>\n",
       "      <td>I</td>\n",
       "      <td>VS2</td>\n",
       "      <td>62.2</td>\n",
       "      <td>55.0</td>\n",
       "      <td>5.71</td>\n",
       "      <td>5.73</td>\n",
       "      <td>3.56</td>\n",
       "      <td>New York City</td>\n",
       "    </tr>\n",
       "    <tr>\n",
       "      <th>13482</th>\n",
       "      <td>13482</td>\n",
       "      <td>0.70</td>\n",
       "      <td>Ideal</td>\n",
       "      <td>F</td>\n",
       "      <td>VS1</td>\n",
       "      <td>61.6</td>\n",
       "      <td>55.0</td>\n",
       "      <td>5.75</td>\n",
       "      <td>5.71</td>\n",
       "      <td>3.53</td>\n",
       "      <td>Tel Aviv</td>\n",
       "    </tr>\n",
       "    <tr>\n",
       "      <th>13483</th>\n",
       "      <td>13483</td>\n",
       "      <td>0.70</td>\n",
       "      <td>Very Good</td>\n",
       "      <td>F</td>\n",
       "      <td>SI2</td>\n",
       "      <td>58.8</td>\n",
       "      <td>57.0</td>\n",
       "      <td>5.85</td>\n",
       "      <td>5.89</td>\n",
       "      <td>3.45</td>\n",
       "      <td>Surat</td>\n",
       "    </tr>\n",
       "    <tr>\n",
       "      <th>13484</th>\n",
       "      <td>13484</td>\n",
       "      <td>0.40</td>\n",
       "      <td>Ideal</td>\n",
       "      <td>I</td>\n",
       "      <td>VVS2</td>\n",
       "      <td>62.4</td>\n",
       "      <td>55.0</td>\n",
       "      <td>4.70</td>\n",
       "      <td>4.73</td>\n",
       "      <td>2.94</td>\n",
       "      <td>New York City</td>\n",
       "    </tr>\n",
       "  </tbody>\n",
       "</table>\n",
       "<p>13485 rows × 11 columns</p>\n",
       "</div>"
      ],
      "text/plain": [
       "          id  carat        cut color clarity  depth  table     x     y     z  \\\n",
       "0          0   0.79  Very Good     F     SI1   62.7   60.0  5.82  5.89  3.67   \n",
       "1          1   1.20      Ideal     J     VS1   61.0   57.0  6.81  6.89  4.18   \n",
       "2          2   1.57    Premium     H     SI1   62.2   61.0  7.38  7.32  4.57   \n",
       "3          3   0.90  Very Good     F     SI1   63.8   54.0  6.09  6.13  3.90   \n",
       "4          4   0.50  Very Good     F     VS1   62.9   58.0  5.05  5.09  3.19   \n",
       "...      ...    ...        ...   ...     ...    ...    ...   ...   ...   ...   \n",
       "13480  13480   0.57      Ideal     E     SI1   61.9   56.0  5.35  5.32  3.30   \n",
       "13481  13481   0.71      Ideal     I     VS2   62.2   55.0  5.71  5.73  3.56   \n",
       "13482  13482   0.70      Ideal     F     VS1   61.6   55.0  5.75  5.71  3.53   \n",
       "13483  13483   0.70  Very Good     F     SI2   58.8   57.0  5.85  5.89  3.45   \n",
       "13484  13484   0.40      Ideal     I    VVS2   62.4   55.0  4.70  4.73  2.94   \n",
       "\n",
       "                city  \n",
       "0          Amsterdam  \n",
       "1              Surat  \n",
       "2           Kimberly  \n",
       "3           Kimberly  \n",
       "4          Amsterdam  \n",
       "...              ...  \n",
       "13480      Amsterdam  \n",
       "13481  New York City  \n",
       "13482       Tel Aviv  \n",
       "13483          Surat  \n",
       "13484  New York City  \n",
       "\n",
       "[13485 rows x 11 columns]"
      ]
     },
     "execution_count": 14,
     "metadata": {},
     "output_type": "execute_result"
    }
   ],
   "source": [
    "# Import test data\n",
    "df_diamonds_test=pd.read_csv('../data/diamonds_test.csv')\n",
    "df_diamonds_test"
   ]
  },
  {
   "cell_type": "markdown",
   "id": "5aa0abf6",
   "metadata": {},
   "source": [
    "## Data prep -  training model"
   ]
  },
  {
   "cell_type": "code",
   "execution_count": 15,
   "id": "6d8c39e9",
   "metadata": {},
   "outputs": [],
   "source": [
    "#1.Excluding x y z and city\n",
    "# Defining numerical and categorical features\n",
    "num_features_list=['x','y','z','depth','table','carat']\n",
    "cat_features_list=['cut','color','clarity']\n",
    "features_list=['x','y','z','depth','table','carat','cut','color','clarity']"
   ]
  },
  {
   "cell_type": "code",
   "execution_count": 16,
   "id": "e6c91bb2",
   "metadata": {},
   "outputs": [
    {
     "name": "stdout",
     "output_type": "stream",
     "text": [
      "No 0 values\n"
     ]
    }
   ],
   "source": [
    "#2.Checking if 0 values\n",
    "if 0 in df_diamonds_train[num_features_list]:\n",
    "    print('0 values')\n",
    "else:\n",
    "    print('No 0 values')"
   ]
  },
  {
   "cell_type": "code",
   "execution_count": 17,
   "id": "4cf77b3b",
   "metadata": {},
   "outputs": [
    {
     "data": {
      "text/plain": [
       "x        0\n",
       "y        0\n",
       "z        0\n",
       "depth    0\n",
       "table    0\n",
       "carat    0\n",
       "dtype: int64"
      ]
     },
     "execution_count": 17,
     "metadata": {},
     "output_type": "execute_result"
    }
   ],
   "source": [
    "#2.Checking if null values\n",
    "df_diamonds_train[num_features_list].isna().sum()"
   ]
  },
  {
   "cell_type": "code",
   "execution_count": 18,
   "id": "69a573be",
   "metadata": {},
   "outputs": [],
   "source": [
    "#3.remove outliers\n",
    "def remove_outliers(df,feature):\n",
    "    # IQR\n",
    "    Q1 = np.percentile(df[feature], 25,\n",
    "                   interpolation = 'midpoint')\n",
    "    Q3 = np.percentile(df[feature], 75,\n",
    "                   interpolation = 'midpoint')\n",
    "    IQR = Q3 - Q1\n",
    "    # Upper and lower\n",
    "    upper_limit=Q3+1.5*IQR\n",
    "    lower_limit=Q1-1.5*IQR\n",
    "    # Removing the Outliers\n",
    "    return df[(df[feature]>=lower_limit) & (df[feature]<=upper_limit)]"
   ]
  },
  {
   "cell_type": "code",
   "execution_count": 19,
   "id": "52177933",
   "metadata": {},
   "outputs": [],
   "source": [
    "df_diamonds_train=remove_outliers(df_diamonds_train,'x')\n",
    "df_diamonds_train=remove_outliers(df_diamonds_train,'y')\n",
    "df_diamonds_train=remove_outliers(df_diamonds_train,'z')\n",
    "df_diamonds_train=remove_outliers(df_diamonds_train,'depth')\n",
    "df_diamonds_train=remove_outliers(df_diamonds_train,'table')\n",
    "df_diamonds_train=remove_outliers(df_diamonds_train,'carat')"
   ]
  },
  {
   "cell_type": "code",
   "execution_count": 20,
   "id": "6edf8a74",
   "metadata": {},
   "outputs": [],
   "source": [
    "#4. Change colums to categoric\n",
    "df_diamonds_train['cut'] = df_diamonds_train['cut'].astype('category')\n",
    "df_diamonds_train['color'] = df_diamonds_train['color'].astype('category')\n",
    "df_diamonds_train['clarity'] = df_diamonds_train['clarity'].astype('category')"
   ]
  },
  {
   "cell_type": "code",
   "execution_count": 21,
   "id": "7254e164",
   "metadata": {},
   "outputs": [
    {
     "data": {
      "text/plain": [
       "(37264, 12)"
      ]
     },
     "execution_count": 21,
     "metadata": {},
     "output_type": "execute_result"
    }
   ],
   "source": [
    "df_diamonds_train.shape"
   ]
  },
  {
   "cell_type": "code",
   "execution_count": 22,
   "id": "fcb4c48c",
   "metadata": {},
   "outputs": [],
   "source": [
    "# Adapting categorical features for training model\n",
    "X=df_diamonds_train[features_list]\n",
    "    # One-hot encoding for categorical variables\n",
    "X=pd.get_dummies(X,columns=cat_features_list)\n",
    "    #Target\n",
    "y=df_diamonds_train['price']\n",
    "    # Splitting train and test\n",
    "X_train, X_val, y_train, y_val = train_test_split(X, y, test_size=0.2, random_state=42)"
   ]
  },
  {
   "cell_type": "markdown",
   "id": "fe8cea4d",
   "metadata": {},
   "source": [
    "## Data prep - validation model"
   ]
  },
  {
   "cell_type": "code",
   "execution_count": 23,
   "id": "5fe0df52",
   "metadata": {},
   "outputs": [],
   "source": [
    "# Adapting categorical features for validation model\n",
    "X_test=df_diamonds_test[features_list]\n",
    "    # One-hot encoding for categorical variables\n",
    "X_test=pd.get_dummies(X_test,columns=cat_features_list)"
   ]
  },
  {
   "cell_type": "code",
   "execution_count": 24,
   "id": "4ae0c500",
   "metadata": {},
   "outputs": [],
   "source": [
    "df_diamonds_test['cut'] = df_diamonds_test['cut'].astype('category')\n",
    "df_diamonds_test['color'] = df_diamonds_test['color'].astype('category')\n",
    "df_diamonds_test['clarity'] = df_diamonds_test['clarity'].astype('category')"
   ]
  },
  {
   "cell_type": "markdown",
   "id": "ac016dca",
   "metadata": {},
   "source": [
    "## Model definition"
   ]
  },
  {
   "cell_type": "markdown",
   "id": "9bc6df6a",
   "metadata": {},
   "source": [
    "Tiene varios arboles en el que le va metiendo distintas samples de datos y distintas combinaciones de las features\n",
    "si dejas crecer al arbol se sobreajusta\n",
    "los arboles intentan reducir la varianza del error\n",
    "- error bias: el modelo es muy simple y no \n",
    "- varianza en el error: \n",
    "- bootstrap = method for sampling data points: TRUE\n",
    "    - with - bagging: reemplazando los que quitan \n",
    "    - pasting -  without replacement (): sin reemplazarlos\n",
    "- ccp_alpha =\n",
    "- criterion =\n",
    "- max_depth = max number of levels in each decision tree\n",
    "- max_features = max number of features considered for splitting a node\n",
    "- max_leaf_nodes = maximo número de nodos de solución\n",
    "- max_samples = \n",
    "- min_impurity_decrease\n",
    "- min_samples_leaf = min number of data points allowed in a leaf node\n",
    "- min_samples_split = min number of data points placed in a node before the node is split\n",
    "- min_weight_fraction_leaf\n",
    "- n_estimators = number of trees in the foreset\n",
    "- n_jobs \n",
    "- oob_score \n",
    "- random_state\n",
    "- verbose\n",
    "- warm_start"
   ]
  },
  {
   "cell_type": "markdown",
   "id": "09f83a8b",
   "metadata": {},
   "source": [
    "- bootstrap = TRUE\n",
    "- n_estimators = number of trees in the foreset\n",
    "- max_depth = max number of levels in each decision tree\n",
    "- max_features = max number of features considered for splitting a node"
   ]
  },
  {
   "cell_type": "code",
   "execution_count": 25,
   "id": "a4ae239e",
   "metadata": {},
   "outputs": [],
   "source": [
    "# Number of trees in random forest\n",
    "n_estimators = [int(x) for x in np.linspace(start = 200, stop = 2000, num = 10)]\n",
    "# Number of features to consider at every split\n",
    "max_features = ['auto', 'sqrt']\n",
    "# Maximum number of levels in tree\n",
    "max_depth = [int(x) for x in np.linspace(10, 110, num = 11)]\n",
    "max_depth.append(None)\n",
    "# Minimum number of samples required to split a node\n",
    "min_samples_split = [2, 5, 10]\n",
    "# Minimum number of samples required at each leaf node\n",
    "min_samples_leaf = [1, 2, 4]\n",
    "# Method of selecting samples for training each tree\n",
    "bootstrap = [True, False]\n",
    "# Create the random grid\n",
    "random_grid = {'n_estimators': n_estimators,\n",
    "               'max_features': max_features,\n",
    "               'max_depth': max_depth,\n",
    "               'min_samples_split': min_samples_split,\n",
    "               'min_samples_leaf': min_samples_leaf,\n",
    "               'bootstrap': bootstrap}"
   ]
  },
  {
   "cell_type": "code",
   "execution_count": 26,
   "id": "1431a09e",
   "metadata": {},
   "outputs": [
    {
     "name": "stdout",
     "output_type": "stream",
     "text": [
      "{'n_estimators': [200, 400, 600, 800, 1000, 1200, 1400, 1600, 1800, 2000], 'max_features': ['auto', 'sqrt'], 'max_depth': [10, 20, 30, 40, 50, 60, 70, 80, 90, 100, 110, None], 'min_samples_split': [2, 5, 10], 'min_samples_leaf': [1, 2, 4], 'bootstrap': [True, False]}\n"
     ]
    }
   ],
   "source": [
    "print(random_grid)"
   ]
  },
  {
   "cell_type": "code",
   "execution_count": 28,
   "id": "8c90f8b4",
   "metadata": {},
   "outputs": [
    {
     "name": "stdout",
     "output_type": "stream",
     "text": [
      "<class 'sklearn.ensemble._forest.RandomForestRegressor'> \n",
      "\n",
      "Model hyperparameters: {'bootstrap': True, 'ccp_alpha': 0.0, 'criterion': 'squared_error', 'max_depth': None, 'max_features': 'auto', 'max_leaf_nodes': None, 'max_samples': None, 'min_impurity_decrease': 0.0, 'min_samples_leaf': 1, 'min_samples_split': 2, 'min_weight_fraction_leaf': 0.0, 'n_estimators': 100, 'n_jobs': None, 'oob_score': False, 'random_state': None, 'verbose': 0, 'warm_start': False} \n",
      "\n"
     ]
    }
   ],
   "source": [
    "# 1. RandomForestRegressor \n",
    "model = RandomForestRegressor()\n",
    "    \n",
    "#bootstrap=True,max_depth=70,min_samples_leaf=4,min_samples_split=10,n_estimators=400)\n",
    "hyperparameters = model.get_params()\n",
    "print(type(model), '\\n')\n",
    "print('Model hyperparameters:', hyperparameters, '\\n')"
   ]
  },
  {
   "cell_type": "code",
   "execution_count": 27,
   "id": "ad227795",
   "metadata": {},
   "outputs": [],
   "source": [
    "# 1. XGBRegressor \n",
    "#model = XGBRegressor()\n",
    "#hyperparameters = model.get_params()\n",
    "#print(type(model), '\\n')\n",
    "#print('Model hyperparameters:', hyperparameters, '\\n')"
   ]
  },
  {
   "cell_type": "markdown",
   "id": "1aaf37b1",
   "metadata": {},
   "source": [
    "## Model training with validation"
   ]
  },
  {
   "cell_type": "code",
   "execution_count": 29,
   "id": "6f3e3373",
   "metadata": {},
   "outputs": [
    {
     "name": "stdout",
     "output_type": "stream",
     "text": [
      "Model: RandomForestRegressor() \n",
      "\n",
      "Model hyperparameters: {'bootstrap': True, 'ccp_alpha': 0.0, 'criterion': 'squared_error', 'max_depth': None, 'max_features': 'auto', 'max_leaf_nodes': None, 'max_samples': None, 'min_impurity_decrease': 0.0, 'min_samples_leaf': 1, 'min_samples_split': 2, 'min_weight_fraction_leaf': 0.0, 'n_estimators': 100, 'n_jobs': None, 'oob_score': False, 'random_state': None, 'verbose': 0, 'warm_start': False} \n",
      "\n",
      "CPU times: user 11.6 s, sys: 145 ms, total: 11.8 s\n",
      "Wall time: 11.9 s\n"
     ]
    }
   ],
   "source": [
    "%%time\n",
    "# Model training\n",
    "model.fit(X_train, y_train)\n",
    "print('Model:', model, '\\n')\n",
    "print('Model hyperparameters:', hyperparameters, '\\n')"
   ]
  },
  {
   "cell_type": "code",
   "execution_count": 30,
   "id": "114ebca5",
   "metadata": {},
   "outputs": [
    {
     "name": "stdout",
     "output_type": "stream",
     "text": [
      "<class 'numpy.ndarray'>\n",
      "CPU times: user 223 ms, sys: 5.98 ms, total: 229 ms\n",
      "Wall time: 231 ms\n"
     ]
    }
   ],
   "source": [
    "%%time\n",
    "# Model predictions\n",
    "y_pred_val = model.predict(X_val)\n",
    "print(type(y_pred_val))"
   ]
  },
  {
   "cell_type": "markdown",
   "id": "9d6b94a3",
   "metadata": {},
   "source": [
    "## Train validation"
   ]
  },
  {
   "cell_type": "code",
   "execution_count": 31,
   "id": "af5fb28b",
   "metadata": {},
   "outputs": [
    {
     "name": "stdout",
     "output_type": "stream",
     "text": [
      "<class 'numpy.ndarray'>\n",
      "CPU times: user 669 ms, sys: 11.9 ms, total: 681 ms\n",
      "Wall time: 687 ms\n"
     ]
    }
   ],
   "source": [
    "%%time\n",
    "# Model predictions\n",
    "y_pred_train = model.predict(X_train)\n",
    "print(type(y_pred_train))"
   ]
  },
  {
   "cell_type": "code",
   "execution_count": 32,
   "id": "a88fcb5b",
   "metadata": {},
   "outputs": [
    {
     "name": "stdout",
     "output_type": "stream",
     "text": [
      "CPU times: user 1.5 ms, sys: 894 µs, total: 2.39 ms\n",
      "Wall time: 1.6 ms\n"
     ]
    },
    {
     "data": {
      "text/plain": [
       "180.55304149260567"
      ]
     },
     "execution_count": 32,
     "metadata": {},
     "output_type": "execute_result"
    }
   ],
   "source": [
    "%%time\n",
    "# Model predictions\n",
    "rmse_train = mean_squared_error(y_train, y_pred_train)**0.5\n",
    "rmse_train"
   ]
  },
  {
   "cell_type": "code",
   "execution_count": 33,
   "id": "d1b6a927",
   "metadata": {},
   "outputs": [
    {
     "data": {
      "text/plain": [
       "0.983639531093109"
      ]
     },
     "execution_count": 33,
     "metadata": {},
     "output_type": "execute_result"
    }
   ],
   "source": [
    "r2r = r2_score(y_val, y_pred_val)\n",
    "r2r"
   ]
  },
  {
   "cell_type": "markdown",
   "id": "2bfd4334",
   "metadata": {},
   "source": [
    "## Model validation"
   ]
  },
  {
   "cell_type": "code",
   "execution_count": 34,
   "id": "b1abc6aa",
   "metadata": {},
   "outputs": [
    {
     "name": "stdout",
     "output_type": "stream",
     "text": [
      "<class 'numpy.ndarray'>\n",
      "CPU times: user 203 ms, sys: 4.99 ms, total: 208 ms\n",
      "Wall time: 208 ms\n"
     ]
    }
   ],
   "source": [
    "%%time\n",
    "# Model predictions\n",
    "y_pred_val = model.predict(X_val)\n",
    "print(type(y_pred_val))"
   ]
  },
  {
   "cell_type": "code",
   "execution_count": 35,
   "id": "589c945e",
   "metadata": {},
   "outputs": [
    {
     "data": {
      "text/plain": [
       "442.5404068100221"
      ]
     },
     "execution_count": 35,
     "metadata": {},
     "output_type": "execute_result"
    }
   ],
   "source": [
    "#444 con ciudad\n",
    "rmse_val = mean_squared_error(y_val, y_pred_val)**0.5\n",
    "rmse_val"
   ]
  },
  {
   "cell_type": "code",
   "execution_count": 36,
   "id": "e4b6f7bf",
   "metadata": {},
   "outputs": [
    {
     "data": {
      "text/plain": [
       "0.983639531093109"
      ]
     },
     "execution_count": 36,
     "metadata": {},
     "output_type": "execute_result"
    }
   ],
   "source": [
    "r2r = r2_score(y_val, y_pred_val)\n",
    "r2r"
   ]
  },
  {
   "cell_type": "markdown",
   "id": "46e824c3",
   "metadata": {},
   "source": [
    "## Model training without validation"
   ]
  },
  {
   "cell_type": "code",
   "execution_count": 37,
   "id": "643a3878",
   "metadata": {},
   "outputs": [
    {
     "name": "stdout",
     "output_type": "stream",
     "text": [
      "Model: RandomForestRegressor() \n",
      "\n",
      "Model hyperparameters: {'bootstrap': True, 'ccp_alpha': 0.0, 'criterion': 'squared_error', 'max_depth': None, 'max_features': 'auto', 'max_leaf_nodes': None, 'max_samples': None, 'min_impurity_decrease': 0.0, 'min_samples_leaf': 1, 'min_samples_split': 2, 'min_weight_fraction_leaf': 0.0, 'n_estimators': 100, 'n_jobs': None, 'oob_score': False, 'random_state': None, 'verbose': 0, 'warm_start': False} \n",
      "\n"
     ]
    }
   ],
   "source": [
    "# Model training\n",
    "model.fit(X, y)\n",
    "print('Model:', model, '\\n')\n",
    "print('Model hyperparameters:', hyperparameters, '\\n')"
   ]
  },
  {
   "cell_type": "markdown",
   "id": "8f5f534f",
   "metadata": {},
   "source": [
    "## Test Preditions"
   ]
  },
  {
   "cell_type": "code",
   "execution_count": 38,
   "id": "9085827c",
   "metadata": {},
   "outputs": [],
   "source": [
    "predictions = model.predict(X_test)"
   ]
  },
  {
   "cell_type": "code",
   "execution_count": 39,
   "id": "4d010675",
   "metadata": {},
   "outputs": [],
   "source": [
    "predictions=pd.DataFrame(predictions)"
   ]
  },
  {
   "cell_type": "code",
   "execution_count": 40,
   "id": "9d2ca3df",
   "metadata": {},
   "outputs": [],
   "source": [
    "predictions.reset_index(inplace=True)"
   ]
  },
  {
   "cell_type": "code",
   "execution_count": 41,
   "id": "2c805a71",
   "metadata": {},
   "outputs": [],
   "source": [
    "predictions=predictions.rename({0: 'price','index': 'id'}, axis=1)"
   ]
  },
  {
   "cell_type": "markdown",
   "id": "01a0cf38",
   "metadata": {},
   "source": [
    "## Save Preditions"
   ]
  },
  {
   "cell_type": "code",
   "execution_count": 42,
   "id": "da3f74be",
   "metadata": {},
   "outputs": [],
   "source": [
    "predictions.to_csv('../data/diamonds_predictions_RandomForestRegressor_with_depht_table.csv',index=False)"
   ]
  }
 ],
 "metadata": {
  "kernelspec": {
   "display_name": "Python [conda env:ML]",
   "language": "python",
   "name": "conda-env-ML-py"
  },
  "language_info": {
   "codemirror_mode": {
    "name": "ipython",
    "version": 3
   },
   "file_extension": ".py",
   "mimetype": "text/x-python",
   "name": "python",
   "nbconvert_exporter": "python",
   "pygments_lexer": "ipython3",
   "version": "3.7.13"
  }
 },
 "nbformat": 4,
 "nbformat_minor": 5
}
